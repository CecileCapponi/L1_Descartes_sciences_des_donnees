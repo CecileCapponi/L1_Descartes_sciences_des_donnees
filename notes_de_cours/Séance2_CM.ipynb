{
 "cells": [
  {
   "cell_type": "markdown",
   "id": "02b80543-5894-4770-97c3-272dd5f6b35e",
   "metadata": {},
   "source": [
    "# Cours 2 : « Causalité et démarche scientifique »\n",
    "\n",
    "Sommaire\n",
    "\n",
    "1. Causalité et expériences\n",
    "2. Hasard et simulations\n",
    "3. (optionnel) Probabilités\n",
    "4. Echantillonnage et distributions empiriques\n",
    "5. Test d'hypothèses : premier contact\n",
    "6. (optionnel) Test d'hypothèses : test par permutation sur la base de deux échantillons"
   ]
  },
  {
   "cell_type": "code",
   "execution_count": 1,
   "id": "e2f18549-e2e1-4f89-b667-971caca87116",
   "metadata": {},
   "outputs": [
    {
     "ename": "FileNotFoundError",
     "evalue": "[Errno 2] No such file or directory: 'causalité_et_démarche_scientifique.jpg'",
     "output_type": "error",
     "traceback": [
      "\u001b[0;31m---------------------------------------------------------------------------\u001b[0m",
      "\u001b[0;31mFileNotFoundError\u001b[0m                         Traceback (most recent call last)",
      "Cell \u001b[0;32mIn[1], line 2\u001b[0m\n\u001b[1;32m      1\u001b[0m \u001b[38;5;28;01mfrom\u001b[39;00m \u001b[38;5;21;01mIPython\u001b[39;00m\u001b[38;5;21;01m.\u001b[39;00m\u001b[38;5;21;01mdisplay\u001b[39;00m \u001b[38;5;28;01mimport\u001b[39;00m Image\n\u001b[0;32m----> 2\u001b[0m \u001b[43mImage\u001b[49m\u001b[43m(\u001b[49m\u001b[43mfilename\u001b[49m\u001b[38;5;241;43m=\u001b[39;49m\u001b[38;5;124;43m'\u001b[39;49m\u001b[38;5;124;43mcausalité_et_démarche_scientifique.jpg\u001b[39;49m\u001b[38;5;124;43m'\u001b[39;49m\u001b[43m,\u001b[49m\u001b[43m \u001b[49m\u001b[43mwidth\u001b[49m\u001b[38;5;241;43m=\u001b[39;49m\u001b[38;5;241;43m500\u001b[39;49m\u001b[43m)\u001b[49m\n",
      "File \u001b[0;32m~/Nextcloud/doctorat/WP2/code/y/envs/dpgmm/lib/python3.9/site-packages/IPython/core/display.py:970\u001b[0m, in \u001b[0;36mImage.__init__\u001b[0;34m(self, data, url, filename, format, embed, width, height, retina, unconfined, metadata, alt)\u001b[0m\n\u001b[1;32m    968\u001b[0m \u001b[38;5;28mself\u001b[39m\u001b[38;5;241m.\u001b[39munconfined \u001b[38;5;241m=\u001b[39m unconfined\n\u001b[1;32m    969\u001b[0m \u001b[38;5;28mself\u001b[39m\u001b[38;5;241m.\u001b[39malt \u001b[38;5;241m=\u001b[39m alt\n\u001b[0;32m--> 970\u001b[0m \u001b[38;5;28;43msuper\u001b[39;49m\u001b[43m(\u001b[49m\u001b[43mImage\u001b[49m\u001b[43m,\u001b[49m\u001b[43m \u001b[49m\u001b[38;5;28;43mself\u001b[39;49m\u001b[43m)\u001b[49m\u001b[38;5;241;43m.\u001b[39;49m\u001b[38;5;21;43m__init__\u001b[39;49m\u001b[43m(\u001b[49m\u001b[43mdata\u001b[49m\u001b[38;5;241;43m=\u001b[39;49m\u001b[43mdata\u001b[49m\u001b[43m,\u001b[49m\u001b[43m \u001b[49m\u001b[43murl\u001b[49m\u001b[38;5;241;43m=\u001b[39;49m\u001b[43murl\u001b[49m\u001b[43m,\u001b[49m\u001b[43m \u001b[49m\u001b[43mfilename\u001b[49m\u001b[38;5;241;43m=\u001b[39;49m\u001b[43mfilename\u001b[49m\u001b[43m,\u001b[49m\n\u001b[1;32m    971\u001b[0m \u001b[43m        \u001b[49m\u001b[43mmetadata\u001b[49m\u001b[38;5;241;43m=\u001b[39;49m\u001b[43mmetadata\u001b[49m\u001b[43m)\u001b[49m\n\u001b[1;32m    973\u001b[0m \u001b[38;5;28;01mif\u001b[39;00m \u001b[38;5;28mself\u001b[39m\u001b[38;5;241m.\u001b[39mwidth \u001b[38;5;129;01mis\u001b[39;00m \u001b[38;5;28;01mNone\u001b[39;00m \u001b[38;5;129;01mand\u001b[39;00m \u001b[38;5;28mself\u001b[39m\u001b[38;5;241m.\u001b[39mmetadata\u001b[38;5;241m.\u001b[39mget(\u001b[38;5;124m'\u001b[39m\u001b[38;5;124mwidth\u001b[39m\u001b[38;5;124m'\u001b[39m, {}):\n\u001b[1;32m    974\u001b[0m     \u001b[38;5;28mself\u001b[39m\u001b[38;5;241m.\u001b[39mwidth \u001b[38;5;241m=\u001b[39m metadata[\u001b[38;5;124m'\u001b[39m\u001b[38;5;124mwidth\u001b[39m\u001b[38;5;124m'\u001b[39m]\n",
      "File \u001b[0;32m~/Nextcloud/doctorat/WP2/code/y/envs/dpgmm/lib/python3.9/site-packages/IPython/core/display.py:327\u001b[0m, in \u001b[0;36mDisplayObject.__init__\u001b[0;34m(self, data, url, filename, metadata)\u001b[0m\n\u001b[1;32m    324\u001b[0m \u001b[38;5;28;01melif\u001b[39;00m \u001b[38;5;28mself\u001b[39m\u001b[38;5;241m.\u001b[39mmetadata \u001b[38;5;129;01mis\u001b[39;00m \u001b[38;5;28;01mNone\u001b[39;00m:\n\u001b[1;32m    325\u001b[0m     \u001b[38;5;28mself\u001b[39m\u001b[38;5;241m.\u001b[39mmetadata \u001b[38;5;241m=\u001b[39m {}\n\u001b[0;32m--> 327\u001b[0m \u001b[38;5;28;43mself\u001b[39;49m\u001b[38;5;241;43m.\u001b[39;49m\u001b[43mreload\u001b[49m\u001b[43m(\u001b[49m\u001b[43m)\u001b[49m\n\u001b[1;32m    328\u001b[0m \u001b[38;5;28mself\u001b[39m\u001b[38;5;241m.\u001b[39m_check_data()\n",
      "File \u001b[0;32m~/Nextcloud/doctorat/WP2/code/y/envs/dpgmm/lib/python3.9/site-packages/IPython/core/display.py:1005\u001b[0m, in \u001b[0;36mImage.reload\u001b[0;34m(self)\u001b[0m\n\u001b[1;32m   1003\u001b[0m \u001b[38;5;250m\u001b[39m\u001b[38;5;124;03m\"\"\"Reload the raw data from file or URL.\"\"\"\u001b[39;00m\n\u001b[1;32m   1004\u001b[0m \u001b[38;5;28;01mif\u001b[39;00m \u001b[38;5;28mself\u001b[39m\u001b[38;5;241m.\u001b[39membed:\n\u001b[0;32m-> 1005\u001b[0m     \u001b[38;5;28;43msuper\u001b[39;49m\u001b[43m(\u001b[49m\u001b[43mImage\u001b[49m\u001b[43m,\u001b[49m\u001b[38;5;28;43mself\u001b[39;49m\u001b[43m)\u001b[49m\u001b[38;5;241;43m.\u001b[39;49m\u001b[43mreload\u001b[49m\u001b[43m(\u001b[49m\u001b[43m)\u001b[49m\n\u001b[1;32m   1006\u001b[0m     \u001b[38;5;28;01mif\u001b[39;00m \u001b[38;5;28mself\u001b[39m\u001b[38;5;241m.\u001b[39mretina:\n\u001b[1;32m   1007\u001b[0m         \u001b[38;5;28mself\u001b[39m\u001b[38;5;241m.\u001b[39m_retina_shape()\n",
      "File \u001b[0;32m~/Nextcloud/doctorat/WP2/code/y/envs/dpgmm/lib/python3.9/site-packages/IPython/core/display.py:353\u001b[0m, in \u001b[0;36mDisplayObject.reload\u001b[0;34m(self)\u001b[0m\n\u001b[1;32m    351\u001b[0m \u001b[38;5;28;01mif\u001b[39;00m \u001b[38;5;28mself\u001b[39m\u001b[38;5;241m.\u001b[39mfilename \u001b[38;5;129;01mis\u001b[39;00m \u001b[38;5;129;01mnot\u001b[39;00m \u001b[38;5;28;01mNone\u001b[39;00m:\n\u001b[1;32m    352\u001b[0m     encoding \u001b[38;5;241m=\u001b[39m \u001b[38;5;28;01mNone\u001b[39;00m \u001b[38;5;28;01mif\u001b[39;00m \u001b[38;5;124m\"\u001b[39m\u001b[38;5;124mb\u001b[39m\u001b[38;5;124m\"\u001b[39m \u001b[38;5;129;01min\u001b[39;00m \u001b[38;5;28mself\u001b[39m\u001b[38;5;241m.\u001b[39m_read_flags \u001b[38;5;28;01melse\u001b[39;00m \u001b[38;5;124m\"\u001b[39m\u001b[38;5;124mutf-8\u001b[39m\u001b[38;5;124m\"\u001b[39m\n\u001b[0;32m--> 353\u001b[0m     \u001b[38;5;28;01mwith\u001b[39;00m \u001b[38;5;28;43mopen\u001b[39;49m\u001b[43m(\u001b[49m\u001b[38;5;28;43mself\u001b[39;49m\u001b[38;5;241;43m.\u001b[39;49m\u001b[43mfilename\u001b[49m\u001b[43m,\u001b[49m\u001b[43m \u001b[49m\u001b[38;5;28;43mself\u001b[39;49m\u001b[38;5;241;43m.\u001b[39;49m\u001b[43m_read_flags\u001b[49m\u001b[43m,\u001b[49m\u001b[43m \u001b[49m\u001b[43mencoding\u001b[49m\u001b[38;5;241;43m=\u001b[39;49m\u001b[43mencoding\u001b[49m\u001b[43m)\u001b[49m \u001b[38;5;28;01mas\u001b[39;00m f:\n\u001b[1;32m    354\u001b[0m         \u001b[38;5;28mself\u001b[39m\u001b[38;5;241m.\u001b[39mdata \u001b[38;5;241m=\u001b[39m f\u001b[38;5;241m.\u001b[39mread()\n\u001b[1;32m    355\u001b[0m \u001b[38;5;28;01melif\u001b[39;00m \u001b[38;5;28mself\u001b[39m\u001b[38;5;241m.\u001b[39murl \u001b[38;5;129;01mis\u001b[39;00m \u001b[38;5;129;01mnot\u001b[39;00m \u001b[38;5;28;01mNone\u001b[39;00m:\n\u001b[1;32m    356\u001b[0m     \u001b[38;5;66;03m# Deferred import\u001b[39;00m\n",
      "\u001b[0;31mFileNotFoundError\u001b[0m: [Errno 2] No such file or directory: 'causalité_et_démarche_scientifique.jpg'"
     ]
    }
   ],
   "source": [
    "from IPython.display import Image\n",
    "Image(filename='causalité_et_démarche_scientifique.jpg', width=500)"
   ]
  },
  {
   "cell_type": "markdown",
   "id": "448a7d6b-ab3a-4926-accf-281a442b1622",
   "metadata": {},
   "source": [
    "(Image générée avec DALL.E 3)"
   ]
  },
  {
   "cell_type": "markdown",
   "id": "1561053a-4a52-48bf-96ce-7d113411fa50",
   "metadata": {
    "jp-MarkdownHeadingCollapsed": true
   },
   "source": [
    "## 1. Causalité et expériences"
   ]
  },
  {
   "cell_type": "markdown",
   "id": "23832411-d59e-4a0d-bc82-1a957b0f2c7c",
   "metadata": {},
   "source": [
    "*« Ces problèmes sont, et resteront probablement toujours, parmi les secrets impénétrables de la nature. Ils appartiennent à une classe de questions radicalement inaccessibles à l'intelligence humaine. »*—The Times of London, septembre 1849, sur la façon dont le choléra se contracte et se propage (traduit par deepl.com).\n",
    "\n",
    "La peine de mort a-t-elle un effet dissuasif ? Le chocolat est-il bon pour la santé ? Qu'est-ce qui\n",
    "cause le cancer du sein ?\n",
    "\n",
    "Toutes ces questions tentent d'attribuer une cause à un effet. Un examen\n",
    "examen minutieux des données peut contribuer à éclaircir ce type de questions. Dans cette section\n",
    "vous apprendrez certains des concepts fondamentaux impliqués dans l'établissement de la\n",
    "causalité.\n",
    "\n",
    "L'observation est la clé d'une bonne science. Une *étude observationnelle* est une étude dans laquelle les scientifiques tirent des conclusions basées sur des données qu'ils ont observées mais qu'ils n'ont pas contribué à générer. Dans la science des données, de nombreuses études de ce type impliquent des observations sur un groupe d'individus, un facteur d'intérêt appelé *traitement*. et un *résultat* mesuré sur chaque individu.\n",
    "\n",
    "Il est plus facile de considérer les individus comme des personnes. Dans une étude visant à déterminer si\n",
    "si le chocolat est bon pour la santé, les individus seraient en effet des personnes, le traitement serait de manger du chocolat et le résultat serait mesuré sur chaque individu.\n",
    "Le traitement consisterait à manger du chocolat et le résultat pourrait être une mesure des maladies cardiaques. Mais dans les études observationnelles, les individus ne sont pas nécessairement des personnes.\n",
    "Dans une étude visant à déterminer si la peine de mort a un effet dissuasif, les individus pourraient être les 50 États des États-Unis. La loi d'un État autorisant la peine de mort serait le traitement, et le résultat pourrait être le taux d'homicide de l'État.\n",
    "\n",
    "La question fondamentale est de savoir si le traitement a un effet sur le résultat.\n",
    "Toute relation entre le traitement et le résultat est appelée *association*.\n",
    "Si le traitement provoque l'apparition du résultat, l'association est *causale*.\n",
    "La *causalité* est au cœur des trois questions posées au début de cette\n",
    "section. Par exemple, l'une des questions était de savoir si le chocolat provoque directement\n",
    "l'amélioration de la santé, et pas seulement s'il existe une relation entre le chocolat et la santé.\n",
    "\n",
    "L'établissement de la causalité se fait souvent en deux étapes. Tout d'abord, une\n",
    "association est observée. Ensuite, une analyse plus approfondie permet de décider de la causalité."
   ]
  },
  {
   "cell_type": "markdown",
   "id": "46a1324e-2e45-4ad5-b21a-0fed923b4202",
   "metadata": {
    "jp-MarkdownHeadingCollapsed": true
   },
   "source": [
    "### Observation et visualisation : John Snow et la pompe de Broad Street"
   ]
  },
  {
   "cell_type": "markdown",
   "id": "e4271ed5-60c0-436a-a32c-cfb053495a33",
   "metadata": {},
   "source": [
    "L'un des exemples les plus frappants d'observation astucieuse aboutissant à l'établissement d'une causalité remonte à plus de 150 ans.\n",
    "l'établissement d'un lien de causalité remonte à plus de 150 ans. Pour vous mettre dans l'ambiance, essayez d'imaginer Londres dans les années 1850.\n",
    " C'est la ville la plus riche du monde, mais beaucoup de ses habitants sont désespérément pauvres. Charles Dickens,\n",
    "alors au sommet de sa gloire, écrivait sur leur sort. La maladie sévit\n",
    "dans les quartiers pauvres de la ville, et le choléra était l'une des maladies les plus redoutées.\n",
    "On ne savait pas encore que les germes étaient à l'origine des maladies ; la théorie la plus répandue était celle des \"miasmes\".\n",
    "Les miasmes se manifestent par de mauvaises odeurs, et l'on pensait qu'il s'agissait de particules toxiques invisibles provenant de matières en décomposition.\n",
    "Certains quartiers de Londres sentaient effectivement très mauvais, surtout par temps chaud.\n",
    "Pour se protéger des infections, ceux qui en avaient les moyens portaient des\n",
    "à leur nez des objets à l'odeur agréable.\n",
    "\n",
    "Depuis plusieurs années, un médecin du nom de John Snow suivait les vagues dévastatrices de choléra qui frappaient l'Angleterre. La maladie\n",
    "arrivait soudainement et était presque immédiatement mortelle : les gens mouraient en un jour ou deux après l'avoir contractée, des centaines de personnes pouvaient mourir en une semaine, et le nombre total de morts au cours d'une seule vague pouvait atteindre des dizaines de milliers de personnes. Snow était sceptique quant à la théorie des miasmes. Il avait remarqué que si des foyers entiers étaient décimés par le choléra,\n",
    "les habitants des maisons voisines restaient parfois totalement indemnes.\n",
    "Comme ils respiraient le même air - et les mêmes miasmes - que leurs voisins, il n'y avait pas de lien évident entre les mauvaises odeurs et l'incidence du choléra.\n",
    "\n",
    "Snow avait également remarqué que l'apparition de la maladie s'accompagnait presque toujours de vomissements et de diarrhées. Il pensait donc que l'infection était transmise par\n",
    "quelque chose que les gens mangeaient ou buvaient, et non par l'air qu'ils respiraient. Son principal était l'eau contaminée par les égouts.\n",
    "\n",
    "Fin août 1854, le choléra a frappé dans le quartier surpeuplé de Soho à\n",
    "Londres. Au fur et à mesure que les décès s'accumulaient, Snow les a enregistrés avec diligence, en utilisant une méthode qui est devenue la norme dans l'étude de la propagation des maladies : *il a dessiné une\n",
    "carte*. Sur un plan des rues du quartier, il note l'emplacement de chaque décès.\n",
    "\n",
    "Voici la carte originale de Snow. Chaque barre noire représente un décès. Lorsqu'il y a plusieurs décès à la même adresse, les barres correspondant à ces décès sont empilées les unes sur les autres. Les disques noirs indiquent l'emplacement des pompes à eau. La carte fait apparaître une révélation frappante : les décès sont grossièrement regroupés autour de la pompe de Broad Street.\n",
    "![Carte du choléra de Snow](images/snow_map.jpg)\n",
    "\n",
    "Snow étudie attentivement sa carte et examine les anomalies apparentes.\n",
    "Toutes impliquent la pompe de Broad Street. Par exemple :\n",
    "- Il y a eu des décès dans des maisons qui étaient plus proches de la pompe de Rupert Street que de celle de Broad Street.\n",
    "  Bien que la pompe de la rue Rupert soit plus proche à vol d'oiseau,\n",
    "  moins facile d'accès à cause des impasses et de la disposition des rues.\n",
    "  Les habitants de ces maisons utilisaient donc la pompe de Broad Street.\n",
    "- Il n'y a pas eu de décès dans les deux pâtés de maisons situés à l'est de la pompe. C'était\n",
    "  l'emplacement de la brasserie Lion, où les ouvriers buvaient ce qu'ils brassaient.\n",
    "  S'ils voulaient de l'eau, la brasserie avait son propre puits.\n",
    "- Il y a eu des décès dispersés dans des maisons situées à plusieurs pâtés de maisons de la pompe de Broad Street.\n",
    "  Il s'agissait d'enfants qui buvaient l'eau de la pompe de Broad Street sur le chemin de l'école.\n",
    "  L'eau de la pompe était réputée fraîche et rafraîchissante.\n",
    "\n",
    "Le dernier élément de preuve à l'appui de la théorie de Snow a été fourni par deux\n",
    "décès isolés dans le quartier verdoyant et cossu de Hampstead, assez loin de Soho.\n",
    "Ces décès laissèrent Snow perplexe jusqu'à ce qu'il apprenne qu'il s'agissait de Mme Susannah Eley, qui avait vécu à Broad Street, et sa nièce. Mme Eley se faisait livrer de l'eau\n",
    "de la pompe de Broad Street lui était livrée à Hampstead tous les jours. Elle aimait son goût.\n",
    "\n",
    "Plus tard, on découvrit qu'une fosse d'aisance située à quelques mètres du puits de la pompe de Broad Street s'écoulait dans le puits. Ainsi, l'eau de la pompe était contaminée par les eaux usées des maisons des victimes du choléra.\n",
    "\n",
    "Snow utilisa sa carte pour convaincre les autorités locales d'enlever la poignée de la pompe de Broad Street.\n",
    "Broad Street. Bien que l'épidémie de choléra soit déjà sur le déclin lorsqu'il l'a fait, il est possible que la mise hors service de la pompe ait eu un effet positif sur la santé des habitants.\n",
    "Il est possible que la mise hors service de la pompe ait permis d'éviter de nombreux décès dus à de futures vagues de la maladie.\n",
    "\n",
    "L'enlèvement de la poignée de la pompe de Broad Street est entré dans la légende. Au\n",
    "aux Centers for Disease Control (CDC) d'Atlanta, lorsque les scientifiques cherchent des\n",
    "des réponses simples à des questions sur les épidémies, ils se posent parfois la question entre eux,\n",
    "\"Où est la poignée de cette pompe ?\"\n",
    "\n",
    "La carte de M. Snow est l'une des premières et des plus puissantes utilisations de la visualisation de données.\n",
    "Les cartes des maladies de toutes sortes sont désormais un outil standard pour le suivi des épidémies.\n",
    "\n",
    "## Vers la causalité\n",
    "\n",
    "Bien que la carte ait donné à Snow une forte indication que la propreté de l'eau était la clé de la lutte contre le choléra, il était encore loin\n",
    "d'un argument scientifique convaincant selon lequel l'eau contaminée était à l'origine de la propagation de la maladie.\n",
    "Pour présenter un argument plus convaincant, il a dû utiliser la méthode de la\n",
    "*comparaison*.\n",
    "\n",
    "Les scientifiques utilisent la comparaison pour identifier une association entre un traitement et un résultat. Ils comparent les résultats d'un groupe d'individus ayant reçu le traitement (le *groupe traitement*) aux résultats d'un groupe qui n'en a pas bénéficié (le *groupe contrôle* ou *groupe témoin*). Par exemple, les chercheurs d'aujourd'hui pourraient comparer le\n",
    "le taux moyen de meurtres dans les États qui appliquent la peine de mort et le taux moyen de meurtres dans les États qui ne l'appliquent pas.\n",
    "\n",
    "Si les résultats sont différents, cela prouve l'existence d'une association.\n",
    "Pour déterminer le lien de causalité, cependant, il faut être encore plus prudent.\n"
   ]
  },
  {
   "cell_type": "markdown",
   "id": "06c45542-f1a6-4432-86e0-c6d54a3974c2",
   "metadata": {
    "jp-MarkdownHeadingCollapsed": true
   },
   "source": [
    "### La \"grande expérience\" de Snow"
   ]
  },
  {
   "cell_type": "markdown",
   "id": "419cb0e4-08eb-47c1-8e2d-189882dbbea3",
   "metadata": {},
   "source": [
    "Encouragé par ce qu'il avait appris à Soho, Snow a réalisé une analyse plus approfondie. Depuis un certain temps, il recueillait des données sur les décès dus au choléra dans un quartier de Londres desservi par deux compagnies des eaux.\n",
    "La compagnie des eaux de Lambeth puisait son eau en amont, là où les eaux usées étaient déversées dans la Tamise. Son eau était relativement propre. En revanche, la compagnie Southwark and Vauxhall\n",
    "(S&V) puisait son eau en dessous du point de rejet des eaux usées, et son approvisionnement était donc contaminé.\n",
    "\n",
    "La carte ci-dessous montre les zones desservies par les deux compagnies. Snow s'est concentré sur la région où les deux zones de service se chevauchent.\n",
    "![Autre carte de Snow](images/snow_map2.jpg)\n",
    "\n",
    "Snow a remarqué qu'il n'y avait pas de différence systématique entre les personnes qui étaient\n",
    "fournies par S&V et celles fournies par Lambeth. \"Chaque société approvisionne à la fois les riches et les pauvres, les grandes maisons et les petites ; il n'y a aucune différence dans les maisons ou les personnes qui reçoivent l'eau des deux compagnies d'eau, ni dans les conditions physiques qui les entourent...\"\n",
    "\n",
    "La seule différence se situe au niveau de l'approvisionnement en eau, \"un groupe étant alimenté par de l'eau contenant les eaux usées de Londres et, parmi elles, tout ce qui pouvait provenir des malades du choléra, l'autre groupe ayant de l'eau tout à fait exempte d'impureté.\".\n",
    "\n",
    "Confiant dans sa capacité à parvenir à une conclusion claire, Snow a résumé ses données dans le tableau ci-dessous.\n",
    "\n",
    "| Zone de ravitaillement | Nombre de maisons | Décès dus au choléra | Décès pour 10 000 maisons |   \n",
    "|:----------------------:|:-----------------:|:--------------------:|:------------------------:|\n",
    "| S&V                    | 40 046            | 1 263                | 315                      |   \n",
    "| Lambeth                | 26 107            | 98                   | 37                       |   \n",
    "| Reste de Londres      | 256 423           | 1 422                | 59                       |   \n",
    "\n",
    "\n",
    "Les chiffres accusent S&V. Le taux de mortalité dû au choléra dans les maisons de S&V\n",
    "était presque dix fois supérieur à celui des maisons desservies par Lambeth.\n"
   ]
  },
  {
   "cell_type": "markdown",
   "id": "cca2cdf5-aa6d-4c4d-a753-6be43420ad36",
   "metadata": {
    "jp-MarkdownHeadingCollapsed": true
   },
   "source": [
    "### Établissement de la causalité"
   ]
  },
  {
   "cell_type": "markdown",
   "id": "6e20f7b7-edc1-48f6-9325-579c97e18334",
   "metadata": {},
   "source": [
    "Dans la terminologie développée plus tôt dans la section, vous pouvez considérer les personnes dans les maisons S&V comme le groupe traitement, et celles dans les maisons Lambeth comme le groupe contrôle.\n",
    "Un élément crucial de l'analyse de Snow était que les deux groupes étaient comparables l'un à l'autre, à l'exception du traitement.\n",
    "\n",
    "Afin de déterminer si l'approvisionnement en eau était à l'origine du choléra,\n",
    "Snow a dû comparer deux groupes qui se ressemblaient sur tous les points, sauf un, leur approvisionnement en eau.\n",
    "Ce n'est qu'à cette condition qu'il a été en mesure d'attribuer les différences de résultats à l'approvisionnement en eau.\n",
    "Si les deux groupes avaient été différents sur\n",
    "d'autres aspects, il aurait été difficile d'accuser l'approvisionnement en eau d'être à l'origine de la maladie.\n",
    "Par exemple, si le groupe traitement\n",
    "avait été composé d'ouvriers d'usine, mais pas le groupe contrôle, les différences entre les résultats des deux groupes auraient pu être dues à l'approvisionnement en eau, ou au travail en usine, ou aux deux. Le tableau final aurait été beaucoup plus flou.\n",
    "\n",
    "L'idée brillante de Snow a consisté à identifier deux groupes qui rendraient sa comparaison claire. Il avait entrepris d'établir une relation de cause à effet entre l'eau contaminée et l'infection par le choléra, et il y est parvenu dans une large mesure, même si les partisans de la théorie des miasmes l'ont ignoré et même ridiculisé. Bien entendu, Snow ne comprenait pas\n",
    "le mécanisme détaillé par lequel les humains contractent le choléra. Cette découverte a été faite\n",
    "en 1883, lorsque le scientifique allemand Robert Koch a isolé le *Vibrio cholerae*,\n",
    "la bactérie qui pénètre dans l'intestin grêle humain et provoque le choléra.\n",
    "\n",
    "En fait, le *Vibrio cholerae* avait été identifié en 1854 par Filippo Pacini en\n",
    "Italie, à peu près au moment où Snow analysait ses données à Londres. En raison de la\n",
    "dominance des partisans de la théorie des miasmes en Italie, la découverte de Pacini est restée inconnue.\n",
    "Mais à la fin du XIXe siècle, la brigade des miasmes battait en retraite.\n",
    "L'histoire ultérieure a donné raison à Pacini et à John Snow. Les méthodes de Snow ont conduit au développement du domaine de *l'épidémiologie*, qui est l'étude de la propagation des maladies.\n",
    "\n",
    "**Facteurs confondants**\n",
    "\n",
    "Revenons maintenant à des temps plus modernes, riches d'une leçon importante que nous avons apprise en cours de route :\n",
    "\n",
    "**Dans une étude observationnelle, si le groupe traitement et le groupe contrôle diffèrent d'une manière autre que le traitement, il est difficile de tirer des conclusions sur la causalité.**.\n",
    "\n",
    "Une différence sous-jacente entre les deux groupes (autre que le traitement) est\n",
    "est appelée *facteur confondant*, car elle peut créer de la confusion (c'est-à-dire qu'elle vous perturbe) lorsque vous essayez de parvenir à une conclusion.\n",
    "\n",
    "**Exemple : Café et cancer du poumon.**\n",
    "Des études menées dans les années 1960 ont montré que les buveurs de café présentaient des taux de cancer du poumon plus élevés que ceux qui ne buvaient pas de café.\n",
    "Pour cette raison, certaines personnes ont identifié le café à une cause de cancer du poumon. Or, le café n'est pas à l'origine du cancer du poumon. L'analyse contenait un facteur confondant : le tabagisme. À l'époque, les buveurs de café étaient également susceptibles d'être des fumeurs,\n",
    "et le tabagisme est à l'origine du cancer du poumon. La consommation de café était associée au cancer du poumon, mais elle n'est pas à l'origine de la maladie.\n",
    "\n",
    "Les facteurs confondants sont fréquents dans les études observationnelles.\n",
    "Les bonnes études prennent grand soin de réduire les facteurs de confondants et de tenir compte de leurs effets."
   ]
  },
  {
   "cell_type": "markdown",
   "id": "ed48bbcb-971f-4efb-9a06-9c49b7d10f32",
   "metadata": {
    "jp-MarkdownHeadingCollapsed": true
   },
   "source": [
    "### Randomisation"
   ]
  },
  {
   "cell_type": "markdown",
   "id": "2b5fa00f-1f9f-4f23-a5e7-c38f395a0ea0",
   "metadata": {},
   "source": [
    "Un excellent moyen d'éviter les confusions est de répartir les individus dans les groupes traitement et contrôle *au hasard*, puis d'administrer le traitement à ceux qui ont été assignés au groupe traitement. La randomisation permet aux deux groupes de rester similaires\n",
    "en dehors du traitement.\n",
    "\n",
    "Si vous êtes en mesure de répartir les individus de manière aléatoire dans les groupes de traitement et de contrôle, vous réalisez une *expérience aléatoire contrôlée*, également connue sous le nom d'*essai contrôlé randomisé* (ECR). Parfois, les réponses des personnes dans une\n",
    "expérience sont influencées par le fait qu'ils savent dans quel groupe ils se trouvent. Il peut donc être utile de réaliser une expérience en *aveugle* dans laquelle les individus ne savent pas s'ils font partie du groupe traitement ou du groupe contrôle.\n",
    "Pour que cela fonctionne, vous devrez donner au groupe contrôle un *placebo*, c'est-à-dire quelque chose qui ressemble\n",
    "exactement au traitement, mais qui n'a en fait aucun effet.\n",
    "\n",
    "Les expériences aléatoires contrôlées sont depuis longtemps une référence dans le domaine\n",
    "médical, par exemple pour déterminer si un nouveau médicament est efficace.\n",
    "Elles sont également de plus en plus utilisées dans d'autres domaines tels que l'économie.\n",
    "\n",
    "**Exemple :\n",
    "Dans les villages mexicains des années 1990, les enfants des familles pauvres n'étaient souvent pas scolarisés. L'une des raisons était que les enfants plus âgés pouvaient aller travailler et ainsi contribuer à la survie de la famille.\n",
    "Santiago Levy, ministre du ministère mexicain des finances, a entrepris de déterminer si les programmes d'aide sociale pouvaient être utilisés pour améliorer le taux de scolarisation et améliorer les conditions de santé des enfants. Il a mené un essai contrôlé randomisé sur un ensemble de villages, en sélectionnant certains d'entre eux au hasard pour qu'ils bénéficient d'un nouveau programme d'aide sociale appelé\n",
    "PROGRESA. Ce programme donnait de l'argent aux familles pauvres si leurs enfants allaient régulièrement à l'école et si la famille avait recours à des soins de santé préventifs.\n",
    "Plus d'argent était donné si les enfants allaient à l'école secondaire plutôt qu'à l'école primaire, afin de compenser la perte de salaire des enfants, et plus d'argent était donné pour les filles scolarisées que pour les garçons.\n",
    "Les villages restants n'ont pas bénéficié de ce traitement et ont constitué le groupe contrôle. Grâce à la randomisation, il n'y a pas eu de\n",
    "de confusion et il a été possible d'établir que PROGRESA a augmenté le taux de scolarisation. Pour les garçons, il est passé de 73 % dans le groupe contrôle à 77 % dans le groupe PROGRESA. Pour les filles, l'augmentation a été encore plus importante, passant de\n",
    "de 67 % dans le groupe contrôle à près de 75 % dans le groupe PROGRESA. En raison du\n",
    "succès de cette expérience, le gouvernement mexicain a soutenu le programme\n",
    "sous le nouveau nom d'OPORTUNIDADES, en tant qu'investissement pour aller vers une population en bonne santé et éduquée.\n",
    "\n",
    "**Avantages de la randomisation\n",
    "\n",
    "Selon la terminologie que nous avons développée, John Snow a mené une\n",
    "une étude observationnelle, et non une expérience randomisée. Mais il a qualifié son étude de \"grande expérience\" car, comme il l'a écrit, \"pas moins de trois cent mille\n",
    "personnes ... ont été divisées en deux groupes sans qu'elles choisissent leur groupe, et, dans la plupart des cas, à leur insu...\"\n",
    "\n",
    "Des études comme celle de Snow sont parfois appelées \"expériences naturelles\".\n",
    "Cependant, une véritable randomisation ne signifie pas simplement que les groupes traitement et contrôle sont sélectionnés \"sans qu'elles choisissent leur groupe\". La randomisation doit être effectuée avec beaucoup de soin,\n",
    "en suivant les lois de la probabilité.\n",
    "\n",
    "La méthode de randomisation peut être aussi simple que de tirer à pile ou face.\n",
    "Elle peut aussi être beaucoup plus complexe. Mais chaque méthode de randomisation consiste en une\n",
    "séquence d'étapes soigneusement définies qui permettent de spécifier mathématiquement les chances de chaque résultat. Cela a deux conséquences importantes.\n",
    "\n",
    "1. Elle nous permet de tenir compte - mathématiquement - de la possibilité que la randomisation produise des groupes traitement et contrôle très différents l'un de l'autre.\n",
    "\n",
    "2. Elle nous permet de faire des déclarations mathématiques précises sur les différences entre les groupes traitement et les groupes contrôle. Cela nous aide à tirer des conclusions justifiables sur l'effet du traitement.\n",
    "\n",
    "\n",
    "**Et si vous ne pouvez pas faire de randomisation ?\n",
    "\n",
    "Dans certaines situations, il peut s'avérer impossible de réaliser une expérience\n",
    "contrôlée randomisée, même lorsque l'objectif est d'étudier la causalité. Par exemple, supposons que\n",
    "vous voulez étudier les effets de la consommation d'alcool pendant la grossesse et que vous\n",
    "et que vous affectiez au hasard certaines femmes enceintes à votre groupe \"alcool\".\n",
    "Vous ne devez pas vous attendre à ce qu'elles coopèrent si vous voulez leur faire boire de l'alcool pendant la grossesse.\n",
    "Dans de telles situations, vous mènerez presque invariablement une étude observationnelles, et non une expérience.\n",
    "une expérience.\n",
    "\n",
    "Dans ce cours, vous apprendrez à mener et à analyser vos propres expériences randomisées. Cela nécessitera plus de détails que ce qui a été présenté dans ce chapitre. Pour l'instant, concentrez-vous sur l'idée principale : pour essayer d'établir la causalité, il faut, si possible, mener une expérience aléatoire contrôlée.\n",
    "Si vous menez une étude observationnelle, vous pourrez peut-être établir une association, mais il sera plus difficile d'établir un lien de causalité. Soyez extrêmement attentif aux facteurs de confusion avant de tirer des conclusions sur la causalité à partir d'une étude observationnelle.\n"
   ]
  },
  {
   "cell_type": "markdown",
   "id": "6029e28a-eda4-4ed8-ab02-cf976a272580",
   "metadata": {
    "jp-MarkdownHeadingCollapsed": true
   },
   "source": [
    "### Terminologie et lectures complémentaires"
   ]
  },
  {
   "cell_type": "markdown",
   "id": "d52c92e4-e094-47fa-8f7b-9efccdfb708a",
   "metadata": {},
   "source": [
    "**Terminologie dans ce chapitre**\n",
    "\n",
    "* étude observationnelle\n",
    "* traitement\n",
    "* résultat\n",
    "* association\n",
    "* association causale\n",
    "* causalité\n",
    "* comparaison\n",
    "* groupe traitement\n",
    "* groupe contrôle\n",
    "* épidémiologie\n",
    "* facteur confondant\n",
    "* randomisation\n",
    "* expérience aléatoire contrôlée\n",
    "* essai contrôlé randomisé (ECR)\n",
    "* expérience en aveugle\n",
    "* placebo\n",
    "\n",
    "**Fun facts**\n",
    "\n",
    "1. John Snow est parfois appelé le père de l'épidémiologie, mais il était anesthésiste de profession. L'une de ses patientes était la reine Victoria, qui\n",
    "   a été l'une des premières à bénéficier d'una anesthésie lors de l'accouchement.\n",
    "\n",
    "2. Florence Nightingale, à l'origine des pratiques modernes de soins infirmiers et célèbre pour son travail lors de la guerre de Crimée, était une partisane de la théorie des miasmes convaincue. Elle n'avait que faire des théories sur la contagion et les germes, et ne mâchait pas ses mots. D'après elle, \"La liste d'absurdités liées à cette doctrine est sans fin\", et \"\"Il suffit de dire que, dans le sens ordinaire du terme, il n'y a pas de preuve telle qu'on l'admettrait dans une enquête scientifique, de l'existence de la contagion\".\n",
    "\n",
    "3. Un essai contrôlé randomisé ultérieur a établi que les conditions sur lesquelles PROGRESA insistait - le fait que les enfants aillent à l'école, les soins de santé préventifs - n'étaient pas nécessaires pour obtenir une augmentation des inscriptions. Le simple coup de pouce financier des prestations sociales suffisait.\n",
    "\n",
    "\n",
    "**Bonnes lectures**\n",
    "\n",
    "*The Strange Case of the Broad Street Pump: John Snow and the Mystery of Cholera* par Sandra Hempel,\n",
    "publié par les Presses de l'Université de Californie, se lit comme un roman policier.\n",
    "l'une des principales sources de cette section sur John Snow et son travail.\n",
    "son travail. Un mot d'avertissement : certains passages de ce livre retournent l'estomac.\n",
    "\n",
    "[*Poor Economics*] (http://www.pooreconomics.com), le best-seller d'Abhijit Banerjee et d'Esther Duflo du MIT, est un récit accessible et vivant sur les moyens de lutter contre la pauvreté dans le monde. Il comprend de nombreux exemples d'essais contrôlés randomisés, dont l'exemple de PROGRESA présenté dans ce chapitre. En 2019, Banerjee, Duflo et Michael Kremer ont reçu le Prix Nobel d'économie (https://www.nobelprize.org/prizes/economic-sciences/2019/press-release/), en partie pour avoir montré que \"les questions trouvent souvent une meilleure réponse grâce à des expériences soigneusement conçues\".  \n"
   ]
  },
  {
   "cell_type": "markdown",
   "id": "ff87e3b6-2ce1-4c5a-904f-60ec3e387535",
   "metadata": {
    "jp-MarkdownHeadingCollapsed": true
   },
   "source": [
    "## 2. Aléatoire et simulation\n"
   ]
  },
  {
   "cell_type": "markdown",
   "id": "7ea3f791",
   "metadata": {},
   "source": [
    "Dans les chapitres précédents, nous avons développé les compétences nécessaires pour faire des descriptions intéressantes des données. Les data sceintists doivent également être en mesure de comprendre l'aléatoire. Par exemple, ils doivent être en mesure d'affecter des individus à des groupes traitement et contrôle de manière aléatoire, puis d'essayer de dire si les différences observées dans les résultats des deux groupes sont simplement dues à l'affectation aléatoire ou véritablement dues au traitement.\n",
    "\n",
    "Dans ce chapitre, nous commençons notre analyse de l'aléatoire. Pour commencer, nous utiliserons Python pour faire des choix au hasard. Dans `numpy`, il y a un sous-module appelé `random` qui contient de nombreuses fonctions qui impliquent une sélection aléatoire. L'une de ces fonctions s'appelle `choice`. Elle choisit un élément au hasard dans un tableau, et il est tout aussi probable qu'elle choisisse n'importe lequel des éléments. L'appel de la fonction est `np.random.choice(nom_du_tableau)`, où `nom_du_tableau` est le nom du tableau dans lequel le choix doit être fait.\n",
    "\n",
    "Ainsi, le code suivant évalue `traitement` avec une probabilité de 50%, et `contrôle` avec une probabilité de 50%."
   ]
  },
  {
   "cell_type": "code",
   "execution_count": 2,
   "id": "7877b4b0",
   "metadata": {},
   "outputs": [
    {
     "data": {
      "text/plain": [
       "'treatment'"
      ]
     },
     "execution_count": 2,
     "metadata": {},
     "output_type": "execute_result"
    }
   ],
   "source": [
    "two_groups = make_array('treatment', 'control')\n",
    "np.random.choice(two_groups)"
   ]
  },
  {
   "cell_type": "markdown",
   "id": "d79544bb",
   "metadata": {},
   "source": [
    "La grande différence entre le code ci-dessus et tous les autres codes que nous avons exécutés jusqu'à présent est que le code ci-dessus ne renvoie pas toujours la même valeur. Il peut retourner soit `traitement` soit `contrôle`, et nous ne savons pas à l'avance laquelle il choisira. Nous pouvons répéter le processus en fournissant un second argument, le nombre de fois qu'il faut répéter le processus."
   ]
  },
  {
   "cell_type": "code",
   "execution_count": 3,
   "id": "b34bb4e1",
   "metadata": {},
   "outputs": [
    {
     "data": {
      "text/plain": [
       "array(['control', 'control', 'treatment', 'treatment', 'control',\n",
       "       'control', 'control', 'control', 'control', 'control'], dtype='<U9')"
      ]
     },
     "execution_count": 3,
     "metadata": {},
     "output_type": "execute_result"
    }
   ],
   "source": [
    "np.random.choice(two_groups, 10)"
   ]
  },
  {
   "cell_type": "markdown",
   "id": "3779f7f1",
   "metadata": {},
   "source": [
    "Une question fondamentale concernant les événements aléatoires est de savoir s'ils se produisent ou non. Par exemple :\n",
    "\n",
    "- Une personne a-t-elle été assignée au groupe traitement ou non ?\n",
    "- Un joueur va-t-il gagner de l'argent ou non ?\n",
    "- Un sondage a-t-il fait une prédiction exacte ou non ?\n",
    "\n",
    "Une fois que l'événement s'est produit, vous pouvez répondre par \"oui\" ou par \"non\" à toutes ces questions. En programmation, il est d'usage d'étiqueter les énoncés comme Vrai ou Faux. Par exemple, si un individu a été assigné au groupe traitement, l'énoncé \"L'individu a été assigné au groupe traitement\" sera \"Vrai\". Dans le cas contraire, elle serait \"Faux\"."
   ]
  },
  {
   "cell_type": "markdown",
   "id": "307f9405-87b1-4dd0-adf5-d332e6ed0d06",
   "metadata": {
    "jp-MarkdownHeadingCollapsed": true
   },
   "source": [
    "### Comparaisons et conditionnelles"
   ]
  },
  {
   "cell_type": "markdown",
   "id": "7703a162",
   "metadata": {
    "jp-MarkdownHeadingCollapsed": true
   },
   "source": [
    "#### Booléens et comparaisons\n",
    "\n",
    "En Python, les variables de type booléens, nommées d'après le logicien George Boole (https://en.wikipedia.org/wiki/George_Boole), représentent la vérité et ne prennent que deux valeurs possibles : `Vrai` et `Faux`. Que les problèmes impliquent le hasard ou non, les valeurs booléennes proviennent le plus souvent d'opérateurs de comparaison. Python inclut une variété d'opérateurs qui comparent des valeurs. Par exemple, `3` est plus grand que `1 + 1`."
   ]
  },
  {
   "cell_type": "code",
   "execution_count": 4,
   "id": "0c5d27cc",
   "metadata": {},
   "outputs": [
    {
     "data": {
      "text/plain": [
       "True"
      ]
     },
     "execution_count": 4,
     "metadata": {},
     "output_type": "execute_result"
    }
   ],
   "source": [
    "3 > 1 + 1"
   ]
  },
  {
   "cell_type": "markdown",
   "id": "1f93e383",
   "metadata": {},
   "source": [
    "La valeur `True` indique que la comparaison est valide ; Python a confirmé ce simple fait sur la relation entre `3` et `1+1`. L'ensemble des opérateurs de comparaison courants est listé ci-dessous.\n",
    "\n",
    "| Comparaison | Opérateur | Exemple valant Vrai | Exemple valant Faux |\n",
    "|--------------------|----------|--------------|---------------|\n",
    "| Moins que | < | 2 < 3 | 2 < 2 |\n",
    "| Plus grand que | > | 3 > 2 | 3 > 3 |\n",
    "| Moins que ou égal | <= | 2 <= 2 | 3 <= 2 |\n",
    "| Plus grand ou égal | >= | 3 >= 3 | 2 >= 3 |\n",
    "| Egal à | == | 3 == 3 | 3 == 2 | == 3\n",
    "| Non égal à | != | 3 != 2 | 2 != 2 |"
   ]
  },
  {
   "cell_type": "markdown",
   "id": "61168671",
   "metadata": {},
   "source": [
    "Remarquez les deux signes égaux `==` dans la comparaison pour déterminer l'égalité. C'est nécessaire parce que Python utilise déjà `=` pour signifier l'affectation à une variable, comme nous l'avons vu. Il ne peut pas utiliser le même symbole pour un usage différent. Ainsi, si vous voulez vérifier si 5 est égal à 10/2, vous devez être prudent : `5 = 10/2` renvoie un message d'erreur car Python suppose que vous essayez d'assigner la valeur de l'expression 10/2 à un nom qui est le chiffre 5. Au lieu de cela, vous devez utiliser `5 == 10/2`, qui renvoie `Vrai`."
   ]
  },
  {
   "cell_type": "code",
   "execution_count": 5,
   "id": "0beb10e1",
   "metadata": {
    "tags": [
     "raises-exception"
    ]
   },
   "outputs": [
    {
     "ename": "SyntaxError",
     "evalue": "can't assign to literal (<ipython-input-5-e8c755f5e450>, line 1)",
     "output_type": "error",
     "traceback": [
      "\u001b[0;36m  File \u001b[0;32m\"<ipython-input-5-e8c755f5e450>\"\u001b[0;36m, line \u001b[0;32m1\u001b[0m\n\u001b[0;31m    5 = 10/2\u001b[0m\n\u001b[0m            ^\u001b[0m\n\u001b[0;31mSyntaxError\u001b[0m\u001b[0;31m:\u001b[0m can't assign to literal\n"
     ]
    }
   ],
   "source": [
    "5 = 10/2"
   ]
  },
  {
   "cell_type": "code",
   "execution_count": 6,
   "id": "57f23230",
   "metadata": {},
   "outputs": [
    {
     "data": {
      "text/plain": [
       "True"
      ]
     },
     "execution_count": 6,
     "metadata": {},
     "output_type": "execute_result"
    }
   ],
   "source": [
    "5 == 10/2"
   ]
  },
  {
   "cell_type": "markdown",
   "id": "ce2cd8e4",
   "metadata": {},
   "source": [
    "Une expression peut contenir plusieurs comparaisons, et elles doivent toutes être valides pour que l'expression entière soit \"vraie\". Par exemple, nous pouvons exprimer que `1+1` est compris entre `1` et `3` en utilisant l'expression suivante."
   ]
  },
  {
   "cell_type": "code",
   "execution_count": 7,
   "id": "2b2eb88b",
   "metadata": {},
   "outputs": [
    {
     "data": {
      "text/plain": [
       "True"
      ]
     },
     "execution_count": 7,
     "metadata": {},
     "output_type": "execute_result"
    }
   ],
   "source": [
    "1 < 1 + 1 < 3"
   ]
  },
  {
   "cell_type": "markdown",
   "id": "26dc4751",
   "metadata": {},
   "source": [
    "La moyenne de deux nombres est toujours comprise entre le plus petit et le plus grand. Nous exprimons cette relation pour les nombres `x` et `y` ci-dessous. Vous pouvez essayer différentes valeurs de `x` et `y` pour confirmer cette relation."
   ]
  },
  {
   "cell_type": "code",
   "execution_count": 8,
   "id": "96ecf26e",
   "metadata": {},
   "outputs": [
    {
     "data": {
      "text/plain": [
       "True"
      ]
     },
     "execution_count": 8,
     "metadata": {},
     "output_type": "execute_result"
    }
   ],
   "source": [
    "x = 12\n",
    "y = 5\n",
    "min(x, y) <= (x+y)/2 <= max(x, y)"
   ]
  },
  {
   "cell_type": "markdown",
   "id": "8727c1e5",
   "metadata": {
    "jp-MarkdownHeadingCollapsed": true
   },
   "source": [
    "#### Comparaison de chaînes de caractères\n",
    "\n",
    "Les chaînes de caractères peuvent également être comparées et leur ordre est alphabétique. Une chaîne plus courte est plus petite qu'une chaîne plus longue qui commence par la chaîne la plus courte."
   ]
  },
  {
   "cell_type": "code",
   "execution_count": 9,
   "id": "4d5bf8e3",
   "metadata": {},
   "outputs": [
    {
     "data": {
      "text/plain": [
       "True"
      ]
     },
     "execution_count": 9,
     "metadata": {},
     "output_type": "execute_result"
    }
   ],
   "source": [
    "'Dog' > 'Catastrophe' > 'Cat'"
   ]
  },
  {
   "cell_type": "markdown",
   "id": "7095b0f4",
   "metadata": {},
   "source": [
    "Revenons à la sélection aléatoire. Rappelons le tableau `two_groups` qui consiste en seulement deux éléments, `treatment` et `control`. Pour savoir si un individu assigné au hasard a été placé dans le groupe traitement, vous pouvez utiliser une comparaison :"
   ]
  },
  {
   "cell_type": "code",
   "execution_count": 10,
   "id": "3a0e9fa3",
   "metadata": {},
   "outputs": [
    {
     "data": {
      "text/plain": [
       "True"
      ]
     },
     "execution_count": 10,
     "metadata": {},
     "output_type": "execute_result"
    }
   ],
   "source": [
    "np.random.choice(two_groups) == 'treatment'"
   ]
  },
  {
   "cell_type": "markdown",
   "id": "d4a63ca8",
   "metadata": {},
   "source": [
    "Comme précédemment, le choix aléatoire ne sera pas toujours le même, de sorte que le résultat de la comparaison ne sera pas toujours le même non plus. Il dépendra du choix de `traitement` ou de `témoin`. Pour toute cellule impliquant un choix aléatoire, il est conseillé d'exécuter la cellule plusieurs fois afin de se faire une idée de la variabilité du résultat."
   ]
  },
  {
   "cell_type": "markdown",
   "id": "2048268c",
   "metadata": {
    "jp-MarkdownHeadingCollapsed": true
   },
   "source": [
    "#### Comparaison d'un tableau et d'une valeur\n",
    "\n",
    "Rappelons que nous pouvons effectuer des opérations arithmétiques sur plusieurs nombres d'un tableau à la fois.  Par exemple, `make_array(0, 5, 2)*2` est équivalent à `make_array(0, 10, 4)`.  De la même manière, si nous comparons un tableau à une valeur, chaque élément du tableau est comparé à cette valeur, et la comparaison est évaluée comme un tableau de booléens.\n",
    "\n",
    "NB : dans le contexte d'un lancer de pièce pile ou face, en anglais \"tails\" signifie \"pile\" et \"heads\" signifie \"face\"."
   ]
  },
  {
   "cell_type": "code",
   "execution_count": 11,
   "id": "9c4a2c25",
   "metadata": {},
   "outputs": [
    {
     "data": {
      "text/plain": [
       "array([False,  True, False,  True,  True])"
      ]
     },
     "execution_count": 11,
     "metadata": {},
     "output_type": "execute_result"
    }
   ],
   "source": [
    "tosses = make_array('Tails', 'Heads', 'Tails', 'Heads', 'Heads')\n",
    "tosses == 'Heads'"
   ]
  },
  {
   "cell_type": "markdown",
   "id": "a8e97d71",
   "metadata": {},
   "source": [
    "La méthode `numpy` `count_nonzero` évalue le nombre d'éléments non nuls (c'est-à-dire `True`) du tableau."
   ]
  },
  {
   "cell_type": "code",
   "execution_count": 12,
   "id": "53ae3a15",
   "metadata": {},
   "outputs": [
    {
     "data": {
      "text/plain": [
       "3"
      ]
     },
     "execution_count": 12,
     "metadata": {},
     "output_type": "execute_result"
    }
   ],
   "source": [
    "np.count_nonzero(tosses == 'Heads')"
   ]
  },
  {
   "cell_type": "markdown",
   "id": "16df1f27",
   "metadata": {
    "jp-MarkdownHeadingCollapsed": true
   },
   "source": [
    "#### Exemple : Parier sur un dé\n",
    "Supposons que je parie sur le résultat d'un dé juste. Voici les règles du jeu :\n",
    "\n",
    "- Si le dé indique 1 ou 2 points, je perds un dollar.\n",
    "- Si le dé indique 3 ou 4 points, je ne perds ni ne gagne d'argent.\n",
    "- Si le dé indique 5 points ou 6 points, je gagne un dollar.\n",
    "\n",
    "Nous allons maintenant utiliser des instructions conditionnelles pour définir une fonction `one_bet` qui prend le nombre de points sur le dé et retourne mon gain net."
   ]
  },
  {
   "cell_type": "markdown",
   "id": "bed1faca-246f-4cca-9924-9fe0cb59ade9",
   "metadata": {},
   "source": [
    "Pour rappel, le format général d'une déclaration conditionnelle à plusieurs clauses est présenté ci-dessous.\n",
    "\n",
    "    if <if expression>:\n",
    "        <if body>\n",
    "    elif <elif expression 0>:\n",
    "        <elif body 0>\n",
    "    elif <elif expression 1>:\n",
    "        <elif body 1>\n",
    "    ...\n",
    "    else:\n",
    "        <else body>\n",
    "\n",
    "Il y a toujours exactement un `if`, mais il peut y avoir n'importe quel nombre de `elif`. Python évalue les expressions `if` et `elif` dans les en-têtes dans l'ordre jusqu'à ce qu'il en trouve une qui soit une valeur vraie, puis exécute le corps correspondant. La clause `else` est optionnelle. Lorsqu'un `else` est présent, son corps *else* n'est exécuté que si aucune des expressions if ou elif précédentes n'est vraie. La clause `else` doit toujours se trouver à la fin (ou être absent).\n",
    "\n",
    "Utilisons une instruction conditionnelle pour définir notre fonction `one_bet`."
   ]
  },
  {
   "cell_type": "code",
   "execution_count": 11,
   "id": "27c3c112",
   "metadata": {},
   "outputs": [],
   "source": [
    "def one_bet(x):\n",
    "    \"\"\"Returns my net gain if the die shows x spots\"\"\"\n",
    "    if x <= 2:\n",
    "        return -1\n",
    "    elif x <= 4:\n",
    "        return 0\n",
    "    elif x <= 6:\n",
    "        return 1"
   ]
  },
  {
   "cell_type": "markdown",
   "id": "05d99715",
   "metadata": {},
   "source": [
    "Vérifions que la fonction fait ce qu'il faut pour chaque nombre différent de points sur le dé."
   ]
  },
  {
   "cell_type": "code",
   "execution_count": 12,
   "id": "d581653e",
   "metadata": {},
   "outputs": [
    {
     "data": {
      "text/plain": [
       "(-1, -1, 0, 0, 1, 1)"
      ]
     },
     "execution_count": 12,
     "metadata": {},
     "output_type": "execute_result"
    }
   ],
   "source": [
    "one_bet(1), one_bet(2), one_bet(3), one_bet (4), one_bet(5), one_bet(6)"
   ]
  },
  {
   "cell_type": "markdown",
   "id": "27d58a3f",
   "metadata": {},
   "source": [
    "Pour revoir le fonctionnement des instructions conditionnelles, voyons ce que fait `one_bet` lorsque l'entrée est 3.\n",
    "\n",
    "- D'abord, il évalue l'expression `if`, qui est `3 <= 2`, ce qui est `False`. Donc `one_bet` n'exécute pas le corps de `if`.\n",
    "- Ensuite, il évalue la première expression `elif`, qui est `3 <= 4`, qui est `True`. Donc `one_bet` exécute le premier corps `elif` et retourne 0.\n",
    "- Une fois que le corps a été exécuté, le processus est terminé. L'expression `elif` suivante n'est pas évaluée.\n",
    "\n",
    "Si, pour une raison quelconque, nous utilisons une entrée supérieure à 6, alors l'expression `if` est évaluée à `False`, tout comme les deux expressions `elif`. Donc `one_bet` n'exécute pas le corps `if` ni les deux corps `elif`, et il n'y a pas de valeur renvoyée quand vous faites l'appel ci-dessous."
   ]
  },
  {
   "cell_type": "code",
   "execution_count": 13,
   "id": "7057cf2a",
   "metadata": {},
   "outputs": [],
   "source": [
    "one_bet(17)"
   ]
  },
  {
   "cell_type": "markdown",
   "id": "9d18e637",
   "metadata": {},
   "source": [
    "Pour jouer le jeu sur la base d'un seul jet de dé, vous pouvez utiliser `np.random.choice` pour générer le nombre de places et l'utiliser comme argument de `one_bet`. Exécutez la cellule plusieurs fois pour voir comment la sortie change."
   ]
  },
  {
   "cell_type": "code",
   "execution_count": 14,
   "id": "7c8b4aa1",
   "metadata": {},
   "outputs": [
    {
     "data": {
      "text/plain": [
       "-1"
      ]
     },
     "execution_count": 14,
     "metadata": {},
     "output_type": "execute_result"
    }
   ],
   "source": [
    "one_bet(np.random.choice(np.arange(1, 7)))"
   ]
  },
  {
   "cell_type": "markdown",
   "id": "43280e6a",
   "metadata": {},
   "source": [
    "À ce stade, il est naturel de vouloir collecter les résultats de tous les paris afin de pouvoir les analyser. Dans la section suivante, nous développons un moyen de le faire sans avoir à exécuter la cellule à plusieurs reprises."
   ]
  },
  {
   "cell_type": "markdown",
   "id": "5de50058",
   "metadata": {
    "jp-MarkdownHeadingCollapsed": true
   },
   "source": [
    "### Itération\n",
    "En programmation, il arrive souvent - surtout lorsqu'il s'agit d'aléatoire - que l'on veuille répéter un processus plusieurs fois. Par exemple, rappelons le jeu qui consiste à parier sur un lancer de dé avec les règles suivantes :\n",
    "\n",
    "- Si le dé indique 1 ou 2 points, mon gain net est de -1 dollar.\n",
    "- Si le dé indique 3 ou 4 points, mon gain net est de 0 dollar.\n",
    "- Si le dé indique 5 ou 6 points, mon gain net est de 1 dollar.\n",
    "\n",
    "La fonction `bet_on_one_roll` ne prend aucun argument. Chaque fois qu'elle est appelée, elle simule un lancer de dé équitable et renvoie le gain net en dollars."
   ]
  },
  {
   "cell_type": "code",
   "execution_count": 2,
   "id": "7c9f46d3",
   "metadata": {},
   "outputs": [],
   "source": [
    "def bet_on_one_roll():\n",
    "    \"\"\"Returns my net gain on one bet\"\"\"\n",
    "    x = np.random.choice(np.arange(1, 7))  # roll a die once and record the number of spots\n",
    "    if x <= 2:\n",
    "        return -1\n",
    "    elif x <= 4:\n",
    "        return 0\n",
    "    elif x <= 6:\n",
    "        return 1"
   ]
  },
  {
   "cell_type": "markdown",
   "id": "1c951e45",
   "metadata": {},
   "source": [
    "Il est facile de jouer une fois à ce jeu :"
   ]
  },
  {
   "cell_type": "code",
   "execution_count": 3,
   "id": "e1c6c479",
   "metadata": {},
   "outputs": [
    {
     "data": {
      "text/plain": [
       "0"
      ]
     },
     "execution_count": 3,
     "metadata": {},
     "output_type": "execute_result"
    }
   ],
   "source": [
    "bet_on_one_roll()"
   ]
  },
  {
   "cell_type": "markdown",
   "id": "97601e68",
   "metadata": {},
   "source": [
    "Pour avoir une idée de la variabilité des résultats, nous devons jouer le jeu encore et encore. Nous pourrions exécuter la cellule à plusieurs reprises, mais c'est fastidieux, et si nous voulions le faire un millier ou un million de fois, oublions-le.  \n",
    "\n",
    "Une solution plus automatisée consiste à utiliser une instruction `for` pour boucler sur le contenu d'une séquence. C'est ce qu'on appelle l'itération. Une instruction `for` commence par le mot `for`, suivi du nom que nous voulons donner à chaque élément de la séquence, suivi du mot `in`, et se termine par une expression qui évalue une séquence. Le corps indenté de l'instruction `for` est exécuté une fois *pour chaque élément de cette séquence*."
   ]
  },
  {
   "cell_type": "code",
   "execution_count": 4,
   "id": "58bd5522",
   "metadata": {},
   "outputs": [
    {
     "name": "stdout",
     "output_type": "stream",
     "text": [
      "cat\n",
      "dog\n",
      "rabbit\n"
     ]
    }
   ],
   "source": [
    "for animal in make_array('cat', 'dog', 'rabbit'):\n",
    "    print(animal)"
   ]
  },
  {
   "cell_type": "markdown",
   "id": "71098fbb",
   "metadata": {},
   "source": [
    "Il est utile d'écrire un code qui reproduit exactement une instruction `for`, sans utiliser l'instruction `for`.  C'est ce qu'on appelle *dérouler* la boucle.  \n",
    "\n",
    "Une instruction `for` réplique simplement le code qu'elle contient, mais avant chaque itération, elle assigne une nouvelle valeur de la séquence donnée au nom que nous avons choisi.  Par exemple, voici une version déroulée de la boucle ci-dessus."
   ]
  },
  {
   "cell_type": "code",
   "execution_count": 5,
   "id": "ee152f65",
   "metadata": {},
   "outputs": [
    {
     "name": "stdout",
     "output_type": "stream",
     "text": [
      "cat\n",
      "dog\n",
      "rabbit\n"
     ]
    }
   ],
   "source": [
    "animal = make_array('cat', 'dog', 'rabbit').item(0)\n",
    "print(animal)\n",
    "animal = make_array('cat', 'dog', 'rabbit').item(1)\n",
    "print(animal)\n",
    "animal = make_array('cat', 'dog', 'rabbit').item(2)\n",
    "print(animal)"
   ]
  },
  {
   "cell_type": "markdown",
   "id": "a0d51690",
   "metadata": {},
   "source": [
    "Notez que le nom `animal` est arbitraire, tout comme n'importe quel nom que nous assignons avec `=`.\n",
    "\n",
    "Ici, nous utilisons une instruction `for` d'une manière plus réaliste : nous imprimons les résultats de cinq paris sur le dé comme décrit précédemment. C'est ce qu'on appelle *simuler* les résultats de cinq paris. Nous utilisons le mot *simulation* pour nous rappeler que nous ne lançons pas physiquement des dés et n'échangeons pas d'argent, mais que nous utilisons Python pour imiter le processus.\n",
    "\n",
    "Pour répéter un processus `n` fois, il est courant d'utiliser la séquence `np.arange(n)` dans l'instruction `for`. Il est également courant d'utiliser un nom très court pour chaque élément. Dans notre code, nous utiliserons le nom `i` pour nous rappeler qu'il s'agit d'un élément de la liste (*item* en anglais)."
   ]
  },
  {
   "cell_type": "code",
   "execution_count": 6,
   "id": "3ccaee74",
   "metadata": {},
   "outputs": [
    {
     "name": "stdout",
     "output_type": "stream",
     "text": [
      "1\n",
      "-1\n",
      "-1\n",
      "1\n",
      "1\n"
     ]
    }
   ],
   "source": [
    "for i in np.arange(5):\n",
    "    print(bet_on_one_roll())"
   ]
  },
  {
   "cell_type": "markdown",
   "id": "496bd624",
   "metadata": {},
   "source": [
    "Dans ce cas, nous effectuons simplement la même action (aléatoire) plusieurs fois, donc le code dans le corps de notre déclaration `for` ne fait pas réellement référence à `i`."
   ]
  },
  {
   "cell_type": "markdown",
   "id": "266be3f2",
   "metadata": {},
   "source": [
    "#### Ajouter des éléments à un tableau\n",
    "\n",
    "Bien que l'instruction `for` ci-dessus simule les résultats de cinq paris, les résultats sont simplement imprimés et ne sont pas sous une forme que nous pouvons utiliser pour le calcul. Un tableau de résultats serait plus utile. Ainsi, une utilisation typique d'une instruction `for` est de créer un tableau de résultats, en agrandissant le tableau à chaque fois.\n",
    "\n",
    "La méthode `append` de `NumPy` nous aide à faire cela. L'appel `np.append(nom_du_tableau, valeur)` évalue un nouveau tableau qui est `nom_du_tableau` augmenté de `valeur`. Quand vous utilisez `append`, gardez à l'esprit que toutes les entrées d'un tableau doivent avoir le même type."
   ]
  },
  {
   "cell_type": "code",
   "execution_count": 7,
   "id": "a7de94c5",
   "metadata": {},
   "outputs": [
    {
     "data": {
      "text/plain": [
       "array(['Cat', 'Dog', 'Another Pet'], dtype='<U11')"
      ]
     },
     "execution_count": 7,
     "metadata": {},
     "output_type": "execute_result"
    }
   ],
   "source": [
    "pets = make_array('Cat', 'Dog')\n",
    "np.append(pets, 'Another Pet')"
   ]
  },
  {
   "cell_type": "markdown",
   "id": "b43e015e",
   "metadata": {},
   "source": [
    "Le tableau `pets` reste ainsi inchangé :"
   ]
  },
  {
   "cell_type": "code",
   "execution_count": 8,
   "id": "7a5c9654",
   "metadata": {},
   "outputs": [
    {
     "data": {
      "text/plain": [
       "array(['Cat', 'Dog'], dtype='<U3')"
      ]
     },
     "execution_count": 8,
     "metadata": {},
     "output_type": "execute_result"
    }
   ],
   "source": [
    "pets"
   ]
  },
  {
   "cell_type": "markdown",
   "id": "d6fab423",
   "metadata": {},
   "source": [
    "Mais souvent, lors de l'utilisation de boucles `for`, il sera pratique de muter un tableau - c'est-à-dire de le modifier - lors de son augmentation. Cela se fait en assignant au tableau augmenté le même nom que l'original."
   ]
  },
  {
   "cell_type": "code",
   "execution_count": 9,
   "id": "9b08af7c",
   "metadata": {},
   "outputs": [
    {
     "data": {
      "text/plain": [
       "array(['Cat', 'Dog', 'Another Pet'], dtype='<U11')"
      ]
     },
     "execution_count": 9,
     "metadata": {},
     "output_type": "execute_result"
    }
   ],
   "source": [
    "pets = np.append(pets, 'Another Pet')\n",
    "pets"
   ]
  },
  {
   "cell_type": "markdown",
   "id": "1c2dc30b",
   "metadata": {},
   "source": [
    "#### Exemple : Parier sur 5 lancers\n",
    "Nous pouvons maintenant simuler cinq paris sur le dé et rassembler les résultats dans un tableau que nous appellerons *tableau de collecte*. Nous commencerons par créer un tableau vide pour cela, puis nous y ajouterons le résultat de chaque pari. Remarquez que le corps de la boucle `for` contient deux instructions. Ces deux instructions sont exécutées pour chaque élément de la séquence donnée."
   ]
  },
  {
   "cell_type": "code",
   "execution_count": 10,
   "id": "f5c1b2da",
   "metadata": {},
   "outputs": [
    {
     "data": {
      "text/plain": [
       "array([-1., -1.,  1.,  1., -1.])"
      ]
     },
     "execution_count": 10,
     "metadata": {},
     "output_type": "execute_result"
    }
   ],
   "source": [
    "outcomes = make_array()\n",
    "\n",
    "for i in np.arange(5):\n",
    "    outcome_of_bet = bet_on_one_roll()\n",
    "    outcomes = np.append(outcomes, outcome_of_bet)\n",
    "    \n",
    "outcomes"
   ]
  },
  {
   "cell_type": "markdown",
   "id": "c5da5aff",
   "metadata": {},
   "source": [
    "Réécrivons la cellule avec l'instruction `for` déroulée :"
   ]
  },
  {
   "cell_type": "code",
   "execution_count": 11,
   "id": "6076282e",
   "metadata": {},
   "outputs": [
    {
     "data": {
      "text/plain": [
       "array([ 1.,  0.,  0., -1.,  1.])"
      ]
     },
     "execution_count": 11,
     "metadata": {},
     "output_type": "execute_result"
    }
   ],
   "source": [
    "outcomes = make_array()\n",
    "\n",
    "i = np.arange(5).item(0)\n",
    "outcome_of_bet = bet_on_one_roll()\n",
    "outcomes = np.append(outcomes, outcome_of_bet)\n",
    "\n",
    "i = np.arange(5).item(1)\n",
    "outcome_of_bet = bet_on_one_roll()\n",
    "outcomes = np.append(outcomes, outcome_of_bet)\n",
    "\n",
    "i = np.arange(5).item(2)\n",
    "outcome_of_bet = bet_on_one_roll()\n",
    "outcomes = np.append(outcomes, outcome_of_bet)\n",
    "\n",
    "i = np.arange(5).item(3)\n",
    "outcome_of_bet = bet_on_one_roll()\n",
    "outcomes = np.append(outcomes, outcome_of_bet)\n",
    "\n",
    "i = np.arange(5).item(4)\n",
    "outcome_of_bet = bet_on_one_roll()\n",
    "outcomes = np.append(outcomes, outcome_of_bet)\n",
    "\n",
    "outcomes"
   ]
  },
  {
   "cell_type": "markdown",
   "id": "58bc36a1",
   "metadata": {},
   "source": [
    "Le contenu du tableau sera probablement différent de celui que nous avons obtenu en exécutant la cellule précédente, mais cela est dû au caractère aléatoire du lancer de dé. Le processus de création du tableau est exactement le même.\n",
    "\n",
    "En capturant les résultats dans un tableau, nous nous sommes donné la possibilité d'utiliser des méthodes de tableau pour effectuer des calculs. Par exemple, nous pouvons utiliser `np.count_nonzero` pour compter le nombre de fois où l'argent a changé de main."
   ]
  },
  {
   "cell_type": "code",
   "execution_count": 12,
   "id": "bc311f77",
   "metadata": {},
   "outputs": [
    {
     "data": {
      "text/plain": [
       "3"
      ]
     },
     "execution_count": 12,
     "metadata": {},
     "output_type": "execute_result"
    }
   ],
   "source": [
    "np.count_nonzero(outcomes)"
   ]
  },
  {
   "cell_type": "markdown",
   "id": "7b23707e",
   "metadata": {},
   "source": [
    "#### Exemple : Parier sur 300 lancers\n",
    "L'itération est une technique puissante. Par exemple, nous pouvons voir la variation des résultats de 300 paris en exécutant exactement le même code pour 300 paris au lieu de cinq."
   ]
  },
  {
   "cell_type": "code",
   "execution_count": 13,
   "id": "254a7efa",
   "metadata": {},
   "outputs": [],
   "source": [
    "outcomes = make_array()\n",
    "\n",
    "for i in np.arange(300):\n",
    "    outcome_of_bet = bet_on_one_roll()\n",
    "    outcomes = np.append(outcomes, outcome_of_bet)"
   ]
  },
  {
   "cell_type": "markdown",
   "id": "2315377e",
   "metadata": {
    "collapsed": true,
    "jupyter": {
     "outputs_hidden": true
    }
   },
   "source": [
    "Le tableau `outcomes` contient les résultats des 300 paris."
   ]
  },
  {
   "cell_type": "code",
   "execution_count": 14,
   "id": "d6a94c3d",
   "metadata": {},
   "outputs": [
    {
     "data": {
      "text/plain": [
       "300"
      ]
     },
     "execution_count": 14,
     "metadata": {},
     "output_type": "execute_result"
    }
   ],
   "source": [
    "len(outcomes)"
   ]
  },
  {
   "cell_type": "markdown",
   "id": "98b0df0e",
   "metadata": {},
   "source": [
    "Pour connaître la fréquence d'apparition des trois résultats possibles, nous pouvons utiliser les méthodes array `outcomes` et `Table`."
   ]
  },
  {
   "cell_type": "code",
   "execution_count": 15,
   "id": "26e456c5",
   "metadata": {},
   "outputs": [
    {
     "data": {
      "image/png": "[encoded data removed]",
      "text/plain": [
       "<Figure size 432x288 with 1 Axes>"
      ]
     },
     "metadata": {},
     "output_type": "display_data"
    }
   ],
   "source": [
    "outcome_table = Table().with_column('Outcome', outcomes)\n",
    "outcome_table.group('Outcome').barh(0)"
   ]
  },
  {
   "cell_type": "markdown",
   "id": "d94a3327",
   "metadata": {},
   "source": [
    "Il n'est pas surprenant de constater que chacune des trois issues -1, 0 et 1 est apparue environ 100 fois sur 300, à peu de chose près. Nous examinerons de plus près les quantités \"à prendre ou à laisser\" dans les chapitres suivants."
   ]
  },
  {
   "cell_type": "markdown",
   "id": "e95c4355",
   "metadata": {
    "jp-MarkdownHeadingCollapsed": true
   },
   "source": [
    "### Simulation\n",
    "La simulation consiste à utiliser un ordinateur pour reproduire une expérience physique. Dans ce cours, ces expériences impliqueront presque invariablement le hasard.\n",
    "\n",
    "Nous avons vu comment simuler les résultats d'un jeu de pile ou face. Les étapes de cette simulation étaient des exemples des étapes qui constitueront toutes les simulations que nous ferons dans ce cours. Dans cette section, nous allons définir ces étapes et les suivre dans des exemples."
   ]
  },
  {
   "cell_type": "markdown",
   "id": "6fa654d0-c386-400d-9e54-2e05766f0b54",
   "metadata": {
    "jp-MarkdownHeadingCollapsed": true
   },
   "source": [
    "#### Le processus\n",
    "\n",
    "**Étape 1 : Que simuler ?**\n",
    "\n",
    "Décidez de la quantité que vous souhaitez simuler. Par exemple, vous pouvez décider de simuler les résultats du lancer d'une pièce de monnaie. Chaque valeur simulée correspondra à pile ou à face.\n",
    "\n",
    "**Étape 2 : Simulation d'une valeur**\n",
    "\n",
    "Déterminez comment simuler *une* valeur de la quantité spécifiée à l'étape 1. Dans notre exemple, vous devez déterminer comment simuler le résultat d'*un seul* jeu de pile ou face. Si votre quantité est plus complexe, vous aurez peut-être besoin de plusieurs lignes de code pour obtenir une valeur simulée. Généralement, nous définissons une fonction qui renvoie la valeur simulée.\n",
    "\n",
    "**Étape 3 : Nombre de répétitions**\n",
    "\n",
    "Déterminez le nombre de fois que vous souhaitez simuler la quantité. Vous devrez répéter la simulation de l'étape 2 autant de fois. Dans l'un de nos exemples précédents, nous avions décidé de simuler les résultats de 1000 lancers d'une pièce de monnaie, et nous avions donc besoin de 1000 répétitions pour générer le résultat d'un seul lancer.\n",
    "\n",
    "**Étape 4 : Simulation de valeurs multiples**\n",
    "\n",
    "Enfin, il faut regrouper le tout de la manière suivante.\n",
    "\n",
    "- Créez un tableau vide dans lequel vous rassemblerez toutes les valeurs simulées. Nous l'appellerons le tableau de collecte.\n",
    "- Créez une \"séquence de répétitions\", c'est-à-dire une séquence dont la longueur correspond au nombre de répétitions que vous avez spécifié à l'étape 3. Pour `n` répétitions, nous utiliserons presque toujours la séquence `np.arange(n)`.\n",
    "- Créez une boucle `for`. Pour chaque élément de la séquence de répétitions :\n",
    "    - Simulez *une* valeur en utilisant la fonction que vous avez écrite à l'étape 2.\n",
    "    - Augmentez le tableau de la collection avec cette valeur simulée.\n",
    "    \n",
    "Et voilà ! Une fois que vous avez effectué les étapes ci-dessus, votre simulation est terminée. Le tableau de collection contient toutes les valeurs simulées.\n",
    "\n",
    "À ce stade, vous pouvez utiliser le tableau de collection comme n'importe quel autre tableau. Vous pouvez compter combien de valeurs simulées appartiennent à une catégorie particulière, placer le tableau dans la colonne d'un tableau et visualiser la distribution des valeurs simulées, etc."
   ]
  },
  {
   "cell_type": "markdown",
   "id": "1dee1275",
   "metadata": {
    "jp-MarkdownHeadingCollapsed": true
   },
   "source": [
    "#### Exemple : Nombre de face sur 100 lancers\n",
    "Il est naturel de s'attendre à ce que, sur 100 lancers d'une pièce de monnaie, il y ait 50 faces, à quelques exceptions près.\n",
    "\n",
    "Mais à combien s'élèvent ces \"quelques\" ? Quelle est la probabilité d'obtenir exactement 50 faces ? Les questions de ce type sont importantes en science des données, non seulement parce qu'elles portent sur des aspects intéressants du hasard, mais aussi parce qu'elles peuvent être utilisées pour analyser des expériences dans lesquelles les assignations aux groupes de traitement et de contrôle sont décidées à pile ou face.\n",
    "\n",
    "Dans cet exemple, nous simulerons le nombre de têtes sur 100 lancers d'une pièce de monnaie. L'histogramme de nos résultats nous donnera une idée du nombre de faces probable.\n",
    "\n",
    "Commençons la simulation en suivant les étapes ci-dessus.\n",
    "\n",
    "**Étape 1 : Que simuler ?**\n",
    "\n",
    "La quantité que nous allons simuler est le nombre de face sur 100 lancers.\n",
    "\n",
    "**Étape 2 : Simulation d'une valeur**\n",
    "\n",
    "Nous devons trouver un moyen d'effectuer une série de 100 lancers et de compter le nombre de face. Commençons par créer une pièce de monnaie."
   ]
  },
  {
   "cell_type": "code",
   "execution_count": 2,
   "id": "de89ca2e",
   "metadata": {},
   "outputs": [],
   "source": [
    "coin = make_array('Heads', 'Tails')"
   ]
  },
  {
   "cell_type": "markdown",
   "id": "33a989c8",
   "metadata": {},
   "source": [
    "Dans notre exemple précédent, nous avons utilisé `np.random.choice` et une boucle `for` pour générer plusieurs lancers. Mais les jeux de pile ou face sont si souvent nécessaires en science des données que `np.random.choice` les simule pour nous si nous incluons un second argument qui est le nombre de fois qu'il faut lancer.\n",
    "\n",
    "Voici les résultats de 10 lancers."
   ]
  },
  {
   "cell_type": "code",
   "execution_count": 3,
   "id": "56f484fe",
   "metadata": {},
   "outputs": [
    {
     "data": {
      "text/plain": [
       "array(['Heads', 'Tails', 'Heads', 'Tails', 'Tails', 'Heads', 'Tails',\n",
       "       'Tails', 'Tails', 'Heads'], dtype='<U5')"
      ]
     },
     "execution_count": 3,
     "metadata": {},
     "output_type": "execute_result"
    }
   ],
   "source": [
    "ten_tosses = np.random.choice(coin, 10)\n",
    "ten_tosses"
   ]
  },
  {
   "cell_type": "markdown",
   "id": "a3c4bc3b",
   "metadata": {},
   "source": [
    "Nous pouvons compter le nombre de faces en utilisant `np.count_nonzero` comme précédemment :"
   ]
  },
  {
   "cell_type": "code",
   "execution_count": 4,
   "id": "51ab5623",
   "metadata": {},
   "outputs": [
    {
     "data": {
      "text/plain": [
       "4"
      ]
     },
     "execution_count": 4,
     "metadata": {},
     "output_type": "execute_result"
    }
   ],
   "source": [
    "np.count_nonzero(ten_tosses == 'Heads')"
   ]
  },
  {
   "cell_type": "markdown",
   "id": "54bb3a2b",
   "metadata": {},
   "source": [
    "Notre objectif est de simuler le nombre de faces sur 100 lancers, et non sur 10. Pour ce faire, nous pouvons simplement répéter le même code, en remplaçant 10 par 100."
   ]
  },
  {
   "cell_type": "code",
   "execution_count": 5,
   "id": "1fdb61a6",
   "metadata": {},
   "outputs": [
    {
     "data": {
      "text/plain": [
       "46"
      ]
     },
     "execution_count": 5,
     "metadata": {},
     "output_type": "execute_result"
    }
   ],
   "source": [
    "outcomes = np.random.choice(coin, 100)\n",
    "num_heads = np.count_nonzero(outcomes == 'Heads')\n",
    "num_heads"
   ]
  },
  {
   "cell_type": "markdown",
   "id": "a025e71d",
   "metadata": {},
   "source": [
    "Étant donné que nous devrons effectuer cette opération plusieurs fois, définissons une fonction qui renvoie la valeur simulée du nombre de faces. Nous pouvons le faire en utilisant le code développé dans la cellule ci-dessus."
   ]
  },
  {
   "cell_type": "code",
   "execution_count": 6,
   "id": "c918648d",
   "metadata": {},
   "outputs": [],
   "source": [
    "def one_simulated_value():\n",
    "    outcomes = np.random.choice(coin, 100)\n",
    "    return np.count_nonzero(outcomes == 'Heads')"
   ]
  },
  {
   "cell_type": "markdown",
   "id": "70486255",
   "metadata": {},
   "source": [
    "**Étape 3 : Nombre de répétitions**\n",
    "\n",
    "Le nombre de répétitions est laissé à notre discrétion. Plus nous en utiliserons, plus nos simulations seront fiables, mais plus il faudra de temps pour exécuter le code. Python est assez rapide pour jouer à pile ou face, alors optons pour 20 000 répétitions. Cela signifie que nous allons effectuer les opérations suivantes 20 000 fois :\n",
    "- Lancer une pièce 100 fois et compter le nombre de têtes.\n",
    "\n",
    "Cela fait beaucoup de lancers ! C'est une bonne chose que Python le fasse pour nous.\n",
    "\n",
    "**Étape 4 : Simuler plusieurs valeurs**\n",
    "\n",
    "Nous sommes prêts à créer un tableau de 20 000 valeurs simulées du nombre de faces sur 100 lancers d'une pièce de monnaie."
   ]
  },
  {
   "cell_type": "code",
   "execution_count": 7,
   "id": "8030e7ed",
   "metadata": {},
   "outputs": [],
   "source": [
    "num_repetitions = 20000   # number of repetitions\n",
    "\n",
    "heads = make_array() # empty collection array\n",
    "\n",
    "for i in np.arange(num_repetitions):   # repeat the process num_repetitions times\n",
    "    new_value = one_simulated_value()  # simulate one value using the function defined\n",
    "    heads = np.append(heads, new_value) # augment the collection array with the simulated value\n",
    "\n",
    "# That's it! The simulation is done."
   ]
  },
  {
   "cell_type": "markdown",
   "id": "859de115",
   "metadata": {},
   "source": [
    "Vérifiez que le tableau `heads` contient 20 000 entrées, une pour chaque répétition de l'expérience."
   ]
  },
  {
   "cell_type": "code",
   "execution_count": 8,
   "id": "a6577796",
   "metadata": {},
   "outputs": [
    {
     "data": {
      "text/plain": [
       "20000"
      ]
     },
     "execution_count": 8,
     "metadata": {},
     "output_type": "execute_result"
    }
   ],
   "source": [
    "len(heads)"
   ]
  },
  {
   "cell_type": "markdown",
   "id": "b060c4dc",
   "metadata": {},
   "source": [
    "Pour avoir une idée de la variabilité du nombre de têtes sur 100 lancers, nous pouvons rassembler les résultats dans un tableau et dessiner un histogramme."
   ]
  },
  {
   "cell_type": "code",
   "execution_count": 9,
   "id": "390aa164",
   "metadata": {},
   "outputs": [],
   "source": [
    "simulation_results = Table().with_columns(\n",
    "    'Repetition', np.arange(1, num_repetitions + 1),\n",
    "    'Number of Heads', heads\n",
    ")"
   ]
  },
  {
   "cell_type": "code",
   "execution_count": 10,
   "id": "aacffc90",
   "metadata": {},
   "outputs": [
    {
     "data": {
      "text/html": [
       "<table border=\"1\" class=\"dataframe\">\n",
       "    <thead>\n",
       "        <tr>\n",
       "            <th>Repetition</th> <th>Number of Heads</th>\n",
       "        </tr>\n",
       "    </thead>\n",
       "    <tbody>\n",
       "        <tr>\n",
       "            <td>1         </td> <td>44             </td>\n",
       "        </tr>\n",
       "        <tr>\n",
       "            <td>2         </td> <td>54             </td>\n",
       "        </tr>\n",
       "        <tr>\n",
       "            <td>3         </td> <td>44             </td>\n",
       "        </tr>\n",
       "    </tbody>\n",
       "</table>\n",
       "<p>... (19997 rows omitted)</p>"
      ],
      "text/plain": [
       "<IPython.core.display.HTML object>"
      ]
     },
     "metadata": {},
     "output_type": "display_data"
    }
   ],
   "source": [
    "simulation_results.show(3)"
   ]
  },
  {
   "cell_type": "code",
   "execution_count": 11,
   "id": "49599dae",
   "metadata": {},
   "outputs": [
    {
     "data": {
      "image/png": "[encoded data removed]",
      "text/plain": [
       "<Figure size 432x288 with 1 Axes>"
      ]
     },
     "metadata": {},
     "output_type": "display_data"
    }
   ],
   "source": [
    "simulation_results.hist('Number of Heads', bins = np.arange(30.5, 69.6, 1))"
   ]
  },
  {
   "cell_type": "markdown",
   "id": "d404a71b",
   "metadata": {},
   "source": [
    "Chaque case a une largeur de 1 et est centrée sur chaque valeur du nombre de têtes.\n",
    "\n",
    "Il n'est pas surprenant que l'histogramme soit à peu près symétrique autour de 50 têtes. La hauteur de la barre à 50 têtes est d'environ 8 % par unité. Étant donné que chaque case a une largeur d'une unité, cela revient à dire qu'environ 8 % des répétitions ont produit exactement 50 têtes. Ce n'est pas un pourcentage énorme, mais c'est le plus important comparé au pourcentage pour tous les autres nombres de têtes.\n",
    "\n",
    "L'histogramme montre également que dans la quasi-totalité des répétitions, le nombre de face sur 100 lancers se situe entre 35 et 65. En effet, la plupart des répétitions ont produit des nombres de face compris entre 45 et 55.\n",
    "\n",
    "Si, en théorie, il est *possible* que le nombre de face soit compris entre 0 et 100, la simulation montre que l'éventail des valeurs *probables* est beaucoup plus restreint.\n",
    "\n",
    "Il s'agit d'un exemple d'un phénomène plus général concernant la variabilité du jeu de pile ou face, comme nous le verrons plus tard dans le cours."
   ]
  },
  {
   "cell_type": "markdown",
   "id": "0ca2c53a",
   "metadata": {
    "jp-MarkdownHeadingCollapsed": true
   },
   "source": [
    "#### Exemple : Les coups au Monopoly\n",
    "\n",
    "Dans le jeu du Monopoly, chaque coup est déterminé par le nombre total de points des deux lancers d'un dé. Si vous jouez au Monopoly, à quoi devez-vous vous attendre lorsque vous lancez le dé deux fois ?\n",
    "\n",
    "Nous pouvons étudier cette question en simulant la somme de deux lancers de dé. Nous allons effectuer la simulation 10 000 fois. Notez que dans ce paragraphe, nous avons terminé les étapes 1 et 3 de notre processus de simulation.\n",
    "\n",
    "L'étape 2 est celle où nous écrivons une fonction pour simuler le nombre total de points dans une paire de lancers. Commençons par planifier notre code. Nous allons créer un tableau contenant les nombres 1 à 6, tirer deux fois au hasard dans le tableau avec remplacement, et additionner les deux nombres tirés."
   ]
  },
  {
   "cell_type": "code",
   "execution_count": 12,
   "id": "9f3e28ef",
   "metadata": {},
   "outputs": [
    {
     "data": {
      "text/plain": [
       "7"
      ]
     },
     "execution_count": 12,
     "metadata": {},
     "output_type": "execute_result"
    }
   ],
   "source": [
    "die = np.arange(1, 7)\n",
    "sum(np.random.choice(die, 2))"
   ]
  },
  {
   "cell_type": "markdown",
   "id": "a05fe8f5",
   "metadata": {},
   "source": [
    "Nous pouvons utiliser le tableau `die` et l'expression ci-dessus pour définir une fonction qui simule un coup au Monopoly."
   ]
  },
  {
   "cell_type": "code",
   "execution_count": 13,
   "id": "2db59d33",
   "metadata": {},
   "outputs": [],
   "source": [
    "def one_simulated_move():\n",
    "    return sum(np.random.choice(die, 2))"
   ]
  },
  {
   "cell_type": "markdown",
   "id": "2c0a3cad",
   "metadata": {},
   "source": [
    "Nous pouvons maintenant créer un tableau de 10000 coups de Monopoly simulés, en commençant par un tableau de collection vide et en l'augmentant de chaque nouveau coup simulé."
   ]
  },
  {
   "cell_type": "code",
   "execution_count": 14,
   "id": "977bec14",
   "metadata": {},
   "outputs": [],
   "source": [
    "num_repetitions = 10000\n",
    "\n",
    "moves = make_array()\n",
    "for i in np.arange(num_repetitions):\n",
    "    new_move = one_simulated_move()\n",
    "    moves = np.append(moves, new_move)"
   ]
  },
  {
   "cell_type": "markdown",
   "id": "99b37422",
   "metadata": {},
   "source": [
    "Voici un histogramme des résultats."
   ]
  },
  {
   "cell_type": "code",
   "execution_count": 15,
   "id": "a6963d91",
   "metadata": {},
   "outputs": [
    {
     "data": {
      "image/png": "[encoded data removed]",
      "text/plain": [
       "<Figure size 432x288 with 1 Axes>"
      ]
     },
     "metadata": {},
     "output_type": "display_data"
    }
   ],
   "source": [
    "results = Table().with_columns(\n",
    "    'Repetition', np.arange(1, num_repetitions + 1),\n",
    "    'Sum of Two Rolls', moves\n",
    ")\n",
    "\n",
    "results.hist('Sum of Two Rolls', bins = np.arange(1.5, 12.6, 1))"
   ]
  },
  {
   "cell_type": "markdown",
   "id": "678423b9",
   "metadata": {},
   "source": [
    "Sept est la valeur la plus courante, les fréquences diminuant symétriquement de part et d'autre."
   ]
  },
  {
   "cell_type": "markdown",
   "id": "4574e6c3-c98f-43ed-8255-b5bdc0c6f504",
   "metadata": {
    "jp-MarkdownHeadingCollapsed": true
   },
   "source": [
    "## 3. Probabilité (facultatif)"
   ]
  },
  {
   "cell_type": "markdown",
   "id": "ec645c8e-18e2-4876-9004-ad572f88dab9",
   "metadata": {
    "jp-MarkdownHeadingCollapsed": true
   },
   "source": [
    "### Trouver des probabilités par simulation : Le problème de Monty Hall"
   ]
  },
  {
   "cell_type": "markdown",
   "id": "f73d933d",
   "metadata": {
    "jp-MarkdownHeadingCollapsed": true
   },
   "source": [
    "Ce [problème](https://en.wikipedia.org/wiki/Monty_Hall_problem) a déconcerté de nombreuses personnes au fil des ans, [y compris les mathématiciens](https://web.archive.org/web/20140413131827/http://www.decisionsciences.org/DecisionLine/Vol30/30_1/vazs30_1.pdf). Voyons si nous pouvons le résoudre par simulation.\n",
    "\n",
    "Le cadre est dérivé d'un jeu télévisé appelé \"Let's Make a Deal\". Monty Hall a animé cette émission dans les années 1960, et elle a depuis donné lieu à un certain nombre d'émissions dérivées. L'un des aspects passionnants de l'émission était que les candidats avaient la possibilité de gagner des prix importants, mais qu'ils pouvaient aussi se retrouver avec des prix sans valeurs ou indésirables. C'est la base de ce que l'on appelle aujourd'hui \"le problème de Monty Hall\".\n",
    "\n",
    "Il s'agit d'un jeu télévisé dans lequel le candidat est confronté à trois portes fermées. Derrière l'une des portes se trouve une voiture de luxe, et derrière chacune des deux autres se trouve une chèvre. Le candidat ne sait pas où se trouve la voiture et doit essayer de la trouver en suivant les règles suivantes.\n",
    "\n",
    "- Le candidat fait un premier choix, mais cette porte n'est pas ouverte.\n",
    "- Au moins une des deux autres portes doit avoir une chèvre derrière elle. Monty ouvre l'une de ces portes pour révéler une chèvre, exposée dans toute sa gloire dans [Wikipedia](https://en.wikipedia.org/wiki/Monty_Hall_problem) :\n",
    "\n",
    "![Chèvre de Monty Hall](images/monty_hall_goat.png)\n",
    "\n",
    "- Il reste deux portes, dont l'une était le choix initial du candidat. L'une des portes a la voiture derrière elle, et l'autre a une chèvre. Le candidat doit maintenant choisir laquelle des deux portes il veut ouvrir.\n",
    "\n",
    "Le candidat doit prendre une décision. Quelle porte doit-elle choisir d'ouvrir si elle veut la voiture ? Doit-elle s'en tenir à son choix initial ou passer à l'autre porte ? C'est le problème de Monty Hall."
   ]
  },
  {
   "cell_type": "markdown",
   "id": "1094228a",
   "metadata": {
    "jp-MarkdownHeadingCollapsed": true
   },
   "source": [
    "#### La solution\n",
    "\n",
    "Dans tout problème impliquant des chances, les hypothèses sur le hasard sont importantes. Il est raisonnable de supposer qu'il y a un tiers de chances que le choix initial du candidat soit la porte derrière laquelle se trouve la voiture.\n",
    "\n",
    "La solution du problème est assez simple sous cette hypothèse, même si elle ne convainc pas tout le monde. La voici tout de même.\n",
    "\n",
    "- La probabilité que la voiture se trouve derrière la porte initialement choisie est de 1/3.\n",
    "- La voiture se trouve soit derrière la porte initialement choisie, soit derrière la porte restante. Elle ne peut pas être ailleurs.\n",
    "- Par conséquent, la probabilité que la voiture soit derrière la porte restante est de 2/3.\n",
    "- Par conséquent, le candidat doit changer de porte.\n",
    "\n",
    "C'est tout. Fin de l'histoire.\n",
    "\n",
    "Vous n'êtes pas convaincu ? Alors simulons le jeu et voyons ce que cela donne."
   ]
  },
  {
   "cell_type": "markdown",
   "id": "7316eb78",
   "metadata": {
    "jp-MarkdownHeadingCollapsed": true
   },
   "source": [
    "#### Simulation\n",
    "La simulation sera plus complexe que celles que nous avons réalisées jusqu'à présent. Décomposons-la.\n",
    "\n",
    "**Étape 1 : Que simuler ?\n",
    "\n",
    "Pour chaque jeu, nous simulerons ce qui se trouve derrière les trois portes :\n",
    "- celle que le candidat choisit en premier\n",
    "- celle que Monty ouvre\n",
    "- la porte restante\n",
    "\n",
    "Nous suivrons donc trois quantités, et non une seule."
   ]
  },
  {
   "cell_type": "markdown",
   "id": "9088d5c4",
   "metadata": {},
   "source": [
    "**Étape 2 : Simulation d'un jeu**\n",
    "\n",
    "Comme c'est souvent le cas dans la simulation d'un jeu, le gros du travail consiste à simuler une partie du jeu. Cela implique plusieurs éléments.\n",
    "\n",
    "**Nous commençons par mettre en place un tableau `goats` qui contient des noms peu imaginatifs pour les deux chèvres.**"
   ]
  },
  {
   "cell_type": "code",
   "execution_count": 2,
   "id": "a67814cd",
   "metadata": {},
   "outputs": [],
   "source": [
    "goats = make_array('first goat', 'second goat')"
   ]
  },
  {
   "cell_type": "markdown",
   "id": "acf7edc5",
   "metadata": {},
   "source": [
    "Pour aider Monty à mener le jeu, nous allons devoir identifier quelle chèvre est sélectionnée et laquelle est révélée derrière la porte ouverte. La fonction `autre_chèvre` prend une chèvre et renvoie l'autre."
   ]
  },
  {
   "cell_type": "code",
   "execution_count": 3,
   "id": "4c130549",
   "metadata": {},
   "outputs": [],
   "source": [
    "def other_goat(x):\n",
    "    if x == 'first goat':\n",
    "        return 'second goat'\n",
    "    elif x == 'second goat':\n",
    "        return 'first goat'"
   ]
  },
  {
   "cell_type": "code",
   "execution_count": 4,
   "id": "92a0e587",
   "metadata": {},
   "outputs": [
    {
     "data": {
      "text/plain": [
       "('second goat', 'first goat', None)"
      ]
     },
     "execution_count": 4,
     "metadata": {},
     "output_type": "execute_result"
    }
   ],
   "source": [
    "other_goat('first goat'), other_goat('second goat'), other_goat('watermelon')"
   ]
  },
  {
   "cell_type": "markdown",
   "id": "8072ac32",
   "metadata": {},
   "source": [
    "La chaîne `watermelon` n'est pas le nom d'une des chèvres, donc quand `watermelon` est l'entrée, alors `other_goat` ne fait rien."
   ]
  },
  {
   "cell_type": "markdown",
   "id": "3f0ef942",
   "metadata": {},
   "source": [
    "**Les options:** Le tableau `hidden_behind_doors` contient les trois choses qui sont\n",
    "derrière les portes."
   ]
  },
  {
   "cell_type": "code",
   "execution_count": 5,
   "id": "78318b6f",
   "metadata": {},
   "outputs": [
    {
     "data": {
      "text/plain": [
       "array(['first goat', 'second goat', 'car'], dtype='<U11')"
      ]
     },
     "execution_count": 5,
     "metadata": {},
     "output_type": "execute_result"
    }
   ],
   "source": [
    "hidden_behind_doors = np.append(goats, 'car')\n",
    "hidden_behind_doors"
   ]
  },
  {
   "cell_type": "markdown",
   "id": "acc6cb36",
   "metadata": {},
   "source": [
    "Nous sommes maintenant prêts à simuler une partie. Pour ce faire, nous allons définir une fonction `monty_hall_game` qui ne prend aucun argument. Lorsque la fonction est appelée, elle joue le jeu de Monty une fois et retourne une liste composée de :\n",
    "\n",
    "- la supposition du candidat\n",
    "- ce que Monty révèle lorsqu'il ouvre une porte\n",
    "- ce qui reste derrière l'autre porte\n",
    "\n",
    "Le jeu commence par le choix d'une porte au hasard par le participant. Ce faisant, il fait un choix aléatoire parmi la première chèvre, la deuxième chèvre et la voiture.\n",
    "\n",
    "Si le participant choisit l'une des chèvres, l'autre chèvre est révélée et la voiture se trouve derrière la porte restante.\n",
    "\n",
    "Si le participant choisit la voiture, Monty révèle l'une des chèvres et l'autre chèvre se trouve derrière la porte restante."
   ]
  },
  {
   "cell_type": "code",
   "execution_count": 6,
   "id": "10d6aff3",
   "metadata": {},
   "outputs": [],
   "source": [
    "def monty_hall_game():\n",
    "    \"\"\"Return \n",
    "    [contestant's guess, what Monty reveals, what remains behind the other door]\"\"\"\n",
    "    \n",
    "    contestant_guess = np.random.choice(hidden_behind_doors)\n",
    "    \n",
    "    if contestant_guess == 'first goat':\n",
    "        return [contestant_guess, 'second goat', 'car']\n",
    "    \n",
    "    if contestant_guess == 'second goat':\n",
    "        return [contestant_guess, 'first goat', 'car']\n",
    "    \n",
    "    if contestant_guess == 'car':\n",
    "        revealed = np.random.choice(goats)\n",
    "        return [contestant_guess, revealed, other_goat(revealed)]"
   ]
  },
  {
   "cell_type": "markdown",
   "id": "b1794de7",
   "metadata": {},
   "source": [
    "Jouons ! Exécutez la cellule plusieurs fois et voyez comment les résultats changent."
   ]
  },
  {
   "cell_type": "code",
   "execution_count": 7,
   "id": "45df1b86",
   "metadata": {},
   "outputs": [
    {
     "data": {
      "text/plain": [
       "['car', 'first goat', 'second goat']"
      ]
     },
     "execution_count": 7,
     "metadata": {},
     "output_type": "execute_result"
    }
   ],
   "source": [
    "monty_hall_game()"
   ]
  },
  {
   "cell_type": "markdown",
   "id": "d9da1fed",
   "metadata": {},
   "source": [
    "**Étape 3 : Nombre de répétitions**\n",
    "\n",
    "Pour évaluer la fréquence à laquelle les différents résultats se produisent, nous devons jouer le jeu plusieurs fois et collecter les résultats. Effectuons 10 000 répétitions.\n",
    "\n",
    "**Étape 4 : Simulation de plusieurs répétitions**\n",
    "\n",
    "Il est temps d'effectuer la simulation complète. Mais contrairement à nos simulations précédentes dans lesquelles chaque simulation produisait une seule valeur, dans cet exemple, nous simulons une liste de trois valeurs à chaque fois.\n",
    "\n",
    "Nous traiterons cette liste simulée comme une ligne d'un tableau. Ainsi, au lieu de commencer par un array numpy vide et de l'enrichir à chaque nouvelle valeur simulée, nous commencerons par un tableau vide et l'enrichirons à chaque nouvelle valeur simulée. Chaque ligne contiendra le résultat complet d'une partie.\n",
    "\n",
    "Une façon d'augmenter un tableau en ajoutant une nouvelle ligne est d'utiliser la méthode `append`. Si `my_table` est une table et que `new_row` est une liste contenant les entrées d'une nouvelle ligne, alors `my_table.append(new_row)` ajoute la nouvelle ligne au bas de `my_table`.\n",
    "\n",
    "Notez que `append` ne crée pas une nouvelle table. Il modifie `my_table` pour qu'il ait une ligne de plus qu'auparavant."
   ]
  },
  {
   "cell_type": "markdown",
   "id": "582fdb81",
   "metadata": {},
   "source": [
    "Nous allons commencer avec une table de collection `games` qui a trois colonnes vides. Nous pouvons le faire en spécifiant simplement une liste de libellés de colonnes dans le même ordre que celui dans lequel `monty_hall_game` renvoie le résultat d'un jeu.\n",
    "\n",
    "Maintenant, nous pouvons ajouter 10 000 lignes à `games`. Chaque ligne représentera le résultat d'une partie du jeu de Monty."
   ]
  },
  {
   "cell_type": "code",
   "execution_count": 8,
   "id": "b493954e",
   "metadata": {},
   "outputs": [],
   "source": [
    "# empty collection table\n",
    "games = Table(['Guess', 'Revealed', 'Remaining'])\n",
    "\n",
    "# Play the game 10000 times and \n",
    "# record the results in the table games\n",
    "\n",
    "for i in np.arange(10000):\n",
    "    games.append(monty_hall_game())"
   ]
  },
  {
   "cell_type": "markdown",
   "id": "a5314b17",
   "metadata": {},
   "source": [
    "La simulation est terminée. Remarquez la brièveté du code. La majeure partie du travail a consisté à simuler le résultat d'un seul match."
   ]
  },
  {
   "cell_type": "code",
   "execution_count": 9,
   "id": "0dbcf2dc",
   "metadata": {},
   "outputs": [
    {
     "data": {
      "text/html": [
       "<table border=\"1\" class=\"dataframe\">\n",
       "    <thead>\n",
       "        <tr>\n",
       "            <th>Guess</th> <th>Revealed</th> <th>Remaining</th>\n",
       "        </tr>\n",
       "    </thead>\n",
       "    <tbody>\n",
       "        <tr>\n",
       "            <td>first goat</td> <td>second goat</td> <td>car        </td>\n",
       "        </tr>\n",
       "        <tr>\n",
       "            <td>first goat</td> <td>second goat</td> <td>car        </td>\n",
       "        </tr>\n",
       "        <tr>\n",
       "            <td>car       </td> <td>first goat </td> <td>second goat</td>\n",
       "        </tr>\n",
       "    </tbody>\n",
       "</table>\n",
       "<p>... (9997 rows omitted)</p>"
      ],
      "text/plain": [
       "<IPython.core.display.HTML object>"
      ]
     },
     "metadata": {},
     "output_type": "display_data"
    }
   ],
   "source": [
    "games.show(3)"
   ]
  },
  {
   "cell_type": "markdown",
   "id": "ebedceec",
   "metadata": {},
   "source": [
    "#### Visualisation\n",
    "\n",
    "Pour savoir si le/la candidat(e) doit s'en tenir à son choix initial ou changer, voyons à quelle fréquence la voiture se trouve derrière chacune de ses deux options.\n",
    "\n",
    "Il n'est pas surprenant que les trois portes apparaissent à peu près aussi souvent que le choix initial de le/la candidat(e)."
   ]
  },
  {
   "cell_type": "code",
   "execution_count": 10,
   "id": "6d3aeaca",
   "metadata": {},
   "outputs": [
    {
     "data": {
      "text/html": [
       "<table border=\"1\" class=\"dataframe\">\n",
       "    <thead>\n",
       "        <tr>\n",
       "            <th>Guess</th> <th>count</th>\n",
       "        </tr>\n",
       "    </thead>\n",
       "    <tbody>\n",
       "        <tr>\n",
       "            <td>car        </td> <td>3319 </td>\n",
       "        </tr>\n",
       "        <tr>\n",
       "            <td>first goat </td> <td>3311 </td>\n",
       "        </tr>\n",
       "        <tr>\n",
       "            <td>second goat</td> <td>3370 </td>\n",
       "        </tr>\n",
       "    </tbody>\n",
       "</table>"
      ],
      "text/plain": [
       "Guess       | count\n",
       "car         | 3319\n",
       "first goat  | 3311\n",
       "second goat | 3370"
      ]
     },
     "execution_count": 10,
     "metadata": {},
     "output_type": "execute_result"
    }
   ],
   "source": [
    "original_choice = games.group('Guess')\n",
    "original_choice"
   ]
  },
  {
   "cell_type": "markdown",
   "id": "3bc39c0d",
   "metadata": {},
   "source": [
    "Une fois que Monty a éliminé une chèvre, combien de fois la voiture se trouve-t-elle derrière la porte restante ?"
   ]
  },
  {
   "cell_type": "code",
   "execution_count": 11,
   "id": "1278668f",
   "metadata": {},
   "outputs": [
    {
     "data": {
      "text/html": [
       "<table border=\"1\" class=\"dataframe\">\n",
       "    <thead>\n",
       "        <tr>\n",
       "            <th>Remaining</th> <th>count</th>\n",
       "        </tr>\n",
       "    </thead>\n",
       "    <tbody>\n",
       "        <tr>\n",
       "            <td>car        </td> <td>6681 </td>\n",
       "        </tr>\n",
       "        <tr>\n",
       "            <td>first goat </td> <td>1676 </td>\n",
       "        </tr>\n",
       "        <tr>\n",
       "            <td>second goat</td> <td>1643 </td>\n",
       "        </tr>\n",
       "    </tbody>\n",
       "</table>"
      ],
      "text/plain": [
       "Remaining   | count\n",
       "car         | 6681\n",
       "first goat  | 1676\n",
       "second goat | 1643"
      ]
     },
     "execution_count": 11,
     "metadata": {},
     "output_type": "execute_result"
    }
   ],
   "source": [
    "remaining_door = games.group('Remaining')\n",
    "remaining_door"
   ]
  },
  {
   "cell_type": "markdown",
   "id": "853f2216",
   "metadata": {},
   "source": [
    "Comme l'indiquait notre solution précédente, la voiture se trouve derrière la porte restante les deux tiers du temps, ce qui constitue une bonne approximation. Le/la candidat(e) a deux fois plus de chances d'obtenir la voiture s'il change de porte que s'il s'en tient à son choix initial.\n",
    "\n",
    "Pour visualiser ce phénomène graphiquement, nous pouvons joindre les deux tableaux ci-dessus et tracer des diagrammes à barres superposés."
   ]
  },
  {
   "cell_type": "code",
   "execution_count": 12,
   "id": "91a1ca37",
   "metadata": {},
   "outputs": [
    {
     "data": {
      "text/html": [
       "<table border=\"1\" class=\"dataframe\">\n",
       "    <thead>\n",
       "        <tr>\n",
       "            <th>Item</th> <th>Original Door</th> <th>Remaining Door</th>\n",
       "        </tr>\n",
       "    </thead>\n",
       "    <tbody>\n",
       "        <tr>\n",
       "            <td>car        </td> <td>3319         </td> <td>6681          </td>\n",
       "        </tr>\n",
       "        <tr>\n",
       "            <td>first goat </td> <td>3311         </td> <td>1676          </td>\n",
       "        </tr>\n",
       "        <tr>\n",
       "            <td>second goat</td> <td>3370         </td> <td>1643          </td>\n",
       "        </tr>\n",
       "    </tbody>\n",
       "</table>"
      ],
      "text/plain": [
       "Item        | Original Door | Remaining Door\n",
       "car         | 3319          | 6681\n",
       "first goat  | 3311          | 1676\n",
       "second goat | 3370          | 1643"
      ]
     },
     "execution_count": 12,
     "metadata": {},
     "output_type": "execute_result"
    }
   ],
   "source": [
    "joined = original_choice.join('Guess', remaining_door, 'Remaining')\n",
    "combined = joined.relabeled(0, 'Item').relabeled(1, 'Original Door').relabeled(2, 'Remaining Door')\n",
    "combined"
   ]
  },
  {
   "cell_type": "code",
   "execution_count": 13,
   "id": "dbe9884d",
   "metadata": {},
   "outputs": [
    {
     "data": {
      "image/png": "[encoded data removed]",
      "text/plain": [
       "<Figure size 432x288 with 1 Axes>"
      ]
     },
     "metadata": {},
     "output_type": "display_data"
    }
   ],
   "source": [
    "combined.barh(0)"
   ]
  },
  {
   "cell_type": "markdown",
   "id": "1f1cbf80",
   "metadata": {},
   "source": [
    "Remarquez que les trois barres bleues sont presque égales - le choix initial a la même probabilité d'être n'importe lequel des trois éléments disponibles. Mais la barre dorée correspondant à la \"voiture\" est deux fois plus longue que la barre bleue.\n",
    "\n",
    "La simulation confirme que la candidate a deux fois plus de chances de gagner si elle change de choix."
   ]
  },
  {
   "cell_type": "markdown",
   "id": "380d91af",
   "metadata": {
    "jp-MarkdownHeadingCollapsed": true
   },
   "source": [
    "### Trouver des probabilités grâce aux mathématiques\n",
    "Au cours des siècles, la définition des probabilités a fait l'objet d'un débat philosophique considérable. Certains pensent que les probabilités sont des fréquences relatives ; d'autres pensent qu'il s'agit de fréquences relatives à long terme ; d'autres encore pensent que les probabilités sont une mesure subjective de leur propre degré d'incertitude.\n",
    "\n",
    "Dans ce cours, la plupart des probabilités seront des fréquences relatives, même si beaucoup d'entre elles auront des interprétations subjectives. Quoi qu'il en soit, les méthodes de calcul et de combinaison des probabilités sont cohérentes entre les différentes interprétations.\n",
    "\n",
    "Par convention, les probabilités sont des nombres compris entre 0 et 1, ou, de manière équivalente, entre 0 et 100 %. Les événements impossibles ont une probabilité de 0. Les événements certains ont une probabilité de 1.\n",
    "\n",
    "Les mathématiques sont le principal outil permettant de déterminer les probabilités avec précision, bien que les ordinateurs soient également utiles à cette fin. La simulation peut fournir d'excellentes approximations, avec une probabilité élevée. Dans cette section, nous développerons de manière informelle quelques règles simples qui régissent le calcul des probabilités. Dans les sections suivantes, nous reviendrons aux simulations pour calculer approximativement les probabilités d'événements complexes.\n",
    "\n",
    "Nous utiliserons la notation standard $P(\\mbox{événement})$ pour désigner la probabilité que \"l'événement\" se produise, et nous utiliserons indifféremment les mots \"hasard\" et \"probabilité\"."
   ]
  },
  {
   "cell_type": "markdown",
   "id": "c8105cc3",
   "metadata": {},
   "source": [
    "#### Lorsqu'un événement ne se produit pas\n",
    "Si la probabilité qu'un événement se produise est de 40 %, alors la probabilité qu'il ne se produise pas est de 60 %. Ce calcul naturel peut être décrit de manière générale comme suit :\n",
    "\n",
    "$$\n",
    "P(\\mbox{un événement ne se produit pas}) ~=~ 1 - P(\\mbox{l'événement se produit})\n",
    "$$"
   ]
  },
  {
   "cell_type": "markdown",
   "id": "56bce1b3",
   "metadata": {},
   "source": [
    "#### Lorsque tous les résultats sont également probables\n",
    "Si vous lancez un dé ordinaire, l'hypothèse naturelle est que les six faces ont la même probabilité. Dans cette hypothèse, les probabilités de résultat d'un lancer peuvent être facilement calculées sous forme de ratio. Par exemple, la probabilité que le dé donne un nombre pair est de\n",
    "\n",
    "$$\n",
    "\\frac{\\mbox{nombre de faces paires}}{\\mbox{nombre de toutes les faces}}\n",
    "~=~ \\frac{\\#\\N- 2, 4, 6\\N}}{\\#\\N- 1, 2, 3, 4, 5, 6\\N}}\n",
    "~=~ \\frac{3}{6}\n",
    "$$\n",
    "\n",
    "De même,\n",
    "\n",
    "$$\n",
    "P(\\mbox{die montre un multiple de 3}) ~=~\n",
    "\\frac{\\N-{3, 6}}{\\N-{1, 2, 3, 4, 5, 6}}\n",
    "~=~ \\frac{2}{6}\n",
    "$$"
   ]
  },
  {
   "cell_type": "markdown",
   "id": "01b0d6c5",
   "metadata": {},
   "source": [
    "En général, **si tous les résultats sont également probables**,\n",
    "\n",
    "$$\n",
    "P(\\mbox{un événement se produit}) ~=~\n",
    "\\frac{\\\\N-{\\N-{\\N-{\\N-{\\N-{\\N-{\\N-{\\N-{\\N-{\\N-{\\N}}})\n",
    "{\\#\\{\\mbox{tous les résultats}\\}}\n",
    "$$"
   ]
  },
  {
   "cell_type": "markdown",
   "id": "c33c4021",
   "metadata": {},
   "source": [
    "Tous les phénomènes aléatoires ne sont pas aussi simples qu'un lancer de dé. Les deux principales règles de probabilité, développées ci-dessous, permettent aux mathématiciens de trouver des probabilités même dans des situations complexes."
   ]
  },
  {
   "cell_type": "markdown",
   "id": "26da97cf",
   "metadata": {},
   "source": [
    "#### Lorsque deux événements doivent se produire tous les deux\n",
    "Supposons que vous disposiez d'une boîte contenant trois billets : un rouge, un bleu et un vert. Supposons que vous tiriez deux billets au hasard sans remplacement, c'est-à-dire que vous mélangez les trois billets, en tiriez un, mélangiez les deux restants et en tiriez un autre parmi ces deux billets. Quelle est la probabilité que vous obteniez d'abord le billet vert, puis le billet rouge ?\n",
    "\n",
    "Il y a six paires de couleurs possibles : RB, BR, RG, GR, BG, GB (nous avons abrégé le nom de chaque couleur à sa première lettre). Toutes ces paires sont également probables d'après le plan d'échantillonnage, et seule l'une d'entre elles (GR) permet à l'événement de se produire. En d'autres termes\n",
    "\n",
    "$$\n",
    "P(\\mbox{vert d'abord, puis rouge}) ~=~\n",
    "\\frac{\\{\\mbox{GR}\\}}{\\#\\{\\mbox{RB, BR, RG, GR, BG, GB}\\}} ~=~ \\frac{1}{6}\n",
    "$$"
   ]
  },
  {
   "cell_type": "markdown",
   "id": "ff8b0529",
   "metadata": {},
   "source": [
    "Mais il y a une autre façon d'arriver à la réponse, en pensant à l'événement en deux étapes. Tout d'abord, le billet vert doit être tiré au sort. Cette chance est de $1/3$, ce qui signifie que le billet vert est tiré en premier dans environ $1/3$ de toutes les répétitions de l'expérience. Mais l'événement n'est pas terminé pour autant. *Parmi le tiers des répétitions où le billet vert est tiré en premier*, le billet rouge doit être tiré ensuite. Cela se produit dans environ $1/2$ de ces répétitions, et ainsi de suite :\n",
    "\n",
    "$$\n",
    "P(\\mbox{vert d'abord, puis rouge}) ~=~ \\frac{1}{2} ~\\mbox{of}~ \\frac{1}{3}\n",
    "~=~ \\frac{1}{6}\n",
    "$$\n",
    "\n",
    "Ce calcul est généralement écrit \"dans l'ordre chronologique\", comme suit.\n",
    "\n",
    "$$\n",
    "P(\\mbox{vert d'abord, puis rouge}) ~=~ \\frac{1}{3} ~\\times~ \\frac{1}{2}\n",
    "~=~ \\frac{1}{6}\n",
    "$$"
   ]
  },
  {
   "cell_type": "markdown",
   "id": "39ddfe68",
   "metadata": {},
   "source": [
    "Le facteur $1/2$ est appelé \"la probabilité conditionnelle que le ticket rouge apparaisse en second, étant donné que le ticket vert est apparu en premier\".\n",
    "\n",
    "En général, nous avons la **règle de multiplication** :\n",
    "\n",
    "$$\n",
    "P(\\mbox{deux événements se produisent tous les deux})\n",
    "~=~ P(\\mbox{un événement se produit}) \\times\n",
    "P(\\mbox{l'autre événement se produit, étant donné que le premier s'est produit})\n",
    "$$\n",
    "\n",
    "Ainsi, lorsqu'il y a deux conditions - un événement doit se produire, ainsi qu'un autre - la probabilité est *une fraction d'une fraction*, qui est plus petite que l'une ou l'autre des deux fractions composantes. Plus il y a de conditions à remplir, moins il y a de chances qu'elles soient toutes remplies."
   ]
  },
  {
   "cell_type": "markdown",
   "id": "aa0a6f86",
   "metadata": {},
   "source": [
    "#### Lorsqu'un événement peut se produire de deux manières différentes\n",
    "Supposons plutôt que nous voulions connaître la probabilité que l'un des deux billets soit vert et l'autre rouge. Cet événement ne précise pas l'ordre dans lequel les couleurs doivent apparaître. Elles peuvent donc apparaître dans n'importe quel ordre.\n",
    "\n",
    "Une bonne façon d'aborder ce genre de problème est de *partitionner* l'événement de façon à ce qu'il puisse se produire exactement de l'une des différentes façons. La partition naturelle de \"un vert et un rouge\" est : GR, RG.\n",
    "\n",
    "Chacune de ces deux possibilités a une chance de $1/6$ selon le calcul ci-dessus. Vous pouvez donc calculer la probabilité de \"un vert et un rouge\" en les additionnant.\n",
    "\n",
    "$$\n",
    "P(\\mbox{un vert et un rouge}) ~=~ P(\\mbox{GR}) + P(\\mbox{RG}) ~=~\n",
    "\\frac{1}{6} + \\frac{1}{6} ~=~ \\frac{2}{6}\n",
    "$$\n",
    "\n",
    "En général, nous avons la **règle de l'addition** :\n",
    "\n",
    "$$\n",
    "P(\\mbox{un événement se produit}) ~=~\n",
    "P(\\mbox{première façon dont il peut se produire}) + P(\\mbox{deuxième façon dont il peut se produire}) ~~~\n",
    "\\mbox{}\n",
    "$$\n",
    "\n",
    "à condition que l'événement se produise exactement de l'une des deux façons.\n",
    "\n",
    "Ainsi, lorsqu'un événement peut se produire de deux manières différentes, la chance qu'il se produise est une somme de chances, et donc plus grande que la chance de l'une ou l'autre des manières individuelles."
   ]
  },
  {
   "cell_type": "markdown",
   "id": "b30b68fc",
   "metadata": {},
   "source": [
    "La règle de multiplication s'étend naturellement à plus de deux événements, comme nous le verrons plus loin. De même, la règle de l'addition s'étend naturellement aux événements qui peuvent se produire de plusieurs manières différentes.\n",
    "\n",
    "Nous terminons cette section par des exemples qui utilisent des combinaisons de toutes ces règles."
   ]
  },
  {
   "cell_type": "markdown",
   "id": "b2d1ebd1",
   "metadata": {},
   "source": [
    "#### Au moins une réussite\n",
    "Les scientifiques des données travaillent souvent avec des échantillons aléatoires de populations. Une question qui se pose parfois concerne la probabilité qu'un individu particulier de la population soit sélectionné pour faire partie de l'échantillon. Pour calculer cette probabilité, cet individu est appelé \"succès\" et le problème consiste à trouver la probabilité que l'échantillon contienne un succès.\n",
    "\n",
    "Pour voir comment ces chances peuvent être calculées, nous commençons par une situation plus simple : tirer deux fois à pile ou face.\n",
    "\n",
    "Si vous jouez deux fois à pile ou face, il y a quatre résultats également probables : HH, HT, TH et TT. Nous avons abrégé \"Pile\" en H et \"Face\" en T. La probabilité d'obtenir au moins un face en deux lancers est donc de 3/4.\n",
    "\n",
    "Une autre façon d'obtenir cette réponse est de déterminer ce qui se passe si vous n'obtenez pas au moins un face. C'est le cas lorsque les deux lancers aboutissent à pile ou face. Dans ce cas\n",
    "\n",
    "$$\n",
    "P(\\mbox{au moins une face sur deux lancers}) ~=~ 1 - P(\\mbox{deux piles}) ~=~ 1 - \\frac{1}{4}\n",
    "~=~ \\frac{3}{4}\n",
    "$$\n",
    "\n",
    "Remarquez également que\n",
    "\n",
    "$$\n",
    "P(\\mbox{deux piles}) ~=~ \\frac{1}{4} ~=~ \\frac{1}{2} \\cdot \\frac{1}{2} ~=~ \\left(\\frac{1}{2}\\right)^2\n",
    "$$\n",
    "par la règle de multiplication.\n",
    "\n",
    "Ces deux observations nous permettent de déterminer la probabilité qu'il y ait au moins une face pour un nombre donné de lancers. Par exemple,\n",
    "\n",
    "$$\n",
    "P(\\mbox{au moins une face sur 17 lancers}) ~=~ 1 - P(\\mbox{tous les 17 sont des piles})\n",
    "~=~ 1 - \\left(\\frac{1}{2}\\right)^{17}\n",
    "$$\n",
    "\n",
    "Nous sommes maintenant en mesure de déterminer la probabilité que la face à six points apparaisse au moins une fois lors d'un lancer de dé.\n",
    "\n",
    "Par exemple,\n",
    "\n",
    "$$\n",
    "P(\\mbox{un seul lancer n'est pas 6}) ~=~ 1 - P(6)\n",
    "~=~ \\frac{5}{6}\n",
    "$$\n",
    "\n",
    "Donc,\n",
    "\n",
    "$$\n",
    "P(\\mbox{au moins un 6 dans deux rouleaux}) ~=~ 1 - P(\\mbox{les deux rouleaux ne sont pas 6})\n",
    "~=~ 1 - \\left(\\frac{5}{6}\\right)^2\n",
    "$$\n",
    "\n",
    "et\n",
    "\n",
    "$$\n",
    "P(\\mbox{au moins un 6 sur 17 lancers})\n",
    "~=~ 1 - \\left(\\frac{5}{6}\\right)^{17}\n",
    "$$\n",
    "\n",
    "Le tableau ci-dessous présente ces probabilités lorsque le nombre de lancers augmente de 1 à 50."
   ]
  },
  {
   "cell_type": "code",
   "execution_count": 2,
   "id": "43cb4e57",
   "metadata": {},
   "outputs": [
    {
     "data": {
      "text/html": [
       "<table border=\"1\" class=\"dataframe\">\n",
       "    <thead>\n",
       "        <tr>\n",
       "            <th>Rolls</th> <th>Chance of at least one 6</th>\n",
       "        </tr>\n",
       "    </thead>\n",
       "    <tbody>\n",
       "        <tr>\n",
       "            <td>1    </td> <td>0.166667                </td>\n",
       "        </tr>\n",
       "        <tr>\n",
       "            <td>2    </td> <td>0.305556                </td>\n",
       "        </tr>\n",
       "        <tr>\n",
       "            <td>3    </td> <td>0.421296                </td>\n",
       "        </tr>\n",
       "        <tr>\n",
       "            <td>4    </td> <td>0.517747                </td>\n",
       "        </tr>\n",
       "        <tr>\n",
       "            <td>5    </td> <td>0.598122                </td>\n",
       "        </tr>\n",
       "        <tr>\n",
       "            <td>6    </td> <td>0.665102                </td>\n",
       "        </tr>\n",
       "        <tr>\n",
       "            <td>7    </td> <td>0.720918                </td>\n",
       "        </tr>\n",
       "        <tr>\n",
       "            <td>8    </td> <td>0.767432                </td>\n",
       "        </tr>\n",
       "        <tr>\n",
       "            <td>9    </td> <td>0.806193                </td>\n",
       "        </tr>\n",
       "        <tr>\n",
       "            <td>10   </td> <td>0.838494                </td>\n",
       "        </tr>\n",
       "    </tbody>\n",
       "</table>\n",
       "<p>... (40 rows omitted)</p>"
      ],
      "text/plain": [
       "Rolls | Chance of at least one 6\n",
       "1     | 0.166667\n",
       "2     | 0.305556\n",
       "3     | 0.421296\n",
       "4     | 0.517747\n",
       "5     | 0.598122\n",
       "6     | 0.665102\n",
       "7     | 0.720918\n",
       "8     | 0.767432\n",
       "9     | 0.806193\n",
       "10    | 0.838494\n",
       "... (40 rows omitted)"
      ]
     },
     "execution_count": 2,
     "metadata": {},
     "output_type": "execute_result"
    }
   ],
   "source": [
    "rolls = np.arange(1, 51, 1)\n",
    "results = Table().with_columns(\n",
    "    'Rolls', rolls,\n",
    "    'Chance of at least one 6', 1 - (5/6)**rolls\n",
    ")\n",
    "results"
   ]
  },
  {
   "cell_type": "markdown",
   "id": "a6f8c7ce",
   "metadata": {},
   "source": [
    "La probabilité qu'un 6 apparaisse au moins une fois augmente rapidement au fur et à mesure que le nombre de lancers augmente."
   ]
  },
  {
   "cell_type": "code",
   "execution_count": 3,
   "id": "db589ee5",
   "metadata": {},
   "outputs": [
    {
     "data": {
      "image/png": "[encoded data removed]",
      "text/plain": [
       "<Figure size 360x360 with 1 Axes>"
      ]
     },
     "metadata": {
      "needs_background": "light"
     },
     "output_type": "display_data"
    }
   ],
   "source": [
    "results.scatter('Rolls')"
   ]
  },
  {
   "cell_type": "markdown",
   "id": "08cbd9fc",
   "metadata": {},
   "source": [
    "En 50 lancers, vous êtes presque certain d'obtenir au moins un 6."
   ]
  },
  {
   "cell_type": "code",
   "execution_count": 4,
   "id": "8087ea8b",
   "metadata": {},
   "outputs": [
    {
     "data": {
      "text/html": [
       "<table border=\"1\" class=\"dataframe\">\n",
       "    <thead>\n",
       "        <tr>\n",
       "            <th>Rolls</th> <th>Chance of at least one 6</th>\n",
       "        </tr>\n",
       "    </thead>\n",
       "    <tbody>\n",
       "        <tr>\n",
       "            <td>50   </td> <td>0.99989                 </td>\n",
       "        </tr>\n",
       "    </tbody>\n",
       "</table>"
      ],
      "text/plain": [
       "Rolls | Chance of at least one 6\n",
       "50    | 0.99989"
      ]
     },
     "execution_count": 4,
     "metadata": {},
     "output_type": "execute_result"
    }
   ],
   "source": [
    "results.where('Rolls', are.equal_to(50))"
   ]
  },
  {
   "cell_type": "markdown",
   "id": "a7477554",
   "metadata": {},
   "source": [
    "Des calculs de ce type peuvent être utilisés pour déterminer la probabilité qu'un individu particulier soit sélectionné dans un échantillon aléatoire. Le calcul exact dépend du plan d'échantillonnage. Mais ce que nous avons observé ci-dessus peut généralement être généralisé : l'augmentation de la taille de l'échantillon aléatoire augmente la probabilité qu'un individu soit sélectionné."
   ]
  },
  {
   "cell_type": "markdown",
   "id": "7adb6534-788b-4b44-bd75-2d6b0488a2d8",
   "metadata": {
    "jp-MarkdownHeadingCollapsed": true
   },
   "source": [
    "## 4. Échantillonnage et distributions empiriques"
   ]
  },
  {
   "cell_type": "markdown",
   "id": "35f656a4",
   "metadata": {
    "jp-MarkdownHeadingCollapsed": true
   },
   "source": [
    "Une partie importante de la science des données consiste à tirer des conclusions basées sur les données des échantillons aléatoires. Afin d'interpréter correctement leurs résultats, les scientifiques des données doivent d'abord comprendre exactement ce que sont les échantillons aléatoires.\n",
    "\n",
    "Dans ce chapitre, nous examinerons plus attentivement l'échantillonnage, en accordant une attention particulière aux propriétés des grands échantillons aléatoires.\n",
    "\n",
    "Commençons par tirer quelques échantillons. Nos exemples sont basés sur l'ensemble de données [`top_movies_2017.csv`] (https://inferentialthinking.com/chapters/07/1/Visualizing_Categorical_Distributions.html#grouping-categorical-data)."
   ]
  },
  {
   "cell_type": "markdown",
   "id": "8a80c260-d5af-410c-8663-446471d0ac6b",
   "metadata": {
    "jp-MarkdownHeadingCollapsed": true
   },
   "source": [
    "### Échantillonnage"
   ]
  },
  {
   "cell_type": "code",
   "execution_count": 2,
   "id": "04cb2a82",
   "metadata": {},
   "outputs": [
    {
     "data": {
      "text/html": [
       "<table border=\"1\" class=\"dataframe\">\n",
       "    <thead>\n",
       "        <tr>\n",
       "            <th>Row Index</th> <th>Title</th> <th>Studio</th> <th>Gross</th> <th>Gross (Adjusted)</th> <th>Year</th>\n",
       "        </tr>\n",
       "    </thead>\n",
       "    <tbody>\n",
       "        <tr>\n",
       "            <td>0        </td> <td>Gone with the Wind              </td> <td>MGM            </td> <td>198,676,459</td> <td>1,796,176,700   </td> <td>1939</td>\n",
       "        </tr>\n",
       "        <tr>\n",
       "            <td>1        </td> <td>Star Wars                       </td> <td>Fox            </td> <td>460,998,007</td> <td>1,583,483,200   </td> <td>1977</td>\n",
       "        </tr>\n",
       "        <tr>\n",
       "            <td>2        </td> <td>The Sound of Music              </td> <td>Fox            </td> <td>158,671,368</td> <td>1,266,072,700   </td> <td>1965</td>\n",
       "        </tr>\n",
       "        <tr>\n",
       "            <td>3        </td> <td>E.T.: The Extra-Terrestrial     </td> <td>Universal      </td> <td>435,110,554</td> <td>1,261,085,000   </td> <td>1982</td>\n",
       "        </tr>\n",
       "        <tr>\n",
       "            <td>4        </td> <td>Titanic                         </td> <td>Paramount      </td> <td>658,672,302</td> <td>1,204,368,000   </td> <td>1997</td>\n",
       "        </tr>\n",
       "        <tr>\n",
       "            <td>5        </td> <td>The Ten Commandments            </td> <td>Paramount      </td> <td>65,500,000 </td> <td>1,164,590,000   </td> <td>1956</td>\n",
       "        </tr>\n",
       "        <tr>\n",
       "            <td>6        </td> <td>Jaws                            </td> <td>Universal      </td> <td>260,000,000</td> <td>1,138,620,700   </td> <td>1975</td>\n",
       "        </tr>\n",
       "        <tr>\n",
       "            <td>7        </td> <td>Doctor Zhivago                  </td> <td>MGM            </td> <td>111,721,910</td> <td>1,103,564,200   </td> <td>1965</td>\n",
       "        </tr>\n",
       "        <tr>\n",
       "            <td>8        </td> <td>The Exorcist                    </td> <td>Warner Brothers</td> <td>232,906,145</td> <td>983,226,600     </td> <td>1973</td>\n",
       "        </tr>\n",
       "        <tr>\n",
       "            <td>9        </td> <td>Snow White and the Seven Dwarves</td> <td>Disney         </td> <td>184,925,486</td> <td>969,010,000     </td> <td>1937</td>\n",
       "        </tr>\n",
       "    </tbody>\n",
       "</table>\n",
       "<p>... (190 rows omitted)</p>"
      ],
      "text/plain": [
       "Row Index | Title                            | Studio          | Gross       | Gross (Adjusted) | Year\n",
       "0         | Gone with the Wind               | MGM             | 198,676,459 | 1,796,176,700    | 1939\n",
       "1         | Star Wars                        | Fox             | 460,998,007 | 1,583,483,200    | 1977\n",
       "2         | The Sound of Music               | Fox             | 158,671,368 | 1,266,072,700    | 1965\n",
       "3         | E.T.: The Extra-Terrestrial      | Universal       | 435,110,554 | 1,261,085,000    | 1982\n",
       "4         | Titanic                          | Paramount       | 658,672,302 | 1,204,368,000    | 1997\n",
       "5         | The Ten Commandments             | Paramount       | 65,500,000  | 1,164,590,000    | 1956\n",
       "6         | Jaws                             | Universal       | 260,000,000 | 1,138,620,700    | 1975\n",
       "7         | Doctor Zhivago                   | MGM             | 111,721,910 | 1,103,564,200    | 1965\n",
       "8         | The Exorcist                     | Warner Brothers | 232,906,145 | 983,226,600      | 1973\n",
       "9         | Snow White and the Seven Dwarves | Disney          | 184,925,486 | 969,010,000      | 1937\n",
       "... (190 rows omitted)"
      ]
     },
     "execution_count": 2,
     "metadata": {},
     "output_type": "execute_result"
    }
   ],
   "source": [
    "top1 = Table.read_table(path_data + 'top_movies_2017.csv')\n",
    "top2 = top1.with_column('Row Index', np.arange(top1.num_rows))\n",
    "top = top2.move_to_start('Row Index')\n",
    "\n",
    "top.set_format(make_array(3, 4), NumberFormatter)"
   ]
  },
  {
   "cell_type": "markdown",
   "id": "214e6371",
   "metadata": {
    "jp-MarkdownHeadingCollapsed": true
   },
   "source": [
    "#### Échantillonnage des lignes d'un tableau\n",
    "\n",
    "Chaque ligne d'un tableau de données représente un individu ; dans `top`, chaque individu est un film. L'échantillonnage des individus peut donc être réalisé en échantillonnant les lignes d'un tableau.\n",
    "\n",
    "Le contenu d'une ligne correspond aux valeurs de différentes variables mesurées sur le même individu. Le contenu des lignes échantillonnées forme donc des échantillons de valeurs de chacune des variables."
   ]
  },
  {
   "cell_type": "markdown",
   "id": "9ed759af",
   "metadata": {
    "jp-MarkdownHeadingCollapsed": true
   },
   "source": [
    "#### Échantillons déterministes\n",
    "\n",
    "Lorsque vous spécifiez simplement les éléments d'un ensemble que vous souhaitez choisir, sans aucun hasard, vous créez un *échantillon déterministe*.\n",
    "\n",
    "Vous avez fait cela de nombreuses fois, par exemple en utilisant `take` :"
   ]
  },
  {
   "cell_type": "code",
   "execution_count": 3,
   "id": "0283c084",
   "metadata": {},
   "outputs": [
    {
     "data": {
      "text/html": [
       "<table border=\"1\" class=\"dataframe\">\n",
       "    <thead>\n",
       "        <tr>\n",
       "            <th>Row Index</th> <th>Title</th> <th>Studio</th> <th>Gross</th> <th>Gross (Adjusted)</th> <th>Year</th>\n",
       "        </tr>\n",
       "    </thead>\n",
       "    <tbody>\n",
       "        <tr>\n",
       "            <td>3        </td> <td>E.T.: The Extra-Terrestrial</td> <td>Universal  </td> <td>435,110,554</td> <td>1,261,085,000   </td> <td>1982</td>\n",
       "        </tr>\n",
       "        <tr>\n",
       "            <td>18       </td> <td>The Lion King              </td> <td>Buena Vista</td> <td>422,783,777</td> <td>792,511,700     </td> <td>1994</td>\n",
       "        </tr>\n",
       "        <tr>\n",
       "            <td>100      </td> <td>The Hunger Games           </td> <td>Lionsgate  </td> <td>408,010,692</td> <td>452,174,400     </td> <td>2012</td>\n",
       "        </tr>\n",
       "    </tbody>\n",
       "</table>"
      ],
      "text/plain": [
       "Row Index | Title                       | Studio      | Gross       | Gross (Adjusted) | Year\n",
       "3         | E.T.: The Extra-Terrestrial | Universal   | 435,110,554 | 1,261,085,000    | 1982\n",
       "18        | The Lion King               | Buena Vista | 422,783,777 | 792,511,700      | 1994\n",
       "100       | The Hunger Games            | Lionsgate   | 408,010,692 | 452,174,400      | 2012"
      ]
     },
     "execution_count": 3,
     "metadata": {},
     "output_type": "execute_result"
    }
   ],
   "source": [
    "top.take(make_array(3, 18, 100))"
   ]
  },
  {
   "cell_type": "markdown",
   "id": "25eedff2",
   "metadata": {},
   "source": [
    "Vous avez également utilisé `where` :"
   ]
  },
  {
   "cell_type": "code",
   "execution_count": 4,
   "id": "5a0770ac",
   "metadata": {},
   "outputs": [
    {
     "data": {
      "text/html": [
       "<table border=\"1\" class=\"dataframe\">\n",
       "    <thead>\n",
       "        <tr>\n",
       "            <th>Row Index</th> <th>Title</th> <th>Studio</th> <th>Gross</th> <th>Gross (Adjusted)</th> <th>Year</th>\n",
       "        </tr>\n",
       "    </thead>\n",
       "    <tbody>\n",
       "        <tr>\n",
       "            <td>74       </td> <td>Harry Potter and the Sorcerer's Stone      </td> <td>Warner Brothers</td> <td>317,575,550</td> <td>497,066,400     </td> <td>2001</td>\n",
       "        </tr>\n",
       "        <tr>\n",
       "            <td>114      </td> <td>Harry Potter and the Deathly Hallows Part 2</td> <td>Warner Brothers</td> <td>381,011,219</td> <td>426,630,300     </td> <td>2011</td>\n",
       "        </tr>\n",
       "        <tr>\n",
       "            <td>131      </td> <td>Harry Potter and the Goblet of Fire        </td> <td>Warner Brothers</td> <td>290,013,036</td> <td>401,608,200     </td> <td>2005</td>\n",
       "        </tr>\n",
       "        <tr>\n",
       "            <td>133      </td> <td>Harry Potter and the Chamber of Secrets    </td> <td>Warner Brothers</td> <td>261,988,482</td> <td>399,302,200     </td> <td>2002</td>\n",
       "        </tr>\n",
       "        <tr>\n",
       "            <td>154      </td> <td>Harry Potter and the Order of the Phoenix  </td> <td>Warner Brothers</td> <td>292,004,738</td> <td>377,314,200     </td> <td>2007</td>\n",
       "        </tr>\n",
       "        <tr>\n",
       "            <td>175      </td> <td>Harry Potter and the Half-Blood Prince     </td> <td>Warner Brothers</td> <td>301,959,197</td> <td>359,788,300     </td> <td>2009</td>\n",
       "        </tr>\n",
       "        <tr>\n",
       "            <td>177      </td> <td>Harry Potter and the Prisoner of Azkaban   </td> <td>Warner Brothers</td> <td>249,541,069</td> <td>357,233,500     </td> <td>2004</td>\n",
       "        </tr>\n",
       "    </tbody>\n",
       "</table>"
      ],
      "text/plain": [
       "Row Index | Title                                       | Studio          | Gross       | Gross (Adjusted) | Year\n",
       "74        | Harry Potter and the Sorcerer's Stone       | Warner Brothers | 317,575,550 | 497,066,400      | 2001\n",
       "114       | Harry Potter and the Deathly Hallows Part 2 | Warner Brothers | 381,011,219 | 426,630,300      | 2011\n",
       "131       | Harry Potter and the Goblet of Fire         | Warner Brothers | 290,013,036 | 401,608,200      | 2005\n",
       "133       | Harry Potter and the Chamber of Secrets     | Warner Brothers | 261,988,482 | 399,302,200      | 2002\n",
       "154       | Harry Potter and the Order of the Phoenix   | Warner Brothers | 292,004,738 | 377,314,200      | 2007\n",
       "175       | Harry Potter and the Half-Blood Prince      | Warner Brothers | 301,959,197 | 359,788,300      | 2009\n",
       "177       | Harry Potter and the Prisoner of Azkaban    | Warner Brothers | 249,541,069 | 357,233,500      | 2004"
      ]
     },
     "execution_count": 4,
     "metadata": {},
     "output_type": "execute_result"
    }
   ],
   "source": [
    "top.where('Title', are.containing('Harry Potter'))"
   ]
  },
  {
   "cell_type": "markdown",
   "id": "d6478b75",
   "metadata": {},
   "source": [
    "Bien qu'il s'agisse d'échantillons, il ne s'agit pas d'échantillons aléatoires. Ils ne sont pas le fruit du hasard."
   ]
  },
  {
   "cell_type": "markdown",
   "id": "ef97e8e5",
   "metadata": {
    "jp-MarkdownHeadingCollapsed": true
   },
   "source": [
    "#### Échantillons de probabilité"
   ]
  },
  {
   "cell_type": "markdown",
   "id": "7af65843",
   "metadata": {},
   "source": [
    "Pour décrire les échantillons aléatoires, une certaine terminologie est utile.\n",
    "\n",
    "Une *population* est l'ensemble de tous les éléments à partir desquels un échantillon sera tiré.\n",
    "\n",
    "Un *échantillon probabiliste* est un échantillon pour lequel il est possible de calculer, avant le tirage, la probabilité qu'un sous-ensemble d'éléments entre dans l'échantillon.\n",
    "\n",
    "Dans un échantillon probabiliste, tous les éléments n'ont pas nécessairement la même chance d'être choisis."
   ]
  },
  {
   "cell_type": "markdown",
   "id": "e626f214-3f51-43ec-9ebb-5abb4fadeb7a",
   "metadata": {
    "jp-MarkdownHeadingCollapsed": true
   },
   "source": [
    "#### Un plan d'échantillonnage aléatoire\n",
    "\n",
    "Par exemple, supposons que vous choisissiez deux personnes dans une population composée de trois personnes A, B et C, selon le schéma suivant :\n",
    "\n",
    "- La personne A est choisie avec une probabilité de 1.\n",
    "- L'une des personnes B ou C est choisie à pile ou face : si la pièce tombe sur pile, vous choisissez B, et si elle tombe sur face, vous choisissez C.\n",
    "\n",
    "Il s'agit d'un échantillon de probabilité de taille 2. Voici les chances de participation pour tous les sous-ensembles non vides :\n",
    "\n",
    "    A : 1\n",
    "    B : 1/2\n",
    "    C : 1/2\n",
    "    AB : 1/2\n",
    "    AC : 1/2\n",
    "    BC : 0\n",
    "    ABC : 0\n",
    "\n",
    "La personne A a plus de chances d'être sélectionnée que les personnes B ou C ; en effet, la personne A est certaine d'être sélectionnée. Ces différences étant connues et quantifiées, elles peuvent être prises en compte lors de l'exploitation de l'échantillon."
   ]
  },
  {
   "cell_type": "markdown",
   "id": "5eab886c",
   "metadata": {
    "jp-MarkdownHeadingCollapsed": true
   },
   "source": [
    "#### Un échantillon systématique\n",
    "\n",
    "Imaginez que tous les éléments de la population soient énumérés dans une séquence. Une méthode d'échantillonnage consiste à choisir une position aléatoire au début de la liste, puis des positions régulièrement espacées. L'échantillon est constitué des éléments situés à ces positions. Un tel échantillon est appelé \"échantillon systématique\".\n",
    "\n",
    "Ici, nous allons choisir un échantillon systématique des lignes de `top`. Nous commencerons par prendre au hasard l'une des 10 premières lignes, puis nous prendrons toutes les 10 lignes suivantes."
   ]
  },
  {
   "cell_type": "code",
   "execution_count": 5,
   "id": "0c4221a1",
   "metadata": {},
   "outputs": [
    {
     "data": {
      "text/html": [
       "<table border=\"1\" class=\"dataframe\">\n",
       "    <thead>\n",
       "        <tr>\n",
       "            <th>Row Index</th> <th>Title</th> <th>Studio</th> <th>Gross</th> <th>Gross (Adjusted)</th> <th>Year</th>\n",
       "        </tr>\n",
       "    </thead>\n",
       "    <tbody>\n",
       "        <tr>\n",
       "            <td>6        </td> <td>Jaws                               </td> <td>Universal           </td> <td>260,000,000</td> <td>1,138,620,700   </td> <td>1975</td>\n",
       "        </tr>\n",
       "        <tr>\n",
       "            <td>16       </td> <td>Jurassic Park                      </td> <td>Universal           </td> <td>402,453,882</td> <td>817,186,200     </td> <td>1993</td>\n",
       "        </tr>\n",
       "        <tr>\n",
       "            <td>26       </td> <td>Mary Poppins                       </td> <td>Disney              </td> <td>102,272,727</td> <td>695,036,400     </td> <td>1964</td>\n",
       "        </tr>\n",
       "        <tr>\n",
       "            <td>36       </td> <td>Love Story                         </td> <td>Paramount           </td> <td>106,397,186</td> <td>622,283,500     </td> <td>1970</td>\n",
       "        </tr>\n",
       "        <tr>\n",
       "            <td>46       </td> <td>The Robe                           </td> <td>Fox                 </td> <td>36,000,000 </td> <td>581,890,900     </td> <td>1953</td>\n",
       "        </tr>\n",
       "        <tr>\n",
       "            <td>56       </td> <td>Rogue One: A Star Wars Story       </td> <td>Buena Vista         </td> <td>532,177,324</td> <td>537,326,000     </td> <td>2016</td>\n",
       "        </tr>\n",
       "        <tr>\n",
       "            <td>66       </td> <td>The Dark Knight Rises              </td> <td>Warner Brothers     </td> <td>448,139,099</td> <td>511,902,300     </td> <td>2012</td>\n",
       "        </tr>\n",
       "        <tr>\n",
       "            <td>76       </td> <td>Close Encounters of the Third Kind </td> <td>Columbia            </td> <td>132,088,635</td> <td>494,066,600     </td> <td>1977</td>\n",
       "        </tr>\n",
       "        <tr>\n",
       "            <td>86       </td> <td>Transformers: Revenge of the Fallen</td> <td>Paramount/Dreamworks</td> <td>402,111,870</td> <td>479,179,200     </td> <td>2009</td>\n",
       "        </tr>\n",
       "        <tr>\n",
       "            <td>96       </td> <td>Toy Story 3                        </td> <td>Buena Vista         </td> <td>415,004,880</td> <td>464,074,600     </td> <td>2010</td>\n",
       "        </tr>\n",
       "    </tbody>\n",
       "</table>\n",
       "<p>... (10 rows omitted)</p>"
      ],
      "text/plain": [
       "Row Index | Title                               | Studio               | Gross       | Gross (Adjusted) | Year\n",
       "6         | Jaws                                | Universal            | 260,000,000 | 1,138,620,700    | 1975\n",
       "16        | Jurassic Park                       | Universal            | 402,453,882 | 817,186,200      | 1993\n",
       "26        | Mary Poppins                        | Disney               | 102,272,727 | 695,036,400      | 1964\n",
       "36        | Love Story                          | Paramount            | 106,397,186 | 622,283,500      | 1970\n",
       "46        | The Robe                            | Fox                  | 36,000,000  | 581,890,900      | 1953\n",
       "56        | Rogue One: A Star Wars Story        | Buena Vista          | 532,177,324 | 537,326,000      | 2016\n",
       "66        | The Dark Knight Rises               | Warner Brothers      | 448,139,099 | 511,902,300      | 2012\n",
       "76        | Close Encounters of the Third Kind  | Columbia             | 132,088,635 | 494,066,600      | 1977\n",
       "86        | Transformers: Revenge of the Fallen | Paramount/Dreamworks | 402,111,870 | 479,179,200      | 2009\n",
       "96        | Toy Story 3                         | Buena Vista          | 415,004,880 | 464,074,600      | 2010\n",
       "... (10 rows omitted)"
      ]
     },
     "execution_count": 5,
     "metadata": {},
     "output_type": "execute_result"
    }
   ],
   "source": [
    "\"\"\"Choose a random start among rows 0 through 9;\n",
    "then take every 10th row.\"\"\"\n",
    "\n",
    "start = np.random.choice(np.arange(10))\n",
    "top.take(np.arange(start, top.num_rows, 10))"
   ]
  },
  {
   "cell_type": "markdown",
   "id": "91657cc2",
   "metadata": {},
   "source": [
    "Faites fonctionner la cellule plusieurs fois pour voir comment la sortie varie.\n",
    "\n",
    "Cet échantillon systématique est un échantillon de probabilité. Dans ce schéma, toutes les lignes ont une chance de $1/10$ d'être choisies. Par exemple, la ligne 23 est choisie si et seulement si la ligne 3 est choisie, et la probabilité est de $1/10$.\n",
    "\n",
    "Mais tous les sous-ensembles n'ont pas la même chance d'être choisis. Étant donné que les rangs sélectionnés sont régulièrement espacés, la plupart des sous-ensembles de rangs n'ont aucune chance d'être choisis. Les seuls sous-ensembles possibles sont ceux composés de lignes toutes séparées par des multiples de 10. Chacun de ces sous-ensembles est choisi avec une chance de 1/10.  D'autres sous-ensembles, tels qu'un sous-ensemble contenant à la fois les 15e et 16e lignes du tableau, ou tout sous-ensemble de taille supérieure à 10, sont sélectionnés avec une chance 0."
   ]
  },
  {
   "cell_type": "markdown",
   "id": "dffe5914",
   "metadata": {
    "jp-MarkdownHeadingCollapsed": true
   },
   "source": [
    "#### Échantillons aléatoires tirés avec ou sans remplacement\n",
    " \n",
    "Dans ce cours, nous traiterons principalement des deux méthodes d'échantillonnage les plus simples.\n",
    "\n",
    "La première est l'échantillonnage aléatoire avec remplacement, qui (comme nous l'avons vu précédemment) est le comportement par défaut de `np.random.choice` lorsqu'il échantillonne à partir d'un tableau.\n",
    "\n",
    "L'autre, appelée \"échantillon aléatoire simple\", est un échantillon tiré au hasard *sans* remplacement. Les individus échantillonnés ne sont pas remplacés dans la population avant que l'individu suivant ne soit tiré. C'est le type d'échantillonnage qui se produit lorsque vous tirez une main d'un jeu de cartes, par exemple. Pour utiliser `np.random.choice` pour un échantillonnage aléatoire simple, vous devez inclure l'argument `replace=False`.\n",
    "\n",
    "Dans ce chapitre, nous utiliserons la simulation pour étudier le comportement de grands échantillons tirés au hasard avec ou sans remplacement."
   ]
  },
  {
   "cell_type": "markdown",
   "id": "9b5f141d",
   "metadata": {
    "collapsed": true,
    "jp-MarkdownHeadingCollapsed": true,
    "jupyter": {
     "outputs_hidden": true
    }
   },
   "source": [
    "#### Échantillons de commodité\n",
    "Le tirage d'un échantillon aléatoire exige soin et précision. Il ne s'agit pas d'un échantillonnage choisi n'importe comment, même si c'est le sens que l'on donne au mot \"aléatoire\" dans le langage courant. Si vous vous tenez au coin d'une rue et que vous prenez comme échantillon les dix premières personnes qui passent, vous pourriez penser que vous échantillonnez au hasard parce que vous n'avez pas choisi les personnes qui passent. Mais il ne s'agit pas d'un échantillon aléatoire, mais d'un *échantillon de commodité*. Vous ne connaissiez pas à l'avance la probabilité que chaque personne entre dans l'échantillon ; vous n'aviez peut-être même pas spécifié exactement qui faisait partie de la population."
   ]
  },
  {
   "cell_type": "markdown",
   "id": "17a646e8",
   "metadata": {
    "jp-MarkdownHeadingCollapsed": true
   },
   "source": [
    "### Distributions empiriques"
   ]
  },
  {
   "cell_type": "markdown",
   "id": "11515f8c-e3a3-468a-9ba7-6b96a6f73f52",
   "metadata": {},
   "source": [
    "En science des données, le mot \"empirique\" signifie \"observé\". Les distributions empiriques sont des distributions de données observées, telles que les données d'échantillons aléatoires.\n",
    "\n",
    "Dans cette section, nous allons générer des données et voir à quoi ressemble la distribution empirique.\n",
    "\n",
    "Notre cadre est une expérience simple : lancer un dé plusieurs fois et noter la face qui apparaît. Le tableau `die` contient les nombres de points sur les faces d'un dé. Tous les nombres apparaissent exactement une fois, car nous supposons que le dé n'est pas pipé."
   ]
  },
  {
   "cell_type": "code",
   "execution_count": 2,
   "id": "0a96cdd9",
   "metadata": {},
   "outputs": [
    {
     "data": {
      "text/html": [
       "<table border=\"1\" class=\"dataframe\">\n",
       "    <thead>\n",
       "        <tr>\n",
       "            <th>Face</th>\n",
       "        </tr>\n",
       "    </thead>\n",
       "    <tbody>\n",
       "        <tr>\n",
       "            <td>1   </td>\n",
       "        </tr>\n",
       "        <tr>\n",
       "            <td>2   </td>\n",
       "        </tr>\n",
       "        <tr>\n",
       "            <td>3   </td>\n",
       "        </tr>\n",
       "        <tr>\n",
       "            <td>4   </td>\n",
       "        </tr>\n",
       "        <tr>\n",
       "            <td>5   </td>\n",
       "        </tr>\n",
       "        <tr>\n",
       "            <td>6   </td>\n",
       "        </tr>\n",
       "    </tbody>\n",
       "</table>"
      ],
      "text/plain": [
       "Face\n",
       "1\n",
       "2\n",
       "3\n",
       "4\n",
       "5\n",
       "6"
      ]
     },
     "execution_count": 2,
     "metadata": {},
     "output_type": "execute_result"
    }
   ],
   "source": [
    "die = Table().with_column('Face', np.arange(1, 7, 1))\n",
    "die"
   ]
  },
  {
   "cell_type": "markdown",
   "id": "71670225",
   "metadata": {},
   "source": [
    "#### Une distribution de probabilité\n",
    "\n",
    "L'histogramme ci-dessous nous aide à visualiser le fait que chaque face du dé apparaît avec une probabilité de 1/6. On dit que l'histogramme montre la *distribution* des probabilités sur toutes les faces possibles. Comme toutes les barres représentent le même pourcentage de chance, la distribution est dite *uniforme sur les nombres entiers de 1 à 6.*"
   ]
  },
  {
   "cell_type": "code",
   "execution_count": 3,
   "id": "cf09663a",
   "metadata": {},
   "outputs": [
    {
     "data": {
      "image/png": "[encoded data removed]",
      "text/plain": [
       "<Figure size 432x288 with 1 Axes>"
      ]
     },
     "metadata": {},
     "output_type": "display_data"
    }
   ],
   "source": [
    "die_bins = np.arange(0.5, 6.6, 1)\n",
    "die.hist(bins = die_bins)"
   ]
  },
  {
   "cell_type": "markdown",
   "id": "63948abf",
   "metadata": {},
   "source": [
    "Les variables dont les valeurs successives sont séparées par la même quantité fixe, telles que les valeurs des lancers de dé (valeurs successives séparées par 1), appartiennent à une classe de variables appelées *discrètes*. L'histogramme ci-dessus est un histogramme *discret*. Ses bins sont spécifiés par le tableau `die_bins` et garantissent que chaque barre est centrée sur la valeur entière correspondante.\n",
    "\n",
    "Il est important de se rappeler que le dé ne peut pas afficher 1,3 points ou 5,2 points - il affiche toujours un nombre entier de points. Mais notre visualisation répartit la probabilité de chaque valeur sur la surface d'une barre. Bien que cela puisse sembler un peu arbitraire à ce stade du cours, cela deviendra important plus tard lorsque nous superposerons des courbes lisses à des histogrammes discrets.\n",
    "\n",
    "Avant d'aller plus loin, assurons-nous que les nombres sur les axes ont un sens. La probabilité de chaque face est de 1/6, soit 16,67 % après arrondi à deux décimales. La largeur de chaque case est de 1 unité. La hauteur de chaque barre est donc de 16,67 % par unité. Cela correspond aux échelles horizontale et verticale du graphique."
   ]
  },
  {
   "cell_type": "markdown",
   "id": "1f028efa",
   "metadata": {
    "jp-MarkdownHeadingCollapsed": true
   },
   "source": [
    "#### Distributions empiriques\n",
    "La distribution ci-dessus correspond à la probabilité théorique de chaque visage. Elle est appelée *distribution de probabilité* et n'est pas basée sur des données observées. Elle peut être étudiée et comprise sans qu'aucun dé ne soit lancé.\n",
    "\n",
    "Les *distributions empiriques*, en revanche, sont des distributions de données observées. Elles peuvent être visualisées par des *histogrammes empiriques*.\n",
    "\n",
    "Obtenons des données en simulant des lancers de dé. Cela peut être fait en échantillonnant au hasard avec remplacement les nombres entiers de 1 à 6. Nous avons déjà utilisé `np.random.choice` pour de telles simulations. Mais nous allons maintenant introduire une méthode Table pour faire cela. Cela nous permettra d'utiliser plus facilement nos méthodes familières de tableau pour la visualisation.\n",
    "\n",
    "La méthode Table est appelée `sample`. Elle tire au hasard avec remplacement dans les lignes d'un tableau. Son argument est la taille de l'échantillon, et elle renvoie un tableau composé des lignes qui ont été sélectionnées. L'argument optionnel `with_replacement=False` spécifie que l'échantillon doit être tiré sans remplacement. Mais cela ne s'applique pas au lancer de dé.\n",
    "\n",
    "Voici les résultats de 10 lancers de dé."
   ]
  },
  {
   "cell_type": "code",
   "execution_count": 4,
   "id": "5e0dabf9",
   "metadata": {},
   "outputs": [
    {
     "data": {
      "text/html": [
       "<table border=\"1\" class=\"dataframe\">\n",
       "    <thead>\n",
       "        <tr>\n",
       "            <th>Face</th>\n",
       "        </tr>\n",
       "    </thead>\n",
       "    <tbody>\n",
       "        <tr>\n",
       "            <td>2   </td>\n",
       "        </tr>\n",
       "        <tr>\n",
       "            <td>4   </td>\n",
       "        </tr>\n",
       "        <tr>\n",
       "            <td>5   </td>\n",
       "        </tr>\n",
       "        <tr>\n",
       "            <td>5   </td>\n",
       "        </tr>\n",
       "        <tr>\n",
       "            <td>1   </td>\n",
       "        </tr>\n",
       "        <tr>\n",
       "            <td>6   </td>\n",
       "        </tr>\n",
       "        <tr>\n",
       "            <td>1   </td>\n",
       "        </tr>\n",
       "        <tr>\n",
       "            <td>4   </td>\n",
       "        </tr>\n",
       "        <tr>\n",
       "            <td>6   </td>\n",
       "        </tr>\n",
       "        <tr>\n",
       "            <td>5   </td>\n",
       "        </tr>\n",
       "    </tbody>\n",
       "</table>"
      ],
      "text/plain": [
       "Face\n",
       "2\n",
       "4\n",
       "5\n",
       "5\n",
       "1\n",
       "6\n",
       "1\n",
       "4\n",
       "6\n",
       "5"
      ]
     },
     "execution_count": 4,
     "metadata": {},
     "output_type": "execute_result"
    }
   ],
   "source": [
    "die.sample(10)"
   ]
  },
  {
   "cell_type": "markdown",
   "id": "4bb0f5e4",
   "metadata": {},
   "source": [
    "Nous pouvons utiliser la même méthode pour simuler autant de lancers que nous le souhaitons, puis tracer des histogrammes empiriques des résultats. Comme nous allons faire cela de façon répétée, nous définissons une fonction `empirical_hist_die` qui prend la taille de l'échantillon comme argument, lance un dé autant de fois que l'argument, et dessine ensuite un histogramme des résultats observés."
   ]
  },
  {
   "cell_type": "code",
   "execution_count": 5,
   "id": "757e06af",
   "metadata": {},
   "outputs": [],
   "source": [
    "def empirical_hist_die(n):\n",
    "    die.sample(n).hist(bins = die_bins)"
   ]
  },
  {
   "cell_type": "markdown",
   "id": "2e5709d0",
   "metadata": {
    "jp-MarkdownHeadingCollapsed": true
   },
   "source": [
    "#### Histogrammes empiriques\n",
    "\n",
    "Voici un histogramme empirique de 10 lancers. Il ne ressemble pas vraiment à l'histogramme de probabilité ci-dessus. Lancez la cellule plusieurs fois pour voir comment elle varie."
   ]
  },
  {
   "cell_type": "code",
   "execution_count": 7,
   "id": "adb5e577",
   "metadata": {},
   "outputs": [
    {
     "data": {
      "image/png": "[encoded data removed]",
      "text/plain": [
       "<Figure size 432x288 with 1 Axes>"
      ]
     },
     "metadata": {},
     "output_type": "display_data"
    }
   ],
   "source": [
    "empirical_hist_die(10)"
   ]
  },
  {
   "cell_type": "markdown",
   "id": "72fbabc1",
   "metadata": {},
   "source": [
    "Lorsque la taille de l'échantillon augmente, l'histogramme empirique commence à ressembler davantage à l'histogramme des probabilités théoriques."
   ]
  },
  {
   "cell_type": "code",
   "execution_count": 9,
   "id": "330fe782",
   "metadata": {},
   "outputs": [
    {
     "data": {
      "image/png": "[encoded data removed]",
      "text/plain": [
       "<Figure size 432x288 with 1 Axes>"
      ]
     },
     "metadata": {},
     "output_type": "display_data"
    }
   ],
   "source": [
    "empirical_hist_die(100)"
   ]
  },
  {
   "cell_type": "code",
   "execution_count": 10,
   "id": "e5dcfdd2",
   "metadata": {},
   "outputs": [
    {
     "data": {
      "image/png": "[encoded data removed]",
      "text/plain": [
       "<Figure size 432x288 with 1 Axes>"
      ]
     },
     "metadata": {},
     "output_type": "display_data"
    }
   ],
   "source": [
    "empirical_hist_die(1000)"
   ]
  },
  {
   "cell_type": "markdown",
   "id": "b08f64aa",
   "metadata": {
    "jp-MarkdownHeadingCollapsed": true
   },
   "source": [
    "Au fur et à mesure que nous augmentons le nombre de rouleaux dans la simulation, la surface de chaque barre se rapproche de 16,67 %, ce qui correspond à la surface de chaque barre dans l'histogramme des probabilités.\n",
    "\n",
    "#### La loi des grands nombres\n",
    "\n",
    "Ce que nous avons observé ci-dessus est un exemple d'une règle générale appelée \"loi des grands nombres\" :\n",
    "\n",
    "Si une expérience aléatoire est répétée indépendamment et dans des conditions identiques, alors, à long terme, la proportion de fois qu'un événement se produit se rapproche de plus en plus de la probabilité théorique de l'événement.\n",
    "\n",
    "Par exemple, à long terme, la proportion de fois où la face à quatre points du dé apparaît se rapproche de plus en plus de 1/6.\n",
    "\n",
    "Ici, \"indépendamment et dans des conditions identiques\" signifie que chaque répétition est effectuée de la même manière, quels que soient les résultats de toutes les autres répétitions.\n",
    "\n",
    "Dans ces conditions, la loi ci-dessus implique que si l'expérience aléatoire est répétée un grand nombre de fois, la proportion de fois qu'un événement se produit a de fortes chances d'être proche de la probabilité théorique de l'événement.\n",
    "\n",
    "Nous reviendrons sur la loi des grands nombres dans le troisième cours."
   ]
  },
  {
   "cell_type": "markdown",
   "id": "637adaee",
   "metadata": {},
   "source": [
    "#### Distribution empirique d'une statistique"
   ]
  },
  {
   "cell_type": "markdown",
   "id": "91293cca",
   "metadata": {},
   "source": [
    "##### Paramètre\n",
    "On s'intéresse souvent à des quantités numériques associées à une population.\n",
    "- Dans une population d'électeurs, quel pourcentage votera pour le candidat A ?\n",
    "- Dans une population d'utilisateurs de Facebook, quel est le plus grand nombre d'amis Facebook que les utilisateurs ont ?\n",
    "- Dans une population de vols United, quel est le retard médian au départ ?\n",
    "\n",
    "Les quantités numériques associées à une population sont appelées *paramètres*. À titre d'exemple, nous allons étudier une population de retards de vols. La table `united` contient les données des vols domestiques de United Airlines au départ de San Francisco durant l'été 2015. Les données sont rendues publiques par le [Bureau of Transportation Statistics] (http://www.transtats.bts.gov/Fields.asp?Table_ID=293) du Département des transports des États-Unis.\n",
    "\n",
    "Il y a 13 825 lignes, chacune correspondant à un vol. Les colonnes sont la date du vol, le numéro du vol, le code de l'aéroport de destination et le temps de retard au départ en minutes. Certains retards sont négatifs : ces vols sont partis plus tôt."
   ]
  },
  {
   "cell_type": "code",
   "execution_count": 2,
   "id": "ee4b2439-21f4-463d-8c1f-d433647c39b2",
   "metadata": {},
   "outputs": [
    {
     "ename": "NameError",
     "evalue": "name 'Table' is not defined",
     "output_type": "error",
     "traceback": [
      "\u001b[0;31m---------------------------------------------------------------------------\u001b[0m",
      "\u001b[0;31mNameError\u001b[0m                                 Traceback (most recent call last)",
      "Cell \u001b[0;32mIn[2], line 1\u001b[0m\n\u001b[0;32m----> 1\u001b[0m united \u001b[38;5;241m=\u001b[39m \u001b[43mTable\u001b[49m\u001b[38;5;241m.\u001b[39mread_table(path_data \u001b[38;5;241m+\u001b[39m \u001b[38;5;124m'\u001b[39m\u001b[38;5;124munited_summer2015.csv\u001b[39m\u001b[38;5;124m'\u001b[39m)\n\u001b[1;32m      2\u001b[0m united\n",
      "\u001b[0;31mNameError\u001b[0m: name 'Table' is not defined"
     ]
    }
   ],
   "source": [
    "united = Table.read_table(path_data + 'united_summer2015.csv')\n",
    "united"
   ]
  },
  {
   "cell_type": "markdown",
   "id": "8a674d82-36d9-49f7-81d2-c9d60fbdb227",
   "metadata": {},
   "source": [
    "Dans ce qui suit, nous traitons les données du tableau uni comme des données provenant d'une population entière et nous supposons que nous n'observons qu'un petit échantillon aléatoire de cette population, disons de taille 1 000. Bien que dans ce cas nous ayons accès à l'ensemble des 13 825 points de données, cela nous permet d'explorer ce qui se passe dans le cas courant où une population est finie mais trop grande pour être entièrement observée. L'échantillon aléatoire est tiré parmi les individus d'une grande population."
   ]
  },
  {
   "cell_type": "markdown",
   "id": "821de3e2-604d-4fce-8aa9-4004fe9ccaea",
   "metadata": {},
   "source": [
    "Pour la population des vols dans `united`, nous connaissons la valeur du paramètre \"median delay\" :"
   ]
  },
  {
   "cell_type": "code",
   "execution_count": 5,
   "id": "78ba691f",
   "metadata": {},
   "outputs": [
    {
     "data": {
      "text/plain": [
       "2.0"
      ]
     },
     "execution_count": 5,
     "metadata": {},
     "output_type": "execute_result"
    }
   ],
   "source": [
    "np.median(united.column('Delay'))"
   ]
  },
  {
   "cell_type": "markdown",
   "id": "e7e62928",
   "metadata": {},
   "source": [
    "La fonction `NumPy` `median` renvoie la médiane d'un tableau. Parmi tous les vols de `united`, le retard médian était de 2 minutes. Cela signifie qu'environ 50% des vols de la population ont eu des retards de 2 minutes ou moins :"
   ]
  },
  {
   "cell_type": "code",
   "execution_count": 6,
   "id": "2e89f3a3",
   "metadata": {},
   "outputs": [
    {
     "data": {
      "text/plain": [
       "0.5018444846292948"
      ]
     },
     "execution_count": 6,
     "metadata": {},
     "output_type": "execute_result"
    }
   ],
   "source": [
    "united.where('Delay', are.below_or_equal_to(2)).num_rows / united.num_rows"
   ]
  },
  {
   "cell_type": "markdown",
   "id": "1defdc0f",
   "metadata": {},
   "source": [
    "La moitié des vols sont partis au maximum 2 minutes après l'heure de départ prévue. C'est un retard très court !  \n",
    "\n",
    "**Le pourcentage n'est pas exactement de 50 en raison des \"égalités\", c'est-à-dire des vols qui ont eu un retard d'exactement 2 minutes. Il y a eu 480 vols de ce type. Les égalités sont assez courantes dans les ensembles de données et nous ne nous en préoccuperons pas dans ce cours."
   ]
  },
  {
   "cell_type": "code",
   "execution_count": 7,
   "id": "4fc92663",
   "metadata": {},
   "outputs": [
    {
     "data": {
      "text/plain": [
       "480"
      ]
     },
     "execution_count": 7,
     "metadata": {},
     "output_type": "execute_result"
    }
   ],
   "source": [
    "united.where('Delay', are.equal_to(2)).num_rows"
   ]
  },
  {
   "cell_type": "markdown",
   "id": "6d573da4",
   "metadata": {},
   "source": [
    "##### Statistique\n",
    "Dans de nombreuses situations, nous souhaitons déterminer la valeur d'un paramètre inconnu. Pour ce faire, nous nous appuierons sur les données d'un grand échantillon aléatoire tiré de la population.\n",
    "\n",
    "Une *statistique* (notez le singulier !) est un nombre calculé à partir des données d'un échantillon. La médiane de l'échantillon est donc une statistique.\n",
    "\n",
    "Instaurons une variable `sample_1000` contenant un échantillon aléatoire de 1000 vols de `united`."
   ]
  },
  {
   "cell_type": "code",
   "execution_count": 8,
   "id": "4ae8622e",
   "metadata": {},
   "outputs": [
    {
     "data": {
      "text/plain": [
       "2.0"
      ]
     },
     "execution_count": 8,
     "metadata": {},
     "output_type": "execute_result"
    }
   ],
   "source": [
    "sample_1000 = united.sample(1000)"
   ]
  },
  {
   "cell_type": "markdown",
   "id": "31cc48bd-0301-40f9-98f7-018cefa78b5b",
   "metadata": {},
   "source": [
    "La valeur observée de la médiane de l'échantillon pour l'échantillon_1000 est :"
   ]
  },
  {
   "cell_type": "code",
   "execution_count": null,
   "id": "1e9814e8-d071-4e45-b295-89f5dd5bbdc3",
   "metadata": {},
   "outputs": [],
   "source": [
    "np.median(sample_1000.column('Delay'))"
   ]
  },
  {
   "cell_type": "markdown",
   "id": "53c55cf3",
   "metadata": {},
   "source": [
    "Notre échantillon - un ensemble de 1 000 vols - nous a donné une valeur observée de la statistique. Cela soulève un important problème d'inférence :\n",
    "\n",
    "**La statistique aurait pu être différente.**\n",
    "Une considération fondamentale dans l'utilisation de toute statistique basée sur un échantillon aléatoire est que *l'échantillon aurait pu être différent*, et donc la statistique aurait pu être différente aussi."
   ]
  },
  {
   "cell_type": "code",
   "execution_count": 9,
   "id": "e374cf22",
   "metadata": {},
   "outputs": [
    {
     "data": {
      "text/plain": [
       "3.0"
      ]
     },
     "execution_count": 9,
     "metadata": {},
     "output_type": "execute_result"
    }
   ],
   "source": [
    "np.median(united.sample(1000).column('Delay'))"
   ]
  },
  {
   "cell_type": "markdown",
   "id": "c8dc211a",
   "metadata": {},
   "source": [
    "Exécutez la cellule ci-dessus plusieurs fois pour voir comment la réponse varie. Souvent, elle est égale à 2, soit la même valeur que le paramètre de population. Mais parfois, elle est différente."
   ]
  },
  {
   "cell_type": "markdown",
   "id": "735f88c6",
   "metadata": {},
   "source": [
    "**Une façon de répondre à cette question est de simuler la statistique plusieurs fois et de noter les valeurs.** Un histogramme de ces valeurs nous renseignera sur la distribution de la statistique.\n",
    "\n",
    "Rappelons les principales étapes d'une simulation."
   ]
  },
  {
   "cell_type": "markdown",
   "id": "3944a596",
   "metadata": {},
   "source": [
    "##### Simuler une statistique\n",
    "Nous allons simuler la médiane de l'échantillon en utilisant les étapes que nous avons définies dans un chapitre précédent lorsque nous avons commencé à étudier la simulation. Vous pouvez remplacer la taille de l'échantillon de 1000 par n'importe quelle autre taille d'échantillon, et la médiane de l'échantillon par n'importe quelle autre statistique.\n",
    "\n",
    "**Etape 1 : Décider de la statistique à simuler.** Nous avons déjà décidé que nous allions simuler la médiane d'un échantillon aléatoire de taille 1000 tiré de la population des retards de vols.\n",
    "\n",
    "**Etape 2 : Définir une fonction qui renvoie une valeur simulée de la statistique.** Tirer un échantillon aléatoire de taille 1000 et calculer la médiane de l'échantillon. Nous l'avons fait dans la cellule de code ci-dessus. Le voici à nouveau, encapsulé dans une fonction."
   ]
  },
  {
   "cell_type": "code",
   "execution_count": 10,
   "id": "e8ed7249",
   "metadata": {},
   "outputs": [],
   "source": [
    "def random_sample_median():\n",
    "    return np.median(united.sample(1000).column('Delay'))"
   ]
  },
  {
   "cell_type": "markdown",
   "id": "da1d78d9",
   "metadata": {},
   "source": [
    "**Étape 3 : Déterminer le nombre de valeurs simulées à générer** Faisons 5 000 répétitions.\n",
    "\n",
    "**Etape 4 : Utiliser une boucle `for` pour générer un tableau de valeurs simulées.** Comme d'habitude, nous commencerons par créer un tableau vide dans lequel nous collecterons nos résultats. Nous allons ensuite mettre en place une boucle `for` pour générer toutes les valeurs simulées. Le corps de la boucle consistera à générer une valeur simulée de la médiane de l'échantillon et à l'ajouter à notre tableau de collecte.\n",
    "\n",
    "L'exécution de la simulation prend un temps considérable. En effet, elle effectue 5000 répétitions du processus de tirage d'un échantillon de taille 1000 et de calcul de sa médiane. Cela fait beaucoup d'échantillonnages et de répétitions !"
   ]
  },
  {
   "cell_type": "code",
   "execution_count": 11,
   "id": "4cef6b1e",
   "metadata": {},
   "outputs": [],
   "source": [
    "medians = make_array()\n",
    "\n",
    "for i in np.arange(5000):\n",
    "    medians = np.append(medians, random_sample_median())"
   ]
  },
  {
   "cell_type": "markdown",
   "id": "fc3bea1e",
   "metadata": {},
   "source": [
    "La simulation est terminée. Les 5 000 médianes des échantillons simulés ont été rassemblées dans le tableau `medians`. Il est maintenant temps de visualiser les résultats."
   ]
  },
  {
   "cell_type": "markdown",
   "id": "f57b76f2",
   "metadata": {},
   "source": [
    "##### Visualisation\n",
    "\n",
    "Voici les médianes des échantillons aléatoires simulés affichées dans le tableau `simulated_medians`."
   ]
  },
  {
   "cell_type": "code",
   "execution_count": 12,
   "id": "cf865795",
   "metadata": {},
   "outputs": [
    {
     "data": {
      "text/html": [
       "<table border=\"1\" class=\"dataframe\">\n",
       "    <thead>\n",
       "        <tr>\n",
       "            <th>Sample Median</th>\n",
       "        </tr>\n",
       "    </thead>\n",
       "    <tbody>\n",
       "        <tr>\n",
       "            <td>2            </td>\n",
       "        </tr>\n",
       "        <tr>\n",
       "            <td>3            </td>\n",
       "        </tr>\n",
       "        <tr>\n",
       "            <td>1            </td>\n",
       "        </tr>\n",
       "        <tr>\n",
       "            <td>3            </td>\n",
       "        </tr>\n",
       "        <tr>\n",
       "            <td>2            </td>\n",
       "        </tr>\n",
       "        <tr>\n",
       "            <td>2.5          </td>\n",
       "        </tr>\n",
       "        <tr>\n",
       "            <td>3            </td>\n",
       "        </tr>\n",
       "        <tr>\n",
       "            <td>3            </td>\n",
       "        </tr>\n",
       "        <tr>\n",
       "            <td>3            </td>\n",
       "        </tr>\n",
       "        <tr>\n",
       "            <td>2            </td>\n",
       "        </tr>\n",
       "    </tbody>\n",
       "</table>\n",
       "<p>... (4990 rows omitted)</p>"
      ],
      "text/plain": [
       "Sample Median\n",
       "2\n",
       "3\n",
       "1\n",
       "3\n",
       "2\n",
       "2.5\n",
       "3\n",
       "3\n",
       "3\n",
       "2\n",
       "... (4990 rows omitted)"
      ]
     },
     "execution_count": 12,
     "metadata": {},
     "output_type": "execute_result"
    }
   ],
   "source": [
    "simulated_medians = Table().with_column('Sample Median', medians)\n",
    "simulated_medians"
   ]
  },
  {
   "cell_type": "markdown",
   "id": "7cf17717",
   "metadata": {},
   "source": [
    "Nous pouvons également visualiser les données simulées à l'aide d'un histogramme. L'histogramme est appelé *histogramme empirique de la statistique*. Il affiche la *distribution empirique* de la statistique. N'oubliez pas que *empirique* signifie *observé*."
   ]
  },
  {
   "cell_type": "code",
   "execution_count": 13,
   "id": "7c20ac31",
   "metadata": {},
   "outputs": [
    {
     "data": {
      "image/png": "[encoded data removed]",
      "text/plain": [
       "<Figure size 432x288 with 1 Axes>"
      ]
     },
     "metadata": {},
     "output_type": "display_data"
    }
   ],
   "source": [
    "simulated_medians.hist(bins=np.arange(0.5, 5, 1))"
   ]
  },
  {
   "cell_type": "markdown",
   "id": "324870dc",
   "metadata": {},
   "source": [
    "Vous pouvez constater que la médiane de l'échantillon est très probablement proche de 2, qui était la valeur de la médiane de la population. Étant donné que des échantillons de 1 000 retards de vols sont susceptibles de ressembler à la population des retards, il n'est pas surprenant que les retards médians de ces échantillons soient proches du retard médian de la population.\n",
    "\n",
    "Cet exemple montre comment une statistique peut fournir une bonne estimation d'un paramètre."
   ]
  },
  {
   "cell_type": "markdown",
   "id": "0264789a",
   "metadata": {},
   "source": [
    "##### Le pouvoir de la simulation\n",
    "\n",
    "Si nous pouvions générer tous les échantillons aléatoires possibles de taille 1000, nous connaîtrions toutes les valeurs possibles de la statistique (la médiane de l'échantillon), ainsi que les probabilités de toutes ces valeurs. Nous pourrions visualiser toutes les valeurs et probabilités dans l'histogramme de probabilité de la statistique.\n",
    "\n",
    "Mais dans de nombreuses situations, dont celle-ci, le nombre de tous les échantillons possibles est suffisamment important pour dépasser la capacité de l'ordinateur, et les calculs purement mathématiques des probabilités peuvent s'avérer extrêmement difficiles.\n",
    "\n",
    "C'est là qu'interviennent les histogrammes empiriques.\n",
    "\n",
    "Nous savons qu'en vertu de la loi des moyennes, l'histogramme empirique de la statistique est susceptible de ressembler à l'histogramme de probabilité de la statistique, si la taille de l'échantillon est importante et si vous répétez le processus d'échantillonnage aléatoire de nombreuses fois.\n",
    "\n",
    "Cela signifie que la simulation répétée de processus aléatoires est un moyen d'approcher les distributions de probabilités *sans calculer mathématiquement les probabilités ni générer tous les échantillons aléatoires possibles*. Les simulations informatiques deviennent ainsi un outil puissant dans la science des données. Elles peuvent aider les scientifiques à comprendre les propriétés de quantités aléatoires qu'il serait difficile d'analyser autrement."
   ]
  },
  {
   "cell_type": "markdown",
   "id": "51608741",
   "metadata": {
    "jp-MarkdownHeadingCollapsed": true
   },
   "source": [
    "### L'échantillonnage aléatoire en Python\n",
    "\n",
    "Cette section résume les méthodes d'échantillonnage aléatoire que vous avez apprises en utilisant Python et en présente une nouvelle.\n",
    "\n",
    "#### Révision : Echantillonnage d'une population dans un tableau\n",
    "Si vous échantillonnez une population d'individus dont les données sont représentées dans les lignes d'un tableau, vous pouvez utiliser la méthode Table `sample` pour [sélectionner aléatoirement des lignes] (https://inferentialthinking.com/chapters/10/1/Empirical_Distributions.html#id1) du tableau. En d'autres termes, vous pouvez utiliser `sample` pour sélectionner un échantillon aléatoire d'individus.\n",
    "\n",
    "Par défaut, `sample` tire uniformément au hasard avec remplacement. Il s'agit d'un modèle naturel pour les expériences aléatoires telles que le lancer d'un dé."
   ]
  },
  {
   "cell_type": "code",
   "execution_count": 2,
   "id": "928007fc",
   "metadata": {},
   "outputs": [
    {
     "data": {
      "text/html": [
       "<table border=\"1\" class=\"dataframe\">\n",
       "    <thead>\n",
       "        <tr>\n",
       "            <th>Face</th>\n",
       "        </tr>\n",
       "    </thead>\n",
       "    <tbody>\n",
       "        <tr>\n",
       "            <td>1   </td>\n",
       "        </tr>\n",
       "        <tr>\n",
       "            <td>2   </td>\n",
       "        </tr>\n",
       "        <tr>\n",
       "            <td>3   </td>\n",
       "        </tr>\n",
       "        <tr>\n",
       "            <td>4   </td>\n",
       "        </tr>\n",
       "        <tr>\n",
       "            <td>5   </td>\n",
       "        </tr>\n",
       "        <tr>\n",
       "            <td>6   </td>\n",
       "        </tr>\n",
       "    </tbody>\n",
       "</table>"
      ],
      "text/plain": [
       "Face\n",
       "1\n",
       "2\n",
       "3\n",
       "4\n",
       "5\n",
       "6"
      ]
     },
     "execution_count": 2,
     "metadata": {},
     "output_type": "execute_result"
    }
   ],
   "source": [
    "faces = np.arange(1, 7)\n",
    "die = Table().with_columns('Face', faces)\n",
    "die"
   ]
  },
  {
   "cell_type": "markdown",
   "id": "7879c898",
   "metadata": {},
   "source": [
    "Exécutez la cellule ci-dessous pour simuler 7 lancers de dé."
   ]
  },
  {
   "cell_type": "code",
   "execution_count": 3,
   "id": "5f1bf603",
   "metadata": {},
   "outputs": [
    {
     "data": {
      "text/html": [
       "<table border=\"1\" class=\"dataframe\">\n",
       "    <thead>\n",
       "        <tr>\n",
       "            <th>Face</th>\n",
       "        </tr>\n",
       "    </thead>\n",
       "    <tbody>\n",
       "        <tr>\n",
       "            <td>5   </td>\n",
       "        </tr>\n",
       "        <tr>\n",
       "            <td>3   </td>\n",
       "        </tr>\n",
       "        <tr>\n",
       "            <td>3   </td>\n",
       "        </tr>\n",
       "        <tr>\n",
       "            <td>5   </td>\n",
       "        </tr>\n",
       "        <tr>\n",
       "            <td>5   </td>\n",
       "        </tr>\n",
       "        <tr>\n",
       "            <td>1   </td>\n",
       "        </tr>\n",
       "        <tr>\n",
       "            <td>6   </td>\n",
       "        </tr>\n",
       "    </tbody>\n",
       "</table>"
      ],
      "text/plain": [
       "Face\n",
       "5\n",
       "3\n",
       "3\n",
       "5\n",
       "5\n",
       "1\n",
       "6"
      ]
     },
     "execution_count": 3,
     "metadata": {},
     "output_type": "execute_result"
    }
   ],
   "source": [
    "die.sample(7)"
   ]
  },
  {
   "cell_type": "markdown",
   "id": "6cbe3ba6",
   "metadata": {},
   "source": [
    "Il est parfois plus naturel d'échantillonner des individus au hasard sans remplacement. C'est ce qu'on appelle un échantillon aléatoire simple. L'argument `with_replacement=False` vous permet de le faire."
   ]
  },
  {
   "cell_type": "code",
   "execution_count": 4,
   "id": "05f532e3",
   "metadata": {},
   "outputs": [
    {
     "data": {
      "text/html": [
       "<table border=\"1\" class=\"dataframe\">\n",
       "    <thead>\n",
       "        <tr>\n",
       "            <th>Actor</th> <th>Total Gross</th> <th>Number of Movies</th> <th>Average per Movie</th> <th>#1 Movie</th> <th>Gross</th>\n",
       "        </tr>\n",
       "    </thead>\n",
       "    <tbody>\n",
       "        <tr>\n",
       "            <td>Harrison Ford     </td> <td>4871.7     </td> <td>41              </td> <td>118.8            </td> <td>Star Wars: The Force Awakens</td> <td>936.7</td>\n",
       "        </tr>\n",
       "        <tr>\n",
       "            <td>Samuel L. Jackson </td> <td>4772.8     </td> <td>69              </td> <td>69.2             </td> <td>The Avengers                </td> <td>623.4</td>\n",
       "        </tr>\n",
       "        <tr>\n",
       "            <td>Morgan Freeman    </td> <td>4468.3     </td> <td>61              </td> <td>73.3             </td> <td>The Dark Knight             </td> <td>534.9</td>\n",
       "        </tr>\n",
       "        <tr>\n",
       "            <td>Tom Hanks         </td> <td>4340.8     </td> <td>44              </td> <td>98.7             </td> <td>Toy Story 3                 </td> <td>415  </td>\n",
       "        </tr>\n",
       "        <tr>\n",
       "            <td>Robert Downey, Jr.</td> <td>3947.3     </td> <td>53              </td> <td>74.5             </td> <td>The Avengers                </td> <td>623.4</td>\n",
       "        </tr>\n",
       "        <tr>\n",
       "            <td>Eddie Murphy      </td> <td>3810.4     </td> <td>38              </td> <td>100.3            </td> <td>Shrek 2                     </td> <td>441.2</td>\n",
       "        </tr>\n",
       "        <tr>\n",
       "            <td>Tom Cruise        </td> <td>3587.2     </td> <td>36              </td> <td>99.6             </td> <td>War of the Worlds           </td> <td>234.3</td>\n",
       "        </tr>\n",
       "        <tr>\n",
       "            <td>Johnny Depp       </td> <td>3368.6     </td> <td>45              </td> <td>74.9             </td> <td>Dead Man's Chest            </td> <td>423.3</td>\n",
       "        </tr>\n",
       "        <tr>\n",
       "            <td>Michael Caine     </td> <td>3351.5     </td> <td>58              </td> <td>57.8             </td> <td>The Dark Knight             </td> <td>534.9</td>\n",
       "        </tr>\n",
       "        <tr>\n",
       "            <td>Scarlett Johansson</td> <td>3341.2     </td> <td>37              </td> <td>90.3             </td> <td>The Avengers                </td> <td>623.4</td>\n",
       "        </tr>\n",
       "    </tbody>\n",
       "</table>\n",
       "<p>... (40 rows omitted)</p>"
      ],
      "text/plain": [
       "Actor              | Total Gross | Number of Movies | Average per Movie | #1 Movie                     | Gross\n",
       "Harrison Ford      | 4871.7      | 41               | 118.8             | Star Wars: The Force Awakens | 936.7\n",
       "Samuel L. Jackson  | 4772.8      | 69               | 69.2              | The Avengers                 | 623.4\n",
       "Morgan Freeman     | 4468.3      | 61               | 73.3              | The Dark Knight              | 534.9\n",
       "Tom Hanks          | 4340.8      | 44               | 98.7              | Toy Story 3                  | 415\n",
       "Robert Downey, Jr. | 3947.3      | 53               | 74.5              | The Avengers                 | 623.4\n",
       "Eddie Murphy       | 3810.4      | 38               | 100.3             | Shrek 2                      | 441.2\n",
       "Tom Cruise         | 3587.2      | 36               | 99.6              | War of the Worlds            | 234.3\n",
       "Johnny Depp        | 3368.6      | 45               | 74.9              | Dead Man's Chest             | 423.3\n",
       "Michael Caine      | 3351.5      | 58               | 57.8              | The Dark Knight              | 534.9\n",
       "Scarlett Johansson | 3341.2      | 37               | 90.3              | The Avengers                 | 623.4\n",
       "... (40 rows omitted)"
      ]
     },
     "execution_count": 4,
     "metadata": {},
     "output_type": "execute_result"
    }
   ],
   "source": [
    "actors = Table.read_table(path_data + 'actors.csv')\n",
    "actors"
   ]
  },
  {
   "cell_type": "code",
   "execution_count": 5,
   "id": "30163a6b",
   "metadata": {},
   "outputs": [
    {
     "data": {
      "text/html": [
       "<table border=\"1\" class=\"dataframe\">\n",
       "    <thead>\n",
       "        <tr>\n",
       "            <th>Actor</th> <th>Total Gross</th> <th>Number of Movies</th> <th>Average per Movie</th> <th>#1 Movie</th> <th>Gross</th>\n",
       "        </tr>\n",
       "    </thead>\n",
       "    <tbody>\n",
       "        <tr>\n",
       "            <td>Morgan Freeman   </td> <td>4468.3     </td> <td>61              </td> <td>73.3             </td> <td>The Dark Knight </td> <td>534.9</td>\n",
       "        </tr>\n",
       "        <tr>\n",
       "            <td>Orlando Bloom    </td> <td>2815.8     </td> <td>17              </td> <td>165.6            </td> <td>Dead Man's Chest</td> <td>423.3</td>\n",
       "        </tr>\n",
       "        <tr>\n",
       "            <td>Cameron Diaz     </td> <td>3031.7     </td> <td>34              </td> <td>89.2             </td> <td>Shrek 2         </td> <td>441.2</td>\n",
       "        </tr>\n",
       "        <tr>\n",
       "            <td>Michael Caine    </td> <td>3351.5     </td> <td>58              </td> <td>57.8             </td> <td>The Dark Knight </td> <td>534.9</td>\n",
       "        </tr>\n",
       "        <tr>\n",
       "            <td>Leonardo DiCaprio</td> <td>2518.3     </td> <td>25              </td> <td>100.7            </td> <td>Titanic         </td> <td>658.7</td>\n",
       "        </tr>\n",
       "    </tbody>\n",
       "</table>"
      ],
      "text/plain": [
       "Actor             | Total Gross | Number of Movies | Average per Movie | #1 Movie         | Gross\n",
       "Morgan Freeman    | 4468.3      | 61               | 73.3              | The Dark Knight  | 534.9\n",
       "Orlando Bloom     | 2815.8      | 17               | 165.6             | Dead Man's Chest | 423.3\n",
       "Cameron Diaz      | 3031.7      | 34               | 89.2              | Shrek 2          | 441.2\n",
       "Michael Caine     | 3351.5      | 58               | 57.8              | The Dark Knight  | 534.9\n",
       "Leonardo DiCaprio | 2518.3      | 25               | 100.7             | Titanic          | 658.7"
      ]
     },
     "execution_count": 5,
     "metadata": {},
     "output_type": "execute_result"
    }
   ],
   "source": [
    "# Simple random sample of 5 rows\n",
    "actors.sample(5, with_replacement=False)"
   ]
  },
  {
   "cell_type": "markdown",
   "id": "75e9f7d7",
   "metadata": {},
   "source": [
    "Puisque `sample` vous donne l'échantillon entier dans l'ordre dans lequel les lignes ont été sélectionnées, vous pouvez utiliser les méthodes Table sur le tableau échantillonné pour répondre à de nombreuses questions sur l'échantillon. Par exemple, vous pouvez trouver le nombre de fois où le dé a montré six taches, ou le nombre moyen de films dans lesquels les acteurs de l'échantillon sont apparus, ou si un ou deux acteurs spécifiés sont apparus dans l'échantillon. Vous pouvez avoir besoin de plusieurs lignes de code pour obtenir certaines de ces informations."
   ]
  },
  {
   "cell_type": "markdown",
   "id": "0c24db00",
   "metadata": {},
   "source": [
    "#### Review : Échantillonnage d'une population dans une matrice\n",
    "\n",
    "Si vous échantillonnez une population d'individus dont les données sont représentées sous forme de tableau, vous pouvez utiliser la fonction NumPy `np.random.choice` pour [sélectionner aléatoirement des éléments du tableau] (https://inferentialthinking.com/chapters/09/3/Simulation.html#example-number-of-heads-in-100-tosses).\n",
    "\n",
    "Par défaut, `np.random.choice` échantillonne au hasard avec remplacement."
   ]
  },
  {
   "cell_type": "code",
   "execution_count": 6,
   "id": "68741064",
   "metadata": {},
   "outputs": [
    {
     "data": {
      "text/plain": [
       "array([1, 2, 3, 4, 5, 6])"
      ]
     },
     "execution_count": 6,
     "metadata": {},
     "output_type": "execute_result"
    }
   ],
   "source": [
    "# The faces of a die, as an array\n",
    "faces"
   ]
  },
  {
   "cell_type": "code",
   "execution_count": 7,
   "id": "7c974ac7",
   "metadata": {},
   "outputs": [
    {
     "data": {
      "text/plain": [
       "array([4, 1, 6, 3, 5, 4, 6])"
      ]
     },
     "execution_count": 7,
     "metadata": {},
     "output_type": "execute_result"
    }
   ],
   "source": [
    "# 7 rolls of the die\n",
    "np.random.choice(faces, 7)"
   ]
  },
  {
   "cell_type": "markdown",
   "id": "b32d8453",
   "metadata": {},
   "source": [
    "L'argument `replace=False` vous permet d'obtenir un échantillon aléatoire simple, c'est-à-dire un échantillon tiré au hasard sans remplacement."
   ]
  },
  {
   "cell_type": "code",
   "execution_count": 8,
   "id": "812c0e67",
   "metadata": {},
   "outputs": [],
   "source": [
    "# Array of actor names\n",
    "actor_names = actors.column('Actor')"
   ]
  },
  {
   "cell_type": "code",
   "execution_count": 9,
   "id": "aa0645dd",
   "metadata": {},
   "outputs": [
    {
     "data": {
      "text/plain": [
       "array(['Jonah Hill', 'Julia Roberts', 'Bruce Willis', 'Eddie Murphy',\n",
       "       'Matt Damon'], dtype='<U22')"
      ]
     },
     "execution_count": 9,
     "metadata": {},
     "output_type": "execute_result"
    }
   ],
   "source": [
    "# Simple random sample of 5 actor names\n",
    "np.random.choice(actor_names, 5, replace=False)"
   ]
  },
  {
   "cell_type": "markdown",
   "id": "69e2568d",
   "metadata": {},
   "source": [
    "Tout comme `sample`, `np.random.choice` vous donne la séquence entière des éléments échantillonnés. Vous pouvez utiliser les opérations sur les tableaux pour répondre à de nombreuses questions sur l'échantillon. Par exemple, vous pouvez trouver quel acteur a été le deuxième à être tiré au sort, ou le nombre de faces du dé qui sont apparues plus d'une fois. Certaines réponses peuvent nécessiter plusieurs lignes de code."
   ]
  },
  {
   "cell_type": "markdown",
   "id": "a0feaeb6",
   "metadata": {},
   "source": [
    "#### Échantillonnage à partir d'une distribution catégorielle\n",
    "Parfois, nous nous intéressons à un attribut catégorique des individus échantillonnés. Par exemple, nous pouvons chercher à savoir si une pièce de monnaie tombe sur Pile ou Face. Ou nous pouvons nous intéresser aux partis politiques d'électeurs sélectionnés au hasard.\n",
    "\n",
    "Dans ce cas, nous avons souvent besoin des proportions d'électeurs échantillonnés dans les différentes catégories. Si nous disposons de l'ensemble de l'échantillon, nous pouvons calculer ces proportions. La fonction `sample_proportions` de la bibliothèque `datascience` fait ce travail pour nous. Elle est conçue pour un échantillonnage aléatoire avec remplacement à partir d'une distribution catégorielle et renvoie les proportions d'éléments échantillonnés dans chaque catégorie.\n",
    "\n",
    "La fonction `sample_proportions` prend deux arguments :\n",
    "- la taille de l'échantillon\n",
    "- la distribution des catégories dans la population, sous la forme d'une liste ou d'un tableau de proportions dont la somme est égale à 1\n",
    "\n",
    "Elle renvoie un tableau contenant la distribution des catégories dans un échantillon aléatoire de la taille donnée prélevé dans la population. Il s'agit d'un tableau composé des proportions de l'échantillon dans toutes les différentes catégories, dans l'ordre dans lequel elles apparaissent dans la distribution de la population.\n",
    "\n",
    "Par exemple, supposons que chaque plante d'une espèce soit à fleurs rouges avec une chance de 25 %, à fleurs roses avec une chance de 50 % et à fleurs blanches avec une chance de 25 %, sans tenir compte de la couleur des fleurs de toutes les autres plantes. Vous pouvez utiliser `sample_proportions` pour voir les proportions des différentes couleurs parmi 300 plantes de l'espèce."
   ]
  },
  {
   "cell_type": "code",
   "execution_count": 10,
   "id": "be198850",
   "metadata": {},
   "outputs": [
    {
     "data": {
      "text/plain": [
       "array([0.24333333, 0.50333333, 0.25333333])"
      ]
     },
     "execution_count": 10,
     "metadata": {},
     "output_type": "execute_result"
    }
   ],
   "source": [
    "# Species distribution of flower colors:\n",
    "# Proportions are in the order Red, Pink, White\n",
    "species_proportions = [0.25, 0.5, .25]\n",
    "\n",
    "sample_size = 300\n",
    "\n",
    "# Distribution of sample\n",
    "sample_distribution = sample_proportions(sample_size, species_proportions)\n",
    "sample_distribution"
   ]
  },
  {
   "cell_type": "markdown",
   "id": "f7a9bce2",
   "metadata": {},
   "source": [
    "Comme vous vous y attendez, la somme des proportions de l'échantillon est égale à 1."
   ]
  },
  {
   "cell_type": "code",
   "execution_count": 11,
   "id": "82628536",
   "metadata": {},
   "outputs": [
    {
     "data": {
      "text/plain": [
       "1.0"
      ]
     },
     "execution_count": 11,
     "metadata": {},
     "output_type": "execute_result"
    }
   ],
   "source": [
    "sum(sample_distribution)"
   ]
  },
  {
   "cell_type": "markdown",
   "id": "d5cce2fa",
   "metadata": {},
   "source": [
    "Les catégories de `species_proportions` sont dans l'ordre Rouge, Rose, Blanc. Cet ordre est préservé par `sample_proportions`. Si vous souhaitez simplement connaître la proportion de plantes à fleurs roses dans l'échantillon, vous pouvez utiliser `item` :"
   ]
  },
  {
   "cell_type": "code",
   "execution_count": 12,
   "id": "24ea15c7",
   "metadata": {},
   "outputs": [
    {
     "data": {
      "text/plain": [
       "0.5033333333333333"
      ]
     },
     "execution_count": 12,
     "metadata": {},
     "output_type": "execute_result"
    }
   ],
   "source": [
    "# Sample proportion of Heads\n",
    "sample_distribution.item(1)"
   ]
  },
  {
   "cell_type": "markdown",
   "id": "6893d27f",
   "metadata": {},
   "source": [
    "Vous pouvez utiliser les opérations `sample_proportions` et les tableaux pour répondre à des questions basées uniquement sur les proportions des individus échantillonnés dans les différentes catégories. Vous ne pourrez pas répondre aux questions qui requièrent des informations plus détaillées sur l'échantillon, telles que les plantes échantillonnées qui possédaient chacune des différentes couleurs."
   ]
  },
  {
   "cell_type": "markdown",
   "id": "96c20163",
   "metadata": {
    "jp-MarkdownHeadingCollapsed": true
   },
   "source": [
    "## 5. Test des hypothèses : premier contact"
   ]
  },
  {
   "cell_type": "markdown",
   "id": "f9cd1967-8335-4fd4-b603-c0420f66283f",
   "metadata": {
    "jp-MarkdownHeadingCollapsed": true
   },
   "source": [
    "### Première étude de cas"
   ]
  },
  {
   "cell_type": "markdown",
   "id": "e2fa8f89-d5ba-4960-a55a-285ec2461c72",
   "metadata": {},
   "source": [
    "Les scientifiques des données sont souvent confrontés à des questions de type \"oui-non\" sur le monde. Vous avez vu quelques exemples de ces questions dans ce cours :\n",
    "\n",
    "- Le chocolat est-il bon pour la santé ?\n",
    "- L'eau de la pompe de Broad Street a-t-elle provoqué le choléra ?\n",
    "- La démographie californienne a-t-elle évolué au cours de la dernière décennie ?\n",
    "\n",
    "La réponse à ces questions dépend des données dont nous disposons. Les données de recensement concernant la Californie permettent de répondre à des questions démographiques avec pratiquement aucune incertitude quant à la réponse. Nous savons que l'eau de la pompe de Broad Street était contaminée par les déchets des victimes du choléra, et nous pouvons donc supposer qu'elle a causé le choléra.\n",
    "\n",
    "La question de savoir si le chocolat ou tout autre traitement est bon pour vous devra très certainement être tranchée par des experts médicaux, mais une première étape consiste à utiliser la science des données pour analyser des données provenant d'études et d'expériences randomisées.\n",
    "\n",
    "Dans ce chapitre, nous tenterons de répondre à des questions de ce type, en basant nos conclusions sur des échantillons aléatoires et des distributions empiriques."
   ]
  },
  {
   "cell_type": "markdown",
   "id": "0173099b",
   "metadata": {},
   "source": [
    "#### Évaluer un modèle\n",
    "En science des données, un *modèle* est un ensemble d'hypothèses sur les données. Souvent, les modèles comprennent des hypothèses sur les processus aléatoires utilisés pour générer les données.\n",
    "\n",
    "Parfois, les scientifiques des données doivent décider si un modèle est bon ou non. Dans cette section, nous examinerons un exemple de décision de ce type."
   ]
  },
  {
   "cell_type": "markdown",
   "id": "c02da696",
   "metadata": {
    "jp-MarkdownHeadingCollapsed": true
   },
   "source": [
    "#### Sélection du jury\n",
    "\n",
    "La science des données peut être un outil puissant pour dénoncer le racisme et les inégalités dans notre société. Cette section traite d'une affaire dans laquelle les données ont fourni des preuves de partialité raciste dans la sélection des jurés.\n",
    "\n",
    "L'amendement VI de la Constitution des États-Unis stipule que \"dans toutes les poursuites pénales, l'accusé jouira du droit à un procès rapide et public, par un jury impartial de l'État et du district où le crime aura été commis\".\n",
    "\n",
    "L'une des caractéristiques d'un jury *impartial* est qu'il doit être sélectionné à partir d'un panel de jurés représentatif de la population de la région concernée. Un panel de jurés est un groupe de personnes choisies pour être des jurés potentiels. Le jury final du procès est sélectionné parmi eux par inclusion ou exclusion délibérée, et peut donc avoir n'importe quelle composition. Mais le panel plus large dont sont issus les jurés d'assises doit être représentatif de la population.\n",
    "\n",
    "La question de savoir si un jury est effectivement représentatif de la population d'une région a une implication juridique importante. Si un groupe de la population était systématiquement sous-représenté au sein du jury, cela pourrait soulever la question de l'impartialité du jury et, partant, de la régularité de la procédure pour l'accusé.\n",
    "\n",
    "C'est la question qui s'est posée dans l'affaire Robert Swain, un Noir condamné par la Cour suprême dans le comté de Talladega, en Alabama, en 1962. Il a fait appel de son inculpation jusqu'à la Cour suprême des États-Unis au motif que les Noirs étaient systématiquement exclus des jurys dans le comté de Talladega. La Cour suprême a rejeté son appel et Robert Swain a ensuite été condamné à la prison à vie.\n",
    "\n",
    "Cependant, notre analyse ci-dessous montre que les données ne sont pas en accord avec les conclusions tirées par la Cour. Au contraire, les données indiquent un biais dans le processus de sélection des jurés. Cette partialité du système de justice pénale reflétait les préjugés et l'injustice généralisés à l'encontre des Noirs à l'époque.\n",
    "\n",
    "Nous commencerons par examiner les détails numériques. Au moment du procès, seuls les hommes âgés de 21 ans ou plus pouvaient faire partie d'un jury dans le comté de Talladega. Dans cette population, 26 % des hommes étaient noirs. Comme c'est souvent le cas dans les procès avec jury, les jurés du procès de Robert Swain ont été sélectionnés à partir d'un panel de personnes censées être représentatives de la population des jurés éligibles. Or, seuls huit hommes parmi le panel de 100 hommes (soit 8 %) étaient noirs.\n",
    "\n",
    "Dans le cadre de son appel, Robert Swain a remis en question cet écart. En outre, il a souligné que tous les jurys du comté de Talladega, au cours des dix dernières années, n'avaient compté qu'un faible pourcentage de Noirs.\n",
    "\n",
    "La Cour suprême des États-Unis a examiné l'appel et a conclu que \"la disparité globale en termes de pourcentage était faible\". Mais cette affirmation était-elle raisonnable ? Si les jurés étaient sélectionnés au hasard parmi la population éligible du comté, il y aurait une certaine variation due au hasard. On n'obtiendrait pas exactement 26 jurés noirs sur chaque panel de 100 personnes. Mais s'attendrait-on à ce qu'il y en ait aussi peu que huit ?\n",
    "\n",
    "La réponse est non. Nous allons l'établir et discuter ensuite de certains des nombreux biais impliqués."
   ]
  },
  {
   "cell_type": "markdown",
   "id": "835ccb9c",
   "metadata": {
    "jp-MarkdownHeadingCollapsed": true
   },
   "source": [
    "#### Un modèle de sélection aléatoire\n",
    "\n",
    "Une vision des données - un modèle, en d'autres termes - est que le panel a été sélectionné au hasard et qu'il s'est retrouvé avec un petit nombre de panélistes noirs par le simple fait du hasard.\n",
    "\n",
    "Étant donné que le jury était censé ressembler à la population de tous les jurés éligibles, il est important d'évaluer le modèle de sélection aléatoire. Voyons s'il résiste à un examen approfondi.\n",
    "\n",
    "Le modèle précise les détails d'un processus aléatoire. Il indique que les données sont comparables à un échantillon aléatoire d'une population dont 26 % des membres sont noirs. Nous sommes bien placés pour évaluer ce modèle pour les raisons suivantes.\n",
    "\n",
    "- Nous pouvons simuler des données sur la base du modèle. En d'autres termes, nous pouvons simuler un tirage au sort au sein d'une population dont 26 % des membres sont noirs.\n",
    "- Notre simulation montrera à quoi ressemblerait un panel ***si*** il était sélectionné au hasard.\n",
    "- Nous pouvons ensuite comparer les résultats de la simulation avec la composition d'un jury réel.\n",
    "- Si les résultats de notre simulation ne correspondent pas à la composition du jury lors du procès, cela constituera une preuve contre le modèle de sélection aléatoire. Par conséquent, il s'agira d'une preuve contre l'équité du procès.\n",
    "\n",
    "Examinons le processus étape par étape.\n",
    "\n",
    "#### La statistique\n",
    "Tout d'abord, nous devons choisir une statistique à simuler. La statistique doit pouvoir nous aider à choisir entre le modèle et d'autres points de vue sur les données. Le modèle dit que le panel a été tiré au sort parmi la population éligible. Le point de vue alternatif est le cas de Robert Swain, à savoir que le panel contenait trop peu de panélistes noirs pour avoir été tiré au sort. Une statistique naturelle est donc le nombre de panélistes noirs dans l'échantillon. De petites valeurs de la statistique favoriseront le point de vue de Robert Swain.\n",
    "\n",
    "#### Simulation de la statistique dans le cadre du modèle\n",
    "Si le modèle était vrai, quelle serait la taille typique de la statistique ? Pour répondre à cette question, nous allons simuler la statistique sous l'hypothèse d'une sélection aléatoire et examiner la distribution des résultats.\n",
    "\n",
    "##### Simulation d'une valeur de la statistique\n",
    "\n",
    "Nous pouvons utiliser `sample_proportions` pour simuler une valeur de la statistique. La taille de l'échantillon est de 100, soit la taille du panel. La distribution à partir de laquelle nous allons échantillonner est la distribution dans la population des jurés éligibles. Puisque 26% d'entre eux étaient noirs, nous échantillonnerons à partir de la distribution spécifiée par les proportions [0.26, 0.74]."
   ]
  },
  {
   "cell_type": "code",
   "execution_count": 2,
   "id": "305ef1c4",
   "metadata": {},
   "outputs": [],
   "source": [
    "sample_size = 100\n",
    "eligible_population = [0.26, 0.74]"
   ]
  },
  {
   "cell_type": "markdown",
   "id": "60315566",
   "metadata": {},
   "source": [
    "Les catégories dans le tableau de sortie de `sample_proportions` sont dans le même ordre que dans le tableau d'entrée. Ainsi, la proportion de jurés noirs dans l'échantillon aléatoire est `item(0)` du tableau de sortie. Exécutez la cellule ci-dessous plusieurs fois pour voir comment la proportion de jurés noirs varie dans un panel sélectionné au hasard. Voyez-vous des valeurs aussi basses que 0,08 ?"
   ]
  },
  {
   "cell_type": "code",
   "execution_count": 3,
   "id": "48f03a4a",
   "metadata": {},
   "outputs": [
    {
     "data": {
      "text/plain": [
       "0.27"
      ]
     },
     "execution_count": 3,
     "metadata": {},
     "output_type": "execute_result"
    }
   ],
   "source": [
    "sample_proportions(sample_size, eligible_population).item(0)"
   ]
  },
  {
   "cell_type": "markdown",
   "id": "f70af1b0",
   "metadata": {},
   "source": [
    "L'effectif de chaque catégorie est égal à la taille de l'échantillon multipliée par la proportion correspondante. Nous pouvons donc tout aussi bien simuler des effectifs au lieu de proportions.\n",
    "\n",
    "Définissons une fonction à cet effet. La fonction tirera un panel au hasard et renverra le nombre de panélistes noirs."
   ]
  },
  {
   "cell_type": "code",
   "execution_count": 4,
   "id": "d3ad2bfd",
   "metadata": {},
   "outputs": [],
   "source": [
    "def one_simulated_count():\n",
    "    return sample_size * sample_proportions(sample_size, eligible_population).item(0)"
   ]
  },
  {
   "cell_type": "markdown",
   "id": "6e6b79f3",
   "metadata": {},
   "source": [
    "#### Simulation de plusieurs valeurs de la statistique ###\n",
    "\n",
    "Notre analyse se concentre sur la variabilité des comptages. Générons 10 000 valeurs simulées de l'effectif et voyons comment elles varient. Comme d'habitude, nous utiliserons une boucle `for` et rassemblerons tous les comptages simulés dans un tableau."
   ]
  },
  {
   "cell_type": "code",
   "execution_count": 5,
   "id": "998a1d78",
   "metadata": {},
   "outputs": [],
   "source": [
    "counts = make_array()\n",
    "repetitions = 10000\n",
    "for i in np.arange(repetitions):\n",
    "    counts = np.append(counts, one_simulated_count())"
   ]
  },
  {
   "cell_type": "markdown",
   "id": "160fb97e",
   "metadata": {},
   "source": [
    "#### La prédiction dans le cadre du modèle de sélection aléatoire\n",
    "Pour interpréter les résultats de notre simulation, nous pouvons les visualiser sous la forme d'un histogramme empirique des effectifs simulés."
   ]
  },
  {
   "cell_type": "code",
   "execution_count": 6,
   "id": "842e0fe9",
   "metadata": {},
   "outputs": [
    {
     "data": {
      "image/png": "[encoded data removed]",
      "text/plain": [
       "<Figure size 432x288 with 1 Axes>"
      ]
     },
     "metadata": {},
     "output_type": "display_data"
    }
   ],
   "source": [
    "Table().with_column(\n",
    "    'Count in a Random Sample', counts\n",
    ").hist(bins = np.arange(5.5, 46.6, 1))"
   ]
  },
  {
   "cell_type": "markdown",
   "id": "d302ef6b",
   "metadata": {},
   "source": [
    "L'histogramme nous montre ce que le modèle de sélection aléatoire prévoit pour notre statistique, le nombre de panélistes noirs dans l'échantillon.\n",
    "\n",
    "Pour générer chaque nombre simulé, nous avons tiré 100 fois au hasard dans une population dont 26 % des membres sont noirs. Ainsi, comme on peut s'y attendre, la plupart des chiffres simulés se situent autour de 26. Ils ne sont pas exactement 26 : il y a une certaine variation. Les chiffres vont d'environ 15 à environ 40."
   ]
  },
  {
   "cell_type": "markdown",
   "id": "41f44ee3",
   "metadata": {},
   "source": [
    "#### Comparaison entre la prédiction et les données\n",
    "Dans le panel sélectionné pour l'essai, il y avait huit panélistes noirs. L'histogramme des nombres simulés est redessiné ci-dessous, la valeur huit étant représentée par un point rouge sur l'axe horizontal. Le point est très éloigné dans la queue gauche de l'histogramme. Sur les 10 000 comptages simulés par sélection aléatoire, très peu se sont révélés être de huit ou moins."
   ]
  },
  {
   "cell_type": "code",
   "execution_count": 4,
   "id": "9e5b4c01",
   "metadata": {},
   "outputs": [
    {
     "ename": "NameError",
     "evalue": "name 'Table' is not defined",
     "output_type": "error",
     "traceback": [
      "\u001b[0;31m---------------------------------------------------------------------------\u001b[0m",
      "\u001b[0;31mNameError\u001b[0m                                 Traceback (most recent call last)",
      "Cell \u001b[0;32mIn[4], line 1\u001b[0m\n\u001b[0;32m----> 1\u001b[0m \u001b[43mTable\u001b[49m()\u001b[38;5;241m.\u001b[39mwith_column(\n\u001b[1;32m      2\u001b[0m     \u001b[38;5;124m'\u001b[39m\u001b[38;5;124mCount in a Random Sample\u001b[39m\u001b[38;5;124m'\u001b[39m, counts\n\u001b[1;32m      3\u001b[0m )\u001b[38;5;241m.\u001b[39mhist(bins \u001b[38;5;241m=\u001b[39m np\u001b[38;5;241m.\u001b[39marange(\u001b[38;5;241m5.5\u001b[39m, \u001b[38;5;241m46.6\u001b[39m, \u001b[38;5;241m1\u001b[39m))\n\u001b[1;32m      4\u001b[0m plots\u001b[38;5;241m.\u001b[39mylim(\u001b[38;5;241m-\u001b[39m\u001b[38;5;241m0.002\u001b[39m, \u001b[38;5;241m0.09\u001b[39m)\n\u001b[1;32m      5\u001b[0m plots\u001b[38;5;241m.\u001b[39mscatter(\u001b[38;5;241m8\u001b[39m, \u001b[38;5;241m0\u001b[39m, color\u001b[38;5;241m=\u001b[39m\u001b[38;5;124m'\u001b[39m\u001b[38;5;124mred\u001b[39m\u001b[38;5;124m'\u001b[39m, s\u001b[38;5;241m=\u001b[39m\u001b[38;5;241m30\u001b[39m);\n",
      "\u001b[0;31mNameError\u001b[0m: name 'Table' is not defined"
     ]
    }
   ],
   "source": [
    "Table().with_column(\n",
    "    'Count in a Random Sample', counts\n",
    ").hist(bins = np.arange(5.5, 46.6, 1))\n",
    "plots.ylim(-0.002, 0.09)\n",
    "plots.scatter(8, 0, color='red', s=30);"
   ]
  },
  {
   "cell_type": "markdown",
   "id": "f69ca512",
   "metadata": {},
   "source": [
    "#### Conclusion de l'analyse des données\n",
    "\n",
    "Le graphique ci-dessus est une représentation visuelle du biais dans le processus de sélection. Il montre que si nous sélectionnons un panel de 100 personnes au hasard dans la population éligible, il est très peu probable que nous obtenions un nombre de panélistes noirs aussi faible que les huit observés dans le panel lors de l'essai.\n",
    "\n",
    "Cela prouve que le modèle de sélection aléatoire des jurés dans le panel n'est pas cohérent avec les données du panel. Bien qu'il soit *possible* que le panel ait été généré par hasard, notre simulation démontre que c'est extrêmement improbable.\n",
    "\n",
    "La réalité du panel du procès ne correspond pas du tout à l'hypothèse du modèle de sélection aléatoire de la population éligible. Lorsque les données et un modèle sont incohérents, le modèle est difficile à justifier. Après tout, les données sont réelles. Le modèle n'est qu'un ensemble d'hypothèses. Lorsque les hypothèses ne correspondent pas à la réalité, nous devons les remettre en question.\n",
    "\n",
    "Par conséquent, la conclusion la plus raisonnable est que l'hypothèse de la sélection aléatoire n'est pas justifiée pour ce jury. En d'autres termes, la conclusion la plus raisonnable est que le jury n'a pas été sélectionné par échantillonnage aléatoire à partir de la population des jurés éligibles. Nonobstant l'avis de la Cour suprême, la différence entre 26 % et 8 % n'est pas si faible qu'elle puisse être expliquée par le seul hasard."
   ]
  },
  {
   "cell_type": "markdown",
   "id": "d7f1f945",
   "metadata": {},
   "source": [
    "#### Biais statistique\n",
    "\n",
    "L'analyse ci-dessus fournit des preuves quantitatives de l'iniquité du procès de Robert Swain. Les données soutiennent sa position selon laquelle il n'a pas pu bénéficier du jury impartial auquel il avait droit en vertu de la Constitution américaine.\n",
    "\n",
    "D'autres données montrent que l'exclusion des membres noirs du jury était généralisée. L'arrêt de la Cour suprême, rédigé en 1965, inclut des preuves fournies par Robert Swain selon lesquelles \"seuls 10 à 15 % des [...] jurys tirés de l'urne depuis 1953 étaient [noirs], le pourcentage atteignant 23 % dans un seul cas\". Regardez où se situent 10 % et 15 % sur l'axe horizontal de l'histogramme ci-dessus. De telles valeurs sont également très peu probables dans le cadre d'une sélection aléatoire au sein de la population éligible.\n",
    "\n",
    "Lorsqu'un processus produit des erreurs qui vont systématiquement dans une direction - comme le fait que le pourcentage de panélistes noirs soit toujours plus faible que prévu - les spécialistes des données disent que le processus est *biaisé*. La quantification de ces biais est une responsabilité importante de la science des données.\n",
    "\n",
    "Des arguments tels que celui présenté dans cette section sont aujourd'hui plus fréquemment présentés devant les tribunaux. Dans les années 1960, la Cour suprême a examiné les données, mais a tiré la conclusion erronée que \"la disparité globale en pourcentage a été faible\". En ce qui concerne le sens du mot \"faible\", il était erroné de s'appuyer sur ce qui semblait simplement raisonnable à la majorité de la Cour. Les opinions sur ce qui est raisonnable ne sont pas seulement purement subjectives, elles sont également vulnérables à l'influence des préjugés raciaux omniprésents. Si les arguments dans l'affaire avaient inclus l'analyse quantitative de cette section, la Cour n'aurait peut-être pas conclu que la disparité en pourcentage était faible."
   ]
  },
  {
   "cell_type": "markdown",
   "id": "17c0189f",
   "metadata": {},
   "source": [
    "#### Préjugés racistes\n",
    "Le biais statistique dans le processus de sélection est né des préjugés racistes profondément ancrés dans le système juridique de l'époque.\n",
    "\n",
    "Par exemple, l'arrêt de la Cour suprême indique que les jurés du comté de Talladega ont été sélectionnés à partir d'une liste de noms que les commissaires au jury ont obtenue à partir \"d'annuaires municipaux, de listes d'inscription, de listes de clubs et d'églises, de conversations avec d'autres personnes de la communauté, blanches et [non blanches], et de connaissances personnelles et professionnelles\". Ce processus était clairement biaisé au détriment des Noirs et en faveur des personnes appartenant aux cercles sociaux et professionnels des commissaires. Cette exclusion systématique des Noirs des listes de jurés a eu pour conséquence que très peu de Noirs ont été sélectionnés pour faire partie des jurys.\n",
    "\n",
    "Même lorsqu'il y avait des Noirs dans les jurys, ils n'étaient généralement pas retenus dans le jury final. Sur les huit Noirs présents dans le jury de Robert Swain, deux ont été excusés et six ont été éliminés par l'accusation dans le cadre d'une procédure appelée \"récusation péremptoire\". Dans le cadre de cette procédure, les avocats des deux parties pouvaient exclure ou \"rayer\" un certain nombre de membres du jury sans donner de raison.\n",
    "\n",
    "L'argument de l'injustice des récusations péremptoires a constitué une part importante de l'appel de Robert Swain. Il a noté que \"les procureurs ont constamment et systématiquement exercé leurs récusations pour empêcher tous les membres noirs du jury de faire partie du jury lui-même\". La Cour a reconnu qu'il n'y avait jamais eu de juré noir dans une affaire civile ou pénale dans le comté de Talladega. Elle a néanmoins rejeté le recours.\n",
    "\n",
    "Les préjugés racistes dans le système judiciaire découlent des préjugés de la société. Les préjugés et l'injustice à l'égard des Noirs ont été si répandus pendant si longtemps que, dans de nombreuses parties de la société, ils sont devenus une façon presque normale de penser et d'agir. En tant que membres de la société, les juges de la Cour suprême n'étaient pas à l'abri de ces préjugés. La majorité de la Cour a présenté sa décision comme l'interprétation la plus appropriée et la plus logique de la loi. Mais ce n'est pas le cas. La décision de la Cour sur les récusations péremptoires a finalement été renversée après des batailles juridiques qui ont duré 20 ans.\n",
    "\n",
    "Robert Swain s'est battu contre un système de justice pénale qui lui était défavorable. Nous avons pu exposer ici un seul aspect des préjugés et du racisme systémiques auxquels il a été confronté et contre lesquels tant d'autres Noirs se sont battus. Pour beaucoup, ce combat se poursuit encore aujourd'hui. Nous pensons que la science des données peut être un allié puissant."
   ]
  },
  {
   "cell_type": "markdown",
   "id": "93a40ac3",
   "metadata": {},
   "source": [
    "#### Lectures complémentaires\n",
    "\n",
    "Robert Swain a été représenté devant la Cour suprême des États-Unis par [Constance Baker Motley] (https://en.wikipedia.org/wiki/Constance_Baker_Motley), la première femme afro-américaine à plaider une affaire devant cette Cour. Elle a plaidé 10 affaires devant la Cour suprême et n'en a perdu qu'une seule, celle de Robert Swain en 1965.\n",
    "\n",
    "[Thurgood Marshall] (https://en.wikipedia.org/wiki/Thurgood_Marshall), qui est devenu en 1967 le premier juge afro-américain de la Cour suprême, avait étudié la décision de la Cour dans l'affaire Robert Swain et insisté sur la nécessité d'éliminer les récusations péremptoires fondées uniquement sur l'ethnie. C'est ce qu'a fait la Cour suprême en 1986 dans l'affaire [Batson v. Kentucky] (https://supreme.justia.com/cases/federal/us/476/79/).\n",
    "\n",
    "Mais Marshall s'interrogeait sur l'efficacité de la décision Batson. Il s'attendait à ce que certaines équipes juridiques la contournent en trouvant des moyens ostensiblement neutres sur le plan racial d'exclure les jurés noirs. Dans son [avis] (https://supreme.justia.com/cases/federal/us/476/79/#tab-opinion-1956655) concordant avec la majorité de la Cour, il a recommandé d'aller plus loin et d'interdire complètement les récusations péremptoires. Sa conclusion est la suivante : \"J'applaudis la décision de la Cour selon laquelle l'utilisation racialement discriminatoire des récusations péremptoires viole la clause de protection égale, et je me joins à l'avis de la Cour. Toutefois, ce n'est qu'en interdisant totalement les récusations péremptoires que l'on pourra mettre fin à cette discrimination\". Les préoccupations de Thurgood Marshall étaient prémonitoires, comme vous le verrez dans certaines des lectures ci-dessous.\n",
    "\n",
    "En 2013, Constance Baker Motley a reçu à titre posthume une [médaille d'or du Congrès] (https://www.congress.gov/bill/113th-congress/house-bill/3097/text?r=5&s=1) \"en reconnaissance de ses contributions et services durables aux États-Unis\". À l'appui de cette distinction, les membres de la Chambre des représentants ont écrit : \"La seule défaite de Constance Baker Motley devant la Cour suprême des États-Unis était dans l'affaire Swain v. Alabama, 380 U.S. 202 (1965), une affaire dans laquelle la Cour a refusé d'interdire les récusations péremptoires fondées sur la race dans les affaires impliquant des accusés afro-américains et qui a ensuite été renversée dans l'affaire Batson v. Kentucky, 476 U.S. 79 (1986), pour des motifs qui avaient été largement invoqués par Constance Baker Motley dans l'affaire Swain.\"\n",
    "\n",
    "Thurgood Marshall et Constance Baker Motley avaient d'autres liens. Par exemple, lorsqu'elle était étudiante à la faculté de droit de Columbia, Constance Baker Motley a travaillé comme auxiliaire juridique pour Thurgood Marshall. Quelques années plus tard, elle a rédigé la plainte initiale dans l'affaire Brown v. Board of Education à Topeka, qui a fait date en matière de droits civils et qui a été gagnée par Thurgood Marshall en 1954.\n",
    "\n",
    "Le [NAACP Legal Defense and Educational Fund] (https://www.naacpldf.org/) a défendu Robert [Swain's case] (https://www.naacpldf.org/press-release/ldf-marks-anniversary-of-batson-decision-reaffirms-importance-of-impartial-jury-selection/) et a ensuite soutenu l'affaire Batson.\n",
    "\n",
    "Malgré la décision Batson, les préjugés racistes persistent dans la sélection des jurés. Le juriste et ancien élève de la Berkeley Law School [Richard L. Harris Jr.] (https://www.thehistorymakers.org/biography/robert-lewis-harris) a fourni un [compte rendu détaillé] (https://scholarship.law.wm.edu/cgi/viewcontent.cgi?article=1944&context=wmlr) des préjugés perpétués par les récusations péremptoires.  \n",
    "\n",
    "Dans leur rapport de 2020 [Whitewashing the Jury Box](http://www.clrc.ca.gov/CRPC/Pub/Panelist_Materials/PM-20210325-Semel.pdf) : How California Perpetuates the Discriminatory Exclusion of Black and Latinx Jurors (Comment la Californie perpétue l'exclusion discriminatoire des jurés noirs et latinos),\n",
    "(https://www.law.berkeley.edu/our-faculty/faculty-profiles/elisabeth-semel/) et ses coauteurs de la Berkeley Law Death Penalty Clinic décrivent comment les préoccupations de Thurgood Marshall concernant l'efficacité de l'arrêt Batson sont justifiées par l'expérience des tribunaux californiens.  \n",
    "\n",
    "Le [jugement] (https://supreme.justia.com/cases/federal/us/380/202/) de la Cour suprême des États-Unis dans l'affaire Swain v. Alabama peut être pénible à lire. Nous l'avons inclus parce que certains extraits sont cités dans la section."
   ]
  },
  {
   "cell_type": "markdown",
   "id": "40cc3f15",
   "metadata": {
    "jp-MarkdownHeadingCollapsed": true
   },
   "source": [
    "### Test d'hypothèses avec plus de deux catégories (facultatif)\n",
    "\n",
    "La question de savoir si les jurys sont représentatifs de la population éligible reste importante. Nous l'aborderons dans le contexte de jurys plus récents que celui de Robert Swain dans les années 1960.\n",
    "\n",
    "Le processus général d'évaluation sera le même que précédemment. Mais cette fois-ci, nous prendrons en considération des panélistes appartenant à plusieurs catégories raciales et ethniques, et non pas seulement à deux d'entre elles. D'un point de vue technique, cela signifie que nous devrons trouver une nouvelle statistique à simuler. Une fois que nous l'aurons simulée et que nous serons parvenus à une conclusion, nous examinerons certaines des causes sous-jacentes des écarts que nous observons."
   ]
  },
  {
   "cell_type": "markdown",
   "id": "b8831a68",
   "metadata": {},
   "source": [
    "#### Sélection du jury dans le comté d'Alameda\n",
    "\n",
    "En 2010, l'American Civil Liberties Union (ACLU) of Northern California a présenté un [rapport] (https://www.aclunc.org/sites/default/files/racial_and_ethnic_disparities_in_alameda_county_jury_pools.pdf \"ACLU_NC report\") sur la sélection des jurés dans le comté d'Alameda, en Californie. Ce rapport conclut que certains groupes raciaux et ethniques sont sous-représentés parmi les jurés du comté d'Alameda, et suggère certaines réformes de la procédure d'affectation des jurés éligibles aux jurys. Dans cette section, nous analyserons les données fournies par l'ACLU.\n",
    "\n",
    "Comme vous l'avez vu dans la section précédente, les jurés d'assises sont sélectionnés à partir d'un panel de jurés plus large. Selon la loi, le panel de jurés est censé être représentatif de la population des jurés éligibles. En Californie, le mot \"représentatif\" est clairement défini comme \"sélectionné au hasard\". L'article 197 du code de procédure civile de Californie stipule que \"toutes les personnes sélectionnées pour faire partie d'un jury doivent être choisies au hasard, à partir d'une ou de plusieurs sources comprenant un échantillon représentatif de la population de la région desservie par le tribunal\".\n",
    "\n",
    "Ici, \"sélectionné pour faire partie d'un jury\" signifie être sélectionné pour faire partie du panel de jurés."
   ]
  },
  {
   "cell_type": "markdown",
   "id": "64a14be3",
   "metadata": {},
   "source": [
    "#### Composition des panels dans le comté d'Alameda\n",
    "\n",
    "L'étude menée par l'ACLU de Californie du Nord portait sur la composition raciale et ethnique des jurys dans le comté d'Alameda. L'ACLU a compilé des données sur la composition des jurys dans 11 procès pour crime dans le comté d'Alameda en 2009 et 2010. Dans ces jurys, le nombre total de personnes qui se sont présentées pour faire partie du jury était de 1453. L'ACLU a recueilli des données démographiques sur tous ces jurés prospectifs et les a comparées à la composition de tous les jurés éligibles dans le comté.\n",
    "\n",
    "Les données sont présentées ci-dessous dans un tableau intitulé \"juré\". Dans chaque catégorie, la première valeur numérique est la proportion de tous les candidats jurés éligibles dans cette catégorie. La deuxième valeur est la proportion de personnes appartenant à cette catégorie parmi celles qui se sont présentées au processus de sélection du jury.\n",
    "\n",
    "Les intitulés des différentes catégories sont tirés du rapport de l'ACLU, qui précise que \"la catégorie \"autre\" comprend les personnes qui s'identifient comme des métis sans identifier une identité raciale principale, et les personnes qui n'ont pas identifié de race ou d'ethnicité\". L'étiquette \"Asiatique/PI\" signifie \"Asiatique ou insulaire du Pacifique\". L'étiquette \"Noir/AA\" signifie \"Noir ou Afro-Américain\"."
   ]
  },
  {
   "cell_type": "code",
   "execution_count": 2,
   "id": "2c87d56c",
   "metadata": {},
   "outputs": [
    {
     "data": {
      "text/html": [
       "<table border=\"1\" class=\"dataframe\">\n",
       "    <thead>\n",
       "        <tr>\n",
       "            <th>Ethnicity</th> <th>Eligible</th> <th>Panels</th>\n",
       "        </tr>\n",
       "    </thead>\n",
       "    <tbody>\n",
       "        <tr>\n",
       "            <td>Asian/PI </td> <td>0.15    </td> <td>0.26  </td>\n",
       "        </tr>\n",
       "        <tr>\n",
       "            <td>Black/AA </td> <td>0.18    </td> <td>0.08  </td>\n",
       "        </tr>\n",
       "        <tr>\n",
       "            <td>Caucasian</td> <td>0.54    </td> <td>0.54  </td>\n",
       "        </tr>\n",
       "        <tr>\n",
       "            <td>Hispanic </td> <td>0.12    </td> <td>0.08  </td>\n",
       "        </tr>\n",
       "        <tr>\n",
       "            <td>Other    </td> <td>0.01    </td> <td>0.04  </td>\n",
       "        </tr>\n",
       "    </tbody>\n",
       "</table>"
      ],
      "text/plain": [
       "Ethnicity | Eligible | Panels\n",
       "Asian/PI  | 0.15     | 0.26\n",
       "Black/AA  | 0.18     | 0.08\n",
       "Caucasian | 0.54     | 0.54\n",
       "Hispanic  | 0.12     | 0.08\n",
       "Other     | 0.01     | 0.04"
      ]
     },
     "execution_count": 2,
     "metadata": {},
     "output_type": "execute_result"
    }
   ],
   "source": [
    "jury = Table().with_columns(\n",
    "    'Ethnicity', make_array('Asian/PI', 'Black/AA', 'Caucasian', 'Hispanic', 'Other'),\n",
    "    'Eligible', make_array(0.15, 0.18, 0.54, 0.12, 0.01),\n",
    "    'Panels', make_array(0.26, 0.08, 0.54, 0.08, 0.04)\n",
    ")\n",
    "\n",
    "jury"
   ]
  },
  {
   "cell_type": "markdown",
   "id": "72d8bff5",
   "metadata": {},
   "source": [
    "Certaines ethnies sont surreprésentées et d'autres sont sous-représentées dans les jurys de l'étude. En particulier, les membres des catégories Noirs/AA et Hispaniques sont sous-représentés.\n",
    "\n",
    "Un diagramme à barres permet de visualiser les différences."
   ]
  },
  {
   "cell_type": "code",
   "execution_count": 3,
   "id": "56c1722e",
   "metadata": {},
   "outputs": [
    {
     "data": {
      "image/png": "[encoded data removed]",
      "text/plain": [
       "<Figure size 432x288 with 1 Axes>"
      ]
     },
     "metadata": {},
     "output_type": "display_data"
    }
   ],
   "source": [
    "jury.barh('Ethnicity')"
   ]
  },
  {
   "cell_type": "markdown",
   "id": "44da1883",
   "metadata": {},
   "source": [
    "#### Comparaison avec des panels sélectionnés au hasard\n",
    "Que se passe-t-il si nous sélectionnons un échantillon aléatoire de 1 453 personnes dans la population des jurés éligibles ? La répartition de leurs origines ethniques ressemblera-t-elle à la répartition des panels ci-dessus ?\n",
    "\n",
    "Nous pouvons répondre à ces questions en utilisant `sample_proportions` et en ajoutant au tableau `jury` une colonne des proportions de notre échantillon.\n",
    "\n",
    "**Les échantillons aléatoires de jurés potentiels sont sélectionnés sans remplacement. Cependant, lorsque la taille d'un échantillon est petite par rapport à la taille de la population, l'échantillonnage sans remplacement ressemble à l'échantillonnage avec remplacement ; les proportions dans la population ne changent pas beaucoup entre les tirages. La population des jurés éligibles dans le comté d'Alameda s'élève à plus d'un million de personnes et, par rapport à cette population, un échantillon d'environ 1 500 personnes est assez petit. Nous allons donc procéder à un échantillonnage avec remplacement.\n",
    "\n",
    "Dans la cellule ci-dessous, nous échantillonnons au hasard 1453 fois la distribution des jurés éligibles et nous affichons la distribution de l'échantillon aléatoire ainsi que les distributions des jurés éligibles et du panel dans les données."
   ]
  },
  {
   "cell_type": "code",
   "execution_count": 4,
   "id": "44ae09d2",
   "metadata": {},
   "outputs": [
    {
     "data": {
      "text/html": [
       "<table border=\"1\" class=\"dataframe\">\n",
       "    <thead>\n",
       "        <tr>\n",
       "            <th>Ethnicity</th> <th>Eligible</th> <th>Panels</th> <th>Random Sample</th>\n",
       "        </tr>\n",
       "    </thead>\n",
       "    <tbody>\n",
       "        <tr>\n",
       "            <td>Asian/PI </td> <td>0.15    </td> <td>0.26  </td> <td>0.14384      </td>\n",
       "        </tr>\n",
       "        <tr>\n",
       "            <td>Black/AA </td> <td>0.18    </td> <td>0.08  </td> <td>0.163799     </td>\n",
       "        </tr>\n",
       "        <tr>\n",
       "            <td>Caucasian</td> <td>0.54    </td> <td>0.54  </td> <td>0.538197     </td>\n",
       "        </tr>\n",
       "        <tr>\n",
       "            <td>Hispanic </td> <td>0.12    </td> <td>0.08  </td> <td>0.143152     </td>\n",
       "        </tr>\n",
       "        <tr>\n",
       "            <td>Other    </td> <td>0.01    </td> <td>0.04  </td> <td>0.0110117    </td>\n",
       "        </tr>\n",
       "    </tbody>\n",
       "</table>"
      ],
      "text/plain": [
       "Ethnicity | Eligible | Panels | Random Sample\n",
       "Asian/PI  | 0.15     | 0.26   | 0.14384\n",
       "Black/AA  | 0.18     | 0.08   | 0.163799\n",
       "Caucasian | 0.54     | 0.54   | 0.538197\n",
       "Hispanic  | 0.12     | 0.08   | 0.143152\n",
       "Other     | 0.01     | 0.04   | 0.0110117"
      ]
     },
     "execution_count": 4,
     "metadata": {},
     "output_type": "execute_result"
    }
   ],
   "source": [
    "eligible_population = jury.column('Eligible')\n",
    "sample_distribution = sample_proportions(1453, eligible_population)\n",
    "panels_and_sample = jury.with_column('Random Sample', sample_distribution)\n",
    "panels_and_sample"
   ]
  },
  {
   "cell_type": "markdown",
   "id": "c588a448",
   "metadata": {},
   "source": [
    "La distribution de l'échantillon aléatoire est assez proche de la distribution de la population éligible, contrairement à la distribution des panels. Comme toujours, la visualisation est utile."
   ]
  },
  {
   "cell_type": "code",
   "execution_count": 5,
   "id": "96169987",
   "metadata": {},
   "outputs": [
    {
     "data": {
      "image/png": "[encoded data removed]",
      "text/plain": [
       "<Figure size 432x288 with 1 Axes>"
      ]
     },
     "metadata": {},
     "output_type": "display_data"
    }
   ],
   "source": [
    "panels_and_sample.barh('Ethnicity')"
   ]
  },
  {
   "cell_type": "markdown",
   "id": "99ca338f",
   "metadata": {},
   "source": [
    "Le diagramme à barres montre que la distribution de l'échantillon aléatoire ressemble à la population éligible, mais pas celle des panels."
   ]
  },
  {
   "cell_type": "markdown",
   "id": "d4bc9a7b",
   "metadata": {},
   "source": [
    "Pour déterminer si cette observation est propre à un échantillon aléatoire ou si elle est plus générale, nous pouvons simuler plusieurs panels selon le modèle de sélection aléatoire et voir ce que les simulations prédisent. Mais nous ne pourrons pas examiner des milliers de diagrammes à barres comme celui ci-dessus. Nous avons besoin d'une statistique qui nous aidera à évaluer si le modèle de sélection aléatoire est étayé par les données."
   ]
  },
  {
   "cell_type": "markdown",
   "id": "8cc8a401",
   "metadata": {},
   "source": [
    "#### Une nouvelle statistique : la distance entre deux distributions\n",
    "Nous savons comment mesurer la différence entre deux nombres : si les nombres sont $x$ et $y$, la distance entre eux est $\\vert x-y \\vert$. Nous devons maintenant quantifier la distance entre deux distributions. Par exemple, nous devons mesurer la distance entre les distributions bleue et jaune ci-dessous."
   ]
  },
  {
   "cell_type": "code",
   "execution_count": 6,
   "id": "c7e6143b",
   "metadata": {},
   "outputs": [
    {
     "data": {
      "image/png": "[encoded data removed]",
      "text/plain": [
       "<Figure size 432x288 with 1 Axes>"
      ]
     },
     "metadata": {},
     "output_type": "display_data"
    }
   ],
   "source": [
    "jury.barh('Ethnicity')"
   ]
  },
  {
   "cell_type": "markdown",
   "id": "cfa2365e",
   "metadata": {},
   "source": [
    "Pour ce faire, nous allons calculer une quantité appelée \"distance de variation totale\" entre deux distributions. Le calcul est une extension de la méthode utilisée pour trouver la distance entre deux nombres.\n",
    "\n",
    "Pour calculer la distance de variation totale, nous commençons par trouver la différence entre les deux proportions dans chaque catégorie."
   ]
  },
  {
   "cell_type": "code",
   "execution_count": 7,
   "id": "13097a6d",
   "metadata": {},
   "outputs": [
    {
     "data": {
      "text/html": [
       "<table border=\"1\" class=\"dataframe\">\n",
       "    <thead>\n",
       "        <tr>\n",
       "            <th>Ethnicity</th> <th>Eligible</th> <th>Panels</th> <th>Difference</th>\n",
       "        </tr>\n",
       "    </thead>\n",
       "    <tbody>\n",
       "        <tr>\n",
       "            <td>Asian/PI </td> <td>0.15    </td> <td>0.26  </td> <td>0.11      </td>\n",
       "        </tr>\n",
       "        <tr>\n",
       "            <td>Black/AA </td> <td>0.18    </td> <td>0.08  </td> <td>-0.1      </td>\n",
       "        </tr>\n",
       "        <tr>\n",
       "            <td>Caucasian</td> <td>0.54    </td> <td>0.54  </td> <td>0         </td>\n",
       "        </tr>\n",
       "        <tr>\n",
       "            <td>Hispanic </td> <td>0.12    </td> <td>0.08  </td> <td>-0.04     </td>\n",
       "        </tr>\n",
       "        <tr>\n",
       "            <td>Other    </td> <td>0.01    </td> <td>0.04  </td> <td>0.03      </td>\n",
       "        </tr>\n",
       "    </tbody>\n",
       "</table>"
      ],
      "text/plain": [
       "Ethnicity | Eligible | Panels | Difference\n",
       "Asian/PI  | 0.15     | 0.26   | 0.11\n",
       "Black/AA  | 0.18     | 0.08   | -0.1\n",
       "Caucasian | 0.54     | 0.54   | 0\n",
       "Hispanic  | 0.12     | 0.08   | -0.04\n",
       "Other     | 0.01     | 0.04   | 0.03"
      ]
     },
     "execution_count": 7,
     "metadata": {},
     "output_type": "execute_result"
    }
   ],
   "source": [
    "# Augment the table with a column of differences between proportions\n",
    "\n",
    "jury_with_diffs = jury.with_column(\n",
    "    'Difference', jury.column('Panels') - jury.column('Eligible')\n",
    ")\n",
    "jury_with_diffs"
   ]
  },
  {
   "cell_type": "markdown",
   "id": "a43b6b9a",
   "metadata": {},
   "source": [
    "Examinez la colonne \"Différence\" et remarquez que la somme de ses entrées est de 0 : les entrées positives totalisent 0,14, ce qui annule exactement le total des entrées négatives, qui est de -0,14.\n",
    "\n",
    "Il s'agit d'une preuve numérique du fait que, dans le diagramme à barres, les barres dorées dépassent les barres bleues d'exactement autant que les barres bleues dépassent les barres dorées. La somme des proportions dans chacune des deux colonnes \"Panneaux\" et \"Éligibles\" est égale à 1, de sorte que la somme de leurs entrées doit être égale à 0.\n",
    "\n",
    "Pour éviter l'annulation, nous supprimons les signes négatifs et additionnons toutes les entrées. Mais cela nous donne deux fois le total des entrées positives (de manière équivalente, deux fois le total des entrées négatives, avec le signe enlevé). Nous n'avons pas besoin de ce doublement, nous divisons donc la somme par 2."
   ]
  },
  {
   "cell_type": "code",
   "execution_count": 8,
   "id": "2e680712",
   "metadata": {},
   "outputs": [
    {
     "data": {
      "text/html": [
       "<table border=\"1\" class=\"dataframe\">\n",
       "    <thead>\n",
       "        <tr>\n",
       "            <th>Ethnicity</th> <th>Eligible</th> <th>Panels</th> <th>Difference</th> <th>Absolute Difference</th>\n",
       "        </tr>\n",
       "    </thead>\n",
       "    <tbody>\n",
       "        <tr>\n",
       "            <td>Asian/PI </td> <td>0.15    </td> <td>0.26  </td> <td>0.11      </td> <td>0.11               </td>\n",
       "        </tr>\n",
       "        <tr>\n",
       "            <td>Black/AA </td> <td>0.18    </td> <td>0.08  </td> <td>-0.1      </td> <td>0.1                </td>\n",
       "        </tr>\n",
       "        <tr>\n",
       "            <td>Caucasian</td> <td>0.54    </td> <td>0.54  </td> <td>0         </td> <td>0                  </td>\n",
       "        </tr>\n",
       "        <tr>\n",
       "            <td>Hispanic </td> <td>0.12    </td> <td>0.08  </td> <td>-0.04     </td> <td>0.04               </td>\n",
       "        </tr>\n",
       "        <tr>\n",
       "            <td>Other    </td> <td>0.01    </td> <td>0.04  </td> <td>0.03      </td> <td>0.03               </td>\n",
       "        </tr>\n",
       "    </tbody>\n",
       "</table>"
      ],
      "text/plain": [
       "Ethnicity | Eligible | Panels | Difference | Absolute Difference\n",
       "Asian/PI  | 0.15     | 0.26   | 0.11       | 0.11\n",
       "Black/AA  | 0.18     | 0.08   | -0.1       | 0.1\n",
       "Caucasian | 0.54     | 0.54   | 0          | 0\n",
       "Hispanic  | 0.12     | 0.08   | -0.04      | 0.04\n",
       "Other     | 0.01     | 0.04   | 0.03       | 0.03"
      ]
     },
     "execution_count": 8,
     "metadata": {},
     "output_type": "execute_result"
    }
   ],
   "source": [
    "jury_with_diffs = jury_with_diffs.with_column(\n",
    "    'Absolute Difference', np.abs(jury_with_diffs.column('Difference'))\n",
    ")\n",
    "\n",
    "jury_with_diffs"
   ]
  },
  {
   "cell_type": "code",
   "execution_count": 9,
   "id": "0e362bda",
   "metadata": {},
   "outputs": [
    {
     "data": {
      "text/plain": [
       "0.14"
      ]
     },
     "execution_count": 9,
     "metadata": {},
     "output_type": "execute_result"
    }
   ],
   "source": [
    "jury_with_diffs.column('Absolute Difference').sum() / 2"
   ]
  },
  {
   "cell_type": "markdown",
   "id": "bcede27f",
   "metadata": {},
   "source": [
    "Cette quantité de 0,14 est la *distance de variation totale* (DVT) entre la distribution des ethnies dans la population des jurés éligibles et la distribution dans les panels.\n",
    "\n",
    "En général, la distance de variation totale entre deux distributions mesure à quel point les distributions sont proches. Plus la DVT est grande, plus les deux distributions semblent différentes.\n",
    "\n",
    "**Nous aurions pu obtenir le même résultat en ajoutant simplement les différences positives. Mais notre méthode, qui consiste à inclure toutes les différences absolues, élimine la nécessité de savoir quelles différences sont positives et lesquelles ne le sont pas."
   ]
  },
  {
   "cell_type": "markdown",
   "id": "47981e35",
   "metadata": {},
   "source": [
    "Nous utiliserons la distance de variation totale entre les distributions comme statistique à simuler dans l'hypothèse d'une sélection aléatoire. De grandes valeurs de la distance seront la preuve que la sélection aléatoire n'a pas lieu d'être."
   ]
  },
  {
   "cell_type": "markdown",
   "id": "f052d3d6",
   "metadata": {},
   "source": [
    "#### Simulation de la statistique dans le cadre du modèle\n",
    "Pour voir comment le TVD varie d'un échantillon aléatoire à l'autre, nous allons le simuler à plusieurs reprises dans le cadre du modèle de sélection aléatoire de la population éligible.\n",
    "\n",
    "Organisons nos calculs. Puisque nous allons calculer la distance de variation totale de façon répétée, nous allons d'abord écrire une fonction qui la calcule pour deux distributions données.\n",
    "\n",
    "La fonction `total_variation_distance` prend deux tableaux contenant les distributions à comparer, et renvoie la DVT entre elles."
   ]
  },
  {
   "cell_type": "code",
   "execution_count": 10,
   "id": "e81f3ec8",
   "metadata": {},
   "outputs": [],
   "source": [
    "def total_variation_distance(distribution_1, distribution_2):\n",
    "    return sum(np.abs(distribution_1 - distribution_2)) / 2"
   ]
  },
  {
   "cell_type": "markdown",
   "id": "3d4d58ef",
   "metadata": {},
   "source": [
    "Cette fonction nous aidera à calculer notre statistique à chaque répétition de la simulation. Mais vérifions d'abord qu'elle donne la bonne réponse lorsque nous l'utilisons pour calculer la distance entre les distributions bleue (éligible) et or (panneaux) ci-dessus. Il s'agit de la distribution de l'étude de l'ACLU."
   ]
  },
  {
   "cell_type": "code",
   "execution_count": 11,
   "id": "5db4e10c",
   "metadata": {},
   "outputs": [
    {
     "data": {
      "text/plain": [
       "0.14"
      ]
     },
     "execution_count": 11,
     "metadata": {},
     "output_type": "execute_result"
    }
   ],
   "source": [
    "total_variation_distance(jury.column('Panels'), jury.column('Eligible'))"
   ]
  },
  {
   "cell_type": "markdown",
   "id": "58d30caa",
   "metadata": {},
   "source": [
    "Cela correspond à la valeur que nous avons calculée directement sans utiliser la fonction.\n",
    "\n",
    "Dans la cellule ci-dessous, nous utilisons la fonction pour calculer la VTD entre les distributions des jurés éligibles et un échantillon aléatoire. Rappelons que `eligible_population` est le tableau contenant la distribution des jurés éligibles, et que la taille de notre échantillon est de 1453.\n",
    "\n",
    "Dans la première ligne, nous utilisons `sample_proportions` pour générer un échantillon aléatoire à partir de la population éligible. Dans la ligne suivante, nous utilisons `total_variation_distance` pour calculer la TVD entre les distributions de l'échantillon aléatoire et de la population éligible."
   ]
  },
  {
   "cell_type": "code",
   "execution_count": 20,
   "id": "e6b95f63",
   "metadata": {},
   "outputs": [
    {
     "data": {
      "text/plain": [
       "0.018265657260839632"
      ]
     },
     "execution_count": 20,
     "metadata": {},
     "output_type": "execute_result"
    }
   ],
   "source": [
    "sample_distribution = sample_proportions(1453, eligible_population)\n",
    "total_variation_distance(sample_distribution, eligible_population)"
   ]
  },
  {
   "cell_type": "markdown",
   "id": "60f1aa6b",
   "metadata": {},
   "source": [
    "Exécutez la cellule plusieurs fois et remarquez que les distances sont nettement inférieures à 0,14, la distance entre la distribution des panels et les jurés éligibles.\n",
    "\n",
    "Nous sommes maintenant prêts à effectuer une simulation pour évaluer le modèle de sélection aléatoire."
   ]
  },
  {
   "cell_type": "markdown",
   "id": "29bdc150",
   "metadata": {},
   "source": [
    "#### Simulation d'une valeur de la statistique\n",
    "De la même manière que nous commençons chaque simulation, définissons une fonction `one_simulated_tvd` qui renvoie une valeur simulée de la distance de variation totale sous l'hypothèse d'une sélection aléatoire.\n",
    "\n",
    "Le code dans le corps de la définition est basé sur la cellule ci-dessus."
   ]
  },
  {
   "cell_type": "code",
   "execution_count": 13,
   "id": "bb4ae475",
   "metadata": {},
   "outputs": [],
   "source": [
    "# Simulate one simulated value of \n",
    "# the total variation distance between\n",
    "# the distribution of a sample selected at random\n",
    "# and the distribution of the eligible population\n",
    "\n",
    "def one_simulated_tvd():\n",
    "    sample_distribution = sample_proportions(1453, eligible_population)\n",
    "    return total_variation_distance(sample_distribution, eligible_population)   "
   ]
  },
  {
   "cell_type": "markdown",
   "id": "feaabaa7",
   "metadata": {},
   "source": [
    "#### Simulation de plusieurs valeurs de la statistique\n",
    "Nous pouvons maintenant appliquer le processus familier d'utilisation d'une boucle `for` pour créer un tableau composé de 5000 distances de ce type."
   ]
  },
  {
   "cell_type": "code",
   "execution_count": 14,
   "id": "f5d712ac",
   "metadata": {},
   "outputs": [],
   "source": [
    "tvds = make_array()\n",
    "repetitions = 5000\n",
    "for i in np.arange(repetitions):\n",
    "    tvds = np.append(tvds, one_simulated_tvd())"
   ]
  },
  {
   "cell_type": "markdown",
   "id": "6049ace7",
   "metadata": {},
   "source": [
    "#### Évaluation du modèle de sélection aléatoire\n",
    "\n",
    "Voici l'histogramme empirique des distances simulées. Il montre que si vous tirez 1453 panélistes au hasard dans la réserve de candidats éligibles, la distance entre les distributions des panélistes et de la population éligible est rarement supérieure à environ 0,05.\n",
    "\n",
    "Les panels de l'étude n'étaient toutefois pas aussi semblables à la population éligible. La distance de variation totale entre les panels et la population était de 0,14, représentée par le point rouge sur l'axe horizontal. Elle se situe bien au-delà de la queue de l'histogramme et ne ressemble pas du tout à une distance typique entre les distributions d'un échantillon aléatoire et la population éligible."
   ]
  },
  {
   "cell_type": "code",
   "execution_count": 15,
   "id": "15e3db58",
   "metadata": {},
   "outputs": [
    {
     "data": {
      "image/png": "[encoded data removed]",
      "text/plain": [
       "<Figure size 432x288 with 1 Axes>"
      ]
     },
     "metadata": {},
     "output_type": "display_data"
    }
   ],
   "source": [
    "Table().with_column('TVD', tvds).hist(bins=np.arange(0, 0.2, 0.005))\n",
    "\n",
    "# Plotting parameters; you can ignore this code\n",
    "plots.title('Prediction Assuming Random Selection')\n",
    "plots.xlim(0, 0.15)\n",
    "plots.ylim(-5, 50)\n",
    "plots.scatter(0.14, 0, color='red', s=30);"
   ]
  },
  {
   "cell_type": "markdown",
   "id": "628b86e4",
   "metadata": {},
   "source": [
    "La simulation montre que la composition des panels dans l'étude de l'ACLU n'est pas cohérente avec le modèle de sélection aléatoire. Notre analyse soutient la conclusion de l'ACLU selon laquelle les panels n'étaient pas représentatifs de la distribution prévue pour les jurés éligibles."
   ]
  },
  {
   "cell_type": "markdown",
   "id": "928d0d05",
   "metadata": {
    "jp-MarkdownHeadingCollapsed": true
   },
   "source": [
    "#### Raisons du biais\n",
    "Comme la plupart des analyses de ce type, la nôtre ne dit pas *pourquoi* les distributions sont différentes. Mais il est important de comprendre ces raisons. Si les jurys ne représentent pas la population des jurés éligibles, cela peut avoir un effet majeur sur les droits de la défense et l'équité des procès devant jury.\n",
    "\n",
    "Le rapport de l'ACLU examine plusieurs raisons possibles de ces divergences et propose des solutions. Certaines sont purement pratiques mais ont un impact important. Par exemple, alors que nous pouvons considérer comme acquise la qualité de l'échantillonnage aléatoire en Python, la sélection du jury s'est faite à l'aide d'un autre logiciel. L'examen de l'ACLU a révélé que le logiciel ne fonctionnait pas bien, contribuant ainsi à une sélection biaisée. L'utilisation d'un meilleur logiciel est une solution évidente.\n",
    "\n",
    "Plus important encore, les jurys du comté d'Alameda ne sont pas sélectionnés parmi l'ensemble de la population éligible. Le [site web] (http://www.alameda.courts.ca.gov/pages.aspx/faqs) de la Cour supérieure du comté d'Alameda indique que \"l'objectif de la Cour est de fournir un échantillon représentatif de la population du comté. Les noms des jurés sont choisis au hasard parmi toutes les personnes inscrites sur les listes électorales et/ou possédant un permis de conduire ou une carte d'identité délivrée par le département des véhicules à moteur\".\n",
    "\n",
    "Ce processus exclut les jurés éligibles qui ne figurent pas sur ces listes. Le fait de posséder une carte d'identité délivrée par l'État ou d'être inscrit sur les listes électorales est très probablement associé au revenu et, par conséquent, à la race et à l'appartenance ethnique, en raison des préjugés historiques à l'encontre des communautés noires et hispaniques. Il en résulte une sous-représentation de ces groupes dans les jurys.\n",
    "\n",
    "Les personnes figurant sur la liste doivent être contactées pour être informées de leur convocation en tant que juré. Or, les membres des communautés défavorisées n'ont pas toujours d'adresse fixe. Des registres d'adresses obsolètes, l'absence de recoupement avec d'autres listes telles que celles des services publics, etc. peuvent tous contribuer à une sélection biaisée.\n",
    "\n",
    "Une fois qu'ils ont été sélectionnés, les jurés potentiels doivent encore être en mesure de se présenter. Le premier jour de service en tant que juré n'est pas indemnisé, et l'indemnisation pour les jours suivants est de 15 dollars par jour. Si les employeurs sont tenus par la loi d'excuser les employés qui doivent faire partie d'un jury, ils ne sont pas tenus de les indemniser, et certains d'entre eux ne le font pas. Dans une région aussi chère que la Bay Area, cela peut être une raison pour les jurés de ne pas répondre aux convocations. Bien que les jurés puissent être excusés en cas de graves difficultés économiques, même la procédure de demande d'excuse peut être hors de portée pour certains jurés. De l'autre côté de la baie, les dirigeants de la ville de San Francisco tentent de réduire cette forme de partialité en pilotant un [programme] (https://sftreasurer.org/new-ca-bill-pilots-higher-compensation-low-income-jurors-san-francisco) qui offre une compensation de 100 dollars par jour aux jurés à faibles revenus."
   ]
  },
  {
   "cell_type": "markdown",
   "id": "349fefd4",
   "metadata": {},
   "source": [
    "#### Qualité des données\n",
    "Nous avons mis au point une technique qui nous aide à déterminer si une distribution ressemble à un échantillon aléatoire d'une autre distribution. Mais nous devons examiner nos sources de données pour mieux comprendre ce que nous pouvons conclure de notre analyse. Une bonne science des données comprend un examen approfondi de la manière dont les données ont été recueillies.\n",
    "\n",
    "**Il est important de garder à l'esprit que tout le monde ne peut pas faire partie d'un jury. Sur son [site web] (http://www.alameda.courts.ca.gov/pages.aspx/jury-duty-overview), la Cour supérieure du comté d'Alameda déclare : \"Vous pouvez être appelé à siéger si vous avez 18 ans, si vous êtes citoyen américain et si vous résidez dans le comté ou le district où vous êtes convoqué. Vous devez comprendre l'anglais et être physiquement et mentalement capable de servir. En outre, vous ne devez pas avoir été juré au cours des 12 derniers mois, ni avoir été condamné pour un crime.\n",
    "\n",
    "Bien que le recensement soit une source naturelle d'informations démographiques, il ne recueille pas de données sur toutes ces catégories. L'ACLU a donc dû obtenir les données démographiques des jurés éligibles d'une autre manière.\n",
    "\n",
    "Elle a utilisé une série d'estimations élaborées par un professeur de l'université d'État de San Diego pour un procès du comté d'Alameda en 2002. Ces estimations étaient basées sur le recensement de 2000 et prenaient également en compte les critères d'éligibilité des jurés.\n",
    "\n",
    "Nous devons donc garder à l'esprit que la distribution que nous avons utilisée pour la population éligible est elle-même une estimation et qu'elle est donc sujette à erreur. En outre, comme l'a fait remarquer l'ACLU, l'utilisation d'estimations basées sur le recensement de 2000 pour les populations de 2010 pourrait ne pas être exacte en raison de l'évolution démographique en Californie.\n",
    "\n",
    "Par conséquent, la distribution utilisée pour la population de jurés éligibles pourrait ne pas être exacte.\n",
    "\n",
    "**Le rapport n'indique pas clairement comment les 1453 membres des panels ont été classés dans les différentes catégories ethniques. Le rapport indique seulement que \"les avocats ... ont coopéré à la collecte des données sur les jurés\".\n",
    "\n",
    "D'importants facteurs sociaux, culturels et politiques influencent la classification ou l'auto-classification dans chaque catégorie ethnique. On ne sait pas non plus si les définitions de ces catégories dans les panels étaient les mêmes que celles utilisées dans les estimations de la répartition des jurés éligibles. Cela soulève des questions quant à la correspondance entre les deux distributions comparées.\n",
    "\n",
    "En outre, les données sur les panélistes ont été obtenues à partir de ceux qui se sont présentés pour le service. Comme nous l'avons vu, ce n'est pas le cas de tous les panélistes. Les raisons pour lesquelles ils ne se présentent pas sont liées à la race et à l'appartenance ethnique et affectent de manière disproportionnée les panélistes issus de communautés défavorisées.\n",
    "\n",
    "La loi impose de répondre aux convocations des jurés. Toutefois, comme l'a noté l'ACLU, à l'époque de l'étude, le comté d'Alameda ne disposait pas d'une procédure efficace de suivi des jurés potentiels qui avaient été convoqués mais ne s'étaient pas présentés. L'ACLU a recommandé la création d'un \"programme de non-comparution qui exige, au minimum, l'envoi d'une deuxième convocation aux jurés potentiels\".\n",
    "\n",
    "En effet, le suivi des non-répondants permettrait de réduire les biais. Pour notre analyse, nous devons reconnaître que nous ne disposons pas des données nécessaires pour compléter les informations démographiques des jurés sélectionnés qui ne se sont pas présentés."
   ]
  },
  {
   "cell_type": "markdown",
   "id": "8d90275a",
   "metadata": {},
   "source": [
    "#### Conclusion\n",
    "\n",
    "Compte tenu de ce qui précède, il est important de préciser ce que nous pouvons conclure de notre analyse.\n",
    "\n",
    "- Nous pouvons conclure que la distribution fournie pour les panélistes qui se sont présentés au service ne ressemble pas à un échantillon aléatoire de la distribution estimée dans la population éligible.\n",
    "\n",
    "Notre analyse, comme celle du rapport de l'ACLU, expose les raisons de certaines des différences observées entre les deux distributions et les raisons pour lesquelles les panélistes convoqués pourraient ne pas se présenter. Presque toutes ces raisons trouvent leur origine dans les préjugés raciaux historiques de la société et sont des exemples des conséquences négatives durables de ces préjugés."
   ]
  },
  {
   "cell_type": "markdown",
   "id": "841c1075",
   "metadata": {
    "jp-MarkdownHeadingCollapsed": true
   },
   "source": [
    "### Décisions et incertitude\n",
    "\n",
    "La méthodologie statistique et informatique que nous avons développée pour évaluer les modèles de sélection des jurés s'inscrit dans un cadre général de prise de décision appelé *tests statistiques d'hypothèses*. L'utilisation de tests statistiques pour prendre des décisions est courante dans de nombreux domaines et s'accompagne d'une terminologie standard.\n",
    "\n",
    "Dans cette section, nous décrirons la séquence générale des étapes utilisées dans les tests statistiques, ainsi qu'une partie de la terminologie.\n",
    "\n",
    "Bien que notre exemple soit tiré des sciences biologiques, vous constaterez que les étapes statistiques et informatiques du processus sont cohérentes avec les étapes correspondantes de nos analyses des données du système juridique. Cependant, les données biologiques concernent des plantes, et non des êtres humains ou des injustices. Le contexte et l'interprétation des calculs ci-dessous sont donc beaucoup plus simples."
   ]
  },
  {
   "cell_type": "markdown",
   "id": "85aa13ad",
   "metadata": {},
   "source": [
    "[Gregor Mendel] (https://en.wikipedia.org/wiki/Gregor_Mendel) (1822-1884) était un moine autrichien largement reconnu comme le fondateur du domaine moderne de la génétique. Mendel a réalisé des expériences minutieuses et à grande échelle sur des plantes afin d'élaborer les lois fondamentales de la génétique.\n",
    "\n",
    "La plupart de ses expériences portaient sur des variétés de pois. Il a formulé des séries d'hypothèses sur chaque variété ; ce sont ses modèles. Il a ensuite testé la validité de ses modèles en cultivant les plantes et en recueillant des données.\n",
    "\n",
    "Pour les plants de pois d'une variété particulière, Mendel a proposé le modèle suivant.\n",
    "\n",
    "#### Modèle de Mendel\n",
    "Pour chaque plante, il y a 75 % de chances qu'elle ait des fleurs violettes et 25 % de chances qu'elles soient blanches, quelles que soient les couleurs de toutes les autres plantes.\n",
    "\n",
    "Pour vérifier la validité de son modèle, Mendel a cultivé 929 plants de pois de cette variété. Parmi ces 929 plantes, 705 avaient des fleurs violettes.\n",
    "\n",
    "Nous utiliserons ces données pour effectuer un test d'hypothèses et voir si le modèle de Mendel est valable."
   ]
  },
  {
   "cell_type": "markdown",
   "id": "a3a4067f",
   "metadata": {},
   "source": [
    "#### Étape 1 : Les hypothèses\n",
    "\n",
    "Tous les tests statistiques tentent de choisir entre deux visions du monde. Plus précisément, il s'agit de choisir entre deux points de vue sur la manière dont les données ont été générées. Ces deux points de vue sont appelés *hypothèses*.\n",
    "\n",
    "**L'hypothèse nulle est un modèle clairement défini sur les chances. Elle affirme que les données ont été générées au hasard en fonction d'hypothèses clairement spécifiées sur le caractère aléatoire. Le mot \"nul\" renforce l'idée que si les données semblent différentes de ce que prévoit l'hypothèse nulle, la différence n'est due à rien d'autre qu'au hasard.\n",
    "\n",
    "D'un point de vue pratique, **l'hypothèse nulle est une hypothèse sous laquelle vous pouvez simuler des données**.\n",
    "\n",
    "Dans l'exemple du modèle de Mendel pour les couleurs des petits pois, l'hypothèse nulle est que les hypothèses de son modèle sont bonnes : chaque plante a 75 % de chances d'avoir des fleurs violettes, indépendamment de toutes les autres plantes.\n",
    "\n",
    "Sous cette hypothèse, nous pouvons simuler des échantillons aléatoires en utilisant `sample_proportions`.\n",
    "\n",
    "**L'hypothèse alternative.** Elle indique qu'une raison autre que le hasard a fait que les données diffèrent des prédictions du modèle dans l'hypothèse nulle.\n",
    "\n",
    "Dans l'exemple des plantes de Mendel, l'hypothèse alternative est simplement que son modèle n'est pas bon.\n",
    "\n",
    "Gardez à l'esprit que l'hypothèse alternative ne dit pas comment ou pourquoi le modèle n'est pas bon. Elle dit simplement que le modèle n'est pas bon."
   ]
  },
  {
   "cell_type": "markdown",
   "id": "88e6117c",
   "metadata": {},
   "source": [
    "#### Étape 2 : La statistique de test\n",
    "\n",
    "Afin de trancher entre les deux hypothèses, nous devons choisir une statistique que nous utiliserons pour prendre la décision. C'est ce qu'on appelle la **statistique de test**.\n",
    "\n",
    "Nous allons comparer deux distributions catégorielles : celle du modèle de Mendel et celle que nous obtiendrons dans notre échantillon aléatoire. Nous voulons voir si ces deux distributions sont proches ou éloignées l'une de l'autre. Une statistique de test naturelle est donc la distance de variation totale (TVD) développée dans la section précédente.\n",
    "\n",
    "Il s'avère qu'avec seulement deux catégories, la DVT est assez simple et facile à interpréter. Prenons un exemple. Le modèle de Mendel indique que la distribution \"violet, blanc\" est [0,75, 0,25]. Supposons que la distribution de notre échantillon soit [0,7, 0,3].\n",
    "\n",
    "Comme il n'y a que deux catégories, il se passe quelque chose d'intéressant lorsque nous calculons la TVD. Remarquez tout d'abord que\n",
    "\n",
    "$$\n",
    "\\N-vert 0,7 - 0,75 \\N-vert = 0,05 = \\N-vert 0,3 - 0,25 \\N-vert\n",
    "$$\n",
    "\n",
    "La TVD est donc\n",
    "\n",
    "$$\n",
    "\\frac{1}{2}\\big{(} \\vert 0.7 - 0.75 \\vert + \\vert 0.3 - 0.25 \\vert \\big{)} = 0.05\n",
    "= \\vert 0.7 - 0.75 \\vert\n",
    "$$\n",
    "\n",
    "C'est juste la distance entre les deux proportions de plantes à fleurs violettes. C'est également la distance entre les deux proportions de plantes à fleurs blanches.\n",
    "\n",
    "Par un petit calcul que nous ne ferons pas ici, cela est vrai lorsqu'il n'y a que deux catégories : la TVD est égale à la distance entre les deux proportions d'une catégorie.\n",
    "\n",
    "Ainsi, une statistique de test parfaitement adaptée serait la distance entre la proportion de plantes violettes de l'échantillon et 0,75, qui est la proportion correspondante dans le modèle de Mendel.\n",
    "\n",
    "Comme les pourcentages sont plus faciles à interpréter que les proportions, nous travaillerons plutôt avec des pourcentages.\n",
    "\n",
    "Notre statistique de test sera la distance entre le pourcentage de plantes violettes de l'échantillon et 75 %, qui est le pourcentage correspondant dans le modèle de Mendel.\n",
    "\n",
    "$$\n",
    "\\big{\\vert} \\text{pourcentage d'échantillons de plantes à fleurs violettes} - 75 \\big{\\vert}\n",
    "$$\n",
    "\n",
    "Cette statistique de test est une *distance* entre les deux distributions. Elle est logique et facile à utiliser. Un pourcentage d'échantillon d'environ 75 % sera compatible avec le modèle, mais des pourcentages beaucoup plus grands ou beaucoup plus petits que 75 vous feront penser que le modèle n'est pas bon. Par conséquent, de petites valeurs de la distance vous feront pencher en faveur de l'hypothèse nulle. Des valeurs élevées de la statistique vous feront pencher pour l'hypothèse alternative.\n",
    "\n",
    "Pour choisir une statistique de test dans d'autres situations, examinez l'hypothèse alternative. Quelles valeurs de la statistique vous font penser que l'hypothèse alternative est un meilleur choix que l'hypothèse nulle ?\n",
    "- Si la réponse est \"grandes valeurs\", vous avez un bon choix de statistique.\n",
    "- Il en va de même si la réponse est \"petites valeurs\".\n",
    "- Mais si la réponse est \"à la fois de grandes et de petites valeurs\", nous vous recommandons de réexaminer votre statistique. Voyez si l'utilisation d'une distance au lieu d'une différence peut changer la réponse en \"grandes valeurs\".\n",
    "\n",
    "#### Valeur observée de la statistique de test\n",
    "La *valeur observée de la statistique de test* est la valeur de la statistique obtenue à partir des données de l'étude, et non une valeur simulée. Parmi les 929 plantes de Mendel, 705 ont eu des fleurs violettes. La valeur observée de la statistique de test était donc la suivante"
   ]
  },
  {
   "cell_type": "code",
   "execution_count": 14,
   "id": "ea22b5ea",
   "metadata": {},
   "outputs": [
    {
     "data": {
      "text/plain": [
       "0.8880516684607045"
      ]
     },
     "execution_count": 14,
     "metadata": {},
     "output_type": "execute_result"
    }
   ],
   "source": [
    "observed_statistic = abs ( 100 * (705 / 929) - 75)\n",
    "observed_statistic"
   ]
  },
  {
   "cell_type": "markdown",
   "id": "f21a05c0",
   "metadata": {},
   "source": [
    "#### Étape 3 : Distribution de la statistique de test sous l'hypothèse nulle\n",
    "\n",
    "Le principal aspect informatique d'un test d'hypothèses consiste à déterminer ce que le modèle de l'hypothèse nulle prédit. Plus précisément, nous devons déterminer *quelles pourraient être les valeurs de la statistique de test si l'hypothèse nulle était vraie*.\n",
    "\n",
    "La statistique de test est simulée sur la base des hypothèses du modèle de l'hypothèse nulle. Ce modèle implique le hasard, de sorte que la statistique est obtenue différemment lorsque vous la simulez plusieurs fois.\n",
    "\n",
    "En simulant la statistique à plusieurs reprises, nous avons une bonne idée de ses valeurs possibles et de celles qui sont plus probables que d'autres. En d'autres termes, nous obtenons une bonne approximation de la distribution de probabilité de la statistique, telle que prédite par le modèle de l'hypothèse nulle.\n",
    "\n",
    "Comme pour toutes les distributions, il est très utile de visualiser cette distribution par un histogramme, comme nous l'avons fait dans nos exemples précédents. Passons en revue l'ensemble du processus.\n",
    "\n",
    "Nous commencerons par attribuer des noms à certaines quantités connues."
   ]
  },
  {
   "cell_type": "code",
   "execution_count": 15,
   "id": "4d827eaf",
   "metadata": {},
   "outputs": [],
   "source": [
    "mendel_proportions = make_array(0.75, 0.25)\n",
    "mendel_proportion_purple = mendel_proportions.item(0)\n",
    "sample_size = 929"
   ]
  },
  {
   "cell_type": "markdown",
   "id": "f5962a13",
   "metadata": {},
   "source": [
    "Ensuite, nous définirons une fonction qui renvoie une valeur simulée de la statistique de test. Nous utiliserons ensuite une boucle \"for\" pour collecter 10 000 valeurs simulées dans un tableau."
   ]
  },
  {
   "cell_type": "code",
   "execution_count": 16,
   "id": "8e838ef5",
   "metadata": {},
   "outputs": [],
   "source": [
    "def one_simulated_distance():\n",
    "    sample_proportion_purple = sample_proportions(929, mendel_proportions).item(0)\n",
    "    return 100 * abs(sample_proportion_purple - mendel_proportion_purple)"
   ]
  },
  {
   "cell_type": "code",
   "execution_count": 17,
   "id": "0bc20d83",
   "metadata": {},
   "outputs": [],
   "source": [
    "repetitions = 10000\n",
    "distances = make_array()\n",
    "for i in np.arange(repetitions):\n",
    "    distances = np.append(distances, one_simulated_distance())"
   ]
  },
  {
   "cell_type": "markdown",
   "id": "fdcb8c40",
   "metadata": {},
   "source": [
    "Nous pouvons maintenant dessiner l'histogramme de ces valeurs. Il s'agit de l'histogramme de la *distribution de la statistique de test prédite par l'hypothèse nulle*."
   ]
  },
  {
   "cell_type": "code",
   "execution_count": 18,
   "id": "17d6ad43",
   "metadata": {},
   "outputs": [
    {
     "data": {
      "image/png": "[encoded data removed]",
      "text/plain": [
       "<Figure size 432x288 with 1 Axes>"
      ]
     },
     "metadata": {},
     "output_type": "display_data"
    }
   ],
   "source": [
    "Table().with_column(\n",
    "    'Distance between Sample % and 75%', distances\n",
    ").hist()\n",
    "plots.title('Prediction Made by the Null Hypothesis');"
   ]
  },
  {
   "cell_type": "markdown",
   "id": "5e3ed189",
   "metadata": {},
   "source": [
    "Regardez sur l'axe horizontal pour voir les valeurs typiques de la distance, telles que prédites par le modèle. Elles sont plutôt faibles. Par exemple, une grande partie des distances sont comprises entre 0 et 1, ce qui signifie que pour une grande partie des échantillons, le pourcentage de plantes à fleurs violettes est compris entre 75 % et 1 %. En d'autres termes, le pourcentage de l'échantillon est compris entre 74 % et 76 %.\n",
    "\n",
    "Notez également que cette prédiction a été faite en utilisant uniquement le modèle de Mendel, et non les proportions observées par Mendel dans les plantes qu'il a cultivées. Il est maintenant temps de comparer les prédictions et les observations de Mendel."
   ]
  },
  {
   "cell_type": "markdown",
   "id": "9530ed2c",
   "metadata": {},
   "source": [
    "#### Étape 4. La conclusion du test\n",
    "\n",
    "Le choix entre l'hypothèse nulle et l'hypothèse alternative dépend de la comparaison entre ce que vous avez calculé aux étapes 2 et 3 : la valeur observée de la statistique du test et sa distribution telle que prédite par l'hypothèse nulle.\n",
    "\n",
    "Si les deux ne sont pas cohérentes, les données ne confirment pas l'hypothèse nulle. En d'autres termes, l'hypothèse alternative est mieux étayée par les données. Nous disons que le test *rejette* l'hypothèse nulle.\n",
    "\n",
    "Si les deux sont cohérentes, la statistique de test observée est conforme à ce que prédit l'hypothèse nulle. En d'autres termes, l'hypothèse nulle est mieux étayée par les données. Nous disons que les données sont *conformes* à l'hypothèse nulle.\n",
    "\n",
    "Dans notre exemple, la valeur observée de la statistique de test est d'environ 0,89, comme calculé à l'étape 2 ci-dessus. À l'œil nu, repérez approximativement l'emplacement de 0,89 sur l'axe horizontal de l'histogramme. Vous verrez qu'il se situe clairement au cœur de la distribution prédite par le modèle de Mendel.\n",
    "\n",
    "La cellule ci-dessous redessine l'histogramme avec la valeur observée sur l'axe horizontal."
   ]
  },
  {
   "cell_type": "code",
   "execution_count": 19,
   "id": "64525b61",
   "metadata": {},
   "outputs": [
    {
     "data": {
      "image/png": "[encoded data removed]",
      "text/plain": [
       "<Figure size 432x288 with 1 Axes>"
      ]
     },
     "metadata": {},
     "output_type": "display_data"
    }
   ],
   "source": [
    "Table().with_column(\n",
    "    'Distance between Sample % and 75%', distances\n",
    ").hist()\n",
    "plots.ylim(-0.02, 0.5)\n",
    "plots.title('Prediction Made by the Null Hypothesis')\n",
    "plots.scatter(observed_statistic, 0, color='red', s=40);"
   ]
  },
  {
   "cell_type": "markdown",
   "id": "ba2569a9",
   "metadata": {},
   "source": [
    "La statistique observée ressemble à une distance typique prédite par l'hypothèse nulle. L'hypothèse nulle est le modèle de Mendel. Notre test conclut donc que les données sont compatibles avec le modèle de Mendel.\n",
    "\n",
    "Sur la base de nos données, le modèle de Mendel semble bon."
   ]
  },
  {
   "cell_type": "markdown",
   "id": "38eda7c7",
   "metadata": {},
   "source": [
    "#### Le sens du mot \"cohérent\"\n",
    "\n",
    "Dans tous nos exemples d'évaluation de modèles, il n'y a eu aucun doute quant à la cohérence des données avec les prédictions du modèle. Elles étaient soit très éloignées de ce que le modèle prédisait, comme dans les exemples sur les jurys, soit similaires à ce que le modèle prédisait, comme dans l'exemple sur le modèle de Mendel.\n",
    "\n",
    "Mais les résultats ne sont pas toujours aussi tranchés. Jusqu'à quel point peut-on parler de \"distance\" ? Que signifie exactement \"similaire\" ? Bien que ces questions n'aient pas de réponses universelles, il existe des lignes directrices et des conventions que vous pouvez suivre.\n",
    "\n",
    "Mais tout d'abord, il est important de comprendre que la question de savoir si la statistique de test observée est cohérente avec sa distribution prédite sous l'hypothèse nulle est une question d'opinion et de jugement subjectifs. Nous vous recommandons de fournir votre jugement ainsi que la valeur de la statistique de test et un graphique de sa distribution prédite sous l'hypothèse nulle. Cela permettra à vos lecteurs de se faire leur propre opinion sur la cohérence entre les deux."
   ]
  },
  {
   "cell_type": "markdown",
   "id": "4e5bf8c2",
   "metadata": {},
   "source": [
    "Dans l'exemple ci-dessus, le jugement est clair. Mais supposons que quelqu'un cultive 929 autres plantes d'une variété apparentée et veuille voir si le modèle de Mendel fonctionne également pour les plantes de cette variété. Quelle serait votre conclusion si la distance observée était de 3,2 comme indiqué ci-dessous ?"
   ]
  },
  {
   "cell_type": "code",
   "execution_count": 24,
   "id": "2f8431e4",
   "metadata": {},
   "outputs": [
    {
     "data": {
      "image/png": "[encoded data removed]",
      "text/plain": [
       "<Figure size 432x288 with 1 Axes>"
      ]
     },
     "metadata": {},
     "output_type": "display_data"
    }
   ],
   "source": [
    "different_observed_statistic = 3.2\n",
    "Table().with_column(\n",
    "    'Distance between Sample % and 75%', distances\n",
    ").hist()\n",
    "plots.ylim(-0.02, 0.5)\n",
    "plots.title('Prediction Made by the Null Hypothesis')\n",
    "plots.scatter(different_observed_statistic, 0, color='red', s=40);"
   ]
  },
  {
   "cell_type": "markdown",
   "id": "668762cb",
   "metadata": {},
   "source": [
    "L'observation basée sur la nouvelle variété de plantes est-elle cohérente avec les prédictions de l'histogramme, ou non ?\n",
    "\n",
    "La réponse n'est pas si claire. Tout dépend si vous pensez que le point rouge est trop éloigné de la majorité des valeurs prédites pour être cohérent avec la prédiction basée sur le modèle de Mendel."
   ]
  },
  {
   "cell_type": "markdown",
   "id": "f9dfbe1a",
   "metadata": {},
   "source": [
    "#### Les seuils conventionnels et la p-value\n",
    "Si vous ne voulez pas faire appel à votre propre jugement, il existe des conventions que vous pouvez suivre. Ces conventions nous indiquent jusqu'où les queues sont considérées comme \"trop éloignées\".\n",
    "\n",
    "Les conventions sont basées sur la zone de la queue de la distribution, **en partant de la statistique observée (le point rouge) et en regardant dans la direction qui nous fait pencher vers l'alternative.** Dans cet exemple, c'est le côté droit, car les grandes distances favorisent l'alternative qui dit que le modèle n'est pas bon.\n",
    "\n",
    "Si l'aire de la queue est petite, la statistique observée est très éloignée des valeurs les plus couramment prédites par l'hypothèse nulle.\n",
    "\n",
    "Rappelez-vous que dans un histogramme, la surface représente le pourcentage. Pour trouver la surface de la queue, nous devons trouver le pourcentage de distances supérieures ou égales à 3,2, là où se trouve le point rouge. Le tableau `distances` contient les moyennes des 10 000 répétitions de l'échantillonnage aléatoire selon le modèle de Mendel, et `different_observed_statistic` est 3,2."
   ]
  },
  {
   "cell_type": "code",
   "execution_count": 25,
   "id": "327860d4",
   "metadata": {},
   "outputs": [
    {
     "data": {
      "text/plain": [
       "0.0243"
      ]
     },
     "execution_count": 25,
     "metadata": {},
     "output_type": "execute_result"
    }
   ],
   "source": [
    "np.count_nonzero(distances >= different_observed_statistic) / repetitions"
   ]
  },
  {
   "cell_type": "markdown",
   "id": "17f8c9a1",
   "metadata": {},
   "source": [
    "Environ 2,4 % des distances simulées selon le modèle de Mendel étaient égales ou supérieures à 3,2. Par la loi des grands nombres, nous pouvons conclure que si le modèle de Mendel était correct pour ces nouvelles plantes, il y a environ 2,4 % de chances que la statistique du test soit égale ou supérieure à 3,2.\n",
    "\n",
    "Cela ne semble pas être une grande chance. Si le modèle de Mendel est vrai pour ces plantes, quelque chose d'assez improbable s'est produit. Cette idée est à l'origine des conventions.\n",
    "\n",
    "#### La p-value\n",
    "\n",
    "Cette chance porte un nom impressionnant. Il s'agit du *niveau de significativité observé* du test. C'est un peu long, et c'est pourquoi on l'appelle communément la *p-value* ou *valeur p* du test.\n",
    "\n",
    "**Définition:** La valeur p d'un test est la probabilité, basée sur le modèle de l'hypothèse nulle, que la statistique du test soit égale à la valeur observée dans l'échantillon ou même plus loin dans la direction qui soutient l'alternative.\n",
    "\n",
    "Si une valeur p est petite, cela signifie que la queue au-delà de la statistique observée est petite et que la statistique observée est donc très éloignée de ce que prédit l'hypothèse nulle. Cela implique que les données soutiennent davantage l'hypothèse alternative qu'elles ne soutiennent l'hypothèse nulle.  \n",
    "\n",
    "Qu'entend-on par \"petit\" ? Selon les conventions :\n",
    "\n",
    "- Si la valeur p est inférieure à 5 %, elle est considérée comme petite et le résultat est dit \"statistiquement significatif\".\n",
    "\n",
    "- Si la valeur p est encore plus petite - moins de 1 % - le résultat est dit \"hautement significatif sur le plan statistique\".\n",
    "\n",
    "Selon cette convention, notre valeur p de 2,4 % est considérée comme faible. La conclusion conventionnelle serait donc de rejeter l'hypothèse nulle et de dire que le modèle de Mendel ne semble pas bon pour les nouvelles plantes. Formellement, le résultat du test est statistiquement significatif.\n",
    "\n",
    "Lorsque vous tirez une conclusion de cette manière, nous vous recommandons de ne pas vous contenter de dire si le résultat est statistiquement significatif ou non. Accompagnez votre conclusion de la statistique observée et de la valeur p, afin que les lecteurs puissent se faire leur propre opinion."
   ]
  },
  {
   "cell_type": "markdown",
   "id": "b9f218ef",
   "metadata": {},
   "source": [
    "#### Note historique sur les conventions\n",
    "\n",
    "La détermination de la signification statistique, telle que définie ci-dessus, est devenue la norme dans les analyses statistiques de tous les domaines d'application. Lorsqu'une convention est si universellement suivie, il est intéressant d'examiner comment elle est née.\n",
    "\n",
    "La méthode des tests statistiques, qui consiste à choisir entre des hypothèses basées sur des données provenant d'échantillons aléatoires, a été mise au point par Sir Ronald Fisher au début du 20e siècle. Sir Ronald a peut-être établi la convention relative à la signification statistique de manière quelque peu involontaire, dans la déclaration suivante de son livre de 1925 intitulé *Statistical Methods for Research Workers* (Méthodes statistiques pour les chercheurs). À propos du seuil de 5 %, il écrit : \"Il est commode de prendre ce point comme limite pour juger si un écart doit être considéré comme significatif ou non\".\n",
    "\n",
    "Ce qui était \"pratique\" pour Sir Ronald est devenu un seuil qui a acquis le statut de constante universelle. Peu importe que Sir Ronald ait lui-même précisé que cette valeur était un choix personnel parmi d'autres : dans un article paru en 1926, il écrivait : \"Si une chance sur vingt ne semble pas assez élevée, nous pouvons, si nous le préférons, fixer la limite à une chance sur cinquante (le point de 2 %), ou une chance sur cent (le point de 1 %)\". Personnellement, l'auteur préfère fixer une norme de signification basse au point 5 pour cent...\"\n",
    "\n",
    "Fisher savait que le terme \"faible\" est une question de jugement et n'a pas de définition unique. Nous vous suggérons de garder cela à l'esprit. Fournissez vos données, formulez votre jugement et expliquez pourquoi vous l'avez formulé.\n",
    "\n",
    "Que vous utilisiez un seuil conventionnel ou votre propre jugement, il est important de garder à l'esprit les points suivants.\n",
    "\n",
    "- Fournissez toujours la valeur observée de la statistique de test et la valeur p, afin que les lecteurs puissent décider s'ils pensent que la valeur p est petite ou non.\n",
    "- Ne cherchez pas à défier les conventions uniquement lorsque les résultats obtenus par convention ne vous conviennent pas.\n",
    "- Même si un test conclut que les données ne soutiennent pas le modèle de hasard dans l'hypothèse nulle, il n'explique généralement pas *pourquoi* le modèle ne fonctionne pas. Ne tirez pas de conclusions causales sans une analyse plus approfondie, à moins que vous ne meniez un essai contrôlé randomisé. Nous analyserons ces derniers dans une section ultérieure."
   ]
  },
  {
   "cell_type": "markdown",
   "id": "395ef68f",
   "metadata": {
    "jp-MarkdownHeadingCollapsed": true
   },
   "source": [
    "### Probabilités d'erreur\n",
    "\n",
    "Dans le processus par lequel nous décidons laquelle des deux hypothèses est la mieux étayée par nos données, la dernière étape implique un jugement sur la cohérence des données et de l'hypothèse nulle. Bien que cette étape aboutisse à une bonne décision la plupart du temps, elle peut parfois nous induire en erreur. La raison en est la variation du hasard. Par exemple, même lorsque l'hypothèse nulle est vraie, une variation fortuite peut faire en sorte que l'échantillon soit très différent de ce que prédit l'hypothèse nulle."
   ]
  },
  {
   "cell_type": "markdown",
   "id": "07d1da57",
   "metadata": {},
   "source": [
    "#### Des conclusions erronées\n",
    "\n",
    "Si vous testez une hypothèse nulle contre l'alternative que l'hypothèse nulle n'est pas vraie, il y a quatre façons de classer la réalité et le résultat du test.\n",
    "\n",
    "|                             | Le test est favorise l'hypothèse nulle | Le test favorise l'hypothèse alternative |\n",
    "|----------------------------:|----------------------------------------|------------------------------------------|\n",
    "| L'hypothèse nulle est vraie | Résultat correct                       | Erreur                                   | \n",
    "|     L'alternative est vraie | Erreur                                 | Résultat correct                         |   \n",
    "                                                                                                                    \n",
    "\n",
    "Dans deux des quatre cellules de ce tableau, le résultat du test est erroné. Un type d'erreur se produit si le test favorise l'hypothèse alternative alors que l'hypothèse nulle est vraie. L'autre type d'erreur se produit si le test favorise l'hypothèse nulle alors que l'hypothèse alternative est vraie.\n",
    "\n",
    "Étant donné que l'hypothèse nulle est un modèle aléatoire complètement spécifié, le premier type d'erreur a une chance que nous pouvons estimer. La réponse s'avère être essentiellement le seuil que nous utilisons pour la valeur p. Voyons comment."
   ]
  },
  {
   "cell_type": "markdown",
   "id": "b2e0b6a1",
   "metadata": {},
   "source": [
    "#### Le risque d'erreur\n",
    "Supposons que vous vouliez tester si une pièce de monnaie donne des résultats équitables à pile ou face ou non. Les hypothèses sont alors les suivantes :\n",
    "\n",
    "**Nulle:** La pièce est juste. C'est-à-dire que les résultats correspondent à des tirages aléatoires avec remplacement de *Pile, Pile*.\n",
    "\n",
    "**Alternative:** La pièce n'est pas juste.\n",
    "\n",
    "Supposons que vous souhaitiez tester cette hypothèse sur la base de 2000 tirages à pile ou face. On peut s'attendre à ce qu'une pièce juste tombe sur pile 1000 fois sur 2000, de sorte qu'une statistique de test raisonnable est la suivante\n",
    "\n",
    "$$\n",
    "\\text{statistique de test} ~ = ~ \\big{\\vert} ~ \\text{nombre de face} - 1000 ~ \\big{\\vert}\n",
    "$$\n",
    "\n",
    "Les petites valeurs de cette statistique favorisent l'hypothèse nulle, et les grandes valeurs favorisent l'hypothèse alternative.\n",
    "\n",
    "Nous avons simulé cette statistique sous l'hypothèse nulle à de nombreuses reprises et tracé sa distribution empirique."
   ]
  },
  {
   "cell_type": "code",
   "execution_count": 4,
   "id": "dc6056d0",
   "metadata": {
    "tags": [
     "remove-input"
    ]
   },
   "outputs": [
    {
     "data": {
      "image/png": "[encoded data removed]",
      "text/plain": [
       "<Figure size 432x288 with 1 Axes>"
      ]
     },
     "metadata": {},
     "output_type": "display_data"
    }
   ],
   "source": [
    "fair_coin = [0.5, 0.5]\n",
    "\n",
    "def one_simulated_statistic():\n",
    "    number_of_heads = 2000 * sample_proportions(2000, fair_coin).item(0)\n",
    "    return abs(number_of_heads - 1000)\n",
    "\n",
    "repetitions = 50000\n",
    "\n",
    "statistics = make_array()\n",
    "for i in np.arange(50000):\n",
    "    statistics = np.append(statistics, one_simulated_statistic())\n",
    "\n",
    "results = Table().with_column('|Number of Heads - 1000|', statistics)\n",
    "results.hist(bins = np.arange(0, 101, 5), left_end=45)\n",
    "plots.title('2000 Tosses');"
   ]
  },
  {
   "cell_type": "markdown",
   "id": "7e7f3c5c",
   "metadata": {},
   "source": [
    "La zone située à droite de 45, colorée en or, est légèrement inférieure à 5 %."
   ]
  },
  {
   "cell_type": "code",
   "execution_count": 5,
   "id": "919785f5",
   "metadata": {},
   "outputs": [
    {
     "data": {
      "text/plain": [
       "0.04654"
      ]
     },
     "execution_count": 5,
     "metadata": {},
     "output_type": "execute_result"
    }
   ],
   "source": [
    "np.count_nonzero(statistics >= 45) / repetitions"
   ]
  },
  {
   "cell_type": "markdown",
   "id": "8e9c12c7",
   "metadata": {},
   "source": [
    "Les valeurs élevées de la statistique de test favorisent l'alternative. Ainsi, si vous souhaitez utiliser un seuil de 5 % pour la valeur p, votre règle de décision consistera à conclure que la pièce est déloyale si la valeur de la statistique de test est égale ou supérieure à 45.\n",
    "\n",
    "Cependant, comme le montre la figure, une pièce de monnaie équitable peut produire des statistiques de test avec des valeurs de 45 ou plus. En fait, elle le fait avec une chance d'environ 5 %.\n",
    "\n",
    "Résumé : *Si la pièce est juste* et que notre test utilise un seuil de 5 % pour décider si elle est juste ou non, il y a environ 5 % de chances que le test conclue à tort que la pièce est injuste."
   ]
  },
  {
   "cell_type": "markdown",
   "id": "9cb4499c",
   "metadata": {},
   "source": [
    "#### Le seuil de la valeur p est une probabilité d'erreur\n",
    "L'exemple ci-dessus est un cas particulier d'un fait général :\n",
    "\n",
    "**Si vous utilisez un seuil de $p$% pour la valeur p, et que l'hypothèse nulle est vraie, il y a environ $p$% de chances que votre test conclue que l'alternative est vraie**.\n",
    "\n",
    "Voici à nouveau le tableau des quatre résultats possibles de la réalité/du test. Les probabilités de la première ligne sont calculées en supposant que l'hypothèse nulle est vraie. La valeur p est la probabilité de l'erreur indiquée en gras.\n",
    "\n",
    "|                             | Le test est favorise l'hypothèse nulle | Le test favorise l'hypothèse alternative |\n",
    "|-----------------------------|----------------------------------------|------------------------------------------|\n",
    "| L'hypothèse nulle est vraie | Résultat correct                       | **Erreur**                               |\n",
    "| L'alternative est vraie     | Erreur                                 | Résultat correct                         |\n",
    "\n",
    "#### Contrôle de l'erreur\n",
    "Le seuil de 1 % est donc plus prudent que celui de 5 %. Avec un seuil de 1 %, il y a moins de chances de conclure à une \"alternative\" si l'hypothèse nulle s'avère vraie. C'est pourquoi les essais contrôlés randomisés de traitements médicaux utilisent généralement le seuil de 1 % pour décider entre les deux hypothèses suivantes :\n",
    "\n",
    "**Le traitement n'a pas d'effet ; les différences observées entre les résultats des groupes de patients traités et des groupes de contrôle sont dues à la randomisation.\n",
    "\n",
    "**Alternative:** Le traitement a un effet.\n",
    "\n",
    "L'idée est de contrôler le risque de conclure que le traitement a un effet alors qu'il n'en a aucun. Cela réduit le risque de donner aux patients un traitement inutile.\n",
    "\n",
    "Néanmoins, même si vous fixez le seuil à 1 % et que le traitement n'a aucun effet, il y a environ 1 % de chances de conclure que le traitement a un effet. Cela est dû à la variation du hasard. Il y a un faible risque que les données provenant d'échantillons aléatoires finissent par vous induire en erreur. L'avantage de l'échantillonnage aléatoire est que vous pouvez trouver cette chance."
   ]
  },
  {
   "cell_type": "markdown",
   "id": "973717f8",
   "metadata": {},
   "source": [
    "#### Triturage de données et p-hacking\n",
    "La discussion ci-dessus implique que si chacun des 100 groupes de recherche différents mène une expérience aléatoire contrôlée distincte sur l'effet d'un traitement qui n'a en fait aucun effet, et que chaque expérience utilise un seuil de 1 % pour la valeur p, alors, par variation aléatoire, l'une des expériences devrait conclure de manière erronée que le traitement a un effet.\n",
    "\n",
    "Malheureusement, c'est cette expérience qui pourrait être publiée. C'est pourquoi il est important que les expériences soient *répliquées*. En d'autres termes, d'autres chercheurs devraient pouvoir réaliser l'expérience et voir s'ils obtiennent des résultats similaires.\n",
    "\n",
    "Il n'est pas rare que les chercheurs testent plusieurs hypothèses à partir des mêmes données. Par exemple, dans un essai contrôlé randomisé sur l'effet d'un médicament, les chercheurs peuvent tester si le médicament a un effet sur différentes maladies.\n",
    "\n",
    "Supposons maintenant que le médicament n'ait aucun effet sur quoi que ce soit. Par le simple jeu du hasard, un petit pourcentage des tests pourrait conclure qu'il a un effet. Par conséquent, lorsque vous lisez une étude qui utilise des tests d'hypothèses et conclut qu'un traitement a un effet, demandez toujours combien d'effets différents ont été testés avant que les chercheurs ne trouvent celui qui a été rapporté.\n",
    "\n",
    "Si les chercheurs ont effectué plusieurs tests différents avant d'en trouver un qui donne un résultat \"hautement significatif sur le plan statistique\", utilisez ce résultat avec prudence. L'étude pourrait être entachée de *triturage de données*, qui consiste essentiellement à torturer les données pour obtenir de faux aveux. On parle aussi parfois de *p-hacking*.\n",
    "\n",
    "Dans une telle situation, une façon de valider le résultat rapporté est de reproduire l'expérience et de tester uniquement cet effet particulier. Si le résultat est à nouveau significatif, la conclusion initiale sera validée."
   ]
  },
  {
   "cell_type": "markdown",
   "id": "64b4d20e",
   "metadata": {},
   "source": [
    "#### Note technique : L'autre type d'erreur\n",
    "Il existe bien sûr un autre type d'erreur : conclure que le traitement ne fait rien alors qu'il fait quelque chose. Cette erreur n'est pas abordée dans le cadre de ce cours. Sachez simplement que la vie n'est pas facile : si vous configurez votre test pour réduire l'une des deux erreurs, vous augmentez presque toujours l'autre."
   ]
  },
  {
   "cell_type": "markdown",
   "id": "fbc3695f",
   "metadata": {
    "jp-MarkdownHeadingCollapsed": true
   },
   "source": [
    "## 6. Tests d'hypothèses : tests de permutation à deux échantillons (facultatif)"
   ]
  },
  {
   "cell_type": "markdown",
   "id": "85255306-e591-4d69-b46e-f98d5458a936",
   "metadata": {},
   "source": [
    "Nous avons vu plusieurs exemples permettant d'évaluer si un échantillon unique ressemble à des tirages aléatoires à partir d'un modèle de hasard spécifié.\n",
    "- Les jurys du comté d'Alameda ressemblaient-ils à un échantillon aléatoire de la population des jurés éligibles ?\n",
    "- Les pois cultivés par Mendel avaient-ils des couleurs conformes aux chances qu'il avait spécifiées dans son modèle ?\n",
    "\n",
    "Dans tous ces cas, il n'y avait qu'un seul échantillon aléatoire et nous essayions de déterminer comment il avait été généré. Mais souvent, les scientifiques des données doivent comparer deux échantillons aléatoires l'un avec l'autre. Par exemple, ils peuvent être amenés à comparer les résultats de patients qui ont été assignés au hasard à un groupe traitement et à un groupe contrôle. Ou encore, ils peuvent avoir assigné au hasard des utilisateurs d'Internet à deux versions différentes d'un site web, après quoi ils voudront comparer les actions des deux groupes aléatoires.\n",
    "\n",
    "Dans ce chapitre, nous développons un moyen d'utiliser Python pour comparer deux échantillons aléatoires et répondre à des questions sur les similitudes et les différences entre eux. Vous verrez que les méthodes que nous développons ont des applications diverses. Nos exemples proviennent de la médecine et de la santé publique ainsi que du football !\n"
   ]
  },
  {
   "cell_type": "markdown",
   "id": "28ddd787",
   "metadata": {
    "jp-MarkdownHeadingCollapsed": true
   },
   "source": [
    "### Test A/B\n",
    "Dans le domaine de l'analyse de données moderne, le fait de décider si deux échantillons numériques proviennent de la même distribution sous-jacente est appelé *test A/B*. Le nom fait référence aux étiquettes des deux échantillons, A et B.\n",
    "\n",
    "Nous allons développer la méthode dans le contexte d'un exemple. Les données proviennent d'un échantillon de nouveau-nés dans un grand hôpital. Nous les traiterons comme s'il s'agissait d'un échantillon aléatoire simple, bien que l'échantillonnage ait été effectué en plusieurs étapes. Le document [Stat Labs] (https://www.stat.berkeley.edu/~statlabs/) de Deborah Nolan et Terry Speed contient des détails sur un ensemble de données plus large dont cet ensemble est tiré."
   ]
  },
  {
   "cell_type": "markdown",
   "id": "5b990e8e",
   "metadata": {},
   "source": [
    "#### Fumeuses et non-fumeuses\n",
    "Le tableau `naissances` contient les variables suivantes pour 1 174 paires mère-bébé : le poids du bébé à la naissance en onces, le nombre de jours de gestation, l'âge de la mère en années révolues, la taille de la mère en pouces, le poids de la grossesse en livres et le fait que la mère ait fumé ou non pendant la grossesse."
   ]
  },
  {
   "cell_type": "code",
   "execution_count": 2,
   "id": "8a22c09b",
   "metadata": {},
   "outputs": [
    {
     "data": {
      "text/html": [
       "<table border=\"1\" class=\"dataframe\">\n",
       "    <thead>\n",
       "        <tr>\n",
       "            <th>Birth Weight</th> <th>Gestational Days</th> <th>Maternal Age</th> <th>Maternal Height</th> <th>Maternal Pregnancy Weight</th> <th>Maternal Smoker</th>\n",
       "        </tr>\n",
       "    </thead>\n",
       "    <tbody>\n",
       "        <tr>\n",
       "            <td>120         </td> <td>284             </td> <td>27          </td> <td>62             </td> <td>100                      </td> <td>False          </td>\n",
       "        </tr>\n",
       "        <tr>\n",
       "            <td>113         </td> <td>282             </td> <td>33          </td> <td>64             </td> <td>135                      </td> <td>False          </td>\n",
       "        </tr>\n",
       "        <tr>\n",
       "            <td>128         </td> <td>279             </td> <td>28          </td> <td>64             </td> <td>115                      </td> <td>True           </td>\n",
       "        </tr>\n",
       "        <tr>\n",
       "            <td>108         </td> <td>282             </td> <td>23          </td> <td>67             </td> <td>125                      </td> <td>True           </td>\n",
       "        </tr>\n",
       "        <tr>\n",
       "            <td>136         </td> <td>286             </td> <td>25          </td> <td>62             </td> <td>93                       </td> <td>False          </td>\n",
       "        </tr>\n",
       "        <tr>\n",
       "            <td>138         </td> <td>244             </td> <td>33          </td> <td>62             </td> <td>178                      </td> <td>False          </td>\n",
       "        </tr>\n",
       "        <tr>\n",
       "            <td>132         </td> <td>245             </td> <td>23          </td> <td>65             </td> <td>140                      </td> <td>False          </td>\n",
       "        </tr>\n",
       "        <tr>\n",
       "            <td>120         </td> <td>289             </td> <td>25          </td> <td>62             </td> <td>125                      </td> <td>False          </td>\n",
       "        </tr>\n",
       "        <tr>\n",
       "            <td>143         </td> <td>299             </td> <td>30          </td> <td>66             </td> <td>136                      </td> <td>True           </td>\n",
       "        </tr>\n",
       "        <tr>\n",
       "            <td>140         </td> <td>351             </td> <td>27          </td> <td>68             </td> <td>120                      </td> <td>False          </td>\n",
       "        </tr>\n",
       "    </tbody>\n",
       "</table>\n",
       "<p>... (1164 rows omitted)</p>"
      ],
      "text/plain": [
       "Birth Weight | Gestational Days | Maternal Age | Maternal Height | Maternal Pregnancy Weight | Maternal Smoker\n",
       "120          | 284              | 27           | 62              | 100                       | False\n",
       "113          | 282              | 33           | 64              | 135                       | False\n",
       "128          | 279              | 28           | 64              | 115                       | True\n",
       "108          | 282              | 23           | 67              | 125                       | True\n",
       "136          | 286              | 25           | 62              | 93                        | False\n",
       "138          | 244              | 33           | 62              | 178                       | False\n",
       "132          | 245              | 23           | 65              | 140                       | False\n",
       "120          | 289              | 25           | 62              | 125                       | False\n",
       "143          | 299              | 30           | 66              | 136                       | True\n",
       "140          | 351              | 27           | 68              | 120                       | False\n",
       "... (1164 rows omitted)"
      ]
     },
     "execution_count": 2,
     "metadata": {},
     "output_type": "execute_result"
    }
   ],
   "source": [
    "births = Table.read_table(path_data + 'baby.csv')\n",
    "births"
   ]
  },
  {
   "cell_type": "markdown",
   "id": "ed1716de",
   "metadata": {},
   "source": [
    "L'un des objectifs de l'étude était de déterminer si le tabagisme maternel était associé au poids à la naissance. Voyons ce que nous pouvons dire sur ces deux variables.\n",
    "\n",
    "Nous commencerons par sélectionner uniquement `Birth weight` et `Maternal Smoker`. Il y a 715 non-fumeuses parmi les femmes de l'échantillon, et 459 fumeuses."
   ]
  },
  {
   "cell_type": "code",
   "execution_count": 3,
   "id": "1e8d52c9",
   "metadata": {},
   "outputs": [],
   "source": [
    "smoking_and_birthweight = births.select('Maternal Smoker', 'Birth Weight')"
   ]
  },
  {
   "cell_type": "code",
   "execution_count": 4,
   "id": "d0b7b734",
   "metadata": {},
   "outputs": [
    {
     "data": {
      "text/html": [
       "<table border=\"1\" class=\"dataframe\">\n",
       "    <thead>\n",
       "        <tr>\n",
       "            <th>Maternal Smoker</th> <th>count</th>\n",
       "        </tr>\n",
       "    </thead>\n",
       "    <tbody>\n",
       "        <tr>\n",
       "            <td>False          </td> <td>715  </td>\n",
       "        </tr>\n",
       "        <tr>\n",
       "            <td>True           </td> <td>459  </td>\n",
       "        </tr>\n",
       "    </tbody>\n",
       "</table>"
      ],
      "text/plain": [
       "Maternal Smoker | count\n",
       "False           | 715\n",
       "True            | 459"
      ]
     },
     "execution_count": 4,
     "metadata": {},
     "output_type": "execute_result"
    }
   ],
   "source": [
    "smoking_and_birthweight.group('Maternal Smoker')"
   ]
  },
  {
   "cell_type": "markdown",
   "id": "6ed9e1b8",
   "metadata": {},
   "source": [
    "Examinons la distribution des poids à la naissance des bébés des mères non fumeuses par rapport à ceux des mères fumeuses. Pour générer deux histogrammes superposés, nous utiliserons `hist` avec l'argument optionnel `group` qui est un libellé de colonne ou un index. Les lignes du tableau sont d'abord regroupées par cette colonne, puis un histogramme est dessiné pour chacune d'entre elles."
   ]
  },
  {
   "cell_type": "code",
   "execution_count": 5,
   "id": "579997ba",
   "metadata": {},
   "outputs": [
    {
     "data": {
      "image/png": "[encoded data removed]",
      "text/plain": [
       "<Figure size 432x288 with 1 Axes>"
      ]
     },
     "metadata": {},
     "output_type": "display_data"
    }
   ],
   "source": [
    "smoking_and_birthweight.hist('Birth Weight', group = 'Maternal Smoker')"
   ]
  },
  {
   "cell_type": "markdown",
   "id": "68173e37",
   "metadata": {},
   "source": [
    "La distribution des poids des bébés nés de mères fumeuses semble être basée légèrement à gauche de la distribution correspondant aux mères non fumeuses. Les poids des bébés des mères fumeuses semblent en moyenne plus faibles que les poids des bébés des non-fumeuses.\n",
    "\n",
    "Cela soulève la question de savoir si la différence reflète une simple variation due au hasard ou une différence dans les distributions au sein de la population plus large. Se pourrait-il qu'il n'y ait pas de différence entre les deux distributions dans la population, mais que nous observions une différence dans les échantillons uniquement en raison des mères qui ont été sélectionnées ?"
   ]
  },
  {
   "cell_type": "markdown",
   "id": "03b92516",
   "metadata": {},
   "source": [
    "#### Les hypothèses\n",
    "Nous pouvons tenter de répondre à cette question par un test d'hypothèses. Le modèle de hasard que nous allons tester affirme qu'il n'y a pas de différence sous-jacente dans les populations ; les distributions dans les échantillons sont différentes uniquement en raison du hasard.\n",
    "\n",
    "Formellement, il s'agit de l'hypothèse nulle. Nous allons devoir trouver comment simuler une statistique utile sous cette hypothèse. Mais pour commencer, énonçons simplement les deux hypothèses naturelles.\n",
    "\n",
    "**Hypothèse nulle:** Dans la population, la distribution des poids de naissance des bébés est la même pour les mères qui ne fument pas que pour celles qui fument. La différence dans l'échantillon est due au hasard.\n",
    "\n",
    "**Hypothèse alternative:** Dans la population, les bébés des mères fumeuses ont en moyenne un poids de naissance inférieur à celui des bébés des mères non fumeuses."
   ]
  },
  {
   "cell_type": "markdown",
   "id": "d3e8be0a",
   "metadata": {},
   "source": [
    "#### Statistique du test\n",
    "L'hypothèse alternative compare les poids de naissance moyens des deux groupes et affirme que la moyenne des mères fumeuses est plus petite. Il est donc raisonnable d'utiliser la différence entre les moyennes des deux groupes comme statistique.\n",
    "\n",
    "Nous effectuerons la soustraction dans l'ordre suivant : \"poids moyen du groupe des fumeuses $-$ poids moyen du groupe des non-fumeuses\". De petites valeurs (c'est-à-dire de grandes valeurs négatives) de cette statistique favoriseront l'hypothèse alternative.\n",
    "\n",
    "La valeur observée de la statistique de test est d'environ $-9.27$ onces."
   ]
  },
  {
   "cell_type": "code",
   "execution_count": 6,
   "id": "439f5143",
   "metadata": {},
   "outputs": [
    {
     "data": {
      "text/html": [
       "<table border=\"1\" class=\"dataframe\">\n",
       "    <thead>\n",
       "        <tr>\n",
       "            <th>Maternal Smoker</th> <th>Birth Weight average</th>\n",
       "        </tr>\n",
       "    </thead>\n",
       "    <tbody>\n",
       "        <tr>\n",
       "            <td>False          </td> <td>123.085             </td>\n",
       "        </tr>\n",
       "        <tr>\n",
       "            <td>True           </td> <td>113.819             </td>\n",
       "        </tr>\n",
       "    </tbody>\n",
       "</table>"
      ],
      "text/plain": [
       "Maternal Smoker | Birth Weight average\n",
       "False           | 123.085\n",
       "True            | 113.819"
      ]
     },
     "execution_count": 6,
     "metadata": {},
     "output_type": "execute_result"
    }
   ],
   "source": [
    "means_table = smoking_and_birthweight.group('Maternal Smoker', np.average)\n",
    "means_table"
   ]
  },
  {
   "cell_type": "code",
   "execution_count": 7,
   "id": "d70e0778",
   "metadata": {},
   "outputs": [
    {
     "data": {
      "text/plain": [
       "-9.266142572024918"
      ]
     },
     "execution_count": 7,
     "metadata": {},
     "output_type": "execute_result"
    }
   ],
   "source": [
    "means = means_table.column(1)\n",
    "observed_difference = means.item(1) - means.item(0)\n",
    "observed_difference"
   ]
  },
  {
   "cell_type": "markdown",
   "id": "b34c885b",
   "metadata": {},
   "source": [
    "Nous allons calculer ces différences de manière répétée dans nos simulations ci-dessous, et nous allons donc définir une fonction pour faire ce travail. La fonction prend deux arguments :\n",
    "\n",
    "- le nom du tableau de données\n",
    "- l'étiquette de la colonne qui contient la variable booléenne pour le regroupement\n",
    "\n",
    "Elle renvoie la différence entre les moyennes du groupe \"vrai\" et du groupe \"faux\".\n",
    "\n",
    "Vous verrez bientôt pourquoi nous spécifions les deux arguments. Pour l'instant, il suffit de vérifier que la fonction renvoie bien ce qu'elle doit renvoyer."
   ]
  },
  {
   "cell_type": "code",
   "execution_count": 15,
   "id": "af91f68e",
   "metadata": {},
   "outputs": [],
   "source": [
    "def difference_of_means(table, group_label):\n",
    "    \"\"\"Takes: name of table,\n",
    "    column label that indicates the group to which the row belongs\n",
    "    Returns: Difference of mean birth weights of the two groups\"\"\"\n",
    "    reduced = table.select('Birth Weight', group_label)\n",
    "    means_table = reduced.group(group_label, np.average)\n",
    "    means = means_table.column(1)\n",
    "    return means.item(1) - means.item(0)"
   ]
  },
  {
   "cell_type": "markdown",
   "id": "a43e58a9",
   "metadata": {},
   "source": [
    "Pour vérifier que la fonction fonctionne, utilisons-la pour calculer la différence observée entre les poids moyens à la naissance des deux groupes de l'échantillon."
   ]
  },
  {
   "cell_type": "code",
   "execution_count": 16,
   "id": "074d9b17",
   "metadata": {},
   "outputs": [
    {
     "data": {
      "text/plain": [
       "-9.266142572024918"
      ]
     },
     "execution_count": 16,
     "metadata": {},
     "output_type": "execute_result"
    }
   ],
   "source": [
    "difference_of_means(births, 'Maternal Smoker')"
   ]
  },
  {
   "cell_type": "markdown",
   "id": "46421f81",
   "metadata": {},
   "source": [
    "C'est la même valeur que celle de `observed_difference` calculée précédemment."
   ]
  },
  {
   "cell_type": "markdown",
   "id": "b3820e67",
   "metadata": {},
   "source": [
    "#### Prédire la statistique sous l'hypothèse nulle\n",
    "\n",
    "Pour voir comment la statistique devrait varier sous l'hypothèse nulle, nous devons trouver un moyen de simuler la statistique sous cette hypothèse. Une méthode astucieuse basée sur les *permutations aléatoires* permet justement de le faire.\n",
    "\n",
    "S'il n'y avait pas de différence entre les deux distributions dans la population sous-jacente, le fait qu'un poids de naissance porte l'étiquette \"vrai\" ou \"faux\" en ce qui concerne le tabagisme maternel ne devrait pas avoir d'incidence sur la moyenne. L'idée est donc de mélanger toutes les étiquettes au hasard parmi les mères. C'est ce qu'on appelle une *permutation aléatoire*.\n",
    "\n",
    "La permutation garantit que le nombre d'étiquettes \"Vrai\" ne change pas et que le nombre d'étiquettes \"Faux\" ne change pas non plus. Ceci est important pour la comparabilité des différences de moyennes simulées et des différences de moyennes originales. Nous verrons plus tard dans ce cours que la taille de l'échantillon affecte la variabilité de la moyenne d'un échantillon.\n",
    "\n",
    "Prenez la différence des deux nouvelles moyennes de groupe : le poids moyen des bébés dont les mères ont été étiquetées fumeuses au hasard et le poids moyen des bébés des mères restantes qui ont toutes été étiquetées non-fumeuses au hasard. Il s'agit d'une valeur simulée de la statistique de test sous l'hypothèse nulle.\n",
    "\n",
    "Voyons comment procéder. Il est toujours bon de commencer par les données. Nous avons réduit le tableau pour n'avoir que les colonnes dont nous avons besoin."
   ]
  },
  {
   "cell_type": "code",
   "execution_count": 10,
   "id": "4fe217f8",
   "metadata": {},
   "outputs": [
    {
     "data": {
      "text/html": [
       "<table border=\"1\" class=\"dataframe\">\n",
       "    <thead>\n",
       "        <tr>\n",
       "            <th>Maternal Smoker</th> <th>Birth Weight</th>\n",
       "        </tr>\n",
       "    </thead>\n",
       "    <tbody>\n",
       "        <tr>\n",
       "            <td>False          </td> <td>120         </td>\n",
       "        </tr>\n",
       "        <tr>\n",
       "            <td>False          </td> <td>113         </td>\n",
       "        </tr>\n",
       "        <tr>\n",
       "            <td>True           </td> <td>128         </td>\n",
       "        </tr>\n",
       "        <tr>\n",
       "            <td>True           </td> <td>108         </td>\n",
       "        </tr>\n",
       "        <tr>\n",
       "            <td>False          </td> <td>136         </td>\n",
       "        </tr>\n",
       "        <tr>\n",
       "            <td>False          </td> <td>138         </td>\n",
       "        </tr>\n",
       "        <tr>\n",
       "            <td>False          </td> <td>132         </td>\n",
       "        </tr>\n",
       "        <tr>\n",
       "            <td>False          </td> <td>120         </td>\n",
       "        </tr>\n",
       "        <tr>\n",
       "            <td>True           </td> <td>143         </td>\n",
       "        </tr>\n",
       "        <tr>\n",
       "            <td>False          </td> <td>140         </td>\n",
       "        </tr>\n",
       "    </tbody>\n",
       "</table>\n",
       "<p>... (1164 rows omitted)</p>"
      ],
      "text/plain": [
       "Maternal Smoker | Birth Weight\n",
       "False           | 120\n",
       "False           | 113\n",
       "True            | 128\n",
       "True            | 108\n",
       "False           | 136\n",
       "False           | 138\n",
       "False           | 132\n",
       "False           | 120\n",
       "True            | 143\n",
       "False           | 140\n",
       "... (1164 rows omitted)"
      ]
     },
     "execution_count": 10,
     "metadata": {},
     "output_type": "execute_result"
    }
   ],
   "source": [
    "smoking_and_birthweight"
   ]
  },
  {
   "cell_type": "markdown",
   "id": "88737c14",
   "metadata": {},
   "source": [
    "Le tableau comporte 1 174 lignes. Pour mélanger toutes les étiquettes, nous tirerons un échantillon aléatoire de 1 174 lignes sans remplacement. L'échantillon comprendra alors toutes les lignes du tableau, dans un ordre aléatoire.\n",
    "\n",
    "Nous pouvons utiliser la méthode `sample` de Table avec l'argument optionnel `with_replacement=False`. Il n'est pas nécessaire de spécifier une taille d'échantillon, car par défaut, `sample` tire autant de fois qu'il y a de lignes dans le tableau."
   ]
  },
  {
   "cell_type": "code",
   "execution_count": 12,
   "id": "de6a91fa",
   "metadata": {},
   "outputs": [],
   "source": [
    "shuffled_labels = smoking_and_birthweight.sample(with_replacement = False).column(0)\n",
    "original_and_shuffled = smoking_and_birthweight.with_column('Shuffled Label', shuffled_labels)"
   ]
  },
  {
   "cell_type": "code",
   "execution_count": 13,
   "id": "8f24c1a0",
   "metadata": {},
   "outputs": [
    {
     "data": {
      "text/html": [
       "<table border=\"1\" class=\"dataframe\">\n",
       "    <thead>\n",
       "        <tr>\n",
       "            <th>Maternal Smoker</th> <th>Birth Weight</th> <th>Shuffled Label</th>\n",
       "        </tr>\n",
       "    </thead>\n",
       "    <tbody>\n",
       "        <tr>\n",
       "            <td>False          </td> <td>120         </td> <td>True          </td>\n",
       "        </tr>\n",
       "        <tr>\n",
       "            <td>False          </td> <td>113         </td> <td>False         </td>\n",
       "        </tr>\n",
       "        <tr>\n",
       "            <td>True           </td> <td>128         </td> <td>False         </td>\n",
       "        </tr>\n",
       "        <tr>\n",
       "            <td>True           </td> <td>108         </td> <td>True          </td>\n",
       "        </tr>\n",
       "        <tr>\n",
       "            <td>False          </td> <td>136         </td> <td>False         </td>\n",
       "        </tr>\n",
       "        <tr>\n",
       "            <td>False          </td> <td>138         </td> <td>False         </td>\n",
       "        </tr>\n",
       "        <tr>\n",
       "            <td>False          </td> <td>132         </td> <td>True          </td>\n",
       "        </tr>\n",
       "        <tr>\n",
       "            <td>False          </td> <td>120         </td> <td>False         </td>\n",
       "        </tr>\n",
       "        <tr>\n",
       "            <td>True           </td> <td>143         </td> <td>True          </td>\n",
       "        </tr>\n",
       "        <tr>\n",
       "            <td>False          </td> <td>140         </td> <td>False         </td>\n",
       "        </tr>\n",
       "    </tbody>\n",
       "</table>\n",
       "<p>... (1164 rows omitted)</p>"
      ],
      "text/plain": [
       "Maternal Smoker | Birth Weight | Shuffled Label\n",
       "False           | 120          | True\n",
       "False           | 113          | False\n",
       "True            | 128          | False\n",
       "True            | 108          | True\n",
       "False           | 136          | False\n",
       "False           | 138          | False\n",
       "False           | 132          | True\n",
       "False           | 120          | False\n",
       "True            | 143          | True\n",
       "False           | 140          | False\n",
       "... (1164 rows omitted)"
      ]
     },
     "execution_count": 13,
     "metadata": {},
     "output_type": "execute_result"
    }
   ],
   "source": [
    "original_and_shuffled"
   ]
  },
  {
   "cell_type": "markdown",
   "id": "3f30a54a",
   "metadata": {},
   "source": [
    "La mère de chaque bébé a maintenant une étiquette aléatoire de fumeur/non-fumeur dans la colonne \"shuffled label\", alors que son étiquette originale se trouve dans la colonne \"maternal smoker\". Si l'hypothèse nulle est vraie, toutes les réorganisations aléatoires des étiquettes devraient avoir la même probabilité.\n",
    "\n",
    "Voyons à quel point les poids moyens sont différents dans les deux groupes étiquetés au hasard."
   ]
  },
  {
   "cell_type": "code",
   "execution_count": 14,
   "id": "c9fc3d93",
   "metadata": {},
   "outputs": [
    {
     "data": {
      "text/html": [
       "<table border=\"1\" class=\"dataframe\">\n",
       "    <thead>\n",
       "        <tr>\n",
       "            <th>Shuffled Label</th> <th>Birth Weight average</th>\n",
       "        </tr>\n",
       "    </thead>\n",
       "    <tbody>\n",
       "        <tr>\n",
       "            <td>False         </td> <td>119.277             </td>\n",
       "        </tr>\n",
       "        <tr>\n",
       "            <td>True          </td> <td>119.752             </td>\n",
       "        </tr>\n",
       "    </tbody>\n",
       "</table>"
      ],
      "text/plain": [
       "Shuffled Label | Birth Weight average\n",
       "False          | 119.277\n",
       "True           | 119.752"
      ]
     },
     "execution_count": 14,
     "metadata": {},
     "output_type": "execute_result"
    }
   ],
   "source": [
    "shuffled_only = original_and_shuffled.select('Birth Weight','Shuffled Label')\n",
    "shuffled_group_means = shuffled_only.group('Shuffled Label', np.average)\n",
    "shuffled_group_means"
   ]
  },
  {
   "cell_type": "markdown",
   "id": "c103b3dd",
   "metadata": {},
   "source": [
    "Les moyennes des deux groupes sélectionnés au hasard sont assez proches des moyennes des deux groupes initiaux. Nous pouvons utiliser notre fonction `différence_des_moyennes` pour trouver les deux différences."
   ]
  },
  {
   "cell_type": "code",
   "execution_count": 17,
   "id": "1d2dbd4f",
   "metadata": {},
   "outputs": [
    {
     "data": {
      "text/plain": [
       "0.4747109100050153"
      ]
     },
     "execution_count": 17,
     "metadata": {},
     "output_type": "execute_result"
    }
   ],
   "source": [
    "difference_of_means(original_and_shuffled, 'Shuffled Label')"
   ]
  },
  {
   "cell_type": "code",
   "execution_count": 18,
   "id": "17354d49",
   "metadata": {},
   "outputs": [
    {
     "data": {
      "text/plain": [
       "-9.266142572024918"
      ]
     },
     "execution_count": 18,
     "metadata": {},
     "output_type": "execute_result"
    }
   ],
   "source": [
    "difference_of_means(original_and_shuffled, 'Maternal Smoker')"
   ]
  },
  {
   "cell_type": "markdown",
   "id": "e26b655b",
   "metadata": {},
   "source": [
    "Mais un brassage différent aurait-il pu entraîner une différence plus importante entre les moyennes des groupes ? Pour avoir une idée de la variabilité, nous devons simuler la différence plusieurs fois.\n",
    "\n",
    "Comme toujours, nous commencerons par définir une fonction qui simule une valeur de la statistique de test sous l'hypothèse nulle. Il s'agit simplement de rassembler le code que nous avons écrit ci-dessus.\n",
    "\n",
    "La fonction s'appelle `one_simulated_difference_of_means`. Elle ne prend aucun argument et renvoie la différence entre les poids de naissance moyens de deux groupes formés en mélangeant aléatoirement toutes les étiquettes."
   ]
  },
  {
   "cell_type": "code",
   "execution_count": 19,
   "id": "9de973db",
   "metadata": {},
   "outputs": [],
   "source": [
    "def one_simulated_difference_of_means():\n",
    "    \"\"\"Returns: Difference between mean birthweights\n",
    "    of babies of smokers and non-smokers after shuffling labels\"\"\"\n",
    "    \n",
    "    # array of shuffled labels\n",
    "    shuffled_labels = births.sample(with_replacement=False).column('Maternal Smoker')\n",
    "    \n",
    "    # table of birth weights and shuffled labels\n",
    "    shuffled_table = births.select('Birth Weight').with_column(\n",
    "        'Shuffled Label', shuffled_labels)\n",
    "    \n",
    "    return difference_of_means(shuffled_table, 'Shuffled Label')   "
   ]
  },
  {
   "cell_type": "markdown",
   "id": "8af8979e",
   "metadata": {},
   "source": [
    "Exécutez la cellule ci-dessous plusieurs fois pour voir comment la sortie change."
   ]
  },
  {
   "cell_type": "code",
   "execution_count": 27,
   "id": "4e8a1d65",
   "metadata": {},
   "outputs": [
    {
     "data": {
      "text/plain": [
       "-0.058299434770034964"
      ]
     },
     "execution_count": 27,
     "metadata": {},
     "output_type": "execute_result"
    }
   ],
   "source": [
    "one_simulated_difference_of_means()"
   ]
  },
  {
   "cell_type": "markdown",
   "id": "10c9eff9",
   "metadata": {},
   "source": [
    "#### Test de permutation\n",
    "Les tests basés sur des permutations aléatoires des données sont appelés *tests de permutation*. Nous en effectuons un dans cet exemple. Dans la cellule ci-dessous, nous allons simuler notre statistique de test - la différence entre le poids moyen à la naissance des deux groupes formés au hasard - plusieurs fois et rassembler les différences dans un tableau."
   ]
  },
  {
   "cell_type": "code",
   "execution_count": 29,
   "id": "fe1d1952",
   "metadata": {},
   "outputs": [],
   "source": [
    "differences = make_array()\n",
    "\n",
    "repetitions = 5000\n",
    "for i in np.arange(repetitions):\n",
    "    new_difference = one_simulated_difference_of_means()\n",
    "    differences = np.append(differences, new_difference)                               "
   ]
  },
  {
   "cell_type": "markdown",
   "id": "fb91cddd",
   "metadata": {},
   "source": [
    "Le tableau `differences` contient 5 000 valeurs simulées de notre statistique de test : la différence entre le poids moyen dans le groupe des fumeurs et le poids moyen dans le groupe des non-fumeurs, lorsque les étiquettes ont été attribuées au hasard.\n",
    "\n",
    "#### Conclusion du test\n",
    "L'histogramme ci-dessous montre la distribution de ces 5 000 valeurs. Il s'agit de la distribution empirique de la statistique de test simulée sous l'hypothèse nulle. Il s'agit d'une prédiction de la statistique du test, basée sur l'hypothèse nulle."
   ]
  },
  {
   "cell_type": "code",
   "execution_count": 30,
   "id": "21b2c1bb",
   "metadata": {},
   "outputs": [
    {
     "name": "stdout",
     "output_type": "stream",
     "text": [
      "Observed Difference: -9.266142572024918\n"
     ]
    },
    {
     "data": {
      "image/png": "[encoded data removed]",
      "text/plain": [
       "<Figure size 432x288 with 1 Axes>"
      ]
     },
     "metadata": {},
     "output_type": "display_data"
    }
   ],
   "source": [
    "Table().with_column('Difference Between Group Means', differences).hist()\n",
    "print('Observed Difference:', observed_difference)\n",
    "plots.title('Prediction Under the Null Hypothesis');"
   ]
  },
  {
   "cell_type": "markdown",
   "id": "113d835e",
   "metadata": {},
   "source": [
    "Remarquez que la distribution est centrée approximativement autour de 0. Cela est logique, car sous l'hypothèse nulle, les deux groupes devraient avoir approximativement la même moyenne. Par conséquent, la différence entre les moyennes des groupes devrait se situer autour de 0.\n",
    "\n",
    "La différence observée dans l'échantillon original est d'environ 9,27 onces, ce qui n'apparaît même pas sur l'échelle horizontale de l'histogramme. La valeur observée de la statistique et le comportement prédit de la statistique sous l'hypothèse nulle sont incohérents.\n",
    "\n",
    "La conclusion du test est que les données favorisent l'hypothèse alternative par rapport à l'hypothèse nulle. Elles confirment l'hypothèse selon laquelle le poids moyen à la naissance des bébés nés de mères fumeuses est inférieur au poids moyen à la naissance des bébés nés de mères non fumeuses.\n",
    "\n",
    "Si vous souhaitez calculer une valeur p empirique, n'oubliez pas que de faibles valeurs de la statistique favorisent l'hypothèse alternative."
   ]
  },
  {
   "cell_type": "code",
   "execution_count": 31,
   "id": "0c77e3c0",
   "metadata": {},
   "outputs": [
    {
     "data": {
      "text/plain": [
       "0.0"
      ]
     },
     "execution_count": 31,
     "metadata": {},
     "output_type": "execute_result"
    }
   ],
   "source": [
    "empirical_p = np.count_nonzero(differences <= observed_difference) / repetitions\n",
    "empirical_p"
   ]
  },
  {
   "cell_type": "markdown",
   "id": "1cbd2610",
   "metadata": {},
   "source": [
    "La valeur p empirique est de 0, ce qui signifie qu'aucun des 5 000 échantillons permutés n'a donné lieu à une différence de -9,27 ou moins. Il ne s'agit que d'une approximation. La probabilité exacte d'obtenir une différence de cet ordre n'est pas de 0. Mais elle est infiniment petite, selon notre simulation, et nous pouvons donc rejeter l'hypothèse nulle."
   ]
  },
  {
   "cell_type": "markdown",
   "id": "5ee3b746",
   "metadata": {},
   "source": [
    "#### Un autre test de permutation\n",
    "Nous pouvons utiliser la même méthode pour comparer d'autres caractéristiques des fumeuses et des non-fumeuses, telles que leur âge. Les histogrammes des âges des deux groupes montrent que, dans l'échantillon, les mères fumeuses ont tendance à être plus jeunes."
   ]
  },
  {
   "cell_type": "code",
   "execution_count": 21,
   "id": "f6623cd4",
   "metadata": {},
   "outputs": [
    {
     "data": {
      "image/png": "[encoded data removed]",
      "text/plain": [
       "<Figure size 432x288 with 1 Axes>"
      ]
     },
     "metadata": {},
     "output_type": "display_data"
    }
   ],
   "source": [
    "smoking_and_age = births.select('Maternal Smoker', 'Maternal Age')\n",
    "smoking_and_age.hist('Maternal Age', group = 'Maternal Smoker')"
   ]
  },
  {
   "cell_type": "markdown",
   "id": "1687d715",
   "metadata": {},
   "source": [
    "La différence observée entre les âges moyens est d'environ 0,8$ année."
   ]
  },
  {
   "cell_type": "markdown",
   "id": "e96ad5de",
   "metadata": {},
   "source": [
    "Réécrivons le code qui a comparé les poids à la naissance afin de comparer les âges des fumeurs et des non-fumeurs."
   ]
  },
  {
   "cell_type": "code",
   "execution_count": 32,
   "id": "0d12d6e4",
   "metadata": {},
   "outputs": [],
   "source": [
    "def difference_of_means(table, group_label):\n",
    "    \"\"\"Takes: name of table,\n",
    "    column label that indicates the group to which the row belongs\n",
    "    Returns: Difference of mean ages of the two groups\"\"\"\n",
    "    reduced = table.select('Maternal Age', group_label)\n",
    "    means_table = reduced.group(group_label, np.average)\n",
    "    means = means_table.column(1)\n",
    "    return means.item(1) - means.item(0)"
   ]
  },
  {
   "cell_type": "code",
   "execution_count": 33,
   "id": "f7815eb6",
   "metadata": {},
   "outputs": [
    {
     "data": {
      "text/plain": [
       "-0.8076725017901509"
      ]
     },
     "execution_count": 33,
     "metadata": {},
     "output_type": "execute_result"
    }
   ],
   "source": [
    "observed_age_difference = difference_of_means(births, 'Maternal Smoker')\n",
    "observed_age_difference"
   ]
  },
  {
   "cell_type": "markdown",
   "id": "fa912cce",
   "metadata": {},
   "source": [
    "Rappelez-vous que la différence est calculée comme l'âge moyen des fumeurs moins l'âge moyen des non-fumeurs. Le signe négatif indique que les fumeurs sont en moyenne plus jeunes.\n",
    "\n",
    "Cette différence est-elle due au hasard ou reflète-t-elle une différence sous-jacente dans la population ?\n",
    "\n",
    "Comme précédemment, nous pouvons utiliser un test de permutation pour répondre à cette question. Si les distributions sous-jacentes des âges dans les deux groupes sont les mêmes, la distribution empirique de la différence basée sur les échantillons permutés permettra de prédire comment la statistique devrait varier en fonction du hasard.\n",
    "\n",
    "Nous suivrons le même processus que pour toute simulation. Nous commencerons par écrire une fonction qui renvoie une valeur simulée de la différence entre les moyennes, puis nous écrirons une boucle \"for\" pour simuler de nombreuses valeurs de ce type et les rassembler dans un tableau."
   ]
  },
  {
   "cell_type": "code",
   "execution_count": 34,
   "id": "a4c1022b",
   "metadata": {},
   "outputs": [],
   "source": [
    "def one_simulated_difference_of_means():\n",
    "    \"\"\"Returns: Difference between mean ages\n",
    "    of smokers and non-smokers after shuffling labels\"\"\"\n",
    "    \n",
    "    # array of shuffled labels\n",
    "    shuffled_labels = births.sample(with_replacement=False).column('Maternal Smoker')\n",
    "    \n",
    "    # table of ages and shuffled labels\n",
    "    shuffled_table = births.select('Maternal Age').with_column(\n",
    "        'Shuffled Label', shuffled_labels)\n",
    "    \n",
    "    return difference_of_means(shuffled_table, 'Shuffled Label')   "
   ]
  },
  {
   "cell_type": "code",
   "execution_count": 35,
   "id": "888ac89f",
   "metadata": {},
   "outputs": [],
   "source": [
    "age_differences = make_array()\n",
    "\n",
    "repetitions = 5000\n",
    "for i in np.arange(repetitions):\n",
    "    new_difference = one_simulated_difference_of_means()\n",
    "    age_differences = np.append(age_differences, new_difference)"
   ]
  },
  {
   "cell_type": "markdown",
   "id": "2629d582",
   "metadata": {},
   "source": [
    "La différence observée se situe dans la queue de la distribution empirique des différences simulées sous l'hypothèse nulle."
   ]
  },
  {
   "cell_type": "code",
   "execution_count": 40,
   "id": "533a7af9",
   "metadata": {},
   "outputs": [
    {
     "name": "stdout",
     "output_type": "stream",
     "text": [
      "Observed Difference: -0.8076725017901509\n"
     ]
    },
    {
     "data": {
      "image/png": "[encoded data removed]",
      "text/plain": [
       "<Figure size 432x288 with 1 Axes>"
      ]
     },
     "metadata": {},
     "output_type": "display_data"
    }
   ],
   "source": [
    "Table().with_column(\n",
    "    'Difference Between Group Means', age_differences).hist(\n",
    "    right_end = observed_age_difference)\n",
    "# Plotting parameters; you can ignore the code below\n",
    "plots.ylim(-0.1, 1.2)\n",
    "plots.scatter(observed_age_difference, 0, color='red', s=40, zorder=3)\n",
    "plots.title('Prediction Under the Null Hypothesis')\n",
    "print('Observed Difference:', observed_age_difference)"
   ]
  },
  {
   "cell_type": "markdown",
   "id": "688f52fd",
   "metadata": {},
   "source": [
    "Une fois de plus, la distribution empirique des différences simulées est centrée approximativement autour de 0, car la simulation se fait sous l'hypothèse nulle qu'il n'y a pas de différence entre les distributions des deux groupes.\n",
    "\n",
    "La valeur p empirique du test est la proportion de différences simulées qui sont égales ou inférieures à la différence observée. En effet, de faibles valeurs de la différence favorisent l'hypothèse alternative selon laquelle les fumeurs étaient en moyenne plus jeunes."
   ]
  },
  {
   "cell_type": "code",
   "execution_count": 41,
   "id": "f1d95d1e",
   "metadata": {},
   "outputs": [
    {
     "data": {
      "text/plain": [
       "0.0108"
      ]
     },
     "execution_count": 41,
     "metadata": {},
     "output_type": "execute_result"
    }
   ],
   "source": [
    "empirical_p = np.count_nonzero(age_differences <= observed_age_difference) / 5000\n",
    "empirical_p"
   ]
  },
  {
   "cell_type": "markdown",
   "id": "2ea347b6",
   "metadata": {},
   "source": [
    "La valeur p empirique est d'environ 1 % et le résultat est donc statistiquement significatif. Le test confirme l'hypothèse selon laquelle les fumeuses sont en moyenne plus jeunes."
   ]
  },
  {
   "cell_type": "markdown",
   "id": "06cfc2eb",
   "metadata": {
    "jp-MarkdownHeadingCollapsed": true
   },
   "source": [
    "### Causalité"
   ]
  },
  {
   "cell_type": "markdown",
   "id": "ecf16f08",
   "metadata": {},
   "source": [
    "Nos méthodes de comparaison de deux échantillons sont très utiles pour l'analyse des expériences aléatoires contrôlées. Étant donné que les groupes traitement et contrôle sont assignés au hasard dans ces expériences, les différences entre leurs résultats peuvent être comparées à ce qui se produirait par hasard si le traitement n'avait pas d'effet du tout. Si les différences observées sont plus marquées que ce que nous pourrions prédire comme étant purement dû au hasard, nous aurons la preuve d'une *cause*. En raison de l'affectation impartiale des individus aux groupes de traitement et de contrôle, les différences entre les résultats des deux groupes peuvent être attribuées au traitement.\n",
    "\n",
    "La clé de l'analyse des expériences aléatoires contrôlées est de comprendre exactement comment le hasard entre en jeu. Cela nous permet d'établir des hypothèses nulles et alternatives claires. Une fois cela fait, nous pouvons simplement utiliser les méthodes des sections précédentes pour compléter l'analyse.\n",
    "\n",
    "Voyons comment procéder à l'aide d'un exemple."
   ]
  },
  {
   "cell_type": "markdown",
   "id": "84a6a546",
   "metadata": {},
   "source": [
    "#### Traiter la lombalgie chronique : un essai contrôlé randomisé\n",
    "La lombalgie chez l'adulte peut être très persistante et difficile à traiter. Les méthodes courantes vont des corticostéroïdes à l'acupuncture. Un [essai contrôlé randomisé (ECR)] (https://www.ncbi.nlm.nih.gov/pubmed/11376175) a examiné l'effet de l'utilisation de la toxine botulique A (BTA) comme traitement. La toxine botulique est une protéine neurotoxique qui provoque la maladie du botulisme ; [Wikipedia](https://en.wikipedia.org/wiki/Botulinum_toxin) indique que la toxine botulique \"est la toxine la plus mortelle connue\". Il existe sept types de toxine botulique. La toxine botulique A est l'un des types qui peut provoquer des maladies chez l'homme, mais elle est également utilisée en médecine pour traiter diverses maladies musculaires. L'essai contrôlé randomisé analysé par Foster, Clapp et Jabbari en 2001 l'a examinée en tant que traitement de la lombalgie.\n",
    "\n",
    "Trente et un patients souffrant de lombalgie ont été répartis de manière aléatoire en groupes de traitement et de contrôle, 15 dans le groupe traitement et 16 dans le groupe contrôle. Le groupe témoin a reçu une solution saline normale et les essais ont été menés en double aveugle, de sorte que ni les médecins ni les patients ne savaient dans quel groupe ils se trouvaient.\n",
    "\n",
    "Huit semaines après le début de l'étude, neuf des 15 personnes du groupe traitement et deux des 16 personnes du groupe contrôle ont été soulagées de leur douleur (selon une définition précise utilisée par les chercheurs). Ces données figurent dans le tableau `bta` et semblent montrer que le traitement présente un avantage certain."
   ]
  },
  {
   "cell_type": "code",
   "execution_count": 2,
   "id": "6efc3dc1",
   "metadata": {},
   "outputs": [
    {
     "data": {
      "text/html": [
       "<table border=\"1\" class=\"dataframe\">\n",
       "    <thead>\n",
       "        <tr>\n",
       "            <th>Group</th> <th>Result</th>\n",
       "        </tr>\n",
       "    </thead>\n",
       "    <tbody>\n",
       "        <tr>\n",
       "            <td>Control  </td> <td>1     </td>\n",
       "        </tr>\n",
       "        <tr>\n",
       "            <td>Control  </td> <td>1     </td>\n",
       "        </tr>\n",
       "        <tr>\n",
       "            <td>Control  </td> <td>0     </td>\n",
       "        </tr>\n",
       "        <tr>\n",
       "            <td>Control  </td> <td>0     </td>\n",
       "        </tr>\n",
       "        <tr>\n",
       "            <td>Control  </td> <td>0     </td>\n",
       "        </tr>\n",
       "        <tr>\n",
       "            <td>Control  </td> <td>0     </td>\n",
       "        </tr>\n",
       "        <tr>\n",
       "            <td>Control  </td> <td>0     </td>\n",
       "        </tr>\n",
       "        <tr>\n",
       "            <td>Control  </td> <td>0     </td>\n",
       "        </tr>\n",
       "        <tr>\n",
       "            <td>Control  </td> <td>0     </td>\n",
       "        </tr>\n",
       "        <tr>\n",
       "            <td>Control  </td> <td>0     </td>\n",
       "        </tr>\n",
       "        <tr>\n",
       "            <td>Control  </td> <td>0     </td>\n",
       "        </tr>\n",
       "        <tr>\n",
       "            <td>Control  </td> <td>0     </td>\n",
       "        </tr>\n",
       "        <tr>\n",
       "            <td>Control  </td> <td>0     </td>\n",
       "        </tr>\n",
       "        <tr>\n",
       "            <td>Control  </td> <td>0     </td>\n",
       "        </tr>\n",
       "        <tr>\n",
       "            <td>Control  </td> <td>0     </td>\n",
       "        </tr>\n",
       "        <tr>\n",
       "            <td>Control  </td> <td>0     </td>\n",
       "        </tr>\n",
       "        <tr>\n",
       "            <td>Treatment</td> <td>1     </td>\n",
       "        </tr>\n",
       "        <tr>\n",
       "            <td>Treatment</td> <td>1     </td>\n",
       "        </tr>\n",
       "        <tr>\n",
       "            <td>Treatment</td> <td>1     </td>\n",
       "        </tr>\n",
       "        <tr>\n",
       "            <td>Treatment</td> <td>1     </td>\n",
       "        </tr>\n",
       "        <tr>\n",
       "            <td>Treatment</td> <td>1     </td>\n",
       "        </tr>\n",
       "        <tr>\n",
       "            <td>Treatment</td> <td>1     </td>\n",
       "        </tr>\n",
       "        <tr>\n",
       "            <td>Treatment</td> <td>1     </td>\n",
       "        </tr>\n",
       "        <tr>\n",
       "            <td>Treatment</td> <td>1     </td>\n",
       "        </tr>\n",
       "        <tr>\n",
       "            <td>Treatment</td> <td>1     </td>\n",
       "        </tr>\n",
       "        <tr>\n",
       "            <td>Treatment</td> <td>0     </td>\n",
       "        </tr>\n",
       "        <tr>\n",
       "            <td>Treatment</td> <td>0     </td>\n",
       "        </tr>\n",
       "        <tr>\n",
       "            <td>Treatment</td> <td>0     </td>\n",
       "        </tr>\n",
       "        <tr>\n",
       "            <td>Treatment</td> <td>0     </td>\n",
       "        </tr>\n",
       "        <tr>\n",
       "            <td>Treatment</td> <td>0     </td>\n",
       "        </tr>\n",
       "        <tr>\n",
       "            <td>Treatment</td> <td>0     </td>\n",
       "        </tr>\n",
       "    </tbody>\n",
       "</table>"
      ],
      "text/plain": [
       "<IPython.core.display.HTML object>"
      ]
     },
     "metadata": {},
     "output_type": "display_data"
    }
   ],
   "source": [
    "bta = Table.read_table(path_data + 'bta.csv')\n",
    "bta.show()"
   ]
  },
  {
   "cell_type": "markdown",
   "id": "95f466ff",
   "metadata": {},
   "source": [
    "Voyons combien de patients ont guéri dans chaque groupe. N'oubliez pas que compter revient à additionner des zéros et des uns. La somme des 1 dans le groupe contrôle est le nombre de patients du groupe contrôle qui ont été soulagés de la douleur."
   ]
  },
  {
   "cell_type": "code",
   "execution_count": 3,
   "id": "6dd4bea8",
   "metadata": {},
   "outputs": [
    {
     "data": {
      "text/html": [
       "<table border=\"1\" class=\"dataframe\">\n",
       "    <thead>\n",
       "        <tr>\n",
       "            <th>Group</th> <th>Result sum</th>\n",
       "        </tr>\n",
       "    </thead>\n",
       "    <tbody>\n",
       "        <tr>\n",
       "            <td>Control  </td> <td>2         </td>\n",
       "        </tr>\n",
       "        <tr>\n",
       "            <td>Treatment</td> <td>9         </td>\n",
       "        </tr>\n",
       "    </tbody>\n",
       "</table>"
      ],
      "text/plain": [
       "Group     | Result sum\n",
       "Control   | 2\n",
       "Treatment | 9"
      ]
     },
     "execution_count": 3,
     "metadata": {},
     "output_type": "execute_result"
    }
   ],
   "source": [
    "bta.group('Group', sum)"
   ]
  },
  {
   "cell_type": "markdown",
   "id": "505327b9",
   "metadata": {},
   "source": [
    "Puisque le comptage est la même chose que la *somme* des zéros et des uns, la *proportion* de patients ayant bénéficié d'un soulagement de la douleur est la *moyenne* des zéros et des uns. C'est la somme divisée par le nombre total de patients dans chaque groupe."
   ]
  },
  {
   "cell_type": "code",
   "execution_count": 4,
   "id": "b32a9549",
   "metadata": {},
   "outputs": [
    {
     "data": {
      "text/html": [
       "<table border=\"1\" class=\"dataframe\">\n",
       "    <thead>\n",
       "        <tr>\n",
       "            <th>Group</th> <th>Result average</th>\n",
       "        </tr>\n",
       "    </thead>\n",
       "    <tbody>\n",
       "        <tr>\n",
       "            <td>Control  </td> <td>0.125         </td>\n",
       "        </tr>\n",
       "        <tr>\n",
       "            <td>Treatment</td> <td>0.6           </td>\n",
       "        </tr>\n",
       "    </tbody>\n",
       "</table>"
      ],
      "text/plain": [
       "Group     | Result average\n",
       "Control   | 0.125\n",
       "Treatment | 0.6"
      ]
     },
     "execution_count": 4,
     "metadata": {},
     "output_type": "execute_result"
    }
   ],
   "source": [
    "bta.group('Group', np.average)"
   ]
  },
  {
   "cell_type": "markdown",
   "id": "f90651b3",
   "metadata": {},
   "source": [
    "Dans le groupe traité, 60 % des patients ont été soulagés de la douleur, contre seulement 12,5 % dans le groupe témoin. Aucun des patients n'a souffert d'effets secondaires.\n",
    "\n",
    "Il semble donc que la toxine botulique A ait donné de meilleurs résultats que le sérum physiologique. Mais la conclusion n'est pas encore définitive. Les patients ont été répartis au hasard dans les deux groupes, de sorte que la différence pourrait être due au hasard.\n",
    "\n",
    "Pour comprendre ce que cela signifie, il faut envisager la possibilité que, parmi les 31 patients de l'étude, certains étaient tout simplement plus aptes à se rétablir que d'autres, même sans aucune aide du traitement. Que se passerait-il si une proportion anormalement élevée de ces patients se retrouvait par hasard dans le groupe traitement ? Dans ce cas, même si le traitement n'apporte rien de plus que la solution saline dans le groupe contrôle, les résultats du groupe traitement pourraient sembler meilleurs que ceux du groupe contrôle.\n",
    "\n",
    "Pour tenir compte de cette possibilité, commençons par établir soigneusement le modèle de hasard."
   ]
  },
  {
   "cell_type": "markdown",
   "id": "332c8b29",
   "metadata": {},
   "source": [
    "#### Résultats potentiels\n",
    "Avant que les patients ne soient répartis au hasard entre les deux groupes, notre esprit imagine instinctivement deux résultats possibles pour chaque patient : le résultat que le patient obtiendrait s'il était assigné au groupe traitement et le résultat que le même patient obtiendrait s'il était assigné au groupe contrôle. C'est ce qu'on appelle les deux *résultats potentiels* du patient.\n",
    "\n",
    "Il y a donc 31 résultats potentiels du traitement et 31 résultats potentiels du groupe contrôle. La question porte sur la distribution de ces deux ensembles de 31 résultats chacun. Sont-elles identiques ou différentes ?\n",
    "\n",
    "Nous ne pouvons pas encore répondre à cette question, car nous n'avons pas accès à l'ensemble des 31 valeurs de chaque groupe. Nous ne voyons que 16 des résultats de contrôle potentiels, sélectionnés au hasard, et les résultats du traitement des 15 patients restants.\n",
    "\n",
    "Voici une bonne façon de visualiser la situation. Chaque patient dispose d'un ticket à deux faces :\n",
    "\n",
    "![Ticket bilatéral](images/causality1.png)"
   ]
  },
  {
   "cell_type": "markdown",
   "id": "0c3694ba",
   "metadata": {},
   "source": [
    "Après la randomisation, nous voyons la moitié droite d'un groupe de billets sélectionnés au hasard, et la moitié gauche du groupe restant.\n",
    "\n",
    "![Demi-tickets](images/causalité2.png)\n",
    "\n",
    "La table `observed_outcomes` recueille les informations sur les résultats potentiels de chaque patient, en laissant vide la moitié non observée de chaque \"ticket\".  (Il s'agit d'une autre façon de penser au tableau `bta`, qui contient les mêmes informations)."
   ]
  },
  {
   "cell_type": "code",
   "execution_count": 5,
   "id": "7c6a9802",
   "metadata": {},
   "outputs": [
    {
     "data": {
      "text/html": [
       "<table border=\"1\" class=\"dataframe\">\n",
       "    <thead>\n",
       "        <tr>\n",
       "            <th>Group</th> <th>Outcome if assigned treatment</th> <th>Outcome if assigned control</th>\n",
       "        </tr>\n",
       "    </thead>\n",
       "    <tbody>\n",
       "        <tr>\n",
       "            <td>Control  </td> <td>Unknown                      </td> <td>1                          </td>\n",
       "        </tr>\n",
       "        <tr>\n",
       "            <td>Control  </td> <td>Unknown                      </td> <td>1                          </td>\n",
       "        </tr>\n",
       "        <tr>\n",
       "            <td>Control  </td> <td>Unknown                      </td> <td>0                          </td>\n",
       "        </tr>\n",
       "        <tr>\n",
       "            <td>Control  </td> <td>Unknown                      </td> <td>0                          </td>\n",
       "        </tr>\n",
       "        <tr>\n",
       "            <td>Control  </td> <td>Unknown                      </td> <td>0                          </td>\n",
       "        </tr>\n",
       "        <tr>\n",
       "            <td>Control  </td> <td>Unknown                      </td> <td>0                          </td>\n",
       "        </tr>\n",
       "        <tr>\n",
       "            <td>Control  </td> <td>Unknown                      </td> <td>0                          </td>\n",
       "        </tr>\n",
       "        <tr>\n",
       "            <td>Control  </td> <td>Unknown                      </td> <td>0                          </td>\n",
       "        </tr>\n",
       "        <tr>\n",
       "            <td>Control  </td> <td>Unknown                      </td> <td>0                          </td>\n",
       "        </tr>\n",
       "        <tr>\n",
       "            <td>Control  </td> <td>Unknown                      </td> <td>0                          </td>\n",
       "        </tr>\n",
       "        <tr>\n",
       "            <td>Control  </td> <td>Unknown                      </td> <td>0                          </td>\n",
       "        </tr>\n",
       "        <tr>\n",
       "            <td>Control  </td> <td>Unknown                      </td> <td>0                          </td>\n",
       "        </tr>\n",
       "        <tr>\n",
       "            <td>Control  </td> <td>Unknown                      </td> <td>0                          </td>\n",
       "        </tr>\n",
       "        <tr>\n",
       "            <td>Control  </td> <td>Unknown                      </td> <td>0                          </td>\n",
       "        </tr>\n",
       "        <tr>\n",
       "            <td>Control  </td> <td>Unknown                      </td> <td>0                          </td>\n",
       "        </tr>\n",
       "        <tr>\n",
       "            <td>Control  </td> <td>Unknown                      </td> <td>0                          </td>\n",
       "        </tr>\n",
       "        <tr>\n",
       "            <td>Treatment</td> <td>1                            </td> <td>Unknown                    </td>\n",
       "        </tr>\n",
       "        <tr>\n",
       "            <td>Treatment</td> <td>1                            </td> <td>Unknown                    </td>\n",
       "        </tr>\n",
       "        <tr>\n",
       "            <td>Treatment</td> <td>1                            </td> <td>Unknown                    </td>\n",
       "        </tr>\n",
       "        <tr>\n",
       "            <td>Treatment</td> <td>1                            </td> <td>Unknown                    </td>\n",
       "        </tr>\n",
       "        <tr>\n",
       "            <td>Treatment</td> <td>1                            </td> <td>Unknown                    </td>\n",
       "        </tr>\n",
       "        <tr>\n",
       "            <td>Treatment</td> <td>1                            </td> <td>Unknown                    </td>\n",
       "        </tr>\n",
       "        <tr>\n",
       "            <td>Treatment</td> <td>1                            </td> <td>Unknown                    </td>\n",
       "        </tr>\n",
       "        <tr>\n",
       "            <td>Treatment</td> <td>1                            </td> <td>Unknown                    </td>\n",
       "        </tr>\n",
       "        <tr>\n",
       "            <td>Treatment</td> <td>1                            </td> <td>Unknown                    </td>\n",
       "        </tr>\n",
       "        <tr>\n",
       "            <td>Treatment</td> <td>0                            </td> <td>Unknown                    </td>\n",
       "        </tr>\n",
       "        <tr>\n",
       "            <td>Treatment</td> <td>0                            </td> <td>Unknown                    </td>\n",
       "        </tr>\n",
       "        <tr>\n",
       "            <td>Treatment</td> <td>0                            </td> <td>Unknown                    </td>\n",
       "        </tr>\n",
       "        <tr>\n",
       "            <td>Treatment</td> <td>0                            </td> <td>Unknown                    </td>\n",
       "        </tr>\n",
       "        <tr>\n",
       "            <td>Treatment</td> <td>0                            </td> <td>Unknown                    </td>\n",
       "        </tr>\n",
       "        <tr>\n",
       "            <td>Treatment</td> <td>0                            </td> <td>Unknown                    </td>\n",
       "        </tr>\n",
       "    </tbody>\n",
       "</table>"
      ],
      "text/plain": [
       "<IPython.core.display.HTML object>"
      ]
     },
     "metadata": {},
     "output_type": "display_data"
    }
   ],
   "source": [
    "observed_outcomes = Table.read_table(path_data + \"observed_outcomes.csv\")\n",
    "observed_outcomes.show()"
   ]
  },
  {
   "cell_type": "markdown",
   "id": "918b202b",
   "metadata": {},
   "source": [
    "#### Les hypothèses\n",
    "La question est de savoir si le traitement a un effet. En ce qui concerne le tableau `observed_outcomes`, la question est de savoir si la distribution des 31 valeurs \"traitement\" de la colonne 1 (y compris les valeurs inconnues) est différente de la distribution des 31 valeurs \"contrôle\" de la colonne 2 (y compris les valeurs inconnues).\n",
    "\n",
    "**Hypothèse nulle:** La distribution des 31 résultats potentiels du \"traitement\" est la même que celle des 31 résultats potentiels du \"contrôle\". La toxine botulique A n'agit pas différemment de la solution saline ; la différence entre les deux échantillons est due au hasard.\n",
    "\n",
    "**Hypothèse alternative:** La distribution des 31 résultats potentiels du \"traitement\" est différente de celle des 31 résultats du contrôle. Le traitement agit différemment du contrôle.\n",
    "\n",
    "Remarquez que l'hypothèse alternative ne précise pas que le traitement est utile, mais simplement qu'il est différent du contrôle. C'est la norme dans les études médicales, car cela ne préjuge pas de la direction que pourrait prendre le résultat. Mais vous pouvez tout à fait effectuer un test pour déterminer si le traitement est plus efficace que le contrôle. Il vous suffit d'ajuster la statistique de votre test en conséquence.\n",
    "\n",
    "Il y a 31 résultats observés conjointement dans les deux groupes. Si l'hypothèse nulle était vraie, il importerait peu de savoir lesquels de ces 31 résultats sont qualifiés de \"traitement\" et lesquels de \"contrôle\". Un sous-ensemble aléatoire de 16 des 31 valeurs pourrait être appelé \"contrôle\" et les 15 autres \"traitement\".\n",
    "\n",
    "Nous pouvons simuler cela. Nous pouvons permuter aléatoirement les 31 valeurs, les diviser en deux groupes de 16 et 15, et voir à quel point les distributions dans les deux groupes sont différentes. Comme les données sont des zéros et des uns, nous pouvons simplement voir à quel point les deux proportions sont différentes.\n",
    "\n",
    "C'est exactement ce que nous avons fait pour les tests A/B dans la section précédente. L'échantillon A est maintenant le groupe contrôle et l'échantillon B le groupe traitement. Nous allons effectuer le test ci-dessous en montrant les détails de toutes les étapes. Vous devez confirmer qu'il s'agit des mêmes étapes que celles effectuées pour le test A/B.\n",
    "\n",
    "#### La statistique du test\n",
    "Si les proportions des deux groupes sont très différentes l'une de l'autre, nous pencherons pour l'hypothèse alternative selon laquelle les deux distributions sous-jacentes sont différentes. Notre statistique de test sera donc la distance entre les deux proportions de groupe, c'est-à-dire la valeur absolue de la différence entre elles.\n",
    "\n",
    "Des valeurs élevées de la statistique de test favoriseront l'hypothèse alternative par rapport à l'hypothèse nulle.\n",
    "\n",
    "Les deux proportions de groupe étant 0,6 et 0,125, la valeur observée de la statistique de test est $\\big{\\vert} 0,6 - 0,125 \\big{\\vert} = 0,475$."
   ]
  },
  {
   "cell_type": "code",
   "execution_count": 6,
   "id": "6201d045",
   "metadata": {},
   "outputs": [
    {
     "data": {
      "text/html": [
       "<table border=\"1\" class=\"dataframe\">\n",
       "    <thead>\n",
       "        <tr>\n",
       "            <th>Group</th> <th>Result average</th>\n",
       "        </tr>\n",
       "    </thead>\n",
       "    <tbody>\n",
       "        <tr>\n",
       "            <td>Control  </td> <td>0.125         </td>\n",
       "        </tr>\n",
       "        <tr>\n",
       "            <td>Treatment</td> <td>0.6           </td>\n",
       "        </tr>\n",
       "    </tbody>\n",
       "</table>"
      ],
      "text/plain": [
       "Group     | Result average\n",
       "Control   | 0.125\n",
       "Treatment | 0.6"
      ]
     },
     "execution_count": 6,
     "metadata": {},
     "output_type": "execute_result"
    }
   ],
   "source": [
    "bta.group('Group', np.average)"
   ]
  },
  {
   "cell_type": "code",
   "execution_count": 7,
   "id": "cc50c6e0",
   "metadata": {},
   "outputs": [
    {
     "data": {
      "text/plain": [
       "0.475"
      ]
     },
     "execution_count": 7,
     "metadata": {},
     "output_type": "execute_result"
    }
   ],
   "source": [
    "observed_proportions = bta.group('Group', np.average).column(1)\n",
    "observed_distance = abs(observed_proportions.item(0) - observed_proportions.item(1))\n",
    "observed_distance"
   ]
  },
  {
   "cell_type": "markdown",
   "id": "8689db7a",
   "metadata": {},
   "source": [
    "Comme nous l'avons fait précédemment, nous allons définir une fonction qui prend les deux arguments suivants :\n",
    "\n",
    "- le nom du tableau de données\n",
    "- l'étiquette de la colonne des étiquettes de groupe\n",
    "\n",
    "et qui renvoie la distance entre les deux proportions des groupes."
   ]
  },
  {
   "cell_type": "code",
   "execution_count": 8,
   "id": "41589a4e",
   "metadata": {},
   "outputs": [],
   "source": [
    "def distance(table, group_label):\n",
    "    reduced = table.select('Result', group_label)\n",
    "    proportions = reduced.group(group_label, np.average).column(1)\n",
    "    return abs(proportions.item(1) - proportions.item(0))"
   ]
  },
  {
   "cell_type": "code",
   "execution_count": 9,
   "id": "42234ba3",
   "metadata": {},
   "outputs": [
    {
     "data": {
      "text/plain": [
       "0.475"
      ]
     },
     "execution_count": 9,
     "metadata": {},
     "output_type": "execute_result"
    }
   ],
   "source": [
    "distance(bta, 'Group')"
   ]
  },
  {
   "cell_type": "markdown",
   "id": "ee648b41",
   "metadata": {},
   "source": [
    "#### Prédire la statistique sous l'hypothèse nulle\n",
    "Nous pouvons simuler les résultats sous l'hypothèse nulle, pour voir comment la statistique de notre test devrait apparaître si l'hypothèse nulle est vraie.\n",
    "\n",
    "##### Générer une valeur de la statistique\n",
    "La simulation suit exactement le même processus que celui utilisé dans la section précédente. Nous commençons par permuter aléatoirement les étiquettes de tous les groupes, puis nous attachons les étiquettes mélangées aux résultats 0/1."
   ]
  },
  {
   "cell_type": "code",
   "execution_count": 10,
   "id": "7ef0088a",
   "metadata": {},
   "outputs": [],
   "source": [
    "shuffled_labels = bta.sample(with_replacement=False).column(0)"
   ]
  },
  {
   "cell_type": "code",
   "execution_count": 11,
   "id": "1a2bb29b",
   "metadata": {},
   "outputs": [
    {
     "data": {
      "text/html": [
       "<table border=\"1\" class=\"dataframe\">\n",
       "    <thead>\n",
       "        <tr>\n",
       "            <th>Group</th> <th>Result</th> <th>Shuffled Label</th>\n",
       "        </tr>\n",
       "    </thead>\n",
       "    <tbody>\n",
       "        <tr>\n",
       "            <td>Control  </td> <td>1     </td> <td>Treatment     </td>\n",
       "        </tr>\n",
       "        <tr>\n",
       "            <td>Control  </td> <td>1     </td> <td>Control       </td>\n",
       "        </tr>\n",
       "        <tr>\n",
       "            <td>Control  </td> <td>0     </td> <td>Treatment     </td>\n",
       "        </tr>\n",
       "        <tr>\n",
       "            <td>Control  </td> <td>0     </td> <td>Control       </td>\n",
       "        </tr>\n",
       "        <tr>\n",
       "            <td>Control  </td> <td>0     </td> <td>Control       </td>\n",
       "        </tr>\n",
       "        <tr>\n",
       "            <td>Control  </td> <td>0     </td> <td>Treatment     </td>\n",
       "        </tr>\n",
       "        <tr>\n",
       "            <td>Control  </td> <td>0     </td> <td>Treatment     </td>\n",
       "        </tr>\n",
       "        <tr>\n",
       "            <td>Control  </td> <td>0     </td> <td>Control       </td>\n",
       "        </tr>\n",
       "        <tr>\n",
       "            <td>Control  </td> <td>0     </td> <td>Treatment     </td>\n",
       "        </tr>\n",
       "        <tr>\n",
       "            <td>Control  </td> <td>0     </td> <td>Control       </td>\n",
       "        </tr>\n",
       "        <tr>\n",
       "            <td>Control  </td> <td>0     </td> <td>Control       </td>\n",
       "        </tr>\n",
       "        <tr>\n",
       "            <td>Control  </td> <td>0     </td> <td>Control       </td>\n",
       "        </tr>\n",
       "        <tr>\n",
       "            <td>Control  </td> <td>0     </td> <td>Control       </td>\n",
       "        </tr>\n",
       "        <tr>\n",
       "            <td>Control  </td> <td>0     </td> <td>Control       </td>\n",
       "        </tr>\n",
       "        <tr>\n",
       "            <td>Control  </td> <td>0     </td> <td>Control       </td>\n",
       "        </tr>\n",
       "        <tr>\n",
       "            <td>Control  </td> <td>0     </td> <td>Treatment     </td>\n",
       "        </tr>\n",
       "        <tr>\n",
       "            <td>Treatment</td> <td>1     </td> <td>Control       </td>\n",
       "        </tr>\n",
       "        <tr>\n",
       "            <td>Treatment</td> <td>1     </td> <td>Control       </td>\n",
       "        </tr>\n",
       "        <tr>\n",
       "            <td>Treatment</td> <td>1     </td> <td>Treatment     </td>\n",
       "        </tr>\n",
       "        <tr>\n",
       "            <td>Treatment</td> <td>1     </td> <td>Control       </td>\n",
       "        </tr>\n",
       "        <tr>\n",
       "            <td>Treatment</td> <td>1     </td> <td>Treatment     </td>\n",
       "        </tr>\n",
       "        <tr>\n",
       "            <td>Treatment</td> <td>1     </td> <td>Treatment     </td>\n",
       "        </tr>\n",
       "        <tr>\n",
       "            <td>Treatment</td> <td>1     </td> <td>Control       </td>\n",
       "        </tr>\n",
       "        <tr>\n",
       "            <td>Treatment</td> <td>1     </td> <td>Treatment     </td>\n",
       "        </tr>\n",
       "        <tr>\n",
       "            <td>Treatment</td> <td>1     </td> <td>Treatment     </td>\n",
       "        </tr>\n",
       "        <tr>\n",
       "            <td>Treatment</td> <td>0     </td> <td>Control       </td>\n",
       "        </tr>\n",
       "        <tr>\n",
       "            <td>Treatment</td> <td>0     </td> <td>Treatment     </td>\n",
       "        </tr>\n",
       "        <tr>\n",
       "            <td>Treatment</td> <td>0     </td> <td>Treatment     </td>\n",
       "        </tr>\n",
       "        <tr>\n",
       "            <td>Treatment</td> <td>0     </td> <td>Control       </td>\n",
       "        </tr>\n",
       "        <tr>\n",
       "            <td>Treatment</td> <td>0     </td> <td>Treatment     </td>\n",
       "        </tr>\n",
       "        <tr>\n",
       "            <td>Treatment</td> <td>0     </td> <td>Treatment     </td>\n",
       "        </tr>\n",
       "    </tbody>\n",
       "</table>"
      ],
      "text/plain": [
       "<IPython.core.display.HTML object>"
      ]
     },
     "metadata": {},
     "output_type": "display_data"
    }
   ],
   "source": [
    "bta_with_shuffled_labels = bta.with_column('Shuffled Label', shuffled_labels)\n",
    "bta_with_shuffled_labels.show()"
   ]
  },
  {
   "cell_type": "markdown",
   "id": "bcd09a9f",
   "metadata": {},
   "source": [
    "Nous pouvons maintenant trouver la distance entre les deux proportions après que les étiquettes des groupes ont été mélangées."
   ]
  },
  {
   "cell_type": "code",
   "execution_count": 12,
   "id": "7589fa0f",
   "metadata": {},
   "outputs": [
    {
     "data": {
      "text/plain": [
       "0.08750000000000002"
      ]
     },
     "execution_count": 12,
     "metadata": {},
     "output_type": "execute_result"
    }
   ],
   "source": [
    "distance(bta_with_shuffled_labels, 'Shuffled Label')"
   ]
  },
  {
   "cell_type": "markdown",
   "id": "59e4222e",
   "metadata": {},
   "source": [
    "Cette distance est très différente de celle qui sépare les deux proportions initiales."
   ]
  },
  {
   "cell_type": "code",
   "execution_count": 13,
   "id": "4a3c3edb",
   "metadata": {},
   "outputs": [
    {
     "data": {
      "text/plain": [
       "0.475"
      ]
     },
     "execution_count": 13,
     "metadata": {},
     "output_type": "execute_result"
    }
   ],
   "source": [
    "distance(bta_with_shuffled_labels, 'Group')"
   ]
  },
  {
   "cell_type": "markdown",
   "id": "8278281b",
   "metadata": {},
   "source": [
    "##### Test de permutation\n",
    "Si nous mélangions à nouveau les étiquettes, quelle serait la différence entre les nouvelles distances ? Pour répondre à cette question, nous allons définir une fonction qui simule une valeur de la distance sous l'hypothèse de tirages aléatoires de la même distribution sous-jacente. Nous rassemblerons ensuite 20 000 valeurs simulées dans un tableau.\n",
    "\n",
    "Vous pouvez constater que nous faisons exactement ce que nous avons fait dans nos exemples précédents du test de permutation."
   ]
  },
  {
   "cell_type": "code",
   "execution_count": 14,
   "id": "b62d5524",
   "metadata": {},
   "outputs": [],
   "source": [
    "def one_simulated_distance():\n",
    "    shuffled_labels = bta.sample(with_replacement = False\n",
    "                                                    ).column('Group')\n",
    "    shuffled_table = bta.select('Result').with_column(\n",
    "        'Shuffled Label', shuffled_labels)\n",
    "    return distance(shuffled_table, 'Shuffled Label') "
   ]
  },
  {
   "cell_type": "code",
   "execution_count": 15,
   "id": "13455eb4",
   "metadata": {},
   "outputs": [],
   "source": [
    "distances = make_array()\n",
    "\n",
    "repetitions = 20000\n",
    "for i in np.arange(repetitions):\n",
    "    new_distance = one_simulated_distance()\n",
    "    distances = np.append(distances, new_distance)"
   ]
  },
  {
   "cell_type": "markdown",
   "id": "31d6d404",
   "metadata": {},
   "source": [
    "#### Conclusion du test\n",
    "Le tableau `distances` contient 20 000 valeurs de notre statistique de test simulées sous l'hypothèse nulle. Voici leur histogramme empirique ainsi que la valeur observée de la statistique. Pour trouver la valeur P du test, rappelez-vous que les grandes valeurs de la distance favorisent l'hypothèse alternative."
   ]
  },
  {
   "cell_type": "code",
   "execution_count": 16,
   "id": "a7405204",
   "metadata": {},
   "outputs": [
    {
     "name": "stdout",
     "output_type": "stream",
     "text": [
      "Observed Distance 0.475\n"
     ]
    },
    {
     "data": {
      "image/png": "[encoded data removed]",
      "text/plain": [
       "<Figure size 432x288 with 1 Axes>"
      ]
     },
     "metadata": {},
     "output_type": "display_data"
    }
   ],
   "source": [
    "Table().with_column('Distance', distances).hist(\n",
    "    bins = np.arange(0, 0.7, 0.1), left_end = observed_distance)\n",
    "# Plotting parameters; you can ignore the code below\n",
    "plots.ylim(-0.1, 5.5)\n",
    "plots.scatter(observed_distance, 0, color='red', s=40, zorder=3)\n",
    "plots.title('Prediction Under the Null Hypothesis')\n",
    "print('Observed Distance', observed_distance)"
   ]
  },
  {
   "cell_type": "markdown",
   "id": "0cd268b8",
   "metadata": {},
   "source": [
    "Pour trouver la valeur p empirique numériquement, nous devons trouver la proportion de statistiques simulées qui sont égales ou supérieures à la statistique observée."
   ]
  },
  {
   "cell_type": "code",
   "execution_count": 17,
   "id": "b6d962db",
   "metadata": {},
   "outputs": [
    {
     "data": {
      "text/plain": [
       "0.00875"
      ]
     },
     "execution_count": 17,
     "metadata": {},
     "output_type": "execute_result"
    }
   ],
   "source": [
    "empirical_p = np.count_nonzero(distances >= observed_distance) / repetitions\n",
    "empirical_p"
   ]
  },
  {
   "cell_type": "markdown",
   "id": "0aee2ffe",
   "metadata": {},
   "source": [
    "Il s'agit d'une petite valeur p. La statistique observée se trouve dans la queue de l'histogramme empirique de la statistique de test générée sous l'hypothèse nulle.\n",
    "\n",
    "Le résultat est statistiquement significatif. Le test favorise l'hypothèse alternative par rapport à l'hypothèse nulle. Les données confirment l'hypothèse selon laquelle le traitement a un effet.\n",
    "\n",
    "L'étude rapporte une valeur P de 0,009, soit 0,9 %, ce qui n'est pas loin de notre valeur empirique."
   ]
  },
  {
   "cell_type": "markdown",
   "id": "45aa3b9b",
   "metadata": {},
   "source": [
    "#### Causalité\n",
    "Étant donné que les essais ont été randomisés, le test prouve que le traitement est *à l'origine* de la différence. L'affectation aléatoire des patients aux deux groupes garantit qu'il n'y a pas de variable confusionnelle susceptible d'affecter la conclusion de la causalité.\n",
    "\n",
    "Si le traitement n'avait pas été attribué au hasard, notre test indiquerait toujours une *association* entre le traitement et l'évolution des douleurs dorsales chez nos 31 patients.  Mais attention : sans randomisation, cette association n'impliquerait pas que le traitement ait provoqué un changement dans les résultats des douleurs dorsales.  Par exemple, si les patients eux-mêmes avaient choisi d'administrer ou non le traitement, peut-être que les patients souffrant le plus de douleurs seraient plus susceptibles de choisir le traitement *et* plus susceptibles d'éprouver une certaine réduction de la douleur, même sans médicament.  La douleur préexistante serait alors un *facteur de confusion* dans l'analyse."
   ]
  },
  {
   "cell_type": "markdown",
   "id": "c9883eea",
   "metadata": {},
   "source": [
    "#### Une méta-analyse\n",
    "\n",
    "Bien que l'essai contrôlé randomisé apporte la preuve que le traitement à la toxine botulique A a aidé les patients, une étude portant sur 31 patients n'est pas suffisante pour établir l'efficacité d'un traitement médical. Cela n'est pas seulement dû à la petite taille de l'échantillon.  Les résultats présentés dans cette section sont valables pour les 31 patients de l'étude, mais nous nous intéressons en réalité à la population de *tous les patients possibles*.\n",
    "\n",
    "En 2011, un groupe de chercheurs a réalisé une [méta-analyse] (https://www.ncbi.nlm.nih.gov/pubmed/21249702) des études sur le traitement. En d'autres termes, ils ont recensé toutes les études disponibles sur ces traitements de la lombalgie et ont résumé les résultats obtenus.\n",
    "\n",
    "Plusieurs études ont été réalisées, mais peu d'entre elles ont pu être incluses d'une manière scientifiquement valable : \"Nous avons exclu les données de dix-neuf études en raison de l'absence de randomisation, de données incomplètes ou non publiées. Il ne restait plus que trois essais contrôlés randomisés, dont l'un est celui que nous avons étudié dans cette section. La méta-analyse lui a attribué l'évaluation la plus élevée parmi toutes les études (LBP signifie lombalgie) : \"Nous avons identifié trois études qui ont examiné les mérites de la BoNT pour la lombalgie, mais une seule présentait un faible risque de biais et évaluait des patients souffrant de lombalgie non spécifique (N = 31).\"\n",
    "\n",
    "En résumé, la méta-analyse conclut : \"Il existe des preuves de faible qualité que les injections de BoNT améliorent la douleur, la fonction ou les deux, mieux que les injections de solution saline, et des preuves de très faible qualité qu'elles sont meilleures que l'acupuncture ou les injections de stéroïdes. ...  Il est très probable que des recherches supplémentaires aient un impact important sur l'estimation de l'effet et sur la confiance que nous lui accordons. Les futurs essais devraient normaliser les populations de patients, les protocoles de traitement et les groupes de comparaison, recruter davantage de participants et inclure des résultats à long terme, une analyse coût-bénéfice et la pertinence clinique des résultats.\n",
    "\n",
    "Il faut beaucoup de travail pour établir qu'un traitement médical a un effet bénéfique. Savoir analyser les essais contrôlés randomisés est un élément crucial de ce travail. Maintenant que vous savez le faire, vous êtes bien placé pour aider les professions médicales et autres à établir des relations de cause à effet."
   ]
  },
  {
   "cell_type": "markdown",
   "id": "5a0a63f6",
   "metadata": {},
   "source": [
    "### Deflategate\n",
    "Le 18 janvier 2015, les Indianapolis Colts et les New England Patriots ont disputé le match de championnat de la Conférence de football américain (AFC) afin de déterminer laquelle de ces deux équipes participerait au Super Bowl. Après le match, des allégations ont été formulées selon lesquelles les ballons des Patriots n'avaient pas été gonflés autant que l'exigeait la réglementation ; ils étaient plus souples. Cela pourrait être un avantage, car les ballons plus souples pourraient être plus faciles à attraper.\n",
    "\n",
    "Pendant plusieurs semaines, le monde du football américain a été envahi par les accusations, les démentis, les théories et les soupçons : la presse a qualifié le sujet de Deflategate, en référence au scandale politique du Watergate dans les années 1970. La National Football League (NFL) a commandé une analyse indépendante. Dans cet exemple, nous effectuerons notre propre analyse des données.\n",
    "\n",
    "La pression est souvent mesurée en livres par pouce carré (psi). Les règles de la NFL stipulent que les ballons de jeu doivent être gonflés pour avoir une pression comprise entre 12,5 et 13,5 psi. Chaque équipe joue avec 12 ballons. Les équipes ont la responsabilité de maintenir la pression dans leurs propres ballons, mais les officiels du match inspectent les ballons. Avant le début du match de l'AFC, tous les ballons des Patriots étaient à une pression d'environ 12,5 psi. La plupart des ballons des Colts étaient à environ 13,0 psi. Toutefois, ces données d'avant-match n'ont pas été enregistrées.\n",
    "\n",
    "Au cours du deuxième quart-temps, les Colts ont intercepté un ballon des Patriots. Sur la ligne de touche, ils ont mesuré la pression du ballon et ont déterminé qu'elle était inférieure au seuil de 12,5 psi. Ils en ont rapidement informé les officiels.\n",
    "\n",
    "À la mi-temps, tous les ballons de jeu ont été ramassés pour être inspectés. Deux officiels, Clete Blakeman et Dyrol Prioleau, ont mesuré la pression dans chacun des ballons.\n",
    "\n",
    "Voici les données. Chaque ligne correspond à un ballon. La pression est mesurée en psi. Le ballon des Patriots qui avait été intercepté par les Colts n'a pas été inspecté à la mi-temps. La plupart des ballons des Colts ne l'ont pas été non plus - les officiels ont simplement manqué de temps et ont dû céder les ballons pour le début de la seconde mi-temps."
   ]
  },
  {
   "cell_type": "code",
   "execution_count": 2,
   "id": "d1ed3449",
   "metadata": {},
   "outputs": [
    {
     "data": {
      "text/html": [
       "<table border=\"1\" class=\"dataframe\">\n",
       "    <thead>\n",
       "        <tr>\n",
       "            <th>Team</th> <th>Blakeman</th> <th>Prioleau</th>\n",
       "        </tr>\n",
       "    </thead>\n",
       "    <tbody>\n",
       "        <tr>\n",
       "            <td>Patriots</td> <td>11.5    </td> <td>11.8    </td>\n",
       "        </tr>\n",
       "        <tr>\n",
       "            <td>Patriots</td> <td>10.85   </td> <td>11.2    </td>\n",
       "        </tr>\n",
       "        <tr>\n",
       "            <td>Patriots</td> <td>11.15   </td> <td>11.5    </td>\n",
       "        </tr>\n",
       "        <tr>\n",
       "            <td>Patriots</td> <td>10.7    </td> <td>11      </td>\n",
       "        </tr>\n",
       "        <tr>\n",
       "            <td>Patriots</td> <td>11.1    </td> <td>11.45   </td>\n",
       "        </tr>\n",
       "        <tr>\n",
       "            <td>Patriots</td> <td>11.6    </td> <td>11.95   </td>\n",
       "        </tr>\n",
       "        <tr>\n",
       "            <td>Patriots</td> <td>11.85   </td> <td>12.3    </td>\n",
       "        </tr>\n",
       "        <tr>\n",
       "            <td>Patriots</td> <td>11.1    </td> <td>11.55   </td>\n",
       "        </tr>\n",
       "        <tr>\n",
       "            <td>Patriots</td> <td>10.95   </td> <td>11.35   </td>\n",
       "        </tr>\n",
       "        <tr>\n",
       "            <td>Patriots</td> <td>10.5    </td> <td>10.9    </td>\n",
       "        </tr>\n",
       "        <tr>\n",
       "            <td>Patriots</td> <td>10.9    </td> <td>11.35   </td>\n",
       "        </tr>\n",
       "        <tr>\n",
       "            <td>Colts   </td> <td>12.7    </td> <td>12.35   </td>\n",
       "        </tr>\n",
       "        <tr>\n",
       "            <td>Colts   </td> <td>12.75   </td> <td>12.3    </td>\n",
       "        </tr>\n",
       "        <tr>\n",
       "            <td>Colts   </td> <td>12.5    </td> <td>12.95   </td>\n",
       "        </tr>\n",
       "        <tr>\n",
       "            <td>Colts   </td> <td>12.55   </td> <td>12.15   </td>\n",
       "        </tr>\n",
       "    </tbody>\n",
       "</table>"
      ],
      "text/plain": [
       "<IPython.core.display.HTML object>"
      ]
     },
     "metadata": {},
     "output_type": "display_data"
    }
   ],
   "source": [
    "football = Table.read_table(path_data + 'deflategate.csv')\n",
    "football.show()"
   ]
  },
  {
   "cell_type": "markdown",
   "id": "98dff168",
   "metadata": {},
   "source": [
    "Pour chacune des 15 balles inspectées, les deux fonctionnaires ont obtenu des résultats différents. Il n'est pas rare que des mesures répétées sur un même objet donnent des résultats différents, surtout lorsque les mesures sont effectuées par des personnes différentes. Nous attribuerons donc à chaque ballon la moyenne des deux mesures effectuées sur ce ballon."
   ]
  },
  {
   "cell_type": "code",
   "execution_count": 3,
   "id": "36d6f0d4",
   "metadata": {},
   "outputs": [
    {
     "data": {
      "text/html": [
       "<table border=\"1\" class=\"dataframe\">\n",
       "    <thead>\n",
       "        <tr>\n",
       "            <th>Team</th> <th>Combined</th>\n",
       "        </tr>\n",
       "    </thead>\n",
       "    <tbody>\n",
       "        <tr>\n",
       "            <td>Patriots</td> <td>11.65   </td>\n",
       "        </tr>\n",
       "        <tr>\n",
       "            <td>Patriots</td> <td>11.025  </td>\n",
       "        </tr>\n",
       "        <tr>\n",
       "            <td>Patriots</td> <td>11.325  </td>\n",
       "        </tr>\n",
       "        <tr>\n",
       "            <td>Patriots</td> <td>10.85   </td>\n",
       "        </tr>\n",
       "        <tr>\n",
       "            <td>Patriots</td> <td>11.275  </td>\n",
       "        </tr>\n",
       "        <tr>\n",
       "            <td>Patriots</td> <td>11.775  </td>\n",
       "        </tr>\n",
       "        <tr>\n",
       "            <td>Patriots</td> <td>12.075  </td>\n",
       "        </tr>\n",
       "        <tr>\n",
       "            <td>Patriots</td> <td>11.325  </td>\n",
       "        </tr>\n",
       "        <tr>\n",
       "            <td>Patriots</td> <td>11.15   </td>\n",
       "        </tr>\n",
       "        <tr>\n",
       "            <td>Patriots</td> <td>10.7    </td>\n",
       "        </tr>\n",
       "        <tr>\n",
       "            <td>Patriots</td> <td>11.125  </td>\n",
       "        </tr>\n",
       "        <tr>\n",
       "            <td>Colts   </td> <td>12.525  </td>\n",
       "        </tr>\n",
       "        <tr>\n",
       "            <td>Colts   </td> <td>12.525  </td>\n",
       "        </tr>\n",
       "        <tr>\n",
       "            <td>Colts   </td> <td>12.725  </td>\n",
       "        </tr>\n",
       "        <tr>\n",
       "            <td>Colts   </td> <td>12.35   </td>\n",
       "        </tr>\n",
       "    </tbody>\n",
       "</table>"
      ],
      "text/plain": [
       "<IPython.core.display.HTML object>"
      ]
     },
     "metadata": {},
     "output_type": "display_data"
    }
   ],
   "source": [
    "football = football.with_column(\n",
    "    'Combined', (football.column(1)+football.column(2))/2\n",
    "    ).drop(1, 2)\n",
    "football.show()"
   ]
  },
  {
   "cell_type": "markdown",
   "id": "653e0412",
   "metadata": {},
   "source": [
    "À première vue, il semble évident que les ballons des Patriots étaient à une pression inférieure à celle des ballons des Colts. Un certain dégonflement étant normal au cours d'un match, les analystes indépendants ont décidé de calculer la baisse de pression à partir du début du match. Rappelons que les ballons des Patriots avaient tous commencé à une pression d'environ 12,5 psi, et ceux des Colts à une pression d'environ 13,0 psi. Par conséquent, la baisse de pression pour les ballons des Patriots a été calculée comme suit : 12,5 moins la pression à la mi-temps, et la baisse de pression pour les ballons des Colts était de 13,0 moins la pression à la mi-temps.\n",
    "\n",
    "Nous pouvons calculer la baisse de pression pour chaque ballon en commençant par créer un tableau des valeurs de départ. Pour cela, nous aurons besoin d'un tableau composé de 11 valeurs dont chacune vaut 12,5, et d'un autre tableau composé de quatre valeurs dont chacune vaut 13. Nous utiliserons la fonction NumPy `np.ones`, qui prend un nombre comme argument et renvoie un tableau de ce nombre d'éléments, dont chacun vaut 1."
   ]
  },
  {
   "cell_type": "code",
   "execution_count": 4,
   "id": "44d310a6",
   "metadata": {},
   "outputs": [
    {
     "data": {
      "text/plain": [
       "array([1., 1., 1., 1., 1., 1., 1., 1., 1., 1., 1.])"
      ]
     },
     "execution_count": 4,
     "metadata": {},
     "output_type": "execute_result"
    }
   ],
   "source": [
    "np.ones(11)"
   ]
  },
  {
   "cell_type": "code",
   "execution_count": 5,
   "id": "58678366",
   "metadata": {},
   "outputs": [
    {
     "data": {
      "text/plain": [
       "array([12.5, 12.5, 12.5, 12.5, 12.5, 12.5, 12.5, 12.5, 12.5, 12.5, 12.5,\n",
       "       13. , 13. , 13. , 13. ])"
      ]
     },
     "execution_count": 5,
     "metadata": {},
     "output_type": "execute_result"
    }
   ],
   "source": [
    "patriots_start = 12.5 * np.ones(11)\n",
    "colts_start = 13 * np.ones(4)\n",
    "start = np.append(patriots_start, colts_start)\n",
    "start"
   ]
  },
  {
   "cell_type": "markdown",
   "id": "a3c70d9c",
   "metadata": {},
   "source": [
    "La chute de pression pour chaque football est la différence entre la pression de départ et la mesure de la pression combinée."
   ]
  },
  {
   "cell_type": "code",
   "execution_count": 6,
   "id": "1c10d188",
   "metadata": {},
   "outputs": [
    {
     "data": {
      "text/html": [
       "<table border=\"1\" class=\"dataframe\">\n",
       "    <thead>\n",
       "        <tr>\n",
       "            <th>Team</th> <th>Combined</th> <th>Pressure Drop</th>\n",
       "        </tr>\n",
       "    </thead>\n",
       "    <tbody>\n",
       "        <tr>\n",
       "            <td>Patriots</td> <td>11.65   </td> <td>0.85         </td>\n",
       "        </tr>\n",
       "        <tr>\n",
       "            <td>Patriots</td> <td>11.025  </td> <td>1.475        </td>\n",
       "        </tr>\n",
       "        <tr>\n",
       "            <td>Patriots</td> <td>11.325  </td> <td>1.175        </td>\n",
       "        </tr>\n",
       "        <tr>\n",
       "            <td>Patriots</td> <td>10.85   </td> <td>1.65         </td>\n",
       "        </tr>\n",
       "        <tr>\n",
       "            <td>Patriots</td> <td>11.275  </td> <td>1.225        </td>\n",
       "        </tr>\n",
       "        <tr>\n",
       "            <td>Patriots</td> <td>11.775  </td> <td>0.725        </td>\n",
       "        </tr>\n",
       "        <tr>\n",
       "            <td>Patriots</td> <td>12.075  </td> <td>0.425        </td>\n",
       "        </tr>\n",
       "        <tr>\n",
       "            <td>Patriots</td> <td>11.325  </td> <td>1.175        </td>\n",
       "        </tr>\n",
       "        <tr>\n",
       "            <td>Patriots</td> <td>11.15   </td> <td>1.35         </td>\n",
       "        </tr>\n",
       "        <tr>\n",
       "            <td>Patriots</td> <td>10.7    </td> <td>1.8          </td>\n",
       "        </tr>\n",
       "        <tr>\n",
       "            <td>Patriots</td> <td>11.125  </td> <td>1.375        </td>\n",
       "        </tr>\n",
       "        <tr>\n",
       "            <td>Colts   </td> <td>12.525  </td> <td>0.475        </td>\n",
       "        </tr>\n",
       "        <tr>\n",
       "            <td>Colts   </td> <td>12.525  </td> <td>0.475        </td>\n",
       "        </tr>\n",
       "        <tr>\n",
       "            <td>Colts   </td> <td>12.725  </td> <td>0.275        </td>\n",
       "        </tr>\n",
       "        <tr>\n",
       "            <td>Colts   </td> <td>12.35   </td> <td>0.65         </td>\n",
       "        </tr>\n",
       "    </tbody>\n",
       "</table>"
      ],
      "text/plain": [
       "<IPython.core.display.HTML object>"
      ]
     },
     "metadata": {},
     "output_type": "display_data"
    }
   ],
   "source": [
    "drop = start - football.column('Combined')\n",
    "football = football.with_column('Pressure Drop', drop)\n",
    "football.show()"
   ]
  },
  {
   "cell_type": "markdown",
   "id": "e587745b",
   "metadata": {},
   "source": [
    "Il semble que les chutes des Patriots aient été plus importantes que celles des Colts. Regardons la baisse moyenne dans chacun des deux groupes. Nous n'avons plus besoin des scores combinés."
   ]
  },
  {
   "cell_type": "code",
   "execution_count": 7,
   "id": "8f2544a4",
   "metadata": {},
   "outputs": [
    {
     "data": {
      "text/html": [
       "<table border=\"1\" class=\"dataframe\">\n",
       "    <thead>\n",
       "        <tr>\n",
       "            <th>Team</th> <th>Pressure Drop average</th>\n",
       "        </tr>\n",
       "    </thead>\n",
       "    <tbody>\n",
       "        <tr>\n",
       "            <td>Colts   </td> <td>0.46875              </td>\n",
       "        </tr>\n",
       "        <tr>\n",
       "            <td>Patriots</td> <td>1.20227              </td>\n",
       "        </tr>\n",
       "    </tbody>\n",
       "</table>"
      ],
      "text/plain": [
       "Team     | Pressure Drop average\n",
       "Colts    | 0.46875\n",
       "Patriots | 1.20227"
      ]
     },
     "execution_count": 7,
     "metadata": {},
     "output_type": "execute_result"
    }
   ],
   "source": [
    "football = football.drop('Combined')\n",
    "football.group('Team', np.average)"
   ]
  },
  {
   "cell_type": "markdown",
   "id": "bd75a0d9",
   "metadata": {},
   "source": [
    "La baisse moyenne pour les Patriots était d'environ 1,2 psi contre 0,47 psi pour les Colts.\n",
    "\n",
    "La question qui se pose maintenant est de savoir pourquoi les ballons des Patriots ont subi une baisse de pression plus importante, en moyenne, que les ballons des Colts. Serait-ce dû au hasard ?\n",
    "\n",
    "#### Les hypothèses\n",
    "Comment le hasard intervient-il ici ? Rien n'a été choisi au hasard. Mais nous pouvons créer un modèle de hasard en émettant l'hypothèse que les 11 drops des Patriots ressemblent à un échantillon aléatoire de 11 drops sur les 15, les drops des Colts étant les quatre restants. Il s'agit d'un modèle de hasard complètement spécifié dans le cadre duquel nous pouvons simuler des données. Il s'agit donc de l'**hypothèse nulle**.\n",
    "\n",
    "Pour l'alternative, nous pouvons considérer que les drops des Patriots sont trop importants, en moyenne, pour ressembler à un échantillon aléatoire tiré de tous les drops.\n",
    "\n",
    "#### Statistique de test\n",
    "Une statistique naturelle est la différence entre les deux chutes moyennes, que nous calculerons comme \"chute moyenne pour les Patriots - chute moyenne pour les Colts\". Des valeurs élevées de cette statistique favoriseront l'hypothèse alternative."
   ]
  },
  {
   "cell_type": "code",
   "execution_count": 8,
   "id": "2b8afae0",
   "metadata": {},
   "outputs": [
    {
     "data": {
      "text/plain": [
       "0.733522727272728"
      ]
     },
     "execution_count": 8,
     "metadata": {},
     "output_type": "execute_result"
    }
   ],
   "source": [
    "observed_means = football.group('Team', np.average).column(1)\n",
    "\n",
    "observed_difference = observed_means.item(1) - observed_means.item(0)\n",
    "observed_difference"
   ]
  },
  {
   "cell_type": "markdown",
   "id": "abb8d22b",
   "metadata": {},
   "source": [
    "Cette différence positive reflète le fait que la baisse de pression moyenne des ballons des Patriots a été plus importante que celle des Colts."
   ]
  },
  {
   "cell_type": "markdown",
   "id": "e61a5204",
   "metadata": {},
   "source": [
    "Comme nous l'avons fait dans la section précédente, nous allons écrire une fonction pour calculer la différence entre les chutes moyennes dans les deux groupes. La fonction `différence_de_moyennes` prend deux arguments :\n",
    "\n",
    "- le nom du tableau de données\n",
    "- l'étiquette de la colonne contenant les étiquettes des deux groupes\n",
    "\n",
    "Elle renvoie la différence entre les chutes moyennes des deux groupes. Nous calculerons la différence comme étant les baisses des Patriots moins les baisses des Colts, comme précédemment."
   ]
  },
  {
   "cell_type": "code",
   "execution_count": 9,
   "id": "f3ffb63d",
   "metadata": {},
   "outputs": [],
   "source": [
    "def difference_of_means(table, group_label):\n",
    "    reduced = table.select('Pressure Drop', group_label)\n",
    "    means_table = reduced.group(group_label, np.average)\n",
    "    means = means_table.column(1)\n",
    "    return means.item(1) - means.item(0)"
   ]
  },
  {
   "cell_type": "code",
   "execution_count": 10,
   "id": "3a832b01",
   "metadata": {},
   "outputs": [
    {
     "data": {
      "text/plain": [
       "0.733522727272728"
      ]
     },
     "execution_count": 10,
     "metadata": {},
     "output_type": "execute_result"
    }
   ],
   "source": [
    "difference_of_means(football, 'Team')"
   ]
  },
  {
   "cell_type": "markdown",
   "id": "341fc9c1",
   "metadata": {},
   "source": [
    "C'est la même valeur que celle que nous avons trouvée plus tôt comme `différence_observée`."
   ]
  },
  {
   "cell_type": "markdown",
   "id": "f3766b62",
   "metadata": {},
   "source": [
    "#### Prévoir la statistique sous l'hypothèse nulle\n",
    "Si l'hypothèse nulle était vraie, les ballons de football étiquetés Patriots et ceux étiquetés Colts n'auraient pas d'importance. Les distributions des deux ensembles de gouttes seraient identiques. Nous pouvons simuler cela en mélangeant au hasard les étiquettes des équipes."
   ]
  },
  {
   "cell_type": "code",
   "execution_count": 11,
   "id": "6b994787",
   "metadata": {},
   "outputs": [
    {
     "data": {
      "text/html": [
       "<table border=\"1\" class=\"dataframe\">\n",
       "    <thead>\n",
       "        <tr>\n",
       "            <th>Team</th> <th>Pressure Drop</th> <th>Shuffled Label</th>\n",
       "        </tr>\n",
       "    </thead>\n",
       "    <tbody>\n",
       "        <tr>\n",
       "            <td>Patriots</td> <td>0.85         </td> <td>Patriots      </td>\n",
       "        </tr>\n",
       "        <tr>\n",
       "            <td>Patriots</td> <td>1.475        </td> <td>Colts         </td>\n",
       "        </tr>\n",
       "        <tr>\n",
       "            <td>Patriots</td> <td>1.175        </td> <td>Colts         </td>\n",
       "        </tr>\n",
       "        <tr>\n",
       "            <td>Patriots</td> <td>1.65         </td> <td>Colts         </td>\n",
       "        </tr>\n",
       "        <tr>\n",
       "            <td>Patriots</td> <td>1.225        </td> <td>Patriots      </td>\n",
       "        </tr>\n",
       "        <tr>\n",
       "            <td>Patriots</td> <td>0.725        </td> <td>Patriots      </td>\n",
       "        </tr>\n",
       "        <tr>\n",
       "            <td>Patriots</td> <td>0.425        </td> <td>Patriots      </td>\n",
       "        </tr>\n",
       "        <tr>\n",
       "            <td>Patriots</td> <td>1.175        </td> <td>Patriots      </td>\n",
       "        </tr>\n",
       "        <tr>\n",
       "            <td>Patriots</td> <td>1.35         </td> <td>Patriots      </td>\n",
       "        </tr>\n",
       "        <tr>\n",
       "            <td>Patriots</td> <td>1.8          </td> <td>Patriots      </td>\n",
       "        </tr>\n",
       "        <tr>\n",
       "            <td>Patriots</td> <td>1.375        </td> <td>Colts         </td>\n",
       "        </tr>\n",
       "        <tr>\n",
       "            <td>Colts   </td> <td>0.475        </td> <td>Patriots      </td>\n",
       "        </tr>\n",
       "        <tr>\n",
       "            <td>Colts   </td> <td>0.475        </td> <td>Patriots      </td>\n",
       "        </tr>\n",
       "        <tr>\n",
       "            <td>Colts   </td> <td>0.275        </td> <td>Patriots      </td>\n",
       "        </tr>\n",
       "        <tr>\n",
       "            <td>Colts   </td> <td>0.65         </td> <td>Patriots      </td>\n",
       "        </tr>\n",
       "    </tbody>\n",
       "</table>"
      ],
      "text/plain": [
       "<IPython.core.display.HTML object>"
      ]
     },
     "metadata": {},
     "output_type": "display_data"
    }
   ],
   "source": [
    "shuffled_labels = football.sample(with_replacement=False).column(0)\n",
    "original_and_shuffled = football.with_column('Shuffled Label', shuffled_labels)\n",
    "original_and_shuffled.show()"
   ]
  },
  {
   "cell_type": "markdown",
   "id": "0f41728b",
   "metadata": {},
   "source": [
    "Comment se comparent les moyennes de tous les groupes ?"
   ]
  },
  {
   "cell_type": "code",
   "execution_count": 12,
   "id": "08c2e91c",
   "metadata": {},
   "outputs": [
    {
     "data": {
      "text/plain": [
       "-0.5619318181818183"
      ]
     },
     "execution_count": 12,
     "metadata": {},
     "output_type": "execute_result"
    }
   ],
   "source": [
    "difference_of_means(original_and_shuffled, 'Shuffled Label')"
   ]
  },
  {
   "cell_type": "code",
   "execution_count": 13,
   "id": "beb3e2b2",
   "metadata": {},
   "outputs": [
    {
     "data": {
      "text/plain": [
       "0.733522727272728"
      ]
     },
     "execution_count": 13,
     "metadata": {},
     "output_type": "execute_result"
    }
   ],
   "source": [
    "difference_of_means(original_and_shuffled, 'Team')"
   ]
  },
  {
   "cell_type": "markdown",
   "id": "b655cd1e",
   "metadata": {},
   "source": [
    "Les valeurs moyennes de chute des deux équipes sont plus proches lorsque les étiquettes des équipes sont attribuées de manière aléatoire aux ballons qu'elles ne l'étaient pour les deux groupes effectivement utilisés dans le jeu.\n",
    "\n",
    "#### Test de permutation\n",
    "Il est temps de passer à une étape qui nous est désormais familière. Nous allons simuler à plusieurs reprises la statistique de test sous l'hypothèse nulle.\n",
    "\n",
    "Nous simulerons la statistique du test sous l'hypothèse nulle en permutant plusieurs fois les ballons de football et en attribuant des ensembles aléatoires aux deux équipes.\n",
    "\n",
    "Comme d'habitude, nous commencerons par écrire une fonction `one_simulated_difference` qui renvoie une valeur simulée de la différence entre les chutes de pression moyennes des groupes étiquetés Patriots et Colts après avoir permuté aléatoirement les étiquettes des équipes des ballons de football."
   ]
  },
  {
   "cell_type": "code",
   "execution_count": 14,
   "id": "b110ea24",
   "metadata": {},
   "outputs": [],
   "source": [
    "def one_simulated_difference():\n",
    "    shuffled_labels = football.sample(with_replacement = False\n",
    "                                                    ).column('Team')\n",
    "    shuffled_table = football.select('Pressure Drop').with_column(\n",
    "        'Shuffled Label', shuffled_labels)\n",
    "    return difference_of_means(shuffled_table, 'Shuffled Label')   "
   ]
  },
  {
   "cell_type": "markdown",
   "id": "ef451387",
   "metadata": {},
   "source": [
    "Nous pouvons maintenant utiliser une boucle `for` et cette fonction pour créer un tableau `differences` qui contient 10 000 valeurs de la statistique de test simulée sous l'hypothèse nulle."
   ]
  },
  {
   "cell_type": "code",
   "execution_count": 15,
   "id": "0fd3d6ba",
   "metadata": {},
   "outputs": [],
   "source": [
    "differences = make_array()\n",
    "\n",
    "repetitions = 10000\n",
    "for i in np.arange(repetitions):\n",
    "    new_difference = one_simulated_difference()\n",
    "    differences = np.append(differences, new_difference)"
   ]
  },
  {
   "cell_type": "markdown",
   "id": "d0b0662f",
   "metadata": {},
   "source": [
    "#### Conclusion du test\n",
    "Pour calculer la valeur P empirique, il est important de rappeler l'hypothèse alternative, à savoir que les chutes des Patriots sont trop importantes pour être le résultat de la seule variation du hasard.\n",
    "\n",
    "Des chutes plus importantes pour les Patriots favorisent l'hypothèse alternative. La valeur p est donc la probabilité (calculée sous l'hypothèse nulle) d'obtenir une statistique de test égale à notre valeur observée de 0,733522727272728 ou supérieure.\n",
    "\n",
    "La figure ci-dessous illustre ce calcul. Il s'agit de la distribution empirique de la statistique de test sous l'hypothèse nulle, la statistique observée étant indiquée en rouge sur l'axe horizontal et la zone correspondant à la valeur p étant ombrée en doré."
   ]
  },
  {
   "cell_type": "code",
   "execution_count": 16,
   "id": "67cacc1f",
   "metadata": {},
   "outputs": [
    {
     "name": "stdout",
     "output_type": "stream",
     "text": [
      "Observed Difference: 0.733522727272728\n"
     ]
    },
    {
     "data": {
      "image/png": "[encoded data removed]",
      "text/plain": [
       "<Figure size 432x288 with 1 Axes>"
      ]
     },
     "metadata": {},
     "output_type": "display_data"
    }
   ],
   "source": [
    "Table().with_column(\n",
    "    'Difference Between Group Averages', differences).hist(\n",
    "    left_end = observed_difference\n",
    ")\n",
    "plots.ylim(-0.1, 1.4)\n",
    "plots.scatter(observed_difference, 0, color='red', s=30, zorder=3)\n",
    "plots.title('Prediction Under the Null Hypothesis')\n",
    "print('Observed Difference:', observed_difference)"
   ]
  },
  {
   "cell_type": "markdown",
   "id": "fed71435",
   "metadata": {},
   "source": [
    "À l'œil, la valeur p semble assez faible. Nous pouvons le confirmer par un calcul."
   ]
  },
  {
   "cell_type": "code",
   "execution_count": 17,
   "id": "bd52a4d0",
   "metadata": {},
   "outputs": [
    {
     "data": {
      "text/plain": [
       "0.0026"
      ]
     },
     "execution_count": 17,
     "metadata": {},
     "output_type": "execute_result"
    }
   ],
   "source": [
    "empirical_p = np.count_nonzero(differences >= observed_difference) / 10000\n",
    "empirical_p"
   ]
  },
  {
   "cell_type": "markdown",
   "id": "97317f35",
   "metadata": {},
   "source": [
    "Comme dans les exemples précédents de ce test, la majeure partie de la distribution est centrée autour de 0. Sous l'hypothèse nulle, les drops des Patriots sont un échantillon aléatoire de l'ensemble des 15 drops, et il en va de même pour ceux des Colts. Par conséquent, les deux séries de drops devraient être à peu près égales en moyenne, et leur différence devrait donc se situer autour de 0.\n",
    "\n",
    "Mais la valeur observée de la statistique de test est très éloignée du cœur de la distribution. Selon tout seuil raisonnable de ce qui est \"petit\", la valeur P empirique est petite. Nous finissons donc par rejeter l'hypothèse nulle du hasard et concluons que les baisses enregistrées par les Patriots étaient trop importantes pour refléter uniquement des variations dues au hasard.\n",
    "\n",
    "L'équipe d'enquête indépendante a analysé les données de plusieurs manières différentes, en tenant compte des lois de la physique. Le rapport final indique ce qui suit,\n",
    "\n",
    "> \"[L]a chute de pression moyenne des ballons de jeu des Patriots a dépassé la chute de pression moyenne des ballons des Colts de 0,45 à 1,02 psi, en fonction de diverses hypothèses possibles concernant les jauges utilisées, et en supposant une pression initiale de 12,5 psi pour les ballons des Patriots et de 13,0 pour les ballons des Colts.\"\n",
    ">\n",
    "> -- *Rapport d'enquête commandé par la NFL concernant le match de championnat de l'AFC du 18 janvier 2015*\n",
    "\n",
    "Notre analyse montre une chute de pression moyenne d'environ 0,73 psi, ce qui est proche du centre de l'intervalle \"0,45 à 1,02 psi\" et donc cohérent avec l'analyse officielle."
   ]
  },
  {
   "cell_type": "markdown",
   "id": "bb1774f5",
   "metadata": {},
   "source": [
    "N'oubliez pas que notre test d'hypothèses n'établit pas la raison pour laquelle la différence n'est pas due au hasard. L'établissement de la causalité est généralement plus complexe que l'exécution d'un test d'hypothèses.\n",
    "\n",
    "Mais la question la plus importante dans le monde du football concernait le lien de causalité : il s'agissait de savoir si la baisse excessive de la pression dans les ballons des Patriots était délibérée. Si vous êtes curieux de connaître la réponse donnée par les enquêteurs, voici le [rapport complet] (https://nfllabor.files.wordpress.com/2015/05/investigative-and-expert-reports-re-footballs-used-during-afc-championsh.pdf)."
   ]
  },
  {
   "cell_type": "markdown",
   "id": "47e76a86-8202-48a9-b336-a67e5f3a161a",
   "metadata": {},
   "source": [
    "# Crédits\n",
    "\n",
    "Ce cours est inspiré du cours data8 donné à UC Berkeley et en ré-utilise avec certaines modifications une partie des matériaux (ces matériaux sont généreusement mis à disposition publiquement sous licence Creative Commons avec attribution, consultez [https://www.data8.org](https://www.data8.org) pour plus d'informations."
   ]
  }
 ],
 "metadata": {
  "kernelspec": {
   "display_name": "Python 3",
   "language": "python",
   "name": "python3"
  },
  "language_info": {
   "codemirror_mode": {
    "name": "ipython",
    "version": 3
   },
   "file_extension": ".py",
   "mimetype": "text/x-python",
   "name": "python",
   "nbconvert_exporter": "python",
   "pygments_lexer": "ipython3",
   "version": "3.9.19"
  }
 },
 "nbformat": 4,
 "nbformat_minor": 5
}
