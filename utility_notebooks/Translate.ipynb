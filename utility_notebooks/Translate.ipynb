{
 "cells": [
  {
   "cell_type": "code",
   "execution_count": 1,
   "id": "57f13461-05ff-4298-ba1c-d9ddba9bec23",
   "metadata": {},
   "outputs": [],
   "source": [
    "import deepl\n",
    "import nbformat\n",
    "import os"
   ]
  },
  {
   "cell_type": "code",
   "execution_count": 2,
   "id": "96d84954-2e56-4e99-8609-5facbe7b997d",
   "metadata": {},
   "outputs": [],
   "source": [
    "def translate_notebook(nb_file, translated_nb_file, auth_file):\n",
    "\t# fetch auth_key\n",
    "\twith open(auth_file, 'r') as f:\n",
    "\t\tauth_key = f.read().strip()\n",
    "\ttranslator = deepl.Translator(auth_key)\n",
    "\t# rewrite notebook markdowns, with a warning for markdowns not detected to be in EN\n",
    "\tntbk = nbformat.read(nb_file, nbformat.NO_CONVERT)\n",
    "\tfor cell in ntbk.cells:\n",
    "\t\tif cell.cell_type == 'markdown':\n",
    "\t\t\tresult = translator.translate_text(cell.source, target_lang=\"FR\")\n",
    "\t\t\tif result.detected_source_lang != 'EN':\n",
    "\t\t\t\tprint(f\"Detected source language {result.detected_source_lang}\")\n",
    "\t\t\t\tprint(f\"Original: {cell.source}\")\n",
    "\t\t\t\tprint(f\"Translation: {result.text}\")\n",
    "\t\t\tcell.source = result.text\n",
    "\tnbformat.write(ntbk, translated_nb_file)"
   ]
  },
  {
   "cell_type": "code",
   "execution_count": 6,
   "id": "f76379ea-1625-48d8-a11f-30c96a27d1ba",
   "metadata": {},
   "outputs": [
    {
     "name": "stdout",
     "output_type": "stream",
     "text": [
      "Detected source language FR\n",
      "Original: # Cours 4 : « Prédiction et apprentissage automatique »\n",
      "\n",
      "Sommaire\n",
      "\n",
      "1. Régression avec une seule variable explicative\n",
      "2. (optionnel) Inférence dans le cadre de la régression\n",
      "3. Régression avec plusieurs variables explicatives et les défis des données en haute dimension\n",
      "Translation: # Cours 4 : « Prédiction et apprentissage automatique »\n",
      "\n",
      "Sommaire\n",
      "\n",
      "1. Régression avec une seule variable explicative\n",
      "2. (optionnel) Inférence dans le cadre de la régression\n",
      "3. Régression avec plusieurs variables explicatives et les défis des données en haute dimension\n",
      "Detected source language FR\n",
      "Original: # Crédits\n",
      "\n",
      "\n",
      "Ce cours est inspiré du cours data8 donné à UC Berkeley et en ré-utilise avec certaines modifications une partie des matériels (ces matériels sont généreusement mis à disposition publiquement sous licence Creative Commons avec attribution, consultez [https://www.data8.org](https://www.data8.org) pour plus d'informations.\n",
      "\n",
      "La dernière partie s'inspire également du cours « Exploring and Modeling High-Dimensional Data » de « Carpentries Incubator » et en ré-utilise avec certaines modifications une partie des matériels (ces matériels sont généreusement mis à disposition publiquement sous licence Creative Commons avec attribution, consultez [https://carpentries-incubator.github.io/high-dimensional-analysis-in-python](https://carpentries-incubator.github.io/high-dimensional-analysis-in-python) pour plus d'informations.\n",
      "\n",
      "Translation: # Crédits\n",
      "\n",
      "\n",
      "Ce cours est inspiré du cours data8 donné à UC Berkeley et en ré-utilise avec certaines modifications une partie des matériels (ces matériels sont généreusement mis à disposition publiquement sous licence Creative Commons avec attribution, consultez [https://www.data8.org](https://www.data8.org) pour plus d'informations.\n",
      "\n",
      "La dernière partie s'inspire également du cours « Exploring and Modeling High-Dimensional Data » de « Carpentries Incubator » et en ré-utilise avec certaines modifications une partie des matériels (ces matériels sont généreusement mis à disposition publiquement sous licence Creative Commons avec attribution, consultez [https://carpentries-incubator.github.io/high-dimensional-analysis-in-python](https://carpentries-incubator.github.io/high-dimensional-analysis-in-python) pour plus d'informations.\n",
      "\n"
     ]
    }
   ],
   "source": [
    "root = \"/Users/thomas/Documents/Teaching/L1Descartes/science-des-données\"\n",
    "\n",
    "auth_file = os.path.join(root, \"utility_notebooks\", \"deepL_auth_key.txt\")\n",
    "nb_file = os.path.join(root, \"notes_de_cours\", \"Séance4_CM.ipynb\")\n",
    "translated_nb_file = os.path.join(root, \"notes_de_cours\", \"Séance4_CM_French.ipynb\")\n",
    "translate_notebook(nb_file, translated_nb_file, auth_file)"
   ]
  },
  {
   "cell_type": "code",
   "execution_count": null,
   "id": "2c0cafe6-dd25-4600-ac8f-d5b2a52ca13f",
   "metadata": {},
   "outputs": [],
   "source": []
  }
 ],
 "metadata": {
  "kernelspec": {
   "display_name": "Python 3 (ipykernel)",
   "language": "python",
   "name": "python3"
  },
  "language_info": {
   "codemirror_mode": {
    "name": "ipython",
    "version": 3
   },
   "file_extension": ".py",
   "mimetype": "text/x-python",
   "name": "python",
   "nbconvert_exporter": "python",
   "pygments_lexer": "ipython3",
   "version": "3.12.4"
  }
 },
 "nbformat": 4,
 "nbformat_minor": 5
}
