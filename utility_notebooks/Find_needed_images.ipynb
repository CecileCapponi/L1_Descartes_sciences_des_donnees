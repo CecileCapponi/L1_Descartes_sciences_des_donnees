{
 "cells": [
  {
   "cell_type": "markdown",
   "id": "21637ba6-8eee-42ad-8469-9af17c5e42bf",
   "metadata": {},
   "source": [
    "This notebook parse another notebook to find all the images linked within the markdown cells of that notebook, so that we can know what to include with that notebook for proper display even if it is moved to another location of the filesystem"
   ]
  },
  {
   "cell_type": "code",
   "execution_count": 6,
   "id": "e4fd9388-e309-435b-97a8-2a4120c513b6",
   "metadata": {},
   "outputs": [
    {
     "name": "stdout",
     "output_type": "stream",
     "text": [
      "Found 1 images referenced in markdown cells:\n",
      "../../../images/regline.png\n"
     ]
    }
   ],
   "source": [
    "import json\n",
    "import re\n",
    "import os\n",
    "from shutil import copy2\n",
    "\n",
    "# Replace 'your_notebook.ipynb' with the path to your notebook\n",
    "notebook_path = './Séance4_CM.ipynb'\n",
    "\n",
    "# Load the notebook JSON structure\n",
    "with open(notebook_path, 'r', encoding='utf-8') as f:\n",
    "    notebook = json.load(f)\n",
    "\n",
    "# Regular expression to find image links in markdown\n",
    "image_pattern = r'!\\[.*?\\]\\((.*?)\\)'\n",
    "\n",
    "# List to store the found image paths\n",
    "image_paths = []\n",
    "\n",
    "# Iterate through the cells\n",
    "for cell in notebook['cells']:\n",
    "    # Check if the cell is a markdown cell\n",
    "    if cell['cell_type'] == 'markdown':\n",
    "        # Extract the markdown content\n",
    "        markdown_content = ''.join(cell['source'])\n",
    "        # Find all image links in the markdown content\n",
    "        images_in_cell = re.findall(image_pattern, markdown_content)\n",
    "        if images_in_cell:\n",
    "            image_paths.extend(images_in_cell)\n",
    "\n",
    "# Display the list of found image paths\n",
    "print(f\"Found {len(image_paths)} images referenced in markdown cells:\")\n",
    "for img in image_paths:\n",
    "    print(img)"
   ]
  },
  {
   "cell_type": "code",
   "execution_count": 3,
   "id": "7d894963-e57c-41ed-935d-d61263ec5573",
   "metadata": {},
   "outputs": [
    {
     "name": "stdout",
     "output_type": "stream",
     "text": [
      "Image path not found: .../../images/function_definition.jpg\n",
      "Image path not found: ../../images/function_execution.jpg\n",
      "Image path not found: .../../images/C-3PO_droid.png\n",
      "Image path not found: ../../../images/ipad_battery.png\n",
      "Image path not found: ../../../images/normal_shaded.png\n"
     ]
    }
   ],
   "source": [
    "# Optional: copy these images to a new location, for example, a folder called 'images'\n",
    "# Thomas: this doesn't work since the links were broken in the first place\n",
    "\n",
    "new_image_dir = './images'\n",
    "\n",
    "# Create the directory if it doesn't exist\n",
    "#if not os.path.exists(new_image_dir):\n",
    "#    os.makedirs(new_image_dir)\n",
    "\n",
    "# Function to copy images to the new directory and keep relative paths\n",
    "def copy_images(image_paths):\n",
    "    for img_path in image_paths:\n",
    "        if os.path.exists(img_path):\n",
    "            img_filename = os.path.basename(img_path)\n",
    "            new_img_path = os.path.join(new_image_dir, img_filename)\n",
    "            copy2(img_path, new_img_path)\n",
    "            print(f\"Copied {img_path} to {new_img_path}\")\n",
    "        else:\n",
    "            print(f\"Image path not found: {img_path}\")\n",
    "\n",
    "# Uncomment the following line to copy the images to the 'images' folder\n",
    "copy_images(image_paths)"
   ]
  },
  {
   "cell_type": "markdown",
   "id": "da6670c8-faae-47af-9bf2-cc54df6a21c8",
   "metadata": {},
   "source": [
    "Going beyond images now"
   ]
  },
  {
   "cell_type": "code",
   "execution_count": 10,
   "id": "6d662f25-d159-4d65-9129-ef0c5c2d28b7",
   "metadata": {},
   "outputs": [
    {
     "name": "stdout",
     "output_type": "stream",
     "text": [
      "Found 11 linked assets:\n",
      "http://www.stat.ufl.edu/~winner/datasets.html\n",
      "../../../images/regline.png\n",
      "https://commons.wikimedia.org/wiki/File:Dugong_dugon.jpg\n",
      "http://digitalcommons.wku.edu/ijes/vol6/iss2/10/\n",
      "https://carpentries-incubator.github.io/high-dimensional-analysis-in-python\n",
      "http://www.statsci.org/data/oz/dugongs.html\n",
      "http://blogs.scientificamerican.com/the-curious-wavefunction/chocolate-consumption-and-nobel-prizes-a-bizarre-juxtaposition-if-there-ever-was-one/\n",
      "http://www.reuters.com/article/2012/10/10/us-eat-chocolate-win-the-nobel-prize-idUSBRE8991MS20121010#vFdfFkbPVlilSjsB.97\n",
      "https://www.data8.org\n",
      "http://www.stat.ufl.edu/%7Ewinner/\n",
      "http://www.biostat.jhsph.edu/courses/bio621/misc/Chocolate%20consumption%20cognitive%20function%20and%20nobel%20laurates%20%28NEJM%29.pdf\n"
     ]
    }
   ],
   "source": [
    "import json\n",
    "import re\n",
    "import os\n",
    "from shutil import copy2\n",
    "\n",
    "# Replace 'your_notebook.ipynb' with the path to your notebook\n",
    "notebook_path = './Séance4_CM.ipynb'\n",
    "\n",
    "# Load the notebook JSON structure\n",
    "with open(notebook_path, 'r', encoding='utf-8') as f:\n",
    "    notebook = json.load(f)\n",
    "\n",
    "# Regular expressions to find file links\n",
    "# Markdown pattern for images or any file link (e.g., ![alt text](path) or [text](path))\n",
    "markdown_pattern = r'!\\[.*?\\]\\((.*?)\\)|\\[.*?\\]\\((.*?)\\)'\n",
    "# Code pattern for file paths within strings (e.g., 'data/file.csv', \"assets/style.css\")\n",
    "code_pattern = r'[\"\\'](.*?)[\"\\']'\n",
    "\n",
    "# Lists to store found assets\n",
    "markdown_assets = []\n",
    "code_assets = []\n",
    "\n",
    "# Iterate through the cells to find markdown and code cells\n",
    "for cell in notebook['cells']:\n",
    "    if cell['cell_type'] == 'markdown':\n",
    "        # Extract the markdown content\n",
    "        markdown_content = ''.join(cell['source'])\n",
    "        # Find all asset links in the markdown content (images, links, etc.)\n",
    "        assets_in_markdown = re.findall(markdown_pattern, markdown_content)\n",
    "        # Filter empty strings from the results and flatten the tuple\n",
    "        for asset in assets_in_markdown:\n",
    "            asset = [x for x in asset if x]  # Remove empty strings\n",
    "            if asset:\n",
    "                markdown_assets.extend(asset)\n",
    "\n",
    "    elif cell['cell_type'] == 'code':\n",
    "        # Extract the code content\n",
    "        code_content = ''.join(cell['source'])\n",
    "        # Find all file paths in code cells (e.g., within load commands, string literals)\n",
    "        assets_in_code = re.findall(code_pattern, code_content)\n",
    "        # Check if the found string seems like a file path (this is a naive check)\n",
    "        for asset in assets_in_code:\n",
    "            if os.path.exists(asset):\n",
    "                code_assets.append(asset)\n",
    "\n",
    "# Combine all assets\n",
    "all_assets = markdown_assets + code_assets\n",
    "\n",
    "# Remove duplicates\n",
    "all_assets = list(set(all_assets))\n",
    "\n",
    "# Display the found assets\n",
    "print(f\"Found {len(all_assets)} linked assets:\")\n",
    "for asset in all_assets:\n",
    "    print(asset)\n",
    "\n",
    "# Optional: copy these assets to a new location (e.g., an 'assets' directory)\n",
    "new_asset_dir = 'assets'\n",
    "\n",
    "# Create the directory if it doesn't exist\n",
    "#if not os.path.exists(new_asset_dir):\n",
    "#    os.makedirs(new_asset_dir)\n",
    "\n",
    "# Function to copy assets to the new directory and keep relative paths\n",
    "def copy_assets(asset_paths):\n",
    "    for asset_path in asset_paths:\n",
    "        if os.path.exists(asset_path):\n",
    "            asset_filename = os.path.basename(asset_path)\n",
    "            new_asset_path = os.path.join(new_asset_dir, asset_filename)\n",
    "            copy2(asset_path, new_asset_path)\n",
    "            print(f\"Copied {asset_path} to {new_asset_path}\")\n",
    "        else:\n",
    "            print(f\"Asset path not found: {asset_path}\")\n",
    "\n",
    "# Uncomment the following line to copy the assets to the 'assets' folder\n",
    "# copy_assets(all_assets)"
   ]
  },
  {
   "cell_type": "code",
   "execution_count": null,
   "id": "669f9c13-3620-40ec-9b89-7c2b039bcd18",
   "metadata": {},
   "outputs": [],
   "source": []
  }
 ],
 "metadata": {
  "kernelspec": {
   "display_name": "Python 3 (ipykernel)",
   "language": "python",
   "name": "python3"
  },
  "language_info": {
   "codemirror_mode": {
    "name": "ipython",
    "version": 3
   },
   "file_extension": ".py",
   "mimetype": "text/x-python",
   "name": "python",
   "nbconvert_exporter": "python",
   "pygments_lexer": "ipython3",
   "version": "3.12.4"
  }
 },
 "nbformat": 4,
 "nbformat_minor": 5
}
